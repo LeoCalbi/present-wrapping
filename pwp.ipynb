{
 "metadata": {
  "language_info": {
   "codemirror_mode": {
    "name": "ipython",
    "version": 3
   },
   "file_extension": ".py",
   "mimetype": "text/x-python",
   "name": "python",
   "nbconvert_exporter": "python",
   "pygments_lexer": "ipython3",
   "version": "3.8.5-final"
  },
  "orig_nbformat": 2,
  "kernelspec": {
   "name": "python_defaultSpec_1596094981319",
   "display_name": "Python 3.8.5 64-bit ('venv': venv)"
  }
 },
 "nbformat": 4,
 "nbformat_minor": 2,
 "cells": [
  {
   "cell_type": "markdown",
   "metadata": {},
   "source": [
    "# Present Wrapping Problem"
   ]
  },
  {
   "cell_type": "code",
   "execution_count": 2,
   "metadata": {
    "tags": []
   },
   "outputs": [
    {
     "output_type": "stream",
     "name": "stdout",
     "text": "The autoreload extension is already loaded. To reload it, use:\n  %reload_ext autoreload\nThe iminizinc extension is already loaded. To reload it, use:\n  %reload_ext iminizinc\n"
    }
   ],
   "source": [
    "%load_ext autoreload\n",
    "%load_ext iminizinc\n",
    "%matplotlib inline\n",
    "%autoreload 2\n",
    "\n",
    "import matplotlib.pyplot as plt\n",
    "import matplotlib.patches as patches\n",
    "import numpy as np\n",
    "from z3 import *"
   ]
  },
  {
   "cell_type": "markdown",
   "metadata": {},
   "source": [
    "## Functions"
   ]
  },
  {
   "cell_type": "code",
   "execution_count": 3,
   "metadata": {
    "tags": []
   },
   "outputs": [],
   "source": [
    "def read_input(path):\n",
    "    file = open(path,\"r\").readlines()\n",
    "    w_paper , h_paper = tuple(map(int, file[0].rstrip(\"\\n\").split(\" \")))\n",
    "    n = int(file[1].rstrip(\"\\n\"))\n",
    "    presents = []\n",
    "    for i in range(2, n + 2):\n",
    "        presents.append(list(map(int, file[i].rstrip(\"\\n\").split(\" \"))))\n",
    "    return w_paper, h_paper, n, presents"
   ]
  },
  {
   "cell_type": "code",
   "execution_count": 266,
   "metadata": {},
   "outputs": [],
   "source": [
    "def show_solutions(w_paper, h_paper, n, presents, solutions):\n",
    "    colours = np.random.rand(n, 3)\n",
    "    if not isinstance(solutions, list):\n",
    "        solutions = [solutions]\n",
    "    for x in solutions:\n",
    "        bl_corners = x['bl_corners'] if 'bl_corners' in x else x\n",
    "        show_solution(w_paper, h_paper, n, presents, bl_corners, colours)\n",
    "\n",
    "def show_solution(w_paper, h_paper, n,presents, bl_corners, colours=None):\n",
    "    if colours is None:\n",
    "        colours = np.random.rand(n, 3)\n",
    "    fig, ax = plt.subplots()\n",
    "    for i in range(n):\n",
    "        ax.add_patch(patches.Rectangle(\n",
    "            bl_corners[i],\n",
    "            presents[i][0],\n",
    "            presents[i][1],\n",
    "            facecolor=colours[i]\n",
    "        ))\n",
    "    ax.set_xlim(0, w_paper)\n",
    "    ax.set_ylim(0, h_paper)\n",
    "    plt.show()\n",
    "    print(f\"Solution: {bl_corners}\")"
   ]
  },
  {
   "cell_type": "code",
   "execution_count": 144,
   "metadata": {},
   "outputs": [],
   "source": [
    "def order_presents(presents, method='height'):\n",
    "    to_sort = (\n",
    "        [e[0] * e[1] for e in presents] if method == 'area'\n",
    "        else [e[1] for e in presents] if method == 'height'\n",
    "        else [e[0] for e in presents] if method == 'width'\n",
    "        else None\n",
    "    )\n",
    "    sorted_indices = sorted(range(len(to_sort)), key=lambda k: to_sort[k], reverse=True)\n",
    "    presents = [presents[i] for i in sorted_indices]\n",
    "    return presents, sorted_indices"
   ]
  },
  {
   "cell_type": "markdown",
   "metadata": {},
   "source": [
    "## Input"
   ]
  },
  {
   "cell_type": "code",
   "execution_count": 334,
   "metadata": {
    "tags": []
   },
   "outputs": [
    {
     "output_type": "stream",
     "name": "stdout",
     "text": "Paper dimensions: 8x8\nTotal area: 1296 / 64\nPresents dimensions: [[3, 5], [5, 5], [3, 3], [5, 3]]\n"
    }
   ],
   "source": [
    "min_instance, max_instance = 8, 20\n",
    "#instance = np.random.randint(min_instance, high=max_instance + 1)\n",
    "instance = \n",
    "path = f\"instances/{instance}x{instance}.txt\"\n",
    "w_paper, h_paper, n, presents = read_input(path)\n",
    "unordered_presents = list(presents)\n",
    "presents, sorted_indices = order_presents(presents, method='height')\n",
    "bl_corners = []\n",
    "print(f\"Paper dimensions: {instance}x{instance}\")\n",
    "print(f\"Total area: {sum(areas)} / {instance * instance}\")\n",
    "print(f\"Presents dimensions: {presents}\")"
   ]
  },
  {
   "cell_type": "markdown",
   "metadata": {},
   "source": [
    "## MiniZinc model"
   ]
  },
  {
   "cell_type": "markdown",
   "metadata": {},
   "source": [
    "### First model "
   ]
  },
  {
   "cell_type": "code",
   "execution_count": 324,
   "metadata": {},
   "outputs": [],
   "source": [
    "%%mzn_model pwp-v1\n",
    "include \"globals.mzn\";\n",
    "int: w_paper;\n",
    "int: h_paper;\n",
    "int: n;\n",
    "array[1..n, 1..2] of var 0..max(w_paper, h_paper) - 1: bl_corners;\n",
    "array[1..n, 1..2] of int: presents;\n",
    "constraint forall(i in 1..n) (bl_corners[i, 1] + presents[i, 1] <= w_paper);\n",
    "constraint forall(i in 1..n) (bl_corners[i, 2] + presents[i, 2] <= h_paper);\n",
    "constraint forall(i, j in 1..n where j > i) (\n",
    "    max(bl_corners[i, 1], bl_corners[j, 1]) >= min(bl_corners[i, 1] + presents[i, 1], bl_corners[j, 1] + presents[j, 1]) \\/\n",
    "    max(bl_corners[i, 2], bl_corners[j, 2]) >= min(bl_corners[i, 2] + presents[i, 2], bl_corners[j, 2] + presents[j, 2])\n",
    ");\n",
    "solve satisfy;"
   ]
  },
  {
   "cell_type": "code",
   "execution_count": 325,
   "metadata": {
    "tags": []
   },
   "outputs": [
    {
     "output_type": "error",
     "ename": "KeyboardInterrupt",
     "evalue": "",
     "traceback": [
      "\u001b[0;31m---------------------------------------------------------------------------\u001b[0m",
      "\u001b[0;31mKeyboardInterrupt\u001b[0m                         Traceback (most recent call last)",
      "\u001b[0;32m<ipython-input-325-12c43de20209>\u001b[0m in \u001b[0;36m<module>\u001b[0;34m\u001b[0m\n\u001b[0;32m----> 1\u001b[0;31m \u001b[0mget_ipython\u001b[0m\u001b[0;34m(\u001b[0m\u001b[0;34m)\u001b[0m\u001b[0;34m.\u001b[0m\u001b[0mrun_line_magic\u001b[0m\u001b[0;34m(\u001b[0m\u001b[0;34m'minizinc'\u001b[0m\u001b[0;34m,\u001b[0m \u001b[0;34m'-s pwp-v1'\u001b[0m\u001b[0;34m)\u001b[0m\u001b[0;34m\u001b[0m\u001b[0;34m\u001b[0m\u001b[0m\n\u001b[0m",
      "\u001b[0;32m~/Github/present-wrapping/venv/lib/python3.8/site-packages/IPython/core/interactiveshell.py\u001b[0m in \u001b[0;36mrun_line_magic\u001b[0;34m(self, magic_name, line, _stack_depth)\u001b[0m\n\u001b[1;32m   2324\u001b[0m                 \u001b[0mkwargs\u001b[0m\u001b[0;34m[\u001b[0m\u001b[0;34m'local_ns'\u001b[0m\u001b[0;34m]\u001b[0m \u001b[0;34m=\u001b[0m \u001b[0msys\u001b[0m\u001b[0;34m.\u001b[0m\u001b[0m_getframe\u001b[0m\u001b[0;34m(\u001b[0m\u001b[0mstack_depth\u001b[0m\u001b[0;34m)\u001b[0m\u001b[0;34m.\u001b[0m\u001b[0mf_locals\u001b[0m\u001b[0;34m\u001b[0m\u001b[0;34m\u001b[0m\u001b[0m\n\u001b[1;32m   2325\u001b[0m             \u001b[0;32mwith\u001b[0m \u001b[0mself\u001b[0m\u001b[0;34m.\u001b[0m\u001b[0mbuiltin_trap\u001b[0m\u001b[0;34m:\u001b[0m\u001b[0;34m\u001b[0m\u001b[0;34m\u001b[0m\u001b[0m\n\u001b[0;32m-> 2326\u001b[0;31m                 \u001b[0mresult\u001b[0m \u001b[0;34m=\u001b[0m \u001b[0mfn\u001b[0m\u001b[0;34m(\u001b[0m\u001b[0;34m*\u001b[0m\u001b[0margs\u001b[0m\u001b[0;34m,\u001b[0m \u001b[0;34m**\u001b[0m\u001b[0mkwargs\u001b[0m\u001b[0;34m)\u001b[0m\u001b[0;34m\u001b[0m\u001b[0;34m\u001b[0m\u001b[0m\n\u001b[0m\u001b[1;32m   2327\u001b[0m             \u001b[0;32mreturn\u001b[0m \u001b[0mresult\u001b[0m\u001b[0;34m\u001b[0m\u001b[0;34m\u001b[0m\u001b[0m\n\u001b[1;32m   2328\u001b[0m \u001b[0;34m\u001b[0m\u001b[0m\n",
      "\u001b[0;32m<decorator-gen-128>\u001b[0m in \u001b[0;36mminizinc\u001b[0;34m(self, line, cell)\u001b[0m\n",
      "\u001b[0;32m~/Github/present-wrapping/venv/lib/python3.8/site-packages/IPython/core/magic.py\u001b[0m in \u001b[0;36m<lambda>\u001b[0;34m(f, *a, **k)\u001b[0m\n\u001b[1;32m    185\u001b[0m     \u001b[0;31m# but it's overkill for just that one bit of state.\u001b[0m\u001b[0;34m\u001b[0m\u001b[0;34m\u001b[0m\u001b[0;34m\u001b[0m\u001b[0m\n\u001b[1;32m    186\u001b[0m     \u001b[0;32mdef\u001b[0m \u001b[0mmagic_deco\u001b[0m\u001b[0;34m(\u001b[0m\u001b[0marg\u001b[0m\u001b[0;34m)\u001b[0m\u001b[0;34m:\u001b[0m\u001b[0;34m\u001b[0m\u001b[0;34m\u001b[0m\u001b[0m\n\u001b[0;32m--> 187\u001b[0;31m         \u001b[0mcall\u001b[0m \u001b[0;34m=\u001b[0m \u001b[0;32mlambda\u001b[0m \u001b[0mf\u001b[0m\u001b[0;34m,\u001b[0m \u001b[0;34m*\u001b[0m\u001b[0ma\u001b[0m\u001b[0;34m,\u001b[0m \u001b[0;34m**\u001b[0m\u001b[0mk\u001b[0m\u001b[0;34m:\u001b[0m \u001b[0mf\u001b[0m\u001b[0;34m(\u001b[0m\u001b[0;34m*\u001b[0m\u001b[0ma\u001b[0m\u001b[0;34m,\u001b[0m \u001b[0;34m**\u001b[0m\u001b[0mk\u001b[0m\u001b[0;34m)\u001b[0m\u001b[0;34m\u001b[0m\u001b[0;34m\u001b[0m\u001b[0m\n\u001b[0m\u001b[1;32m    188\u001b[0m \u001b[0;34m\u001b[0m\u001b[0m\n\u001b[1;32m    189\u001b[0m         \u001b[0;32mif\u001b[0m \u001b[0mcallable\u001b[0m\u001b[0;34m(\u001b[0m\u001b[0marg\u001b[0m\u001b[0;34m)\u001b[0m\u001b[0;34m:\u001b[0m\u001b[0;34m\u001b[0m\u001b[0;34m\u001b[0m\u001b[0m\n",
      "\u001b[0;32m~/Github/present-wrapping/venv/lib/python3.8/site-packages/iminizinc/mzn.py\u001b[0m in \u001b[0;36mminizinc\u001b[0;34m(self, line, cell)\u001b[0m\n\u001b[1;32m    145\u001b[0m                                              \u001b[0;34m+\u001b[0m \u001b[0mjsondata\u001b[0m \u001b[0;34m+\u001b[0m \u001b[0margs\u001b[0m\u001b[0;34m.\u001b[0m\u001b[0mdata\u001b[0m\u001b[0;34m,\u001b[0m\u001b[0;34m\u001b[0m\u001b[0;34m\u001b[0m\u001b[0m\n\u001b[1;32m    146\u001b[0m                                              stdout=subprocess.PIPE, stderr=subprocess.PIPE, env=my_env)\n\u001b[0;32m--> 147\u001b[0;31m                     \u001b[0;34m(\u001b[0m\u001b[0mmznoutput\u001b[0m\u001b[0;34m,\u001b[0m \u001b[0merroutput\u001b[0m\u001b[0;34m)\u001b[0m \u001b[0;34m=\u001b[0m \u001b[0mpipes\u001b[0m\u001b[0;34m.\u001b[0m\u001b[0mcommunicate\u001b[0m\u001b[0;34m(\u001b[0m\u001b[0;34m)\u001b[0m\u001b[0;34m\u001b[0m\u001b[0;34m\u001b[0m\u001b[0m\n\u001b[0m\u001b[1;32m    148\u001b[0m                     \u001b[0;32mif\u001b[0m \u001b[0mpipes\u001b[0m\u001b[0;34m.\u001b[0m\u001b[0mreturncode\u001b[0m \u001b[0;34m!=\u001b[0m \u001b[0;36m0\u001b[0m\u001b[0;34m:\u001b[0m\u001b[0;34m\u001b[0m\u001b[0;34m\u001b[0m\u001b[0m\n\u001b[1;32m    149\u001b[0m                         \u001b[0mprint\u001b[0m\u001b[0;34m(\u001b[0m\u001b[0;34m\"Error in MiniZinc:\\n\"\u001b[0m \u001b[0;34m+\u001b[0m \u001b[0merroutput\u001b[0m\u001b[0;34m.\u001b[0m\u001b[0mdecode\u001b[0m\u001b[0;34m(\u001b[0m\u001b[0;34m)\u001b[0m\u001b[0;34m)\u001b[0m\u001b[0;34m\u001b[0m\u001b[0;34m\u001b[0m\u001b[0m\n",
      "\u001b[0;32m/usr/local/Cellar/python@3.8/3.8.5/Frameworks/Python.framework/Versions/3.8/lib/python3.8/subprocess.py\u001b[0m in \u001b[0;36mcommunicate\u001b[0;34m(self, input, timeout)\u001b[0m\n\u001b[1;32m   1022\u001b[0m \u001b[0;34m\u001b[0m\u001b[0m\n\u001b[1;32m   1023\u001b[0m             \u001b[0;32mtry\u001b[0m\u001b[0;34m:\u001b[0m\u001b[0;34m\u001b[0m\u001b[0;34m\u001b[0m\u001b[0m\n\u001b[0;32m-> 1024\u001b[0;31m                 \u001b[0mstdout\u001b[0m\u001b[0;34m,\u001b[0m \u001b[0mstderr\u001b[0m \u001b[0;34m=\u001b[0m \u001b[0mself\u001b[0m\u001b[0;34m.\u001b[0m\u001b[0m_communicate\u001b[0m\u001b[0;34m(\u001b[0m\u001b[0minput\u001b[0m\u001b[0;34m,\u001b[0m \u001b[0mendtime\u001b[0m\u001b[0;34m,\u001b[0m \u001b[0mtimeout\u001b[0m\u001b[0;34m)\u001b[0m\u001b[0;34m\u001b[0m\u001b[0;34m\u001b[0m\u001b[0m\n\u001b[0m\u001b[1;32m   1025\u001b[0m             \u001b[0;32mexcept\u001b[0m \u001b[0mKeyboardInterrupt\u001b[0m\u001b[0;34m:\u001b[0m\u001b[0;34m\u001b[0m\u001b[0;34m\u001b[0m\u001b[0m\n\u001b[1;32m   1026\u001b[0m                 \u001b[0;31m# https://bugs.python.org/issue25942\u001b[0m\u001b[0;34m\u001b[0m\u001b[0;34m\u001b[0m\u001b[0;34m\u001b[0m\u001b[0m\n",
      "\u001b[0;32m/usr/local/Cellar/python@3.8/3.8.5/Frameworks/Python.framework/Versions/3.8/lib/python3.8/subprocess.py\u001b[0m in \u001b[0;36m_communicate\u001b[0;34m(self, input, endtime, orig_timeout)\u001b[0m\n\u001b[1;32m   1864\u001b[0m                             'failed to raise TimeoutExpired.')\n\u001b[1;32m   1865\u001b[0m \u001b[0;34m\u001b[0m\u001b[0m\n\u001b[0;32m-> 1866\u001b[0;31m                     \u001b[0mready\u001b[0m \u001b[0;34m=\u001b[0m \u001b[0mselector\u001b[0m\u001b[0;34m.\u001b[0m\u001b[0mselect\u001b[0m\u001b[0;34m(\u001b[0m\u001b[0mtimeout\u001b[0m\u001b[0;34m)\u001b[0m\u001b[0;34m\u001b[0m\u001b[0;34m\u001b[0m\u001b[0m\n\u001b[0m\u001b[1;32m   1867\u001b[0m                     \u001b[0mself\u001b[0m\u001b[0;34m.\u001b[0m\u001b[0m_check_timeout\u001b[0m\u001b[0;34m(\u001b[0m\u001b[0mendtime\u001b[0m\u001b[0;34m,\u001b[0m \u001b[0morig_timeout\u001b[0m\u001b[0;34m,\u001b[0m \u001b[0mstdout\u001b[0m\u001b[0;34m,\u001b[0m \u001b[0mstderr\u001b[0m\u001b[0;34m)\u001b[0m\u001b[0;34m\u001b[0m\u001b[0;34m\u001b[0m\u001b[0m\n\u001b[1;32m   1868\u001b[0m \u001b[0;34m\u001b[0m\u001b[0m\n",
      "\u001b[0;32m/usr/local/Cellar/python@3.8/3.8.5/Frameworks/Python.framework/Versions/3.8/lib/python3.8/selectors.py\u001b[0m in \u001b[0;36mselect\u001b[0;34m(self, timeout)\u001b[0m\n\u001b[1;32m    413\u001b[0m         \u001b[0mready\u001b[0m \u001b[0;34m=\u001b[0m \u001b[0;34m[\u001b[0m\u001b[0;34m]\u001b[0m\u001b[0;34m\u001b[0m\u001b[0;34m\u001b[0m\u001b[0m\n\u001b[1;32m    414\u001b[0m         \u001b[0;32mtry\u001b[0m\u001b[0;34m:\u001b[0m\u001b[0;34m\u001b[0m\u001b[0;34m\u001b[0m\u001b[0m\n\u001b[0;32m--> 415\u001b[0;31m             \u001b[0mfd_event_list\u001b[0m \u001b[0;34m=\u001b[0m \u001b[0mself\u001b[0m\u001b[0;34m.\u001b[0m\u001b[0m_selector\u001b[0m\u001b[0;34m.\u001b[0m\u001b[0mpoll\u001b[0m\u001b[0;34m(\u001b[0m\u001b[0mtimeout\u001b[0m\u001b[0;34m)\u001b[0m\u001b[0;34m\u001b[0m\u001b[0;34m\u001b[0m\u001b[0m\n\u001b[0m\u001b[1;32m    416\u001b[0m         \u001b[0;32mexcept\u001b[0m \u001b[0mInterruptedError\u001b[0m\u001b[0;34m:\u001b[0m\u001b[0;34m\u001b[0m\u001b[0;34m\u001b[0m\u001b[0m\n\u001b[1;32m    417\u001b[0m             \u001b[0;32mreturn\u001b[0m \u001b[0mready\u001b[0m\u001b[0;34m\u001b[0m\u001b[0;34m\u001b[0m\u001b[0m\n",
      "\u001b[0;31mKeyboardInterrupt\u001b[0m: "
     ]
    }
   ],
   "source": [
    "%minizinc -s pwp-v1"
   ]
  },
  {
   "cell_type": "markdown",
   "metadata": {},
   "source": [
    "### Second model"
   ]
  },
  {
   "cell_type": "code",
   "execution_count": null,
   "metadata": {
    "tags": []
   },
   "outputs": [],
   "source": [
    "%%mzn_model pwp-v2\n",
    "include \"globals.mzn\";\n",
    "int: w_paper;\n",
    "int: h_paper;\n",
    "int: n;\n",
    "array[1..n, 1..2] of int: presents;\n",
    "int: max_dim = max(w_paper, h_paper);\n",
    "int: min_present_dim = min([min(presents[i, 1], presents[i, 2]) | i in 1..n]);\n",
    "\n",
    "function var int: coord_to_value(var int: x, var int: y) = x + y * (max_dim + 1);\n",
    "function var int: x_overlap(int: i, int: j) = \n",
    "    max(0, min(bl_corners[i, 1] + presents[i, 1], bl_corners[j, 1] + presents[j, 1]) - max(bl_corners[i, 1], bl_corners[j, 1]));\n",
    "function var int: y_overlap(int: i, int: j) = \n",
    "    max(0, min(bl_corners[i, 2] + presents[i, 2], bl_corners[j, 2] + presents[j, 2]) - max(bl_corners[i, 2], bl_corners[j, 2]));\n",
    "function var int: overlap_area(int: i, int: j) = x_overlap(i, j) * y_overlap(i, j);\n",
    "\n",
    "array[1..n, 1..2] of var 0..max_dim - min_present_dim: bl_corners;\n",
    "array[1..n] of var 0..max_dim * max_dim: bl_corners_values;\n",
    "\n",
    "predicate values_channeling(int: i) = \n",
    "    forall(i in 1..n) (bl_corners_values[i] == coord_to_value(bl_corners[i, 1], bl_corners[i, 2]));\n",
    "constraint forall(i in 1..n) (values_channeling(i));\n",
    "\n",
    "constraint alldifferent(bl_corners_values);\n",
    "constraint count_eq(bl_corners_values, 0, 1);\n",
    "constraint forall(i in 1..n) (bl_corners[i, 1] + presents[i, 1] <= w_paper);\n",
    "constraint forall(i in 1..n) (bl_corners[i, 2] + presents[i, 2] <= h_paper);\n",
    "constraint forall(i, j in 1..n where j > i) (overlap_area(i, j) == 0);\n",
    "solve satisfy;"
   ]
  },
  {
   "cell_type": "code",
   "execution_count": null,
   "metadata": {
    "tags": []
   },
   "outputs": [],
   "source": [
    "%minizinc -s pwp-v2"
   ]
  },
  {
   "cell_type": "markdown",
   "metadata": {},
   "source": [
    "### Third model"
   ]
  },
  {
   "cell_type": "code",
   "execution_count": null,
   "metadata": {},
   "outputs": [],
   "source": [
    "%%mzn_model pwp-v3\n",
    "include \"globals.mzn\";\n",
    "int: w_paper;\n",
    "int: h_paper;\n",
    "int: n;\n",
    "int: max_dim = max(w_paper, h_paper);\n",
    "array[1..n, 1..2] of 1..max_dim: presents;\n",
    "array[1..n] of 1..max_dim: presents_xs = [presents[i, 1] | i in 1..n];\n",
    "array[1..n] of 1..max_dim: presents_ys = [presents[i, 2] | i in 1..n];\n",
    "int: min_present_dim = min([min(presents[i, 1], presents[i, 2]) | i in 1..n]);\n",
    "\n",
    "function var int: coord_to_value(var int: x, var int: y) = x + y * (max_dim + 1);\n",
    "\n",
    "array[1..n, 1..2] of var 0..max_dim - min_present_dim: bl_corners;\n",
    "array[1..n, 1..2] of var 1..max_dim: tr_corners;\n",
    "array[1..n] of var 0..max_dim * max_dim: bl_corners_values;\n",
    "array[1..n] of var 0..w_paper - min_present_dim: bl_corners_xs;\n",
    "array[1..n] of var 0..h_paper - min_present_dim: bl_corners_ys;\n",
    "\n",
    "predicate values_channeling(int: i) = \n",
    "    forall(i in 1..n) (bl_corners_values[i] == coord_to_value(bl_corners[i, 1], bl_corners[i, 2]));\n",
    "constraint forall(i in 1..n) (values_channeling(i));\n",
    "\n",
    "predicate bl_corners_channeling(int: i) = \n",
    "    forall(i in 1..n) (bl_corners[i, 1] == bl_corners_xs[i] /\\ bl_corners[i, 2] == bl_corners_ys[i]);\n",
    "constraint forall(i in 1..n) (bl_corners_channeling(i));\n",
    "\n",
    "predicate tr_corners_channeling(int: i) = \n",
    "    forall(i in 1..n) (bl_corners[i, 1] + presents[i, 1] == tr_corners[i, 1] /\\ bl_corners[i, 2] + presents[i, 2] == tr_corners[i, 2]);\n",
    "constraint forall(i in 1..n) (tr_corners_channeling(i));\n",
    "\n",
    "constraint alldifferent(bl_corners_values);\n",
    "constraint count_eq(bl_corners_values, 0, 1);\n",
    "constraint diffn_k(bl_corners, presents);\n",
    "constraint cumulative(bl_corners_xs, presents_xs, presents_ys, h_paper);\n",
    "constraint cumulative(bl_corners_ys, presents_ys, presents_xs, w_paper);\n",
    "solve satisfy;"
   ]
  },
  {
   "cell_type": "code",
   "execution_count": null,
   "metadata": {
    "tags": []
   },
   "outputs": [],
   "source": [
    "%minizinc -s pwp-v3"
   ]
  },
  {
   "cell_type": "markdown",
   "metadata": {},
   "source": [
    "### Fourth model"
   ]
  },
  {
   "cell_type": "code",
   "execution_count": 335,
   "metadata": {},
   "outputs": [],
   "source": [
    "%%mzn_model pwp-v4\n",
    "include \"globals.mzn\";\n",
    "int: w_paper;\n",
    "int: h_paper;\n",
    "int: n;\n",
    "int: max_dim = max(w_paper, h_paper);\n",
    "int: total_area = w_paper * h_paper;\n",
    "array[1..n, 1..2] of 1..max_dim: presents;\n",
    "array[1..n] of 1..max_dim: presents_xs = [presents[i, 1] | i in 1..n];\n",
    "array[1..n] of 1..max_dim: presents_ys = [presents[i, 2] | i in 1..n];\n",
    "array[1..n] of 1..max_dim * max_dim: areas = [presents_xs[i] * presents_ys[i] | i in 1..n];\n",
    "int: min_present_dim = min([min(presents[i, 1], presents[i, 2]) | i in 1..n]);\n",
    "\n",
    "array[1..n, 1..2] of var 0..max_dim - min_present_dim: bl_corners;\n",
    "array[1..n, 1..2] of var 1..max_dim: tr_corners;\n",
    "array[1..w_paper, 1..h_paper] of var bool: rectangles;\n",
    "array[1..n] of var 0..max_dim * max_dim: bl_corners_values;\n",
    "array[1..n] of var 0..w_paper - min_present_dim: bl_corners_xs;\n",
    "array[1..n] of var 0..h_paper - min_present_dim: bl_corners_ys;\n",
    "\n",
    "function var int: coord_to_value(var int: x, var int: y) = x + y * (max_dim + 1);\n",
    "function var bool: coord_to_rect(var int: x, var int: y, int: i) =\n",
    "    x + 1 <= tr_corners[i, 1] /\\ x + 1 > bl_corners[i, 1] /\\ \n",
    "    y + 1 > bl_corners[i, 2] /\\ y + 1 <= tr_corners[i, 2];\n",
    "function var int: rotate_by_180(int: i) = coord_to_value(w_paper - bl_corners_xs[i] - presents_xs[i], h_paper - bl_corners_ys[i] - presents_ys[i]);\n",
    "\n",
    "predicate bl_corners_channeling(int: i) = bl_corners_xs[i] == bl_corners[i, 1] /\\ bl_corners_ys[i] == bl_corners[i, 2];\n",
    "constraint forall(i in 1..n) (bl_corners_channeling(i));\n",
    "\n",
    "predicate values_channeling(int: i) = bl_corners_values[i] == coord_to_value(bl_corners_xs[i], bl_corners_ys[i]);\n",
    "constraint forall(i in 1..n) (values_channeling(i));\n",
    "\n",
    "predicate tr_corners_channeling(int: i) = tr_corners[i, 1] == bl_corners_xs[i] + presents_xs[i] /\\ tr_corners[i, 2] == bl_corners_ys[i] + presents_ys[i];\n",
    "constraint forall(i in 1..n) (tr_corners_channeling(i));\n",
    "\n",
    "\n",
    "%predicate rectangles_channeling(int: x, int: y) = exists(i in 1..n) ((rectangles[x, y] == i) <-> coord_to_rect(x, y, i));\n",
    "%constraint forall(x in 1..w_paper, y in 1..h_paper) (rectangles_channeling(x, y));\n",
    "\n",
    "%constraint forall(i in 1..n) (count_eq(array1d(rectangles), i, areas[i]));\n",
    "%constraint symmetry_breaking_constraint(lex_lesseq(array1d(rectangles), reverse(array1d(rectangles))));\n",
    "\n",
    "%constraint symmetry_breaking_constraint(lex_lesseq(bl_corners_values, [rotate_by_180(i) | i in 1..n]));\n",
    "\n",
    "%constraint lex_lesseq(bl_corners_values, reverse(bl_corners_values));\n",
    "%constraint bl_corners_xs[1] <= w_paper / 2 /\\ bl_corners_ys[1] <= h_paper / 2;\n",
    "constraint sum(i in 1..n) ((tr_corners[i, 1] - bl_corners[i, 1]) * (tr_corners[i, 2] - bl_corners[i, 2])) == total_area;\n",
    "constraint alldifferent(bl_corners_values);\n",
    "constraint count_eq(bl_corners_values, 0, 1);\n",
    "constraint diffn_k(bl_corners, presents);\n",
    "constraint cumulative(bl_corners_xs, presents_xs, presents_ys, h_paper);\n",
    "constraint cumulative(bl_corners_ys, presents_ys, presents_xs, w_paper);\n",
    "%solve :: int_search(bl_corners_values, input_order, indomain_min) satisfy;\n",
    "solve satisfy;"
   ]
  },
  {
   "cell_type": "code",
   "execution_count": 336,
   "metadata": {
    "tags": []
   },
   "outputs": [
    {
     "output_type": "stream",
     "name": "stdout",
     "text": "(1,1,1)(1,1,2)(1,1,3)(1,1,4)(1,2,1)(1,2,2)(1,2,3)(1,2,4)(1,3,1)(1,3,2)(1,3,3)(1,3,4)(1,4,1)(1,4,2)(1,4,3)(1,4,4)(1,5,1)(1,5,2)(1,5,3)(1,5,4)(1,6,1)(1,6,2)(1,6,3)(1,6,4)(2,1,1)(2,1,2)(2,1,3)(2,1,4)(2,2,1)(2,2,2)(2,2,3)(2,2,4)(2,3,1)(2,3,2)(2,3,3)(2,3,4)(2,4,1)(2,4,2)(2,4,3)(2,4,4)(2,5,1)(2,5,2)(2,5,3)(2,5,4)(2,6,1)(2,6,2)(2,6,3)(2,6,4)(3,1,1)(3,1,2)(3,1,3)(3,1,4)(3,2,1)(3,2,2)(3,2,3)(3,2,4)(3,3,1)(3,3,2)(3,3,3)(3,3,4)(3,4,1)(3,4,2)(3,4,3)(3,4,4)(3,5,1)(3,5,2)(3,5,3)(3,5,4)(3,6,1)(3,6,2)(3,6,3)(3,6,4)(4,1,1)(4,1,2)(4,1,3)(4,1,4)(4,2,1)(4,2,2)(4,2,3)(4,2,4)(4,3,1)(4,3,2)(4,3,3)(4,3,4)(4,4,1)(4,4,2)(4,4,3)(4,4,4)(4,5,1)(4,5,2)(4,5,3)(4,5,4)(4,6,1)(4,6,2)(4,6,3)(4,6,4)(5,1,1)(5,1,2)(5,1,3)(5,1,4)(5,2,1)(5,2,2)(5,2,3)(5,2,4)(5,3,1)(5,3,2)(5,3,3)(5,3,4)(5,4,1)(5,4,2)(5,4,3)(5,4,4)(5,5,1)(5,5,2)(5,5,3)(5,5,4)(5,6,1)(5,6,2)(5,6,3)(5,6,4)(6,1,1)(6,1,2)(6,1,3)(6,1,4)(6,2,1)(6,2,2)(6,2,3)(6,2,4)(6,3,1)(6,3,2)(6,3,3)(6,3,4)(6,4,1)(6,4,2)(6,4,3)(6,4,4)(6,5,1)(6,5,2)(6,5,3)(6,5,4)(6,6,1)(6,6,2)(6,6,3)(6,6,4)%%%mzn-stat: nSolutions=12\nSolver output:\nGenerated FlatZinc statistics:\nmzn-stat: paths=0\nmzn-stat: flatBoolVars=256\nmzn-stat: flatIntVars=36\nmzn-stat: flatBoolConstraints=186\nmzn-stat: flatIntConstraints=109\nmzn-stat: evaluatedReifiedConstraints=52\nmzn-stat: evaluatedHalfReifiedConstraints=24\nmzn-stat: method=\"satisfy\"\nmzn-stat: flatTime=0.0925008\nmzn-stat-end\nmzn-stat: initTime=0.002339\nmzn-stat: solveTime=0.000897\nmzn-stat: solutions=12\nmzn-stat: variables=320\nmzn-stat: propagators=165\nmzn-stat: propagations=2465\nmzn-stat: nodes=31\nmzn-stat: failures=4\nmzn-stat: restarts=0\nmzn-stat: peakDepth=5\nmzn-stat-end\n"
    }
   ],
   "source": [
    "solutions = %minizinc -a -s pwp-v4"
   ]
  },
  {
   "cell_type": "code",
   "execution_count": 314,
   "metadata": {
    "tags": []
   },
   "outputs": [
    {
     "output_type": "error",
     "ename": "TypeError",
     "evalue": "argument of type 'NoneType' is not iterable",
     "traceback": [
      "\u001b[0;31m---------------------------------------------------------------------------\u001b[0m",
      "\u001b[0;31mTypeError\u001b[0m                                 Traceback (most recent call last)",
      "\u001b[0;32m<ipython-input-314-118ac76a58ee>\u001b[0m in \u001b[0;36m<module>\u001b[0;34m\u001b[0m\n\u001b[0;32m----> 1\u001b[0;31m \u001b[0mshow_solutions\u001b[0m\u001b[0;34m(\u001b[0m\u001b[0mw_paper\u001b[0m\u001b[0;34m,\u001b[0m \u001b[0mh_paper\u001b[0m\u001b[0;34m,\u001b[0m \u001b[0mn\u001b[0m\u001b[0;34m,\u001b[0m \u001b[0mpresents\u001b[0m\u001b[0;34m,\u001b[0m \u001b[0msolutions\u001b[0m\u001b[0;34m)\u001b[0m\u001b[0;34m\u001b[0m\u001b[0;34m\u001b[0m\u001b[0m\n\u001b[0m",
      "\u001b[0;32m<ipython-input-266-3386fa450427>\u001b[0m in \u001b[0;36mshow_solutions\u001b[0;34m(w_paper, h_paper, n, presents, solutions)\u001b[0m\n\u001b[1;32m      4\u001b[0m         \u001b[0msolutions\u001b[0m \u001b[0;34m=\u001b[0m \u001b[0;34m[\u001b[0m\u001b[0msolutions\u001b[0m\u001b[0;34m]\u001b[0m\u001b[0;34m\u001b[0m\u001b[0;34m\u001b[0m\u001b[0m\n\u001b[1;32m      5\u001b[0m     \u001b[0;32mfor\u001b[0m \u001b[0mx\u001b[0m \u001b[0;32min\u001b[0m \u001b[0msolutions\u001b[0m\u001b[0;34m:\u001b[0m\u001b[0;34m\u001b[0m\u001b[0;34m\u001b[0m\u001b[0m\n\u001b[0;32m----> 6\u001b[0;31m         \u001b[0mbl_corners\u001b[0m \u001b[0;34m=\u001b[0m \u001b[0mx\u001b[0m\u001b[0;34m[\u001b[0m\u001b[0;34m'bl_corners'\u001b[0m\u001b[0;34m]\u001b[0m \u001b[0;32mif\u001b[0m \u001b[0;34m'bl_corners'\u001b[0m \u001b[0;32min\u001b[0m \u001b[0mx\u001b[0m \u001b[0;32melse\u001b[0m \u001b[0mx\u001b[0m\u001b[0;34m\u001b[0m\u001b[0;34m\u001b[0m\u001b[0m\n\u001b[0m\u001b[1;32m      7\u001b[0m         \u001b[0mshow_solution\u001b[0m\u001b[0;34m(\u001b[0m\u001b[0mw_paper\u001b[0m\u001b[0;34m,\u001b[0m \u001b[0mh_paper\u001b[0m\u001b[0;34m,\u001b[0m \u001b[0mn\u001b[0m\u001b[0;34m,\u001b[0m \u001b[0mpresents\u001b[0m\u001b[0;34m,\u001b[0m \u001b[0mbl_corners\u001b[0m\u001b[0;34m,\u001b[0m \u001b[0mcolours\u001b[0m\u001b[0;34m)\u001b[0m\u001b[0;34m\u001b[0m\u001b[0;34m\u001b[0m\u001b[0m\n\u001b[1;32m      8\u001b[0m \u001b[0;34m\u001b[0m\u001b[0m\n",
      "\u001b[0;31mTypeError\u001b[0m: argument of type 'NoneType' is not iterable"
     ]
    }
   ],
   "source": [
    "show_solutions(w_paper, h_paper, n, presents, solutions)"
   ]
  },
  {
   "cell_type": "markdown",
   "metadata": {},
   "source": [
    "## SMT model"
   ]
  },
  {
   "cell_type": "code",
   "execution_count": 119,
   "metadata": {
    "tags": []
   },
   "outputs": [
    {
     "output_type": "stream",
     "name": "stdout",
     "text": "[[c_0_0, c_0_1],\n [c_1_0, c_1_1],\n [c_2_0, c_2_1],\n [c_3_0, c_3_1],\n [c_4_0, c_4_1],\n [c_5_0, c_5_1],\n [c_6_0, c_6_1],\n [c_7_0, c_7_1],\n [c_8_0, c_8_1],\n [c_9_0, c_9_1],\n [c_10_0, c_10_1],\n [c_11_0, c_11_1],\n [c_12_0, c_12_1],\n [c_13_0, c_13_1],\n [c_14_0, c_14_1],\n [c_15_0, c_15_1],\n [c_16_0, c_16_1],\n [c_17_0, c_17_1],\n [c_18_0, c_18_1],\n [c_19_0, c_19_1],\n [c_20_0, c_20_1],\n [c_21_0, c_21_1]]\n"
    }
   ],
   "source": [
    "def z3max(x,y):\n",
    "    return If(x > y, x, y)\n",
    "\n",
    "def z3min(x,y):\n",
    "    return If(x < y, x, y)\n",
    "\n",
    "bl_corners= [ [ Int(\"c_%s_%s\" % (i, j)) for j in range(2) ] for i in range(n) ]\n",
    "domain = [And(0<=bl_corners[i][0],bl_corners[i][0]<w_paper,0<=bl_corners[i][1],bl_corners[i][1]< h_paper) for i in range(n)]\n",
    "overflow = [And(bl_corners[i][0]+presents[i][0]<=w_paper,bl_corners[i][1]+presents[i][1]<=h_paper) for i in range(n)]\n",
    "pp(bl_corners)\n",
    "intersection = [ And(\n",
    "    Or(\n",
    "        z3max(bl_corners[i][0],bl_corners[j][0])>=z3min(bl_corners[i][0]+presents[i][0],bl_corners[j][0]+presents[j][0]),\n",
    "        z3max(bl_corners[i][1],bl_corners[j][1])>=z3min(bl_corners[i][1]+presents[i][1],bl_corners[j][1]+presents[j][1])\n",
    "     )) for i in range(n) for j in range(i+1,n) ]"
   ]
  },
  {
   "cell_type": "code",
   "execution_count": 121,
   "metadata": {
    "tags": []
   },
   "outputs": [
    {
     "output_type": "stream",
     "name": "stdout",
     "text": "CPU times: user 15min 5s, sys: 1.69 s, total: 15min 7s\nWall time: 15min 8s\n"
    },
    {
     "output_type": "execute_result",
     "data": {
      "text/plain": "[[18, 12],\n [8, 31],\n [18, 15],\n [15, 29],\n [18, 28],\n [18, 20],\n [8, 22],\n [11, 0],\n [18, 0],\n [15, 10],\n [8, 0],\n [0, 0],\n [14, 0],\n [4, 0],\n [14, 4],\n [4, 5],\n [11, 10],\n [0, 23],\n [11, 18],\n [0, 3],\n [4, 12],\n [21, 0]]"
     },
     "metadata": {},
     "execution_count": 121
    }
   ],
   "source": [
    "%%time\n",
    "s = Solver()\n",
    "s.add(domain + overflow + intersection)\n",
    "s.check()\n",
    "sol = s.model()\n",
    "solution=[[sol[bl_corners[i][0]], sol[bl_corners[i][1]]] for i in range(n)]\n",
    "solution"
   ]
  }
 ]
}