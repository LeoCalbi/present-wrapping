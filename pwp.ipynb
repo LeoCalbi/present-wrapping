{
 "metadata": {
  "language_info": {
   "codemirror_mode": {
    "name": "ipython",
    "version": 3
   },
   "file_extension": ".py",
   "mimetype": "text/x-python",
   "name": "python",
   "nbconvert_exporter": "python",
   "pygments_lexer": "ipython3",
   "version": "3.8.5-final"
  },
  "orig_nbformat": 2,
  "kernelspec": {
   "name": "python_defaultSpec_1596205583810",
   "display_name": "Python 3.8.5 64-bit ('venv': venv)"
  }
 },
 "nbformat": 4,
 "nbformat_minor": 2,
 "cells": [
  {
   "cell_type": "markdown",
   "metadata": {},
   "source": [
    "# Present Wrapping Problem"
   ]
  },
  {
   "cell_type": "code",
   "execution_count": 5,
   "metadata": {
    "tags": []
   },
   "outputs": [
    {
     "output_type": "stream",
     "name": "stdout",
     "text": "The autoreload extension is already loaded. To reload it, use:\n  %reload_ext autoreload\nThe iminizinc extension is already loaded. To reload it, use:\n  %reload_ext iminizinc\n"
    }
   ],
   "source": [
    "%load_ext autoreload\n",
    "%load_ext iminizinc\n",
    "%matplotlib inline\n",
    "%autoreload 2\n",
    "\n",
    "import matplotlib.pyplot as plt\n",
    "import matplotlib.patches as patches\n",
    "import numpy as np\n",
    "from z3 import *"
   ]
  },
  {
   "cell_type": "markdown",
   "metadata": {},
   "source": [
    "## Functions"
   ]
  },
  {
   "cell_type": "code",
   "execution_count": 2,
   "metadata": {
    "tags": []
   },
   "outputs": [],
   "source": [
    "def read_input(path):\n",
    "    file = open(path,\"r\").readlines()\n",
    "    w_paper , h_paper = tuple(map(int, file[0].rstrip(\"\\n\").split(\" \")))\n",
    "    n = int(file[1].rstrip(\"\\n\"))\n",
    "    presents = []\n",
    "    for i in range(2, n + 2):\n",
    "        presents.append(list(map(int, file[i].rstrip(\"\\n\").split(\" \"))))\n",
    "    return w_paper, h_paper, n, presents"
   ]
  },
  {
   "cell_type": "code",
   "execution_count": 6,
   "metadata": {},
   "outputs": [],
   "source": [
    "def show_solutions(w_paper, h_paper, n, presents, solutions):\n",
    "    colours = np.random.rand(n, 3)\n",
    "    if not isinstance(solutions, list):\n",
    "        solutions = [solutions]\n",
    "    for x in solutions:\n",
    "        bl_corners = x['bl_corners'] if 'bl_corners' in x else x\n",
    "        show_solution(w_paper, h_paper, n, presents, bl_corners, colours)\n",
    "\n",
    "def show_solution(w_paper, h_paper, n,presents, bl_corners, colours=None):\n",
    "    if colours is None:\n",
    "        colours = np.random.rand(n, 3)\n",
    "    fig, ax = plt.subplots()\n",
    "    for i in range(n):\n",
    "        ax.add_patch(patches.Rectangle(\n",
    "            bl_corners[i],\n",
    "            presents[i][0],\n",
    "            presents[i][1],\n",
    "            facecolor=colours[i]\n",
    "        ))\n",
    "    ax.set_xlim(0, w_paper)\n",
    "    ax.set_ylim(0, h_paper)\n",
    "    plt.show()\n",
    "    print(f\"Solution: {bl_corners}\")"
   ]
  },
  {
   "cell_type": "code",
   "execution_count": 7,
   "metadata": {},
   "outputs": [],
   "source": [
    "def order_presents(presents, method='height'):\n",
    "    to_sort = (\n",
    "        [e[0] * e[1] for e in presents] if method == 'area'\n",
    "        else [e[1] for e in presents] if method == 'height'\n",
    "        else [e[0] for e in presents] if method == 'width'\n",
    "        else None\n",
    "    )\n",
    "    sorted_indices = sorted(range(len(to_sort)), key=lambda k: to_sort[k], reverse=True)\n",
    "    presents = [presents[i] for i in sorted_indices]\n",
    "    return presents, sorted_indices"
   ]
  },
  {
   "cell_type": "markdown",
   "metadata": {},
   "source": [
    "## Input"
   ]
  },
  {
   "cell_type": "code",
   "execution_count": 8,
   "metadata": {
    "tags": []
   },
   "outputs": [
    {
     "output_type": "stream",
     "name": "stdout",
     "text": "Paper dimensions: 37x37\nPresents dimensions: [[12, 37], [4, 24], [4, 22], [3, 21], [3, 18], [3, 17], [3, 14], [5, 14], [3, 13], [3, 12], [3, 11], [4, 10], [5, 10], [3, 9], [3, 8], [3, 7], [3, 6], [4, 6], [5, 6], [3, 5], [4, 5], [3, 4], [4, 4], [5, 4], [3, 3], [4, 3], [5, 3]]\n"
    }
   ],
   "source": [
    "min_instance, max_instance = 8, 20\n",
    "#instance = np.random.randint(min_instance, high=max_instance + 1)\n",
    "instance = 37\n",
    "path = f\"instances/{instance}x{instance}.txt\"\n",
    "w_paper, h_paper, n, presents = read_input(path)\n",
    "unordered_presents = list(presents)\n",
    "presents, sorted_indices = order_presents(presents, method='height')\n",
    "bl_corners = []\n",
    "print(f\"Paper dimensions: {instance}x{instance}\")\n",
    "print(f\"Presents dimensions: {presents}\")"
   ]
  },
  {
   "cell_type": "markdown",
   "metadata": {},
   "source": [
    "## MiniZinc model"
   ]
  },
  {
   "cell_type": "markdown",
   "metadata": {},
   "source": [
    "### First model "
   ]
  },
  {
   "cell_type": "code",
   "execution_count": 324,
   "metadata": {},
   "outputs": [],
   "source": [
    "%%mzn_model pwp-v1\n",
    "include \"globals.mzn\";\n",
    "int: w_paper;\n",
    "int: h_paper;\n",
    "int: n;\n",
    "array[1..n, 1..2] of var 0..max(w_paper, h_paper) - 1: bl_corners;\n",
    "array[1..n, 1..2] of int: presents;\n",
    "constraint forall(i in 1..n) (bl_corners[i, 1] + presents[i, 1] <= w_paper);\n",
    "constraint forall(i in 1..n) (bl_corners[i, 2] + presents[i, 2] <= h_paper);\n",
    "constraint forall(i, j in 1..n where j > i) (\n",
    "    max(bl_corners[i, 1], bl_corners[j, 1]) >= min(bl_corners[i, 1] + presents[i, 1], bl_corners[j, 1] + presents[j, 1]) \\/\n",
    "    max(bl_corners[i, 2], bl_corners[j, 2]) >= min(bl_corners[i, 2] + presents[i, 2], bl_corners[j, 2] + presents[j, 2])\n",
    ");\n",
    "solve satisfy;"
   ]
  },
  {
   "cell_type": "code",
   "execution_count": 325,
   "metadata": {
    "tags": []
   },
   "outputs": [
    {
     "output_type": "error",
     "ename": "KeyboardInterrupt",
     "evalue": "",
     "traceback": [
      "\u001b[0;31m---------------------------------------------------------------------------\u001b[0m",
      "\u001b[0;31mKeyboardInterrupt\u001b[0m                         Traceback (most recent call last)",
      "\u001b[0;32m<ipython-input-325-12c43de20209>\u001b[0m in \u001b[0;36m<module>\u001b[0;34m\u001b[0m\n\u001b[0;32m----> 1\u001b[0;31m \u001b[0mget_ipython\u001b[0m\u001b[0;34m(\u001b[0m\u001b[0;34m)\u001b[0m\u001b[0;34m.\u001b[0m\u001b[0mrun_line_magic\u001b[0m\u001b[0;34m(\u001b[0m\u001b[0;34m'minizinc'\u001b[0m\u001b[0;34m,\u001b[0m \u001b[0;34m'-s pwp-v1'\u001b[0m\u001b[0;34m)\u001b[0m\u001b[0;34m\u001b[0m\u001b[0;34m\u001b[0m\u001b[0m\n\u001b[0m",
      "\u001b[0;32m~/Github/present-wrapping/venv/lib/python3.8/site-packages/IPython/core/interactiveshell.py\u001b[0m in \u001b[0;36mrun_line_magic\u001b[0;34m(self, magic_name, line, _stack_depth)\u001b[0m\n\u001b[1;32m   2324\u001b[0m                 \u001b[0mkwargs\u001b[0m\u001b[0;34m[\u001b[0m\u001b[0;34m'local_ns'\u001b[0m\u001b[0;34m]\u001b[0m \u001b[0;34m=\u001b[0m \u001b[0msys\u001b[0m\u001b[0;34m.\u001b[0m\u001b[0m_getframe\u001b[0m\u001b[0;34m(\u001b[0m\u001b[0mstack_depth\u001b[0m\u001b[0;34m)\u001b[0m\u001b[0;34m.\u001b[0m\u001b[0mf_locals\u001b[0m\u001b[0;34m\u001b[0m\u001b[0;34m\u001b[0m\u001b[0m\n\u001b[1;32m   2325\u001b[0m             \u001b[0;32mwith\u001b[0m \u001b[0mself\u001b[0m\u001b[0;34m.\u001b[0m\u001b[0mbuiltin_trap\u001b[0m\u001b[0;34m:\u001b[0m\u001b[0;34m\u001b[0m\u001b[0;34m\u001b[0m\u001b[0m\n\u001b[0;32m-> 2326\u001b[0;31m                 \u001b[0mresult\u001b[0m \u001b[0;34m=\u001b[0m \u001b[0mfn\u001b[0m\u001b[0;34m(\u001b[0m\u001b[0;34m*\u001b[0m\u001b[0margs\u001b[0m\u001b[0;34m,\u001b[0m \u001b[0;34m**\u001b[0m\u001b[0mkwargs\u001b[0m\u001b[0;34m)\u001b[0m\u001b[0;34m\u001b[0m\u001b[0;34m\u001b[0m\u001b[0m\n\u001b[0m\u001b[1;32m   2327\u001b[0m             \u001b[0;32mreturn\u001b[0m \u001b[0mresult\u001b[0m\u001b[0;34m\u001b[0m\u001b[0;34m\u001b[0m\u001b[0m\n\u001b[1;32m   2328\u001b[0m \u001b[0;34m\u001b[0m\u001b[0m\n",
      "\u001b[0;32m<decorator-gen-128>\u001b[0m in \u001b[0;36mminizinc\u001b[0;34m(self, line, cell)\u001b[0m\n",
      "\u001b[0;32m~/Github/present-wrapping/venv/lib/python3.8/site-packages/IPython/core/magic.py\u001b[0m in \u001b[0;36m<lambda>\u001b[0;34m(f, *a, **k)\u001b[0m\n\u001b[1;32m    185\u001b[0m     \u001b[0;31m# but it's overkill for just that one bit of state.\u001b[0m\u001b[0;34m\u001b[0m\u001b[0;34m\u001b[0m\u001b[0;34m\u001b[0m\u001b[0m\n\u001b[1;32m    186\u001b[0m     \u001b[0;32mdef\u001b[0m \u001b[0mmagic_deco\u001b[0m\u001b[0;34m(\u001b[0m\u001b[0marg\u001b[0m\u001b[0;34m)\u001b[0m\u001b[0;34m:\u001b[0m\u001b[0;34m\u001b[0m\u001b[0;34m\u001b[0m\u001b[0m\n\u001b[0;32m--> 187\u001b[0;31m         \u001b[0mcall\u001b[0m \u001b[0;34m=\u001b[0m \u001b[0;32mlambda\u001b[0m \u001b[0mf\u001b[0m\u001b[0;34m,\u001b[0m \u001b[0;34m*\u001b[0m\u001b[0ma\u001b[0m\u001b[0;34m,\u001b[0m \u001b[0;34m**\u001b[0m\u001b[0mk\u001b[0m\u001b[0;34m:\u001b[0m \u001b[0mf\u001b[0m\u001b[0;34m(\u001b[0m\u001b[0;34m*\u001b[0m\u001b[0ma\u001b[0m\u001b[0;34m,\u001b[0m \u001b[0;34m**\u001b[0m\u001b[0mk\u001b[0m\u001b[0;34m)\u001b[0m\u001b[0;34m\u001b[0m\u001b[0;34m\u001b[0m\u001b[0m\n\u001b[0m\u001b[1;32m    188\u001b[0m \u001b[0;34m\u001b[0m\u001b[0m\n\u001b[1;32m    189\u001b[0m         \u001b[0;32mif\u001b[0m \u001b[0mcallable\u001b[0m\u001b[0;34m(\u001b[0m\u001b[0marg\u001b[0m\u001b[0;34m)\u001b[0m\u001b[0;34m:\u001b[0m\u001b[0;34m\u001b[0m\u001b[0;34m\u001b[0m\u001b[0m\n",
      "\u001b[0;32m~/Github/present-wrapping/venv/lib/python3.8/site-packages/iminizinc/mzn.py\u001b[0m in \u001b[0;36mminizinc\u001b[0;34m(self, line, cell)\u001b[0m\n\u001b[1;32m    145\u001b[0m                                              \u001b[0;34m+\u001b[0m \u001b[0mjsondata\u001b[0m \u001b[0;34m+\u001b[0m \u001b[0margs\u001b[0m\u001b[0;34m.\u001b[0m\u001b[0mdata\u001b[0m\u001b[0;34m,\u001b[0m\u001b[0;34m\u001b[0m\u001b[0;34m\u001b[0m\u001b[0m\n\u001b[1;32m    146\u001b[0m                                              stdout=subprocess.PIPE, stderr=subprocess.PIPE, env=my_env)\n\u001b[0;32m--> 147\u001b[0;31m                     \u001b[0;34m(\u001b[0m\u001b[0mmznoutput\u001b[0m\u001b[0;34m,\u001b[0m \u001b[0merroutput\u001b[0m\u001b[0;34m)\u001b[0m \u001b[0;34m=\u001b[0m \u001b[0mpipes\u001b[0m\u001b[0;34m.\u001b[0m\u001b[0mcommunicate\u001b[0m\u001b[0;34m(\u001b[0m\u001b[0;34m)\u001b[0m\u001b[0;34m\u001b[0m\u001b[0;34m\u001b[0m\u001b[0m\n\u001b[0m\u001b[1;32m    148\u001b[0m                     \u001b[0;32mif\u001b[0m \u001b[0mpipes\u001b[0m\u001b[0;34m.\u001b[0m\u001b[0mreturncode\u001b[0m \u001b[0;34m!=\u001b[0m \u001b[0;36m0\u001b[0m\u001b[0;34m:\u001b[0m\u001b[0;34m\u001b[0m\u001b[0;34m\u001b[0m\u001b[0m\n\u001b[1;32m    149\u001b[0m                         \u001b[0mprint\u001b[0m\u001b[0;34m(\u001b[0m\u001b[0;34m\"Error in MiniZinc:\\n\"\u001b[0m \u001b[0;34m+\u001b[0m \u001b[0merroutput\u001b[0m\u001b[0;34m.\u001b[0m\u001b[0mdecode\u001b[0m\u001b[0;34m(\u001b[0m\u001b[0;34m)\u001b[0m\u001b[0;34m)\u001b[0m\u001b[0;34m\u001b[0m\u001b[0;34m\u001b[0m\u001b[0m\n",
      "\u001b[0;32m/usr/local/Cellar/python@3.8/3.8.5/Frameworks/Python.framework/Versions/3.8/lib/python3.8/subprocess.py\u001b[0m in \u001b[0;36mcommunicate\u001b[0;34m(self, input, timeout)\u001b[0m\n\u001b[1;32m   1022\u001b[0m \u001b[0;34m\u001b[0m\u001b[0m\n\u001b[1;32m   1023\u001b[0m             \u001b[0;32mtry\u001b[0m\u001b[0;34m:\u001b[0m\u001b[0;34m\u001b[0m\u001b[0;34m\u001b[0m\u001b[0m\n\u001b[0;32m-> 1024\u001b[0;31m                 \u001b[0mstdout\u001b[0m\u001b[0;34m,\u001b[0m \u001b[0mstderr\u001b[0m \u001b[0;34m=\u001b[0m \u001b[0mself\u001b[0m\u001b[0;34m.\u001b[0m\u001b[0m_communicate\u001b[0m\u001b[0;34m(\u001b[0m\u001b[0minput\u001b[0m\u001b[0;34m,\u001b[0m \u001b[0mendtime\u001b[0m\u001b[0;34m,\u001b[0m \u001b[0mtimeout\u001b[0m\u001b[0;34m)\u001b[0m\u001b[0;34m\u001b[0m\u001b[0;34m\u001b[0m\u001b[0m\n\u001b[0m\u001b[1;32m   1025\u001b[0m             \u001b[0;32mexcept\u001b[0m \u001b[0mKeyboardInterrupt\u001b[0m\u001b[0;34m:\u001b[0m\u001b[0;34m\u001b[0m\u001b[0;34m\u001b[0m\u001b[0m\n\u001b[1;32m   1026\u001b[0m                 \u001b[0;31m# https://bugs.python.org/issue25942\u001b[0m\u001b[0;34m\u001b[0m\u001b[0;34m\u001b[0m\u001b[0;34m\u001b[0m\u001b[0m\n",
      "\u001b[0;32m/usr/local/Cellar/python@3.8/3.8.5/Frameworks/Python.framework/Versions/3.8/lib/python3.8/subprocess.py\u001b[0m in \u001b[0;36m_communicate\u001b[0;34m(self, input, endtime, orig_timeout)\u001b[0m\n\u001b[1;32m   1864\u001b[0m                             'failed to raise TimeoutExpired.')\n\u001b[1;32m   1865\u001b[0m \u001b[0;34m\u001b[0m\u001b[0m\n\u001b[0;32m-> 1866\u001b[0;31m                     \u001b[0mready\u001b[0m \u001b[0;34m=\u001b[0m \u001b[0mselector\u001b[0m\u001b[0;34m.\u001b[0m\u001b[0mselect\u001b[0m\u001b[0;34m(\u001b[0m\u001b[0mtimeout\u001b[0m\u001b[0;34m)\u001b[0m\u001b[0;34m\u001b[0m\u001b[0;34m\u001b[0m\u001b[0m\n\u001b[0m\u001b[1;32m   1867\u001b[0m                     \u001b[0mself\u001b[0m\u001b[0;34m.\u001b[0m\u001b[0m_check_timeout\u001b[0m\u001b[0;34m(\u001b[0m\u001b[0mendtime\u001b[0m\u001b[0;34m,\u001b[0m \u001b[0morig_timeout\u001b[0m\u001b[0;34m,\u001b[0m \u001b[0mstdout\u001b[0m\u001b[0;34m,\u001b[0m \u001b[0mstderr\u001b[0m\u001b[0;34m)\u001b[0m\u001b[0;34m\u001b[0m\u001b[0;34m\u001b[0m\u001b[0m\n\u001b[1;32m   1868\u001b[0m \u001b[0;34m\u001b[0m\u001b[0m\n",
      "\u001b[0;32m/usr/local/Cellar/python@3.8/3.8.5/Frameworks/Python.framework/Versions/3.8/lib/python3.8/selectors.py\u001b[0m in \u001b[0;36mselect\u001b[0;34m(self, timeout)\u001b[0m\n\u001b[1;32m    413\u001b[0m         \u001b[0mready\u001b[0m \u001b[0;34m=\u001b[0m \u001b[0;34m[\u001b[0m\u001b[0;34m]\u001b[0m\u001b[0;34m\u001b[0m\u001b[0;34m\u001b[0m\u001b[0m\n\u001b[1;32m    414\u001b[0m         \u001b[0;32mtry\u001b[0m\u001b[0;34m:\u001b[0m\u001b[0;34m\u001b[0m\u001b[0;34m\u001b[0m\u001b[0m\n\u001b[0;32m--> 415\u001b[0;31m             \u001b[0mfd_event_list\u001b[0m \u001b[0;34m=\u001b[0m \u001b[0mself\u001b[0m\u001b[0;34m.\u001b[0m\u001b[0m_selector\u001b[0m\u001b[0;34m.\u001b[0m\u001b[0mpoll\u001b[0m\u001b[0;34m(\u001b[0m\u001b[0mtimeout\u001b[0m\u001b[0;34m)\u001b[0m\u001b[0;34m\u001b[0m\u001b[0;34m\u001b[0m\u001b[0m\n\u001b[0m\u001b[1;32m    416\u001b[0m         \u001b[0;32mexcept\u001b[0m \u001b[0mInterruptedError\u001b[0m\u001b[0;34m:\u001b[0m\u001b[0;34m\u001b[0m\u001b[0;34m\u001b[0m\u001b[0m\n\u001b[1;32m    417\u001b[0m             \u001b[0;32mreturn\u001b[0m \u001b[0mready\u001b[0m\u001b[0;34m\u001b[0m\u001b[0;34m\u001b[0m\u001b[0m\n",
      "\u001b[0;31mKeyboardInterrupt\u001b[0m: "
     ]
    }
   ],
   "source": [
    "%minizinc -s pwp-v1"
   ]
  },
  {
   "cell_type": "markdown",
   "metadata": {},
   "source": [
    "### Second model"
   ]
  },
  {
   "cell_type": "code",
   "execution_count": null,
   "metadata": {
    "tags": []
   },
   "outputs": [],
   "source": [
    "%%mzn_model pwp-v2\n",
    "include \"globals.mzn\";\n",
    "int: w_paper;\n",
    "int: h_paper;\n",
    "int: n;\n",
    "array[1..n, 1..2] of int: presents;\n",
    "int: max_dim = max(w_paper, h_paper);\n",
    "int: min_present_dim = min([min(presents[i, 1], presents[i, 2]) | i in 1..n]);\n",
    "\n",
    "function var int: coord_to_value(var int: x, var int: y) = x + y * (max_dim + 1);\n",
    "function var int: x_overlap(int: i, int: j) = \n",
    "    max(0, min(bl_corners[i, 1] + presents[i, 1], bl_corners[j, 1] + presents[j, 1]) - max(bl_corners[i, 1], bl_corners[j, 1]));\n",
    "function var int: y_overlap(int: i, int: j) = \n",
    "    max(0, min(bl_corners[i, 2] + presents[i, 2], bl_corners[j, 2] + presents[j, 2]) - max(bl_corners[i, 2], bl_corners[j, 2]));\n",
    "function var int: overlap_area(int: i, int: j) = x_overlap(i, j) * y_overlap(i, j);\n",
    "\n",
    "array[1..n, 1..2] of var 0..max_dim - min_present_dim: bl_corners;\n",
    "array[1..n] of var 0..max_dim * max_dim: bl_corners_values;\n",
    "\n",
    "predicate values_channeling(int: i) = \n",
    "    forall(i in 1..n) (bl_corners_values[i] == coord_to_value(bl_corners[i, 1], bl_corners[i, 2]));\n",
    "constraint forall(i in 1..n) (values_channeling(i));\n",
    "\n",
    "constraint alldifferent(bl_corners_values);\n",
    "constraint count_eq(bl_corners_values, 0, 1);\n",
    "constraint forall(i in 1..n) (bl_corners[i, 1] + presents[i, 1] <= w_paper);\n",
    "constraint forall(i in 1..n) (bl_corners[i, 2] + presents[i, 2] <= h_paper);\n",
    "constraint forall(i, j in 1..n where j > i) (overlap_area(i, j) == 0);\n",
    "solve satisfy;"
   ]
  },
  {
   "cell_type": "code",
   "execution_count": null,
   "metadata": {
    "tags": []
   },
   "outputs": [],
   "source": [
    "%minizinc -s pwp-v2"
   ]
  },
  {
   "cell_type": "markdown",
   "metadata": {},
   "source": [
    "### Third model"
   ]
  },
  {
   "cell_type": "code",
   "execution_count": null,
   "metadata": {},
   "outputs": [],
   "source": [
    "%%mzn_model pwp-v3\n",
    "include \"globals.mzn\";\n",
    "int: w_paper;\n",
    "int: h_paper;\n",
    "int: n;\n",
    "int: max_dim = max(w_paper, h_paper);\n",
    "array[1..n, 1..2] of 1..max_dim: presents;\n",
    "array[1..n] of 1..max_dim: presents_xs = [presents[i, 1] | i in 1..n];\n",
    "array[1..n] of 1..max_dim: presents_ys = [presents[i, 2] | i in 1..n];\n",
    "int: min_present_dim = min([min(presents[i, 1], presents[i, 2]) | i in 1..n]);\n",
    "\n",
    "function var int: coord_to_value(var int: x, var int: y) = x + y * (max_dim + 1);\n",
    "\n",
    "array[1..n, 1..2] of var 0..max_dim - min_present_dim: bl_corners;\n",
    "array[1..n, 1..2] of var 1..max_dim: tr_corners;\n",
    "array[1..n] of var 0..max_dim * max_dim: bl_corners_values;\n",
    "array[1..n] of var 0..w_paper - min_present_dim: bl_corners_xs;\n",
    "array[1..n] of var 0..h_paper - min_present_dim: bl_corners_ys;\n",
    "\n",
    "predicate values_channeling(int: i) = \n",
    "    forall(i in 1..n) (bl_corners_values[i] == coord_to_value(bl_corners[i, 1], bl_corners[i, 2]));\n",
    "constraint forall(i in 1..n) (values_channeling(i));\n",
    "\n",
    "predicate bl_corners_channeling(int: i) = \n",
    "    forall(i in 1..n) (bl_corners[i, 1] == bl_corners_xs[i] /\\ bl_corners[i, 2] == bl_corners_ys[i]);\n",
    "constraint forall(i in 1..n) (bl_corners_channeling(i));\n",
    "\n",
    "predicate tr_corners_channeling(int: i) = \n",
    "    forall(i in 1..n) (bl_corners[i, 1] + presents[i, 1] == tr_corners[i, 1] /\\ bl_corners[i, 2] + presents[i, 2] == tr_corners[i, 2]);\n",
    "constraint forall(i in 1..n) (tr_corners_channeling(i));\n",
    "\n",
    "constraint alldifferent(bl_corners_values);\n",
    "constraint count_eq(bl_corners_values, 0, 1);\n",
    "constraint diffn_k(bl_corners, presents);\n",
    "constraint cumulative(bl_corners_xs, presents_xs, presents_ys, h_paper);\n",
    "constraint cumulative(bl_corners_ys, presents_ys, presents_xs, w_paper);\n",
    "solve satisfy;"
   ]
  },
  {
   "cell_type": "code",
   "execution_count": null,
   "metadata": {
    "tags": []
   },
   "outputs": [],
   "source": [
    "%minizinc -s pwp-v3"
   ]
  },
  {
   "cell_type": "markdown",
   "metadata": {},
   "source": [
    "### Fourth model"
   ]
  },
  {
   "cell_type": "code",
   "execution_count": 18,
   "metadata": {
    "tags": []
   },
   "outputs": [],
   "source": [
    "%%mzn_model pwp-v4\n",
    "include \"globals.mzn\";\n",
    "int: w_paper;\n",
    "int: h_paper;\n",
    "int: n;\n",
    "int: max_dim = max(w_paper, h_paper);\n",
    "int: total_area = w_paper * h_paper;\n",
    "set of int: ns = 1..n;\n",
    "array[ns, 1..2] of 1..max_dim: presents;\n",
    "array[ns] of 1..max_dim: presents_xs = [presents[i, 1] | i in ns];\n",
    "array[ns] of 1..max_dim: presents_ys = [presents[i, 2] | i in ns];\n",
    "array[ns] of 1..max_dim * max_dim: areas = [presents_xs[i] * presents_ys[i] | i in ns];\n",
    "\n",
    "array[ns,ns] of ns: presents_group_xs = [[i, group_presents(i,1)] | i in 1..w_paper];\n",
    "\n",
    "int: min_present_dim = min([min(presents[i, 1], presents[i, 2]) | i in ns]);\n",
    "int: max_present_ind = arg_max(areas);\n",
    "\n",
    "array[ns, 1..2] of var 0..max_dim - min_present_dim: bl_corners;\n",
    "array[ns, 1..2] of var 1..max_dim: tr_corners;\n",
    "array[ns] of var 0..max_dim * max_dim: bl_corners_values;\n",
    "array[ns] of var 0..w_paper - min_present_dim: bl_corners_xs;\n",
    "array[ns] of var 0..h_paper - min_present_dim: bl_corners_ys;\n",
    "\n",
    "function var int: coord_to_value(var int: x, var int: y) = x + y * (max_dim + 1);\n",
    "\n",
    "\n",
    "function array[int] of int: group_presents(int: size, int: axis) = [i | i in ns where presents[i, axis] == size];\n",
    "\n",
    "predicate bl_corners_channeling(int: i) = bl_corners_xs[i] == bl_corners[i, 1] /\\ bl_corners_ys[i] == bl_corners[i, 2];\n",
    "constraint forall(i in ns) (bl_corners_channeling(i));\n",
    "\n",
    "predicate values_channeling(int: i) = bl_corners_values[i] == coord_to_value(bl_corners_xs[i], bl_corners_ys[i]);\n",
    "constraint forall(i in ns) (values_channeling(i));\n",
    "\n",
    "predicate tr_corners_channeling(int: i) = tr_corners[i, 1] == bl_corners_xs[i] + presents_xs[i] /\\ tr_corners[i, 2] == bl_corners_ys[i] + presents_ys[i];\n",
    "constraint forall(i in ns) (tr_corners_channeling(i));\n",
    "\n",
    "constraint forall(i, j in ns where j > i) \n",
    "    ((bl_corners_xs[i] == bl_corners_xs[j] /\\ bl_corners_ys[i] < bl_corners_ys[j]) -> presents_xs[i] <= presents_xs[j]);\n",
    "\n",
    "constraint bl_corners_xs[max_present_ind]<=(w_paper - presents_xs[max_present_ind])/2 /\\ bl_corners_ys[max_present_ind]<=(h_paper - presents_ys[max_present_ind])/2;\n",
    "\n",
    "constraint forall(i,j in ns where j > i)(presents_xs[i] == presents_xs[j] /\\ presents_ys[i] + presents_ys[j]==h_paper -> bl_corners_ys[j]=presents_ys[i] /\\ bl_corners_ys[i] = 0);\n",
    "\n",
    "constraint forall(i,j in ns where j > i)(presents_ys[i] == presents_ys[j] /\\ presents_xs[i] + presents_xs[j]==w_paper -> bl_corners_xs[j]=presents_xs[i] /\\ bl_corners_xs[i] = 0);\n",
    "\n",
    "\n",
    "\n",
    "constraint bl_corners_xs[1] <= w_paper / 2 /\\ bl_corners_ys[1] <= h_paper / 2;\n",
    "%constraint bl_corners_xs[1] == 0 /\\ bl_corners_ys[1] == 0;\n",
    "\n",
    "constraint sum(i in ns) ((tr_corners[i, 1] - bl_corners[i, 1]) * (tr_corners[i, 2] - bl_corners[i, 2])) == total_area;\n",
    "constraint alldifferent(bl_corners_values);\n",
    "constraint count_eq(bl_corners_values, 0, 1);\n",
    "constraint diffn_k(bl_corners, presents);\n",
    "constraint cumulative(bl_corners_xs, presents_xs, presents_ys, h_paper);\n",
    "constraint cumulative(bl_corners_ys, presents_ys, presents_xs, w_paper);\n",
    "%solve :: int_search(bl_corners, input_order, indomain_min) satisfy;\n",
    "solve satisfy;"
   ]
  },
  {
   "cell_type": "code",
   "execution_count": 19,
   "metadata": {
    "tags": []
   },
   "outputs": [
    {
     "output_type": "stream",
     "name": "stdout",
     "text": "C:\\Users\\leoca\\AppData\\Local\\Temp\\tmpjp9ter2p/model.mzn:13.46-64:\nMiniZinc: type error: arrays cannot be elements of arrays\n"
    }
   ],
   "source": [
    "solutions = %minizinc -s pwp-v4"
   ]
  },
  {
   "cell_type": "code",
   "execution_count": 13,
   "metadata": {
    "tags": []
   },
   "outputs": [],
   "source": [
    "%%mzn_model pwp-v5\n",
    "include \"globals.mzn\";\n",
    "int: w_paper;\n",
    "int: h_paper;\n",
    "int: n;\n",
    "int: max_dim = max(w_paper, h_paper);\n",
    "int: total_area = w_paper * h_paper;\n",
    "set of int: ns = 1..n;\n",
    "array[ns, 1..2] of 1..max_dim: presents;\n",
    "array[ns] of 1..max_dim: presents_xs = [presents[i, 1] | i in ns];\n",
    "array[ns] of 1..max_dim: presents_ys = [presents[i, 2] | i in ns];\n",
    "int: min_present_dim = min([min(presents[i, 1], presents[i, 2]) | i in ns]);\n",
    "\n",
    "array[ns] of var 1..n-1: bucket_x;\n",
    "array[ns] of var 0..max_dim: load_x;\n",
    "\n",
    "array[ns] of var 1..n-1: bucket_y;\n",
    "array[ns] of var 0..max_dim: load_y;\n",
    "\n",
    "constraint bin_packing_load(load_x,bucket_x,presents_ys);\n",
    "constraint bin_packing_load(load_y,bucket_y,presents_xs);\n",
    "\n",
    "solve minimize (nvalue(bucket_x) + nvalue(bucket_y));"
   ]
  },
  {
   "cell_type": "code",
   "execution_count": 20,
   "metadata": {
    "tags": []
   },
   "outputs": [
    {
     "output_type": "display_data",
     "data": {
      "text/plain": "<Figure size 432x288 with 1 Axes>",
      "image/svg+xml": "<?xml version=\"1.0\" encoding=\"utf-8\" standalone=\"no\"?>\r\n<!DOCTYPE svg PUBLIC \"-//W3C//DTD SVG 1.1//EN\"\r\n  \"http://www.w3.org/Graphics/SVG/1.1/DTD/svg11.dtd\">\r\n<!-- Created with matplotlib (https://matplotlib.org/) -->\r\n<svg height=\"248.518125pt\" version=\"1.1\" viewBox=\"0 0 368.925 248.518125\" width=\"368.925pt\" xmlns=\"http://www.w3.org/2000/svg\" xmlns:xlink=\"http://www.w3.org/1999/xlink\">\r\n <metadata>\r\n  <rdf:RDF xmlns:cc=\"http://creativecommons.org/ns#\" xmlns:dc=\"http://purl.org/dc/elements/1.1/\" xmlns:rdf=\"http://www.w3.org/1999/02/22-rdf-syntax-ns#\">\r\n   <cc:Work>\r\n    <dc:type rdf:resource=\"http://purl.org/dc/dcmitype/StillImage\"/>\r\n    <dc:date>2020-07-31T17:53:27.845591</dc:date>\r\n    <dc:format>image/svg+xml</dc:format>\r\n    <dc:creator>\r\n     <cc:Agent>\r\n      <dc:title>Matplotlib v3.3.0, https://matplotlib.org/</dc:title>\r\n     </cc:Agent>\r\n    </dc:creator>\r\n   </cc:Work>\r\n  </rdf:RDF>\r\n </metadata>\r\n <defs>\r\n  <style type=\"text/css\">*{stroke-linecap:butt;stroke-linejoin:round;}</style>\r\n </defs>\r\n <g id=\"figure_1\">\r\n  <g id=\"patch_1\">\r\n   <path d=\"M -0 248.518125 \r\nL 368.925 248.518125 \r\nL 368.925 0 \r\nL -0 0 \r\nz\r\n\" style=\"fill:none;\"/>\r\n  </g>\r\n  <g id=\"axes_1\">\r\n   <g id=\"patch_2\">\r\n    <path d=\"M 26.925 224.64 \r\nL 361.725 224.64 \r\nL 361.725 7.2 \r\nL 26.925 7.2 \r\nz\r\n\" style=\"fill:#ffffff;\"/>\r\n   </g>\r\n   <g id=\"patch_3\">\r\n    <path clip-path=\"url(#p5d36e1a5c3)\" d=\"M 26.925 224.64 \r\nL 58.3125 224.64 \r\nL 58.3125 41.175 \r\nL 26.925 41.175 \r\nz\r\n\" style=\"fill:#37aa20;\"/>\r\n   </g>\r\n   <g id=\"patch_4\">\r\n    <path clip-path=\"url(#p5d36e1a5c3)\" d=\"M 204.7875 224.64 \r\nL 236.175 224.64 \r\nL 236.175 54.765 \r\nL 204.7875 54.765 \r\nz\r\n\" style=\"fill:#ef4403;\"/>\r\n   </g>\r\n   <g id=\"patch_5\">\r\n    <path clip-path=\"url(#p5d36e1a5c3)\" d=\"M 173.4 224.64 \r\nL 204.7875 224.64 \r\nL 204.7875 61.56 \r\nL 173.4 61.56 \r\nz\r\n\" style=\"fill:#0549a9;\"/>\r\n   </g>\r\n   <g id=\"patch_6\">\r\n    <path clip-path=\"url(#p5d36e1a5c3)\" d=\"M 142.0125 224.64 \r\nL 173.4 224.64 \r\nL 173.4 68.355 \r\nL 142.0125 68.355 \r\nz\r\n\" style=\"fill:#9320e1;\"/>\r\n   </g>\r\n   <g id=\"patch_7\">\r\n    <path clip-path=\"url(#p5d36e1a5c3)\" d=\"M 236.175 224.64 \r\nL 267.5625 224.64 \r\nL 267.5625 75.15 \r\nL 236.175 75.15 \r\nz\r\n\" style=\"fill:#5125ec;\"/>\r\n   </g>\r\n   <g id=\"patch_8\">\r\n    <path clip-path=\"url(#p5d36e1a5c3)\" d=\"M 330.3375 224.64 \r\nL 361.725 224.64 \r\nL 361.725 102.33 \r\nL 330.3375 102.33 \r\nz\r\n\" style=\"fill:#ec5946;\"/>\r\n   </g>\r\n   <g id=\"patch_9\">\r\n    <path clip-path=\"url(#p5d36e1a5c3)\" d=\"M 58.3125 224.64 \r\nL 100.1625 224.64 \r\nL 100.1625 102.33 \r\nL 58.3125 102.33 \r\nz\r\n\" style=\"fill:#c288c9;\"/>\r\n   </g>\r\n   <g id=\"patch_10\">\r\n    <path clip-path=\"url(#p5d36e1a5c3)\" d=\"M 298.95 224.64 \r\nL 330.3375 224.64 \r\nL 330.3375 122.715 \r\nL 298.95 122.715 \r\nz\r\n\" style=\"fill:#f3105d;\"/>\r\n   </g>\r\n   <g id=\"patch_11\">\r\n    <path clip-path=\"url(#p5d36e1a5c3)\" d=\"M 330.3375 102.33 \r\nL 361.725 102.33 \r\nL 361.725 7.2 \r\nL 330.3375 7.2 \r\nz\r\n\" style=\"fill:#773b59;\"/>\r\n   </g>\r\n   <g id=\"patch_12\">\r\n    <path clip-path=\"url(#p5d36e1a5c3)\" d=\"M 298.95 122.715 \r\nL 330.3375 122.715 \r\nL 330.3375 34.38 \r\nL 298.95 34.38 \r\nz\r\n\" style=\"fill:#b1084d;\"/>\r\n   </g>\r\n   <g id=\"patch_13\">\r\n    <path clip-path=\"url(#p5d36e1a5c3)\" d=\"M 267.5625 109.125 \r\nL 298.95 109.125 \r\nL 298.95 27.585 \r\nL 267.5625 27.585 \r\nz\r\n\" style=\"fill:#bb102c;\"/>\r\n   </g>\r\n   <g id=\"patch_14\">\r\n    <path clip-path=\"url(#p5d36e1a5c3)\" d=\"M 267.5625 183.87 \r\nL 298.95 183.87 \r\nL 298.95 109.125 \r\nL 267.5625 109.125 \r\nz\r\n\" style=\"fill:#b7325b;\"/>\r\n   </g>\r\n   <g id=\"patch_15\">\r\n    <path clip-path=\"url(#p5d36e1a5c3)\" d=\"M 58.3125 102.33 \r\nL 100.1625 102.33 \r\nL 100.1625 27.585 \r\nL 58.3125 27.585 \r\nz\r\n\" style=\"fill:#bf5b45;\"/>\r\n   </g>\r\n   <g id=\"patch_16\">\r\n    <path clip-path=\"url(#p5d36e1a5c3)\" d=\"M 236.175 75.15 \r\nL 267.5625 75.15 \r\nL 267.5625 7.2 \r\nL 236.175 7.2 \r\nz\r\n\" style=\"fill:#37f135;\"/>\r\n   </g>\r\n   <g id=\"patch_17\">\r\n    <path clip-path=\"url(#p5d36e1a5c3)\" d=\"M 100.1625 75.15 \r\nL 142.0125 75.15 \r\nL 142.0125 7.2 \r\nL 100.1625 7.2 \r\nz\r\n\" style=\"fill:#c3a8fb;\"/>\r\n   </g>\r\n   <g id=\"patch_18\">\r\n    <path clip-path=\"url(#p5d36e1a5c3)\" d=\"M 142.0125 68.355 \r\nL 173.4 68.355 \r\nL 173.4 7.2 \r\nL 142.0125 7.2 \r\nz\r\n\" style=\"fill:#11b20c;\"/>\r\n   </g>\r\n   <g id=\"patch_19\">\r\n    <path clip-path=\"url(#p5d36e1a5c3)\" d=\"M 173.4 61.56 \r\nL 204.7875 61.56 \r\nL 204.7875 7.2 \r\nL 173.4 7.2 \r\nz\r\n\" style=\"fill:#0302a5;\"/>\r\n   </g>\r\n   <g id=\"patch_20\">\r\n    <path clip-path=\"url(#p5d36e1a5c3)\" d=\"M 204.7875 54.765 \r\nL 236.175 54.765 \r\nL 236.175 7.2 \r\nL 204.7875 7.2 \r\nz\r\n\" style=\"fill:#831f6a;\"/>\r\n   </g>\r\n   <g id=\"patch_21\">\r\n    <path clip-path=\"url(#p5d36e1a5c3)\" d=\"M 100.1625 163.485 \r\nL 142.0125 163.485 \r\nL 142.0125 115.92 \r\nL 100.1625 115.92 \r\nz\r\n\" style=\"fill:#e4f759;\"/>\r\n   </g>\r\n   <g id=\"patch_22\">\r\n    <path clip-path=\"url(#p5d36e1a5c3)\" d=\"M 267.5625 224.64 \r\nL 298.95 224.64 \r\nL 298.95 183.87 \r\nL 267.5625 183.87 \r\nz\r\n\" style=\"fill:#1417eb;\"/>\r\n   </g>\r\n   <g id=\"patch_23\">\r\n    <path clip-path=\"url(#p5d36e1a5c3)\" d=\"M 100.1625 115.92 \r\nL 142.0125 115.92 \r\nL 142.0125 75.15 \r\nL 100.1625 75.15 \r\nz\r\n\" style=\"fill:#e948f9;\"/>\r\n   </g>\r\n   <g id=\"patch_24\">\r\n    <path clip-path=\"url(#p5d36e1a5c3)\" d=\"M 26.925 41.175 \r\nL 58.3125 41.175 \r\nL 58.3125 7.2 \r\nL 26.925 7.2 \r\nz\r\n\" style=\"fill:#1451b5;\"/>\r\n   </g>\r\n   <g id=\"patch_25\">\r\n    <path clip-path=\"url(#p5d36e1a5c3)\" d=\"M 100.1625 197.46 \r\nL 142.0125 197.46 \r\nL 142.0125 163.485 \r\nL 100.1625 163.485 \r\nz\r\n\" style=\"fill:#d9834f;\"/>\r\n   </g>\r\n   <g id=\"patch_26\">\r\n    <path clip-path=\"url(#p5d36e1a5c3)\" d=\"M 298.95 34.38 \r\nL 330.3375 34.38 \r\nL 330.3375 7.2 \r\nL 298.95 7.2 \r\nz\r\n\" style=\"fill:#67bd6a;\"/>\r\n   </g>\r\n   <g id=\"patch_27\">\r\n    <path clip-path=\"url(#p5d36e1a5c3)\" d=\"M 100.1625 224.64 \r\nL 142.0125 224.64 \r\nL 142.0125 197.46 \r\nL 100.1625 197.46 \r\nz\r\n\" style=\"fill:#a21deb;\"/>\r\n   </g>\r\n   <g id=\"patch_28\">\r\n    <path clip-path=\"url(#p5d36e1a5c3)\" d=\"M 267.5625 27.585 \r\nL 298.95 27.585 \r\nL 298.95 7.2 \r\nL 267.5625 7.2 \r\nz\r\n\" style=\"fill:#473750;\"/>\r\n   </g>\r\n   <g id=\"patch_29\">\r\n    <path clip-path=\"url(#p5d36e1a5c3)\" d=\"M 58.3125 27.585 \r\nL 100.1625 27.585 \r\nL 100.1625 7.2 \r\nL 58.3125 7.2 \r\nz\r\n\" style=\"fill:#1ec360;\"/>\r\n   </g>\r\n   <g id=\"matplotlib.axis_1\">\r\n    <g id=\"xtick_1\">\r\n     <g id=\"line2d_1\">\r\n      <defs>\r\n       <path d=\"M 0 0 \r\nL 0 3.5 \r\n\" id=\"m035b235233\" style=\"stroke:#000000;stroke-width:0.8;\"/>\r\n      </defs>\r\n      <g>\r\n       <use style=\"stroke:#000000;stroke-width:0.8;\" x=\"26.925\" xlink:href=\"#m035b235233\" y=\"224.64\"/>\r\n      </g>\r\n     </g>\r\n     <g id=\"text_1\">\r\n      <!-- 0 -->\r\n      <g transform=\"translate(23.74375 239.238437)scale(0.1 -0.1)\">\r\n       <defs>\r\n        <path d=\"M 31.78125 66.40625 \r\nQ 24.171875 66.40625 20.328125 58.90625 \r\nQ 16.5 51.421875 16.5 36.375 \r\nQ 16.5 21.390625 20.328125 13.890625 \r\nQ 24.171875 6.390625 31.78125 6.390625 \r\nQ 39.453125 6.390625 43.28125 13.890625 \r\nQ 47.125 21.390625 47.125 36.375 \r\nQ 47.125 51.421875 43.28125 58.90625 \r\nQ 39.453125 66.40625 31.78125 66.40625 \r\nz\r\nM 31.78125 74.21875 \r\nQ 44.046875 74.21875 50.515625 64.515625 \r\nQ 56.984375 54.828125 56.984375 36.375 \r\nQ 56.984375 17.96875 50.515625 8.265625 \r\nQ 44.046875 -1.421875 31.78125 -1.421875 \r\nQ 19.53125 -1.421875 13.0625 8.265625 \r\nQ 6.59375 17.96875 6.59375 36.375 \r\nQ 6.59375 54.828125 13.0625 64.515625 \r\nQ 19.53125 74.21875 31.78125 74.21875 \r\nz\r\n\" id=\"DejaVuSans-48\"/>\r\n       </defs>\r\n       <use xlink:href=\"#DejaVuSans-48\"/>\r\n      </g>\r\n     </g>\r\n    </g>\r\n    <g id=\"xtick_2\">\r\n     <g id=\"line2d_2\">\r\n      <g>\r\n       <use style=\"stroke:#000000;stroke-width:0.8;\" x=\"79.2375\" xlink:href=\"#m035b235233\" y=\"224.64\"/>\r\n      </g>\r\n     </g>\r\n     <g id=\"text_2\">\r\n      <!-- 5 -->\r\n      <g transform=\"translate(76.05625 239.238437)scale(0.1 -0.1)\">\r\n       <defs>\r\n        <path d=\"M 10.796875 72.90625 \r\nL 49.515625 72.90625 \r\nL 49.515625 64.59375 \r\nL 19.828125 64.59375 \r\nL 19.828125 46.734375 \r\nQ 21.96875 47.46875 24.109375 47.828125 \r\nQ 26.265625 48.1875 28.421875 48.1875 \r\nQ 40.625 48.1875 47.75 41.5 \r\nQ 54.890625 34.8125 54.890625 23.390625 \r\nQ 54.890625 11.625 47.5625 5.09375 \r\nQ 40.234375 -1.421875 26.90625 -1.421875 \r\nQ 22.3125 -1.421875 17.546875 -0.640625 \r\nQ 12.796875 0.140625 7.71875 1.703125 \r\nL 7.71875 11.625 \r\nQ 12.109375 9.234375 16.796875 8.0625 \r\nQ 21.484375 6.890625 26.703125 6.890625 \r\nQ 35.15625 6.890625 40.078125 11.328125 \r\nQ 45.015625 15.765625 45.015625 23.390625 \r\nQ 45.015625 31 40.078125 35.4375 \r\nQ 35.15625 39.890625 26.703125 39.890625 \r\nQ 22.75 39.890625 18.8125 39.015625 \r\nQ 14.890625 38.140625 10.796875 36.28125 \r\nz\r\n\" id=\"DejaVuSans-53\"/>\r\n       </defs>\r\n       <use xlink:href=\"#DejaVuSans-53\"/>\r\n      </g>\r\n     </g>\r\n    </g>\r\n    <g id=\"xtick_3\">\r\n     <g id=\"line2d_3\">\r\n      <g>\r\n       <use style=\"stroke:#000000;stroke-width:0.8;\" x=\"131.55\" xlink:href=\"#m035b235233\" y=\"224.64\"/>\r\n      </g>\r\n     </g>\r\n     <g id=\"text_3\">\r\n      <!-- 10 -->\r\n      <g transform=\"translate(125.1875 239.238437)scale(0.1 -0.1)\">\r\n       <defs>\r\n        <path d=\"M 12.40625 8.296875 \r\nL 28.515625 8.296875 \r\nL 28.515625 63.921875 \r\nL 10.984375 60.40625 \r\nL 10.984375 69.390625 \r\nL 28.421875 72.90625 \r\nL 38.28125 72.90625 \r\nL 38.28125 8.296875 \r\nL 54.390625 8.296875 \r\nL 54.390625 0 \r\nL 12.40625 0 \r\nz\r\n\" id=\"DejaVuSans-49\"/>\r\n       </defs>\r\n       <use xlink:href=\"#DejaVuSans-49\"/>\r\n       <use x=\"63.623047\" xlink:href=\"#DejaVuSans-48\"/>\r\n      </g>\r\n     </g>\r\n    </g>\r\n    <g id=\"xtick_4\">\r\n     <g id=\"line2d_4\">\r\n      <g>\r\n       <use style=\"stroke:#000000;stroke-width:0.8;\" x=\"183.8625\" xlink:href=\"#m035b235233\" y=\"224.64\"/>\r\n      </g>\r\n     </g>\r\n     <g id=\"text_4\">\r\n      <!-- 15 -->\r\n      <g transform=\"translate(177.5 239.238437)scale(0.1 -0.1)\">\r\n       <use xlink:href=\"#DejaVuSans-49\"/>\r\n       <use x=\"63.623047\" xlink:href=\"#DejaVuSans-53\"/>\r\n      </g>\r\n     </g>\r\n    </g>\r\n    <g id=\"xtick_5\">\r\n     <g id=\"line2d_5\">\r\n      <g>\r\n       <use style=\"stroke:#000000;stroke-width:0.8;\" x=\"236.175\" xlink:href=\"#m035b235233\" y=\"224.64\"/>\r\n      </g>\r\n     </g>\r\n     <g id=\"text_5\">\r\n      <!-- 20 -->\r\n      <g transform=\"translate(229.8125 239.238437)scale(0.1 -0.1)\">\r\n       <defs>\r\n        <path d=\"M 19.1875 8.296875 \r\nL 53.609375 8.296875 \r\nL 53.609375 0 \r\nL 7.328125 0 \r\nL 7.328125 8.296875 \r\nQ 12.9375 14.109375 22.625 23.890625 \r\nQ 32.328125 33.6875 34.8125 36.53125 \r\nQ 39.546875 41.84375 41.421875 45.53125 \r\nQ 43.3125 49.21875 43.3125 52.78125 \r\nQ 43.3125 58.59375 39.234375 62.25 \r\nQ 35.15625 65.921875 28.609375 65.921875 \r\nQ 23.96875 65.921875 18.8125 64.3125 \r\nQ 13.671875 62.703125 7.8125 59.421875 \r\nL 7.8125 69.390625 \r\nQ 13.765625 71.78125 18.9375 73 \r\nQ 24.125 74.21875 28.421875 74.21875 \r\nQ 39.75 74.21875 46.484375 68.546875 \r\nQ 53.21875 62.890625 53.21875 53.421875 \r\nQ 53.21875 48.921875 51.53125 44.890625 \r\nQ 49.859375 40.875 45.40625 35.40625 \r\nQ 44.1875 33.984375 37.640625 27.21875 \r\nQ 31.109375 20.453125 19.1875 8.296875 \r\nz\r\n\" id=\"DejaVuSans-50\"/>\r\n       </defs>\r\n       <use xlink:href=\"#DejaVuSans-50\"/>\r\n       <use x=\"63.623047\" xlink:href=\"#DejaVuSans-48\"/>\r\n      </g>\r\n     </g>\r\n    </g>\r\n    <g id=\"xtick_6\">\r\n     <g id=\"line2d_6\">\r\n      <g>\r\n       <use style=\"stroke:#000000;stroke-width:0.8;\" x=\"288.4875\" xlink:href=\"#m035b235233\" y=\"224.64\"/>\r\n      </g>\r\n     </g>\r\n     <g id=\"text_6\">\r\n      <!-- 25 -->\r\n      <g transform=\"translate(282.125 239.238437)scale(0.1 -0.1)\">\r\n       <use xlink:href=\"#DejaVuSans-50\"/>\r\n       <use x=\"63.623047\" xlink:href=\"#DejaVuSans-53\"/>\r\n      </g>\r\n     </g>\r\n    </g>\r\n    <g id=\"xtick_7\">\r\n     <g id=\"line2d_7\">\r\n      <g>\r\n       <use style=\"stroke:#000000;stroke-width:0.8;\" x=\"340.8\" xlink:href=\"#m035b235233\" y=\"224.64\"/>\r\n      </g>\r\n     </g>\r\n     <g id=\"text_7\">\r\n      <!-- 30 -->\r\n      <g transform=\"translate(334.4375 239.238437)scale(0.1 -0.1)\">\r\n       <defs>\r\n        <path d=\"M 40.578125 39.3125 \r\nQ 47.65625 37.796875 51.625 33 \r\nQ 55.609375 28.21875 55.609375 21.1875 \r\nQ 55.609375 10.40625 48.1875 4.484375 \r\nQ 40.765625 -1.421875 27.09375 -1.421875 \r\nQ 22.515625 -1.421875 17.65625 -0.515625 \r\nQ 12.796875 0.390625 7.625 2.203125 \r\nL 7.625 11.71875 \r\nQ 11.71875 9.328125 16.59375 8.109375 \r\nQ 21.484375 6.890625 26.8125 6.890625 \r\nQ 36.078125 6.890625 40.9375 10.546875 \r\nQ 45.796875 14.203125 45.796875 21.1875 \r\nQ 45.796875 27.640625 41.28125 31.265625 \r\nQ 36.765625 34.90625 28.71875 34.90625 \r\nL 20.21875 34.90625 \r\nL 20.21875 43.015625 \r\nL 29.109375 43.015625 \r\nQ 36.375 43.015625 40.234375 45.921875 \r\nQ 44.09375 48.828125 44.09375 54.296875 \r\nQ 44.09375 59.90625 40.109375 62.90625 \r\nQ 36.140625 65.921875 28.71875 65.921875 \r\nQ 24.65625 65.921875 20.015625 65.03125 \r\nQ 15.375 64.15625 9.8125 62.3125 \r\nL 9.8125 71.09375 \r\nQ 15.4375 72.65625 20.34375 73.4375 \r\nQ 25.25 74.21875 29.59375 74.21875 \r\nQ 40.828125 74.21875 47.359375 69.109375 \r\nQ 53.90625 64.015625 53.90625 55.328125 \r\nQ 53.90625 49.265625 50.4375 45.09375 \r\nQ 46.96875 40.921875 40.578125 39.3125 \r\nz\r\n\" id=\"DejaVuSans-51\"/>\r\n       </defs>\r\n       <use xlink:href=\"#DejaVuSans-51\"/>\r\n       <use x=\"63.623047\" xlink:href=\"#DejaVuSans-48\"/>\r\n      </g>\r\n     </g>\r\n    </g>\r\n   </g>\r\n   <g id=\"matplotlib.axis_2\">\r\n    <g id=\"ytick_1\">\r\n     <g id=\"line2d_8\">\r\n      <defs>\r\n       <path d=\"M 0 0 \r\nL -3.5 0 \r\n\" id=\"m3c7ded2c96\" style=\"stroke:#000000;stroke-width:0.8;\"/>\r\n      </defs>\r\n      <g>\r\n       <use style=\"stroke:#000000;stroke-width:0.8;\" x=\"26.925\" xlink:href=\"#m3c7ded2c96\" y=\"224.64\"/>\r\n      </g>\r\n     </g>\r\n     <g id=\"text_8\">\r\n      <!-- 0 -->\r\n      <g transform=\"translate(13.5625 228.439219)scale(0.1 -0.1)\">\r\n       <use xlink:href=\"#DejaVuSans-48\"/>\r\n      </g>\r\n     </g>\r\n    </g>\r\n    <g id=\"ytick_2\">\r\n     <g id=\"line2d_9\">\r\n      <g>\r\n       <use style=\"stroke:#000000;stroke-width:0.8;\" x=\"26.925\" xlink:href=\"#m3c7ded2c96\" y=\"190.665\"/>\r\n      </g>\r\n     </g>\r\n     <g id=\"text_9\">\r\n      <!-- 5 -->\r\n      <g transform=\"translate(13.5625 194.464219)scale(0.1 -0.1)\">\r\n       <use xlink:href=\"#DejaVuSans-53\"/>\r\n      </g>\r\n     </g>\r\n    </g>\r\n    <g id=\"ytick_3\">\r\n     <g id=\"line2d_10\">\r\n      <g>\r\n       <use style=\"stroke:#000000;stroke-width:0.8;\" x=\"26.925\" xlink:href=\"#m3c7ded2c96\" y=\"156.69\"/>\r\n      </g>\r\n     </g>\r\n     <g id=\"text_10\">\r\n      <!-- 10 -->\r\n      <g transform=\"translate(7.2 160.489219)scale(0.1 -0.1)\">\r\n       <use xlink:href=\"#DejaVuSans-49\"/>\r\n       <use x=\"63.623047\" xlink:href=\"#DejaVuSans-48\"/>\r\n      </g>\r\n     </g>\r\n    </g>\r\n    <g id=\"ytick_4\">\r\n     <g id=\"line2d_11\">\r\n      <g>\r\n       <use style=\"stroke:#000000;stroke-width:0.8;\" x=\"26.925\" xlink:href=\"#m3c7ded2c96\" y=\"122.715\"/>\r\n      </g>\r\n     </g>\r\n     <g id=\"text_11\">\r\n      <!-- 15 -->\r\n      <g transform=\"translate(7.2 126.514219)scale(0.1 -0.1)\">\r\n       <use xlink:href=\"#DejaVuSans-49\"/>\r\n       <use x=\"63.623047\" xlink:href=\"#DejaVuSans-53\"/>\r\n      </g>\r\n     </g>\r\n    </g>\r\n    <g id=\"ytick_5\">\r\n     <g id=\"line2d_12\">\r\n      <g>\r\n       <use style=\"stroke:#000000;stroke-width:0.8;\" x=\"26.925\" xlink:href=\"#m3c7ded2c96\" y=\"88.74\"/>\r\n      </g>\r\n     </g>\r\n     <g id=\"text_12\">\r\n      <!-- 20 -->\r\n      <g transform=\"translate(7.2 92.539219)scale(0.1 -0.1)\">\r\n       <use xlink:href=\"#DejaVuSans-50\"/>\r\n       <use x=\"63.623047\" xlink:href=\"#DejaVuSans-48\"/>\r\n      </g>\r\n     </g>\r\n    </g>\r\n    <g id=\"ytick_6\">\r\n     <g id=\"line2d_13\">\r\n      <g>\r\n       <use style=\"stroke:#000000;stroke-width:0.8;\" x=\"26.925\" xlink:href=\"#m3c7ded2c96\" y=\"54.765\"/>\r\n      </g>\r\n     </g>\r\n     <g id=\"text_13\">\r\n      <!-- 25 -->\r\n      <g transform=\"translate(7.2 58.564219)scale(0.1 -0.1)\">\r\n       <use xlink:href=\"#DejaVuSans-50\"/>\r\n       <use x=\"63.623047\" xlink:href=\"#DejaVuSans-53\"/>\r\n      </g>\r\n     </g>\r\n    </g>\r\n    <g id=\"ytick_7\">\r\n     <g id=\"line2d_14\">\r\n      <g>\r\n       <use style=\"stroke:#000000;stroke-width:0.8;\" x=\"26.925\" xlink:href=\"#m3c7ded2c96\" y=\"20.79\"/>\r\n      </g>\r\n     </g>\r\n     <g id=\"text_14\">\r\n      <!-- 30 -->\r\n      <g transform=\"translate(7.2 24.589219)scale(0.1 -0.1)\">\r\n       <use xlink:href=\"#DejaVuSans-51\"/>\r\n       <use x=\"63.623047\" xlink:href=\"#DejaVuSans-48\"/>\r\n      </g>\r\n     </g>\r\n    </g>\r\n   </g>\r\n   <g id=\"patch_30\">\r\n    <path d=\"M 26.925 224.64 \r\nL 26.925 7.2 \r\n\" style=\"fill:none;stroke:#000000;stroke-linecap:square;stroke-linejoin:miter;stroke-width:0.8;\"/>\r\n   </g>\r\n   <g id=\"patch_31\">\r\n    <path d=\"M 361.725 224.64 \r\nL 361.725 7.2 \r\n\" style=\"fill:none;stroke:#000000;stroke-linecap:square;stroke-linejoin:miter;stroke-width:0.8;\"/>\r\n   </g>\r\n   <g id=\"patch_32\">\r\n    <path d=\"M 26.925 224.64 \r\nL 361.725 224.64 \r\n\" style=\"fill:none;stroke:#000000;stroke-linecap:square;stroke-linejoin:miter;stroke-width:0.8;\"/>\r\n   </g>\r\n   <g id=\"patch_33\">\r\n    <path d=\"M 26.925 7.2 \r\nL 361.725 7.2 \r\n\" style=\"fill:none;stroke:#000000;stroke-linecap:square;stroke-linejoin:miter;stroke-width:0.8;\"/>\r\n   </g>\r\n  </g>\r\n </g>\r\n <defs>\r\n  <clipPath id=\"p5d36e1a5c3\">\r\n   <rect height=\"217.44\" width=\"334.8\" x=\"26.925\" y=\"7.2\"/>\r\n  </clipPath>\r\n </defs>\r\n</svg>\r\n",
      "image/png": "[encoded data removed]"
     },
     "metadata": {
      "needs_background": "light"
     }
    },
    {
     "output_type": "stream",
     "name": "stdout",
     "text": "Solution: [[0, 0], [17, 0], [14, 0], [11, 0], [20, 0], [29, 0], [3, 0], [26, 0], [29, 18], [26, 15], [23, 17], [23, 6], [3, 18], [20, 22], [7, 22], [11, 23], [14, 24], [17, 25], [7, 9], [23, 0], [7, 16], [0, 27], [7, 4], [26, 28], [7, 0], [23, 29], [3, 29]]\n"
    }
   ],
   "source": [
    "show_solutions(w_paper, h_paper, n, presents, solutions)"
   ]
  },
  {
   "cell_type": "markdown",
   "metadata": {},
   "source": [
    "## SMT model"
   ]
  },
  {
   "cell_type": "code",
   "execution_count": 119,
   "metadata": {
    "tags": []
   },
   "outputs": [
    {
     "output_type": "stream",
     "name": "stdout",
     "text": "[[c_0_0, c_0_1],\n [c_1_0, c_1_1],\n [c_2_0, c_2_1],\n [c_3_0, c_3_1],\n [c_4_0, c_4_1],\n [c_5_0, c_5_1],\n [c_6_0, c_6_1],\n [c_7_0, c_7_1],\n [c_8_0, c_8_1],\n [c_9_0, c_9_1],\n [c_10_0, c_10_1],\n [c_11_0, c_11_1],\n [c_12_0, c_12_1],\n [c_13_0, c_13_1],\n [c_14_0, c_14_1],\n [c_15_0, c_15_1],\n [c_16_0, c_16_1],\n [c_17_0, c_17_1],\n [c_18_0, c_18_1],\n [c_19_0, c_19_1],\n [c_20_0, c_20_1],\n [c_21_0, c_21_1]]\n"
    }
   ],
   "source": [
    "def z3max(x,y):\n",
    "    return If(x > y, x, y)\n",
    "\n",
    "def z3min(x,y):\n",
    "    return If(x < y, x, y)\n",
    "\n",
    "bl_corners= [ [ Int(\"c_%s_%s\" % (i, j)) for j in range(2) ] for i in range(n) ]\n",
    "domain = [And(0<=bl_corners[i][0],bl_corners[i][0]<w_paper,0<=bl_corners[i][1],bl_corners[i][1]< h_paper) for i in range(n)]\n",
    "overflow = [And(bl_corners[i][0]+presents[i][0]<=w_paper,bl_corners[i][1]+presents[i][1]<=h_paper) for i in range(n)]\n",
    "pp(bl_corners)\n",
    "intersection = [ And(\n",
    "    Or(\n",
    "        z3max(bl_corners[i][0],bl_corners[j][0])>=z3min(bl_corners[i][0]+presents[i][0],bl_corners[j][0]+presents[j][0]),\n",
    "        z3max(bl_corners[i][1],bl_corners[j][1])>=z3min(bl_corners[i][1]+presents[i][1],bl_corners[j][1]+presents[j][1])\n",
    "     )) for i in range(n) for j in range(i+1,n) ]"
   ]
  },
  {
   "cell_type": "code",
   "execution_count": 121,
   "metadata": {
    "tags": []
   },
   "outputs": [
    {
     "output_type": "stream",
     "name": "stdout",
     "text": "CPU times: user 15min 5s, sys: 1.69 s, total: 15min 7s\nWall time: 15min 8s\n"
    },
    {
     "output_type": "execute_result",
     "data": {
      "text/plain": "[[18, 12],\n [8, 31],\n [18, 15],\n [15, 29],\n [18, 28],\n [18, 20],\n [8, 22],\n [11, 0],\n [18, 0],\n [15, 10],\n [8, 0],\n [0, 0],\n [14, 0],\n [4, 0],\n [14, 4],\n [4, 5],\n [11, 10],\n [0, 23],\n [11, 18],\n [0, 3],\n [4, 12],\n [21, 0]]"
     },
     "metadata": {},
     "execution_count": 121
    }
   ],
   "source": [
    "%%time\n",
    "s = Solver()\n",
    "s.add(domain + overflow + intersection)\n",
    "s.check()\n",
    "sol = s.model()\n",
    "solution=[[sol[bl_corners[i][0]], sol[bl_corners[i][1]]] for i in range(n)]\n",
    "solution"
   ]
  }
 ]
}