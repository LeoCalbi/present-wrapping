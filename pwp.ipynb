{
 "cells": [
  {
   "cell_type": "markdown",
   "metadata": {},
   "source": [
    "# Present Wrapping Problem"
   ]
  },
  {
   "cell_type": "markdown",
   "metadata": {},
   "source": [
    "The PWP can be seen as a specialization of the more general rectangle packing problem, in which we have a set of rectangles (our presents) of given dimensions that have to fit into a pre-determined square (the wrapping paper) of a given size. The great thing about PWP is that we kwow the items will perfectly fit into the given container, without any kind of wasted space.\n",
    "\n",
    "We decided to use a list of bottom left corners (with the same index set as the list of presents shapes) as the solution representation. So, the main constraint we have dealt with are the following ones:\n",
    "* Rectangles cannot overlap\n",
    "* Rectangles should be completely contained inside the wrapping paper\n",
    "* No wasted paper\n",
    "* Rectangles cannot be rotated (unless specified)"
   ]
  },
  {
   "cell_type": "code",
   "execution_count": 290,
   "metadata": {
    "tags": []
   },
   "outputs": [
    {
     "output_type": "stream",
     "name": "stdout",
     "text": "The autoreload extension is already loaded. To reload it, use:\n  %reload_ext autoreload\nThe iminizinc extension is already loaded. To reload it, use:\n  %reload_ext iminizinc\n"
    }
   ],
   "source": [
    "%load_ext autoreload\n",
    "%load_ext iminizinc\n",
    "%matplotlib inline\n",
    "%autoreload 2\n",
    "\n",
    "import string\n",
    "import random\n",
    "from time import time\n",
    "\n",
    "import matplotlib.pyplot as plt\n",
    "import matplotlib.patches as patches\n",
    "import numpy as np\n",
    "from z3 import *"
   ]
  },
  {
   "cell_type": "markdown",
   "metadata": {},
   "source": [
    "## Functions"
   ]
  },
  {
   "cell_type": "markdown",
   "metadata": {},
   "source": [
    "This section contains different utility functions, needed to deal with instances input/output, results handling (solutions graphical representation and running time plots), ..."
   ]
  },
  {
   "cell_type": "code",
   "execution_count": 291,
   "metadata": {},
   "outputs": [],
   "source": [
    "def rand_str(size=10, chars=string.ascii_uppercase + string.digits):\n",
    "    '''\n",
    "    Returns a string of the given length with randomly chosen characters\n",
    "    '''\n",
    "    return ''.join(random.choice(chars) for _ in range(size))"
   ]
  },
  {
   "cell_type": "code",
   "execution_count": 292,
   "metadata": {
    "tags": []
   },
   "outputs": [],
   "source": [
    "def read_input(path):\n",
    "    '''\n",
    "    Read the given input instance, which should have the following format:\n",
    "\n",
    "    W H\n",
    "    N\n",
    "    P1X P1Y\n",
    "    ...\n",
    "    PNX PNY\n",
    "\n",
    "    Here, PIJ means present I, coordinate J, while W and H are the paper's dimensions\n",
    "    '''\n",
    "    file = open(path, \"r\").readlines()\n",
    "    w_paper , h_paper = tuple(map(int, file[0].rstrip(\"\\n\").split(\" \")))\n",
    "    n = int(file[1].rstrip(\"\\n\"))\n",
    "    presents = []\n",
    "    for i in range(2, n + 2):\n",
    "        presents.append(list(map(int, file[i].rstrip(\"\\n\").split(\" \"))))\n",
    "    return w_paper, h_paper, n, presents"
   ]
  },
  {
   "cell_type": "code",
   "execution_count": 293,
   "metadata": {},
   "outputs": [],
   "source": [
    "def show_solutions(w_paper, h_paper, n, presents, solutions):\n",
    "    '''\n",
    "    Show each and every solution as 2D plots\n",
    "    '''\n",
    "    assert(isinstance(solutions, list))\n",
    "\n",
    "    colors = np.random.rand(n, 3)\n",
    "    for solution in solutions:\n",
    "        show_solution(w_paper, h_paper, n, presents, solution, colors)\n",
    "\n",
    "def show_solution(w_paper, h_paper, n, presents, solution, colors=None):\n",
    "    '''\n",
    "    Show the given solution as a 2D plot. \n",
    "    The solution should be a list of bottom left corners, \n",
    "    contained in the given w_paper and h_paper margins\n",
    "    '''\n",
    "    assert(isinstance(w_paper, int))\n",
    "    assert(isinstance(h_paper, int))\n",
    "    assert(isinstance(presents, list))\n",
    "    assert(isinstance(n, int) and n == len(presents))\n",
    "    assert(isinstance(solution, list))\n",
    "    assert(len(presents) == len(solution))\n",
    "\n",
    "    if colors is None:\n",
    "        colors = np.random.rand(n, 3)\n",
    "    fig, ax = plt.subplots()\n",
    "    for i in range(n):\n",
    "        ax.add_patch(patches.Rectangle(\n",
    "            solution[i],\n",
    "            presents[i][0],\n",
    "            presents[i][1],\n",
    "            facecolor=colors[i]\n",
    "        ))\n",
    "    ax.set_xlim(0, w_paper)\n",
    "    ax.set_ylim(0, h_paper)\n",
    "    print(f\"Solution: {solution}\")\n",
    "    plt.show()"
   ]
  },
  {
   "cell_type": "code",
   "execution_count": 325,
   "metadata": {},
   "outputs": [],
   "source": [
    "def show_running_times(instances, times):\n",
    "    '''\n",
    "    Show instance size versus running time plot\n",
    "    '''\n",
    "    plt.xlabel(\"Instance\")\n",
    "    plt.ylabel(\"Total running time\")\n",
    "    plt.plot(instances, times, marker='o', linestyle='dashed', linewidth=2, markersize=12)\n",
    "    plt.show()"
   ]
  },
  {
   "cell_type": "code",
   "execution_count": 295,
   "metadata": {},
   "outputs": [],
   "source": [
    "def order_presents(presents, method='height', reverse=False):\n",
    "    '''\n",
    "    Order presents, increasing or decreasing, \n",
    "    by the given method (area, height, width)\n",
    "    '''\n",
    "    to_sort = (\n",
    "        [e[0] * e[1] for e in presents] if method == 'area'\n",
    "        else [e[1] for e in presents] if method == 'height'\n",
    "        else [e[0] for e in presents] if method == 'width'\n",
    "        else None\n",
    "    )\n",
    "    sorted_indices = sorted(range(len(to_sort)), key=lambda k: to_sort[k], reverse=reverse)\n",
    "    presents = [presents[i] for i in sorted_indices]\n",
    "    return presents, sorted_indices"
   ]
  },
  {
   "cell_type": "code",
   "execution_count": 296,
   "metadata": {},
   "outputs": [],
   "source": [
    "def output(w_paper, h_paper, n, presents, solution, model):\n",
    "    '''\n",
    "    Write the given solution to an output file, in a specific output folder,\n",
    "    with the following format:\n",
    "    \n",
    "    W H\n",
    "    N\n",
    "    P1X P1Y  C1X C1Y\n",
    "    ...\n",
    "    PNX PNY  CNX CNY\n",
    "\n",
    "    Here, PIJ means present I, coordinate J; \n",
    "    CIJ means coordinate J of the bottom left corner of present I; \n",
    "    while W and H are the paper's dimensions\n",
    "    '''\n",
    "    out_file = open(f\"out/{model}/{w_paper}x{h_paper}-out.txt\", \"w+\")\n",
    "    print(f\"{w_paper} {h_paper}\", file=out_file)\n",
    "    print(f\"{n}\", file=out_file)\n",
    "    for present, position in zip(presents, solution):\n",
    "        present_x, present_y = present\n",
    "        position_x, position_y = position\n",
    "        print(f\"{present_x} {present_y}{2 * ' '}{position_x} {position_y}\", file=out_file)\n",
    "    out_file.close()"
   ]
  },
  {
   "cell_type": "markdown",
   "metadata": {},
   "source": [
    "## CP"
   ]
  },
  {
   "cell_type": "markdown",
   "metadata": {},
   "source": [
    "In this section, we reported various CP models, in which we tried different approaches, evolving from one another on the basis of references and own ideas. Some of them tend to be faster in a specific subset of instances, w.r.t. the others. In the final model, we tried to put together the different key-points of each model.\n",
    "\n",
    "CP models are implemented with the MiniZinc language and models execution is managed by the official MiniZinc Jupyter extension, called iMiniZinc."
   ]
  },
  {
   "cell_type": "markdown",
   "metadata": {},
   "source": [
    "### Input"
   ]
  },
  {
   "cell_type": "markdown",
   "metadata": {},
   "source": [
    "The following subsection is dedicated to input handling. In particular, if we want to test a single instance, we can set the `instance` variable and execute the code below to visualize one associated solution. If instead we want to test every single instance, we can just set the `instance` variable to the special value `None` and still execute the code below to both visualize every computed solution and analyze running times for every instance."
   ]
  },
  {
   "cell_type": "code",
   "execution_count": 326,
   "metadata": {},
   "outputs": [],
   "source": [
    "instance = None\n",
    "min_instance, max_instance = 28, 40"
   ]
  },
  {
   "cell_type": "code",
   "execution_count": 327,
   "metadata": {
    "tags": []
   },
   "outputs": [
    {
     "output_type": "stream",
     "name": "stdout",
     "text": "Paper dimensions: 28x28\nPresents dimensions: [[4, 23], [3, 23], [5, 13], [3, 21], [4, 13], [3, 17], [3, 16], [5, 9], [3, 11], [4, 8], [3, 10], [5, 6], [3, 9], [3, 8], [3, 7], [4, 5], [3, 6], [4, 4], [3, 5], [3, 4], [4, 3], [3, 3]]\n%%%mzn-stat: nSolutions=1\nSolver output:\nGenerated FlatZinc statistics:\nmzn-stat: paths=0\nmzn-stat: flatBoolVars=946\nmzn-stat: flatIntVars=242\nmzn-stat: flatBoolConstraints=231\nmzn-stat: flatIntConstraints=1195\nmzn-stat: evaluatedReifiedConstraints=22\nmzn-stat: evaluatedHalfReifiedConstraints=924\nmzn-stat: method=\"satisfy\"\nmzn-stat: flatTime=0.16296\nmzn-stat-end\nmzn-stat: initTime=0.012128\nmzn-stat: solveTime=24.1489\nmzn-stat: solutions=1\nmzn-stat: variables=1232\nmzn-stat: propagators=1338\nmzn-stat: propagations=66896098\nmzn-stat: nodes=1152769\nmzn-stat: failures=576372\nmzn-stat: restarts=0\nmzn-stat: peakDepth=47\nmzn-stat-end\nSolution: [[0, 0], [4, 0], [7, 0], [12, 0], [15, 0], [19, 0], [22, 0], [7, 13], [19, 17], [15, 13], [25, 0], [7, 22], [25, 10], [22, 16], [12, 21], [0, 23], [25, 19], [15, 21], [4, 23], [22, 24], [15, 25], [25, 25]]\n"
    },
    {
     "output_type": "display_data",
     "data": {
      "text/plain": "<Figure size 432x288 with 1 Axes>",
      "image/svg+xml": "<?xml version=\"1.0\" encoding=\"utf-8\" standalone=\"no\"?>\n<!DOCTYPE svg PUBLIC \"-//W3C//DTD SVG 1.1//EN\"\n  \"http://www.w3.org/Graphics/SVG/1.1/DTD/svg11.dtd\">\n<!-- Created with matplotlib (https://matplotlib.org/) -->\n<svg height=\"248.518125pt\" version=\"1.1\" viewBox=\"0 0 368.925 248.518125\" width=\"368.925pt\" xmlns=\"http://www.w3.org/2000/svg\" xmlns:xlink=\"http://www.w3.org/1999/xlink\">\n <metadata>\n  <rdf:RDF xmlns:cc=\"http://creativecommons.org/ns#\" xmlns:dc=\"http://purl.org/dc/elements/1.1/\" xmlns:rdf=\"http://www.w3.org/1999/02/22-rdf-syntax-ns#\">\n   <cc:Work>\n    <dc:type rdf:resource=\"http://purl.org/dc/dcmitype/StillImage\"/>\n    <dc:date>2020-08-17T11:14:07.598657</dc:date>\n    <dc:format>image/svg+xml</dc:format>\n    <dc:creator>\n     <cc:Agent>\n      <dc:title>Matplotlib v3.3.0, https://matplotlib.org/</dc:title>\n     </cc:Agent>\n    </dc:creator>\n   </cc:Work>\n  </rdf:RDF>\n </metadata>\n <defs>\n  <style type=\"text/css\">*{stroke-linecap:butt;stroke-linejoin:round;}</style>\n </defs>\n <g id=\"figure_1\">\n  <g id=\"patch_1\">\n   <path d=\"M -0 248.518125 \nL 368.925 248.518125 \nL 368.925 0 \nL -0 0 \nz\n\" style=\"fill:none;\"/>\n  </g>\n  <g id=\"axes_1\">\n   <g id=\"patch_2\">\n    <path d=\"M 26.925 224.64 \nL 361.725 224.64 \nL 361.725 7.2 \nL 26.925 7.2 \nz\n\" style=\"fill:#ffffff;\"/>\n   </g>\n   <g id=\"patch_3\">\n    <path clip-path=\"url(#p4a8064dc75)\" d=\"M 26.925 224.64 \nL 74.753571 224.64 \nL 74.753571 46.028571 \nL 26.925 46.028571 \nz\n\" style=\"fill:#f1bb9e;\"/>\n   </g>\n   <g id=\"patch_4\">\n    <path clip-path=\"url(#p4a8064dc75)\" d=\"M 74.753571 224.64 \nL 110.625 224.64 \nL 110.625 46.028571 \nL 74.753571 46.028571 \nz\n\" style=\"fill:#89870d;\"/>\n   </g>\n   <g id=\"patch_5\">\n    <path clip-path=\"url(#p4a8064dc75)\" d=\"M 110.625 224.64 \nL 170.410714 224.64 \nL 170.410714 123.685714 \nL 110.625 123.685714 \nz\n\" style=\"fill:#fe2ee2;\"/>\n   </g>\n   <g id=\"patch_6\">\n    <path clip-path=\"url(#p4a8064dc75)\" d=\"M 170.410714 224.64 \nL 206.282143 224.64 \nL 206.282143 61.56 \nL 170.410714 61.56 \nz\n\" style=\"fill:#544098;\"/>\n   </g>\n   <g id=\"patch_7\">\n    <path clip-path=\"url(#p4a8064dc75)\" d=\"M 206.282143 224.64 \nL 254.110714 224.64 \nL 254.110714 123.685714 \nL 206.282143 123.685714 \nz\n\" style=\"fill:#aff23e;\"/>\n   </g>\n   <g id=\"patch_8\">\n    <path clip-path=\"url(#p4a8064dc75)\" d=\"M 254.110714 224.64 \nL 289.982143 224.64 \nL 289.982143 92.622857 \nL 254.110714 92.622857 \nz\n\" style=\"fill:#15e618;\"/>\n   </g>\n   <g id=\"patch_9\">\n    <path clip-path=\"url(#p4a8064dc75)\" d=\"M 289.982143 224.64 \nL 325.853571 224.64 \nL 325.853571 100.388571 \nL 289.982143 100.388571 \nz\n\" style=\"fill:#4d106a;\"/>\n   </g>\n   <g id=\"patch_10\">\n    <path clip-path=\"url(#p4a8064dc75)\" d=\"M 110.625 123.685714 \nL 170.410714 123.685714 \nL 170.410714 53.794286 \nL 110.625 53.794286 \nz\n\" style=\"fill:#bbfcaa;\"/>\n   </g>\n   <g id=\"patch_11\">\n    <path clip-path=\"url(#p4a8064dc75)\" d=\"M 254.110714 92.622857 \nL 289.982143 92.622857 \nL 289.982143 7.2 \nL 254.110714 7.2 \nz\n\" style=\"fill:#ed0623;\"/>\n   </g>\n   <g id=\"patch_12\">\n    <path clip-path=\"url(#p4a8064dc75)\" d=\"M 206.282143 123.685714 \nL 254.110714 123.685714 \nL 254.110714 61.56 \nL 206.282143 61.56 \nz\n\" style=\"fill:#fc9b83;\"/>\n   </g>\n   <g id=\"patch_13\">\n    <path clip-path=\"url(#p4a8064dc75)\" d=\"M 325.853571 224.64 \nL 361.725 224.64 \nL 361.725 146.982857 \nL 325.853571 146.982857 \nz\n\" style=\"fill:#f99a24;\"/>\n   </g>\n   <g id=\"patch_14\">\n    <path clip-path=\"url(#p4a8064dc75)\" d=\"M 110.625 53.794286 \nL 170.410714 53.794286 \nL 170.410714 7.2 \nL 110.625 7.2 \nz\n\" style=\"fill:#45c5db;\"/>\n   </g>\n   <g id=\"patch_15\">\n    <path clip-path=\"url(#p4a8064dc75)\" d=\"M 325.853571 146.982857 \nL 361.725 146.982857 \nL 361.725 77.091429 \nL 325.853571 77.091429 \nz\n\" style=\"fill:#cb725e;\"/>\n   </g>\n   <g id=\"patch_16\">\n    <path clip-path=\"url(#p4a8064dc75)\" d=\"M 289.982143 100.388571 \nL 325.853571 100.388571 \nL 325.853571 38.262857 \nL 289.982143 38.262857 \nz\n\" style=\"fill:#5bfd17;\"/>\n   </g>\n   <g id=\"patch_17\">\n    <path clip-path=\"url(#p4a8064dc75)\" d=\"M 170.410714 61.56 \nL 206.282143 61.56 \nL 206.282143 7.2 \nL 170.410714 7.2 \nz\n\" style=\"fill:#326b5c;\"/>\n   </g>\n   <g id=\"patch_18\">\n    <path clip-path=\"url(#p4a8064dc75)\" d=\"M 26.925 46.028571 \nL 74.753571 46.028571 \nL 74.753571 7.2 \nL 26.925 7.2 \nz\n\" style=\"fill:#057a99;\"/>\n   </g>\n   <g id=\"patch_19\">\n    <path clip-path=\"url(#p4a8064dc75)\" d=\"M 325.853571 77.091429 \nL 361.725 77.091429 \nL 361.725 30.497143 \nL 325.853571 30.497143 \nz\n\" style=\"fill:#d750ce;\"/>\n   </g>\n   <g id=\"patch_20\">\n    <path clip-path=\"url(#p4a8064dc75)\" d=\"M 206.282143 61.56 \nL 254.110714 61.56 \nL 254.110714 30.497143 \nL 206.282143 30.497143 \nz\n\" style=\"fill:#cfec56;\"/>\n   </g>\n   <g id=\"patch_21\">\n    <path clip-path=\"url(#p4a8064dc75)\" d=\"M 74.753571 46.028571 \nL 110.625 46.028571 \nL 110.625 7.2 \nL 74.753571 7.2 \nz\n\" style=\"fill:#290289;\"/>\n   </g>\n   <g id=\"patch_22\">\n    <path clip-path=\"url(#p4a8064dc75)\" d=\"M 289.982143 38.262857 \nL 325.853571 38.262857 \nL 325.853571 7.2 \nL 289.982143 7.2 \nz\n\" style=\"fill:#4c1631;\"/>\n   </g>\n   <g id=\"patch_23\">\n    <path clip-path=\"url(#p4a8064dc75)\" d=\"M 206.282143 30.497143 \nL 254.110714 30.497143 \nL 254.110714 7.2 \nL 206.282143 7.2 \nz\n\" style=\"fill:#469e45;\"/>\n   </g>\n   <g id=\"patch_24\">\n    <path clip-path=\"url(#p4a8064dc75)\" d=\"M 325.853571 30.497143 \nL 361.725 30.497143 \nL 361.725 7.2 \nL 325.853571 7.2 \nz\n\" style=\"fill:#78ecef;\"/>\n   </g>\n   <g id=\"matplotlib.axis_1\">\n    <g id=\"xtick_1\">\n     <g id=\"line2d_1\">\n      <defs>\n       <path d=\"M 0 0 \nL 0 3.5 \n\" id=\"mf07a8e7cc9\" style=\"stroke:#000000;stroke-width:0.8;\"/>\n      </defs>\n      <g>\n       <use style=\"stroke:#000000;stroke-width:0.8;\" x=\"26.925\" xlink:href=\"#mf07a8e7cc9\" y=\"224.64\"/>\n      </g>\n     </g>\n     <g id=\"text_1\">\n      <!-- 0 -->\n      <g transform=\"translate(23.74375 239.238437)scale(0.1 -0.1)\">\n       <defs>\n        <path d=\"M 31.78125 66.40625 \nQ 24.171875 66.40625 20.328125 58.90625 \nQ 16.5 51.421875 16.5 36.375 \nQ 16.5 21.390625 20.328125 13.890625 \nQ 24.171875 6.390625 31.78125 6.390625 \nQ 39.453125 6.390625 43.28125 13.890625 \nQ 47.125 21.390625 47.125 36.375 \nQ 47.125 51.421875 43.28125 58.90625 \nQ 39.453125 66.40625 31.78125 66.40625 \nz\nM 31.78125 74.21875 \nQ 44.046875 74.21875 50.515625 64.515625 \nQ 56.984375 54.828125 56.984375 36.375 \nQ 56.984375 17.96875 50.515625 8.265625 \nQ 44.046875 -1.421875 31.78125 -1.421875 \nQ 19.53125 -1.421875 13.0625 8.265625 \nQ 6.59375 17.96875 6.59375 36.375 \nQ 6.59375 54.828125 13.0625 64.515625 \nQ 19.53125 74.21875 31.78125 74.21875 \nz\n\" id=\"DejaVuSans-48\"/>\n       </defs>\n       <use xlink:href=\"#DejaVuSans-48\"/>\n      </g>\n     </g>\n    </g>\n    <g id=\"xtick_2\">\n     <g id=\"line2d_2\">\n      <g>\n       <use style=\"stroke:#000000;stroke-width:0.8;\" x=\"86.710714\" xlink:href=\"#mf07a8e7cc9\" y=\"224.64\"/>\n      </g>\n     </g>\n     <g id=\"text_2\">\n      <!-- 5 -->\n      <g transform=\"translate(83.529464 239.238437)scale(0.1 -0.1)\">\n       <defs>\n        <path d=\"M 10.796875 72.90625 \nL 49.515625 72.90625 \nL 49.515625 64.59375 \nL 19.828125 64.59375 \nL 19.828125 46.734375 \nQ 21.96875 47.46875 24.109375 47.828125 \nQ 26.265625 48.1875 28.421875 48.1875 \nQ 40.625 48.1875 47.75 41.5 \nQ 54.890625 34.8125 54.890625 23.390625 \nQ 54.890625 11.625 47.5625 5.09375 \nQ 40.234375 -1.421875 26.90625 -1.421875 \nQ 22.3125 -1.421875 17.546875 -0.640625 \nQ 12.796875 0.140625 7.71875 1.703125 \nL 7.71875 11.625 \nQ 12.109375 9.234375 16.796875 8.0625 \nQ 21.484375 6.890625 26.703125 6.890625 \nQ 35.15625 6.890625 40.078125 11.328125 \nQ 45.015625 15.765625 45.015625 23.390625 \nQ 45.015625 31 40.078125 35.4375 \nQ 35.15625 39.890625 26.703125 39.890625 \nQ 22.75 39.890625 18.8125 39.015625 \nQ 14.890625 38.140625 10.796875 36.28125 \nz\n\" id=\"DejaVuSans-53\"/>\n       </defs>\n       <use xlink:href=\"#DejaVuSans-53\"/>\n      </g>\n     </g>\n    </g>\n    <g id=\"xtick_3\">\n     <g id=\"line2d_3\">\n      <g>\n       <use style=\"stroke:#000000;stroke-width:0.8;\" x=\"146.496429\" xlink:href=\"#mf07a8e7cc9\" y=\"224.64\"/>\n      </g>\n     </g>\n     <g id=\"text_3\">\n      <!-- 10 -->\n      <g transform=\"translate(140.133929 239.238437)scale(0.1 -0.1)\">\n       <defs>\n        <path d=\"M 12.40625 8.296875 \nL 28.515625 8.296875 \nL 28.515625 63.921875 \nL 10.984375 60.40625 \nL 10.984375 69.390625 \nL 28.421875 72.90625 \nL 38.28125 72.90625 \nL 38.28125 8.296875 \nL 54.390625 8.296875 \nL 54.390625 0 \nL 12.40625 0 \nz\n\" id=\"DejaVuSans-49\"/>\n       </defs>\n       <use xlink:href=\"#DejaVuSans-49\"/>\n       <use x=\"63.623047\" xlink:href=\"#DejaVuSans-48\"/>\n      </g>\n     </g>\n    </g>\n    <g id=\"xtick_4\">\n     <g id=\"line2d_4\">\n      <g>\n       <use style=\"stroke:#000000;stroke-width:0.8;\" x=\"206.282143\" xlink:href=\"#mf07a8e7cc9\" y=\"224.64\"/>\n      </g>\n     </g>\n     <g id=\"text_4\">\n      <!-- 15 -->\n      <g transform=\"translate(199.919643 239.238437)scale(0.1 -0.1)\">\n       <use xlink:href=\"#DejaVuSans-49\"/>\n       <use x=\"63.623047\" xlink:href=\"#DejaVuSans-53\"/>\n      </g>\n     </g>\n    </g>\n    <g id=\"xtick_5\">\n     <g id=\"line2d_5\">\n      <g>\n       <use style=\"stroke:#000000;stroke-width:0.8;\" x=\"266.067857\" xlink:href=\"#mf07a8e7cc9\" y=\"224.64\"/>\n      </g>\n     </g>\n     <g id=\"text_5\">\n      <!-- 20 -->\n      <g transform=\"translate(259.705357 239.238437)scale(0.1 -0.1)\">\n       <defs>\n        <path d=\"M 19.1875 8.296875 \nL 53.609375 8.296875 \nL 53.609375 0 \nL 7.328125 0 \nL 7.328125 8.296875 \nQ 12.9375 14.109375 22.625 23.890625 \nQ 32.328125 33.6875 34.8125 36.53125 \nQ 39.546875 41.84375 41.421875 45.53125 \nQ 43.3125 49.21875 43.3125 52.78125 \nQ 43.3125 58.59375 39.234375 62.25 \nQ 35.15625 65.921875 28.609375 65.921875 \nQ 23.96875 65.921875 18.8125 64.3125 \nQ 13.671875 62.703125 7.8125 59.421875 \nL 7.8125 69.390625 \nQ 13.765625 71.78125 18.9375 73 \nQ 24.125 74.21875 28.421875 74.21875 \nQ 39.75 74.21875 46.484375 68.546875 \nQ 53.21875 62.890625 53.21875 53.421875 \nQ 53.21875 48.921875 51.53125 44.890625 \nQ 49.859375 40.875 45.40625 35.40625 \nQ 44.1875 33.984375 37.640625 27.21875 \nQ 31.109375 20.453125 19.1875 8.296875 \nz\n\" id=\"DejaVuSans-50\"/>\n       </defs>\n       <use xlink:href=\"#DejaVuSans-50\"/>\n       <use x=\"63.623047\" xlink:href=\"#DejaVuSans-48\"/>\n      </g>\n     </g>\n    </g>\n    <g id=\"xtick_6\">\n     <g id=\"line2d_6\">\n      <g>\n       <use style=\"stroke:#000000;stroke-width:0.8;\" x=\"325.853571\" xlink:href=\"#mf07a8e7cc9\" y=\"224.64\"/>\n      </g>\n     </g>\n     <g id=\"text_6\">\n      <!-- 25 -->\n      <g transform=\"translate(319.491071 239.238437)scale(0.1 -0.1)\">\n       <use xlink:href=\"#DejaVuSans-50\"/>\n       <use x=\"63.623047\" xlink:href=\"#DejaVuSans-53\"/>\n      </g>\n     </g>\n    </g>\n   </g>\n   <g id=\"matplotlib.axis_2\">\n    <g id=\"ytick_1\">\n     <g id=\"line2d_7\">\n      <defs>\n       <path d=\"M 0 0 \nL -3.5 0 \n\" id=\"m9dd5ce3913\" style=\"stroke:#000000;stroke-width:0.8;\"/>\n      </defs>\n      <g>\n       <use style=\"stroke:#000000;stroke-width:0.8;\" x=\"26.925\" xlink:href=\"#m9dd5ce3913\" y=\"224.64\"/>\n      </g>\n     </g>\n     <g id=\"text_7\">\n      <!-- 0 -->\n      <g transform=\"translate(13.5625 228.439219)scale(0.1 -0.1)\">\n       <use xlink:href=\"#DejaVuSans-48\"/>\n      </g>\n     </g>\n    </g>\n    <g id=\"ytick_2\">\n     <g id=\"line2d_8\">\n      <g>\n       <use style=\"stroke:#000000;stroke-width:0.8;\" x=\"26.925\" xlink:href=\"#m9dd5ce3913\" y=\"185.811429\"/>\n      </g>\n     </g>\n     <g id=\"text_8\">\n      <!-- 5 -->\n      <g transform=\"translate(13.5625 189.610647)scale(0.1 -0.1)\">\n       <use xlink:href=\"#DejaVuSans-53\"/>\n      </g>\n     </g>\n    </g>\n    <g id=\"ytick_3\">\n     <g id=\"line2d_9\">\n      <g>\n       <use style=\"stroke:#000000;stroke-width:0.8;\" x=\"26.925\" xlink:href=\"#m9dd5ce3913\" y=\"146.982857\"/>\n      </g>\n     </g>\n     <g id=\"text_9\">\n      <!-- 10 -->\n      <g transform=\"translate(7.2 150.782076)scale(0.1 -0.1)\">\n       <use xlink:href=\"#DejaVuSans-49\"/>\n       <use x=\"63.623047\" xlink:href=\"#DejaVuSans-48\"/>\n      </g>\n     </g>\n    </g>\n    <g id=\"ytick_4\">\n     <g id=\"line2d_10\">\n      <g>\n       <use style=\"stroke:#000000;stroke-width:0.8;\" x=\"26.925\" xlink:href=\"#m9dd5ce3913\" y=\"108.154286\"/>\n      </g>\n     </g>\n     <g id=\"text_10\">\n      <!-- 15 -->\n      <g transform=\"translate(7.2 111.953504)scale(0.1 -0.1)\">\n       <use xlink:href=\"#DejaVuSans-49\"/>\n       <use x=\"63.623047\" xlink:href=\"#DejaVuSans-53\"/>\n      </g>\n     </g>\n    </g>\n    <g id=\"ytick_5\">\n     <g id=\"line2d_11\">\n      <g>\n       <use style=\"stroke:#000000;stroke-width:0.8;\" x=\"26.925\" xlink:href=\"#m9dd5ce3913\" y=\"69.325714\"/>\n      </g>\n     </g>\n     <g id=\"text_11\">\n      <!-- 20 -->\n      <g transform=\"translate(7.2 73.124933)scale(0.1 -0.1)\">\n       <use xlink:href=\"#DejaVuSans-50\"/>\n       <use x=\"63.623047\" xlink:href=\"#DejaVuSans-48\"/>\n      </g>\n     </g>\n    </g>\n    <g id=\"ytick_6\">\n     <g id=\"line2d_12\">\n      <g>\n       <use style=\"stroke:#000000;stroke-width:0.8;\" x=\"26.925\" xlink:href=\"#m9dd5ce3913\" y=\"30.497143\"/>\n      </g>\n     </g>\n     <g id=\"text_12\">\n      <!-- 25 -->\n      <g transform=\"translate(7.2 34.296362)scale(0.1 -0.1)\">\n       <use xlink:href=\"#DejaVuSans-50\"/>\n       <use x=\"63.623047\" xlink:href=\"#DejaVuSans-53\"/>\n      </g>\n     </g>\n    </g>\n   </g>\n   <g id=\"patch_25\">\n    <path d=\"M 26.925 224.64 \nL 26.925 7.2 \n\" style=\"fill:none;stroke:#000000;stroke-linecap:square;stroke-linejoin:miter;stroke-width:0.8;\"/>\n   </g>\n   <g id=\"patch_26\">\n    <path d=\"M 361.725 224.64 \nL 361.725 7.2 \n\" style=\"fill:none;stroke:#000000;stroke-linecap:square;stroke-linejoin:miter;stroke-width:0.8;\"/>\n   </g>\n   <g id=\"patch_27\">\n    <path d=\"M 26.925 224.64 \nL 361.725 224.64 \n\" style=\"fill:none;stroke:#000000;stroke-linecap:square;stroke-linejoin:miter;stroke-width:0.8;\"/>\n   </g>\n   <g id=\"patch_28\">\n    <path d=\"M 26.925 7.2 \nL 361.725 7.2 \n\" style=\"fill:none;stroke:#000000;stroke-linecap:square;stroke-linejoin:miter;stroke-width:0.8;\"/>\n   </g>\n  </g>\n </g>\n <defs>\n  <clipPath id=\"p4a8064dc75\">\n   <rect height=\"217.44\" width=\"334.8\" x=\"26.925\" y=\"7.2\"/>\n  </clipPath>\n </defs>\n</svg>\n",
      "image/png": "[encoded data removed]"
     },
     "metadata": {
      "needs_background": "light"
     }
    },
    {
     "output_type": "stream",
     "name": "stdout",
     "text": "Paper dimensions: 29x29\nPresents dimensions: [[5, 17], [4, 20], [4, 18], [3, 20], [4, 15], [3, 18], [3, 15], [5, 8], [4, 9], [3, 11], [3, 10], [4, 7], [3, 9], [3, 8], [4, 6], [3, 7], [4, 5], [5, 4], [3, 6], [4, 4], [3, 5], [3, 4], [4, 3], [3, 3]]\nError in MiniZinc:\n%%%mzn-stat: nSolutions=0\n\nPaper dimensions: 30x30\nPresents dimensions: [[11, 30], [3, 25], [3, 19], [3, 16], [3, 14], [3, 13], [4, 9], [3, 11], [4, 8], [3, 10], [3, 9], [3, 8], [4, 6], [3, 7], [3, 6], [4, 4], [3, 5], [3, 4], [4, 3], [3, 3]]\n%%%mzn-stat: nSolutions=1\nSolver output:\nGenerated FlatZinc statistics:\nmzn-stat: paths=0\nmzn-stat: flatBoolVars=780\nmzn-stat: flatIntVars=217\nmzn-stat: flatBoolConstraints=190\nmzn-stat: flatIntConstraints=1003\nmzn-stat: evaluatedReifiedConstraints=20\nmzn-stat: evaluatedHalfReifiedConstraints=760\nmzn-stat: method=\"satisfy\"\nmzn-stat: flatTime=0.143544\nmzn-stat-end\nmzn-stat: initTime=0.009752\nmzn-stat: solveTime=13.5728\nmzn-stat: solutions=1\nmzn-stat: variables=1042\nmzn-stat: propagators=1122\nmzn-stat: propagations=42908296\nmzn-stat: nodes=719186\nmzn-stat: failures=359583\nmzn-stat: restarts=0\nmzn-stat: peakDepth=47\nmzn-stat-end\nSolution: [[0, 0], [11, 0], [14, 0], [17, 0], [20, 0], [23, 0], [26, 0], [23, 13], [26, 9], [17, 16], [20, 14], [14, 19], [26, 17], [20, 23], [23, 24], [26, 23], [11, 25], [17, 26], [26, 27], [14, 27]]\n"
    },
    {
     "output_type": "display_data",
     "data": {
      "text/plain": "<Figure size 432x288 with 1 Axes>",
      "image/svg+xml": "<?xml version=\"1.0\" encoding=\"utf-8\" standalone=\"no\"?>\n<!DOCTYPE svg PUBLIC \"-//W3C//DTD SVG 1.1//EN\"\n  \"http://www.w3.org/Graphics/SVG/1.1/DTD/svg11.dtd\">\n<!-- Created with matplotlib (https://matplotlib.org/) -->\n<svg height=\"252.317344pt\" version=\"1.1\" viewBox=\"0 0 375.2875 252.317344\" width=\"375.2875pt\" xmlns=\"http://www.w3.org/2000/svg\" xmlns:xlink=\"http://www.w3.org/1999/xlink\">\n <metadata>\n  <rdf:RDF xmlns:cc=\"http://creativecommons.org/ns#\" xmlns:dc=\"http://purl.org/dc/elements/1.1/\" xmlns:rdf=\"http://www.w3.org/1999/02/22-rdf-syntax-ns#\">\n   <cc:Work>\n    <dc:type rdf:resource=\"http://purl.org/dc/dcmitype/StillImage\"/>\n    <dc:date>2020-08-17T11:18:15.360746</dc:date>\n    <dc:format>image/svg+xml</dc:format>\n    <dc:creator>\n     <cc:Agent>\n      <dc:title>Matplotlib v3.3.0, https://matplotlib.org/</dc:title>\n     </cc:Agent>\n    </dc:creator>\n   </cc:Work>\n  </rdf:RDF>\n </metadata>\n <defs>\n  <style type=\"text/css\">*{stroke-linecap:butt;stroke-linejoin:round;}</style>\n </defs>\n <g id=\"figure_1\">\n  <g id=\"patch_1\">\n   <path d=\"M -0 252.317344 \nL 375.2875 252.317344 \nL 375.2875 0 \nL -0 0 \nz\n\" style=\"fill:none;\"/>\n  </g>\n  <g id=\"axes_1\">\n   <g id=\"patch_2\">\n    <path d=\"M 26.925 228.439219 \nL 361.725 228.439219 \nL 361.725 10.999219 \nL 26.925 10.999219 \nz\n\" style=\"fill:#ffffff;\"/>\n   </g>\n   <g id=\"patch_3\">\n    <path clip-path=\"url(#p837b49bf8b)\" d=\"M 26.925 228.439219 \nL 149.685 228.439219 \nL 149.685 10.999219 \nL 26.925 10.999219 \nz\n\" style=\"fill:#e71623;\"/>\n   </g>\n   <g id=\"patch_4\">\n    <path clip-path=\"url(#p837b49bf8b)\" d=\"M 149.685 228.439219 \nL 183.165 228.439219 \nL 183.165 47.239219 \nL 149.685 47.239219 \nz\n\" style=\"fill:#6ec47b;\"/>\n   </g>\n   <g id=\"patch_5\">\n    <path clip-path=\"url(#p837b49bf8b)\" d=\"M 183.165 228.439219 \nL 216.645 228.439219 \nL 216.645 90.727219 \nL 183.165 90.727219 \nz\n\" style=\"fill:#153c1e;\"/>\n   </g>\n   <g id=\"patch_6\">\n    <path clip-path=\"url(#p837b49bf8b)\" d=\"M 216.645 228.439219 \nL 250.125 228.439219 \nL 250.125 112.471219 \nL 216.645 112.471219 \nz\n\" style=\"fill:#3c2b94;\"/>\n   </g>\n   <g id=\"patch_7\">\n    <path clip-path=\"url(#p837b49bf8b)\" d=\"M 250.125 228.439219 \nL 283.605 228.439219 \nL 283.605 126.967219 \nL 250.125 126.967219 \nz\n\" style=\"fill:#694658;\"/>\n   </g>\n   <g id=\"patch_8\">\n    <path clip-path=\"url(#p837b49bf8b)\" d=\"M 283.605 228.439219 \nL 317.085 228.439219 \nL 317.085 134.215219 \nL 283.605 134.215219 \nz\n\" style=\"fill:#240812;\"/>\n   </g>\n   <g id=\"patch_9\">\n    <path clip-path=\"url(#p837b49bf8b)\" d=\"M 317.085 228.439219 \nL 361.725 228.439219 \nL 361.725 163.207219 \nL 317.085 163.207219 \nz\n\" style=\"fill:#a3d0d3;\"/>\n   </g>\n   <g id=\"patch_10\">\n    <path clip-path=\"url(#p837b49bf8b)\" d=\"M 283.605 134.215219 \nL 317.085 134.215219 \nL 317.085 54.487219 \nL 283.605 54.487219 \nz\n\" style=\"fill:#1f0823;\"/>\n   </g>\n   <g id=\"patch_11\">\n    <path clip-path=\"url(#p837b49bf8b)\" d=\"M 317.085 163.207219 \nL 361.725 163.207219 \nL 361.725 105.223219 \nL 317.085 105.223219 \nz\n\" style=\"fill:#08d659;\"/>\n   </g>\n   <g id=\"patch_12\">\n    <path clip-path=\"url(#p837b49bf8b)\" d=\"M 216.645 112.471219 \nL 250.125 112.471219 \nL 250.125 39.991219 \nL 216.645 39.991219 \nz\n\" style=\"fill:#c0dcef;\"/>\n   </g>\n   <g id=\"patch_13\">\n    <path clip-path=\"url(#p837b49bf8b)\" d=\"M 250.125 126.967219 \nL 283.605 126.967219 \nL 283.605 61.735219 \nL 250.125 61.735219 \nz\n\" style=\"fill:#5f0b51;\"/>\n   </g>\n   <g id=\"patch_14\">\n    <path clip-path=\"url(#p837b49bf8b)\" d=\"M 183.165 90.727219 \nL 216.645 90.727219 \nL 216.645 32.743219 \nL 183.165 32.743219 \nz\n\" style=\"fill:#d1a5c3;\"/>\n   </g>\n   <g id=\"patch_15\">\n    <path clip-path=\"url(#p837b49bf8b)\" d=\"M 317.085 105.223219 \nL 361.725 105.223219 \nL 361.725 61.735219 \nL 317.085 61.735219 \nz\n\" style=\"fill:#f86c64;\"/>\n   </g>\n   <g id=\"patch_16\">\n    <path clip-path=\"url(#p837b49bf8b)\" d=\"M 250.125 61.735219 \nL 283.605 61.735219 \nL 283.605 10.999219 \nL 250.125 10.999219 \nz\n\" style=\"fill:#28b1a1;\"/>\n   </g>\n   <g id=\"patch_17\">\n    <path clip-path=\"url(#p837b49bf8b)\" d=\"M 283.605 54.487219 \nL 317.085 54.487219 \nL 317.085 10.999219 \nL 283.605 10.999219 \nz\n\" style=\"fill:#a9f06b;\"/>\n   </g>\n   <g id=\"patch_18\">\n    <path clip-path=\"url(#p837b49bf8b)\" d=\"M 317.085 61.735219 \nL 361.725 61.735219 \nL 361.725 32.743219 \nL 317.085 32.743219 \nz\n\" style=\"fill:#aefa78;\"/>\n   </g>\n   <g id=\"patch_19\">\n    <path clip-path=\"url(#p837b49bf8b)\" d=\"M 149.685 47.239219 \nL 183.165 47.239219 \nL 183.165 10.999219 \nL 149.685 10.999219 \nz\n\" style=\"fill:#6e7f04;\"/>\n   </g>\n   <g id=\"patch_20\">\n    <path clip-path=\"url(#p837b49bf8b)\" d=\"M 216.645 39.991219 \nL 250.125 39.991219 \nL 250.125 10.999219 \nL 216.645 10.999219 \nz\n\" style=\"fill:#d64512;\"/>\n   </g>\n   <g id=\"patch_21\">\n    <path clip-path=\"url(#p837b49bf8b)\" d=\"M 317.085 32.743219 \nL 361.725 32.743219 \nL 361.725 10.999219 \nL 317.085 10.999219 \nz\n\" style=\"fill:#2af3a9;\"/>\n   </g>\n   <g id=\"patch_22\">\n    <path clip-path=\"url(#p837b49bf8b)\" d=\"M 183.165 32.743219 \nL 216.645 32.743219 \nL 216.645 10.999219 \nL 183.165 10.999219 \nz\n\" style=\"fill:#cb0e8a;\"/>\n   </g>\n   <g id=\"matplotlib.axis_1\">\n    <g id=\"xtick_1\">\n     <g id=\"line2d_1\">\n      <defs>\n       <path d=\"M 0 0 \nL 0 3.5 \n\" id=\"md72bf7108a\" style=\"stroke:#000000;stroke-width:0.8;\"/>\n      </defs>\n      <g>\n       <use style=\"stroke:#000000;stroke-width:0.8;\" x=\"26.925\" xlink:href=\"#md72bf7108a\" y=\"228.439219\"/>\n      </g>\n     </g>\n     <g id=\"text_1\">\n      <!-- 0 -->\n      <g transform=\"translate(23.74375 243.037656)scale(0.1 -0.1)\">\n       <defs>\n        <path d=\"M 31.78125 66.40625 \nQ 24.171875 66.40625 20.328125 58.90625 \nQ 16.5 51.421875 16.5 36.375 \nQ 16.5 21.390625 20.328125 13.890625 \nQ 24.171875 6.390625 31.78125 6.390625 \nQ 39.453125 6.390625 43.28125 13.890625 \nQ 47.125 21.390625 47.125 36.375 \nQ 47.125 51.421875 43.28125 58.90625 \nQ 39.453125 66.40625 31.78125 66.40625 \nz\nM 31.78125 74.21875 \nQ 44.046875 74.21875 50.515625 64.515625 \nQ 56.984375 54.828125 56.984375 36.375 \nQ 56.984375 17.96875 50.515625 8.265625 \nQ 44.046875 -1.421875 31.78125 -1.421875 \nQ 19.53125 -1.421875 13.0625 8.265625 \nQ 6.59375 17.96875 6.59375 36.375 \nQ 6.59375 54.828125 13.0625 64.515625 \nQ 19.53125 74.21875 31.78125 74.21875 \nz\n\" id=\"DejaVuSans-48\"/>\n       </defs>\n       <use xlink:href=\"#DejaVuSans-48\"/>\n      </g>\n     </g>\n    </g>\n    <g id=\"xtick_2\">\n     <g id=\"line2d_2\">\n      <g>\n       <use style=\"stroke:#000000;stroke-width:0.8;\" x=\"82.725\" xlink:href=\"#md72bf7108a\" y=\"228.439219\"/>\n      </g>\n     </g>\n     <g id=\"text_2\">\n      <!-- 5 -->\n      <g transform=\"translate(79.54375 243.037656)scale(0.1 -0.1)\">\n       <defs>\n        <path d=\"M 10.796875 72.90625 \nL 49.515625 72.90625 \nL 49.515625 64.59375 \nL 19.828125 64.59375 \nL 19.828125 46.734375 \nQ 21.96875 47.46875 24.109375 47.828125 \nQ 26.265625 48.1875 28.421875 48.1875 \nQ 40.625 48.1875 47.75 41.5 \nQ 54.890625 34.8125 54.890625 23.390625 \nQ 54.890625 11.625 47.5625 5.09375 \nQ 40.234375 -1.421875 26.90625 -1.421875 \nQ 22.3125 -1.421875 17.546875 -0.640625 \nQ 12.796875 0.140625 7.71875 1.703125 \nL 7.71875 11.625 \nQ 12.109375 9.234375 16.796875 8.0625 \nQ 21.484375 6.890625 26.703125 6.890625 \nQ 35.15625 6.890625 40.078125 11.328125 \nQ 45.015625 15.765625 45.015625 23.390625 \nQ 45.015625 31 40.078125 35.4375 \nQ 35.15625 39.890625 26.703125 39.890625 \nQ 22.75 39.890625 18.8125 39.015625 \nQ 14.890625 38.140625 10.796875 36.28125 \nz\n\" id=\"DejaVuSans-53\"/>\n       </defs>\n       <use xlink:href=\"#DejaVuSans-53\"/>\n      </g>\n     </g>\n    </g>\n    <g id=\"xtick_3\">\n     <g id=\"line2d_3\">\n      <g>\n       <use style=\"stroke:#000000;stroke-width:0.8;\" x=\"138.525\" xlink:href=\"#md72bf7108a\" y=\"228.439219\"/>\n      </g>\n     </g>\n     <g id=\"text_3\">\n      <!-- 10 -->\n      <g transform=\"translate(132.1625 243.037656)scale(0.1 -0.1)\">\n       <defs>\n        <path d=\"M 12.40625 8.296875 \nL 28.515625 8.296875 \nL 28.515625 63.921875 \nL 10.984375 60.40625 \nL 10.984375 69.390625 \nL 28.421875 72.90625 \nL 38.28125 72.90625 \nL 38.28125 8.296875 \nL 54.390625 8.296875 \nL 54.390625 0 \nL 12.40625 0 \nz\n\" id=\"DejaVuSans-49\"/>\n       </defs>\n       <use xlink:href=\"#DejaVuSans-49\"/>\n       <use x=\"63.623047\" xlink:href=\"#DejaVuSans-48\"/>\n      </g>\n     </g>\n    </g>\n    <g id=\"xtick_4\">\n     <g id=\"line2d_4\">\n      <g>\n       <use style=\"stroke:#000000;stroke-width:0.8;\" x=\"194.325\" xlink:href=\"#md72bf7108a\" y=\"228.439219\"/>\n      </g>\n     </g>\n     <g id=\"text_4\">\n      <!-- 15 -->\n      <g transform=\"translate(187.9625 243.037656)scale(0.1 -0.1)\">\n       <use xlink:href=\"#DejaVuSans-49\"/>\n       <use x=\"63.623047\" xlink:href=\"#DejaVuSans-53\"/>\n      </g>\n     </g>\n    </g>\n    <g id=\"xtick_5\">\n     <g id=\"line2d_5\">\n      <g>\n       <use style=\"stroke:#000000;stroke-width:0.8;\" x=\"250.125\" xlink:href=\"#md72bf7108a\" y=\"228.439219\"/>\n      </g>\n     </g>\n     <g id=\"text_5\">\n      <!-- 20 -->\n      <g transform=\"translate(243.7625 243.037656)scale(0.1 -0.1)\">\n       <defs>\n        <path d=\"M 19.1875 8.296875 \nL 53.609375 8.296875 \nL 53.609375 0 \nL 7.328125 0 \nL 7.328125 8.296875 \nQ 12.9375 14.109375 22.625 23.890625 \nQ 32.328125 33.6875 34.8125 36.53125 \nQ 39.546875 41.84375 41.421875 45.53125 \nQ 43.3125 49.21875 43.3125 52.78125 \nQ 43.3125 58.59375 39.234375 62.25 \nQ 35.15625 65.921875 28.609375 65.921875 \nQ 23.96875 65.921875 18.8125 64.3125 \nQ 13.671875 62.703125 7.8125 59.421875 \nL 7.8125 69.390625 \nQ 13.765625 71.78125 18.9375 73 \nQ 24.125 74.21875 28.421875 74.21875 \nQ 39.75 74.21875 46.484375 68.546875 \nQ 53.21875 62.890625 53.21875 53.421875 \nQ 53.21875 48.921875 51.53125 44.890625 \nQ 49.859375 40.875 45.40625 35.40625 \nQ 44.1875 33.984375 37.640625 27.21875 \nQ 31.109375 20.453125 19.1875 8.296875 \nz\n\" id=\"DejaVuSans-50\"/>\n       </defs>\n       <use xlink:href=\"#DejaVuSans-50\"/>\n       <use x=\"63.623047\" xlink:href=\"#DejaVuSans-48\"/>\n      </g>\n     </g>\n    </g>\n    <g id=\"xtick_6\">\n     <g id=\"line2d_6\">\n      <g>\n       <use style=\"stroke:#000000;stroke-width:0.8;\" x=\"305.925\" xlink:href=\"#md72bf7108a\" y=\"228.439219\"/>\n      </g>\n     </g>\n     <g id=\"text_6\">\n      <!-- 25 -->\n      <g transform=\"translate(299.5625 243.037656)scale(0.1 -0.1)\">\n       <use xlink:href=\"#DejaVuSans-50\"/>\n       <use x=\"63.623047\" xlink:href=\"#DejaVuSans-53\"/>\n      </g>\n     </g>\n    </g>\n    <g id=\"xtick_7\">\n     <g id=\"line2d_7\">\n      <g>\n       <use style=\"stroke:#000000;stroke-width:0.8;\" x=\"361.725\" xlink:href=\"#md72bf7108a\" y=\"228.439219\"/>\n      </g>\n     </g>\n     <g id=\"text_7\">\n      <!-- 30 -->\n      <g transform=\"translate(355.3625 243.037656)scale(0.1 -0.1)\">\n       <defs>\n        <path d=\"M 40.578125 39.3125 \nQ 47.65625 37.796875 51.625 33 \nQ 55.609375 28.21875 55.609375 21.1875 \nQ 55.609375 10.40625 48.1875 4.484375 \nQ 40.765625 -1.421875 27.09375 -1.421875 \nQ 22.515625 -1.421875 17.65625 -0.515625 \nQ 12.796875 0.390625 7.625 2.203125 \nL 7.625 11.71875 \nQ 11.71875 9.328125 16.59375 8.109375 \nQ 21.484375 6.890625 26.8125 6.890625 \nQ 36.078125 6.890625 40.9375 10.546875 \nQ 45.796875 14.203125 45.796875 21.1875 \nQ 45.796875 27.640625 41.28125 31.265625 \nQ 36.765625 34.90625 28.71875 34.90625 \nL 20.21875 34.90625 \nL 20.21875 43.015625 \nL 29.109375 43.015625 \nQ 36.375 43.015625 40.234375 45.921875 \nQ 44.09375 48.828125 44.09375 54.296875 \nQ 44.09375 59.90625 40.109375 62.90625 \nQ 36.140625 65.921875 28.71875 65.921875 \nQ 24.65625 65.921875 20.015625 65.03125 \nQ 15.375 64.15625 9.8125 62.3125 \nL 9.8125 71.09375 \nQ 15.4375 72.65625 20.34375 73.4375 \nQ 25.25 74.21875 29.59375 74.21875 \nQ 40.828125 74.21875 47.359375 69.109375 \nQ 53.90625 64.015625 53.90625 55.328125 \nQ 53.90625 49.265625 50.4375 45.09375 \nQ 46.96875 40.921875 40.578125 39.3125 \nz\n\" id=\"DejaVuSans-51\"/>\n       </defs>\n       <use xlink:href=\"#DejaVuSans-51\"/>\n       <use x=\"63.623047\" xlink:href=\"#DejaVuSans-48\"/>\n      </g>\n     </g>\n    </g>\n   </g>\n   <g id=\"matplotlib.axis_2\">\n    <g id=\"ytick_1\">\n     <g id=\"line2d_8\">\n      <defs>\n       <path d=\"M 0 0 \nL -3.5 0 \n\" id=\"m0395118a65\" style=\"stroke:#000000;stroke-width:0.8;\"/>\n      </defs>\n      <g>\n       <use style=\"stroke:#000000;stroke-width:0.8;\" x=\"26.925\" xlink:href=\"#m0395118a65\" y=\"228.439219\"/>\n      </g>\n     </g>\n     <g id=\"text_8\">\n      <!-- 0 -->\n      <g transform=\"translate(13.5625 232.238437)scale(0.1 -0.1)\">\n       <use xlink:href=\"#DejaVuSans-48\"/>\n      </g>\n     </g>\n    </g>\n    <g id=\"ytick_2\">\n     <g id=\"line2d_9\">\n      <g>\n       <use style=\"stroke:#000000;stroke-width:0.8;\" x=\"26.925\" xlink:href=\"#m0395118a65\" y=\"192.199219\"/>\n      </g>\n     </g>\n     <g id=\"text_9\">\n      <!-- 5 -->\n      <g transform=\"translate(13.5625 195.998437)scale(0.1 -0.1)\">\n       <use xlink:href=\"#DejaVuSans-53\"/>\n      </g>\n     </g>\n    </g>\n    <g id=\"ytick_3\">\n     <g id=\"line2d_10\">\n      <g>\n       <use style=\"stroke:#000000;stroke-width:0.8;\" x=\"26.925\" xlink:href=\"#m0395118a65\" y=\"155.959219\"/>\n      </g>\n     </g>\n     <g id=\"text_10\">\n      <!-- 10 -->\n      <g transform=\"translate(7.2 159.758437)scale(0.1 -0.1)\">\n       <use xlink:href=\"#DejaVuSans-49\"/>\n       <use x=\"63.623047\" xlink:href=\"#DejaVuSans-48\"/>\n      </g>\n     </g>\n    </g>\n    <g id=\"ytick_4\">\n     <g id=\"line2d_11\">\n      <g>\n       <use style=\"stroke:#000000;stroke-width:0.8;\" x=\"26.925\" xlink:href=\"#m0395118a65\" y=\"119.719219\"/>\n      </g>\n     </g>\n     <g id=\"text_11\">\n      <!-- 15 -->\n      <g transform=\"translate(7.2 123.518437)scale(0.1 -0.1)\">\n       <use xlink:href=\"#DejaVuSans-49\"/>\n       <use x=\"63.623047\" xlink:href=\"#DejaVuSans-53\"/>\n      </g>\n     </g>\n    </g>\n    <g id=\"ytick_5\">\n     <g id=\"line2d_12\">\n      <g>\n       <use style=\"stroke:#000000;stroke-width:0.8;\" x=\"26.925\" xlink:href=\"#m0395118a65\" y=\"83.479219\"/>\n      </g>\n     </g>\n     <g id=\"text_12\">\n      <!-- 20 -->\n      <g transform=\"translate(7.2 87.278437)scale(0.1 -0.1)\">\n       <use xlink:href=\"#DejaVuSans-50\"/>\n       <use x=\"63.623047\" xlink:href=\"#DejaVuSans-48\"/>\n      </g>\n     </g>\n    </g>\n    <g id=\"ytick_6\">\n     <g id=\"line2d_13\">\n      <g>\n       <use style=\"stroke:#000000;stroke-width:0.8;\" x=\"26.925\" xlink:href=\"#m0395118a65\" y=\"47.239219\"/>\n      </g>\n     </g>\n     <g id=\"text_13\">\n      <!-- 25 -->\n      <g transform=\"translate(7.2 51.038437)scale(0.1 -0.1)\">\n       <use xlink:href=\"#DejaVuSans-50\"/>\n       <use x=\"63.623047\" xlink:href=\"#DejaVuSans-53\"/>\n      </g>\n     </g>\n    </g>\n    <g id=\"ytick_7\">\n     <g id=\"line2d_14\">\n      <g>\n       <use style=\"stroke:#000000;stroke-width:0.8;\" x=\"26.925\" xlink:href=\"#m0395118a65\" y=\"10.999219\"/>\n      </g>\n     </g>\n     <g id=\"text_14\">\n      <!-- 30 -->\n      <g transform=\"translate(7.2 14.798437)scale(0.1 -0.1)\">\n       <use xlink:href=\"#DejaVuSans-51\"/>\n       <use x=\"63.623047\" xlink:href=\"#DejaVuSans-48\"/>\n      </g>\n     </g>\n    </g>\n   </g>\n   <g id=\"patch_23\">\n    <path d=\"M 26.925 228.439219 \nL 26.925 10.999219 \n\" style=\"fill:none;stroke:#000000;stroke-linecap:square;stroke-linejoin:miter;stroke-width:0.8;\"/>\n   </g>\n   <g id=\"patch_24\">\n    <path d=\"M 361.725 228.439219 \nL 361.725 10.999219 \n\" style=\"fill:none;stroke:#000000;stroke-linecap:square;stroke-linejoin:miter;stroke-width:0.8;\"/>\n   </g>\n   <g id=\"patch_25\">\n    <path d=\"M 26.925 228.439219 \nL 361.725 228.439219 \n\" style=\"fill:none;stroke:#000000;stroke-linecap:square;stroke-linejoin:miter;stroke-width:0.8;\"/>\n   </g>\n   <g id=\"patch_26\">\n    <path d=\"M 26.925 10.999219 \nL 361.725 10.999219 \n\" style=\"fill:none;stroke:#000000;stroke-linecap:square;stroke-linejoin:miter;stroke-width:0.8;\"/>\n   </g>\n  </g>\n </g>\n <defs>\n  <clipPath id=\"p837b49bf8b\">\n   <rect height=\"217.44\" width=\"334.8\" x=\"26.925\" y=\"10.999219\"/>\n  </clipPath>\n </defs>\n</svg>\n",
      "image/png": "[encoded data removed]"
     },
     "metadata": {
      "needs_background": "light"
     }
    },
    {
     "output_type": "stream",
     "name": "stdout",
     "text": "Paper dimensions: 31x31\nPresents dimensions: [[12, 31], [3, 31], [3, 22], [4, 13], [3, 14], [3, 13], [3, 12], [3, 11], [4, 8], [3, 10], [4, 7], [3, 9], [3, 8], [3, 7], [3, 6], [3, 5], [3, 4], [4, 3], [3, 3]]\n%%%mzn-stat: nSolutions=1\nSolver output:\nGenerated FlatZinc statistics:\nmzn-stat: paths=0\nmzn-stat: flatBoolVars=701\nmzn-stat: flatIntVars=203\nmzn-stat: flatBoolConstraints=171\nmzn-stat: flatIntConstraints=909\nmzn-stat: evaluatedReifiedConstraints=19\nmzn-stat: evaluatedHalfReifiedConstraints=682\nmzn-stat: method=\"satisfy\"\nmzn-stat: flatTime=0.132168\nmzn-stat-end\nmzn-stat: initTime=0.0098\nmzn-stat: solveTime=0.080649\nmzn-stat: solutions=1\nmzn-stat: variables=952\nmzn-stat: propagators=996\nmzn-stat: propagations=221051\nmzn-stat: nodes=5401\nmzn-stat: failures=2690\nmzn-stat: restarts=0\nmzn-stat: peakDepth=40\nmzn-stat-end\nSolution: [[0, 0], [12, 0], [15, 0], [18, 0], [22, 0], [25, 0], [28, 0], [28, 12], [18, 13], [25, 13], [18, 21], [15, 22], [25, 23], [22, 14], [22, 21], [28, 23], [22, 27], [18, 28], [28, 28]]\n"
    },
    {
     "output_type": "display_data",
     "data": {
      "text/plain": "<Figure size 432x288 with 1 Axes>",
      "image/svg+xml": "<?xml version=\"1.0\" encoding=\"utf-8\" standalone=\"no\"?>\n<!DOCTYPE svg PUBLIC \"-//W3C//DTD SVG 1.1//EN\"\n  \"http://www.w3.org/Graphics/SVG/1.1/DTD/svg11.dtd\">\n<!-- Created with matplotlib (https://matplotlib.org/) -->\n<svg height=\"248.518125pt\" version=\"1.1\" viewBox=\"0 0 368.925 248.518125\" width=\"368.925pt\" xmlns=\"http://www.w3.org/2000/svg\" xmlns:xlink=\"http://www.w3.org/1999/xlink\">\n <metadata>\n  <rdf:RDF xmlns:cc=\"http://creativecommons.org/ns#\" xmlns:dc=\"http://purl.org/dc/elements/1.1/\" xmlns:rdf=\"http://www.w3.org/1999/02/22-rdf-syntax-ns#\">\n   <cc:Work>\n    <dc:type rdf:resource=\"http://purl.org/dc/dcmitype/StillImage\"/>\n    <dc:date>2020-08-17T11:18:16.022833</dc:date>\n    <dc:format>image/svg+xml</dc:format>\n    <dc:creator>\n     <cc:Agent>\n      <dc:title>Matplotlib v3.3.0, https://matplotlib.org/</dc:title>\n     </cc:Agent>\n    </dc:creator>\n   </cc:Work>\n  </rdf:RDF>\n </metadata>\n <defs>\n  <style type=\"text/css\">*{stroke-linecap:butt;stroke-linejoin:round;}</style>\n </defs>\n <g id=\"figure_1\">\n  <g id=\"patch_1\">\n   <path d=\"M -0 248.518125 \nL 368.925 248.518125 \nL 368.925 0 \nL -0 0 \nz\n\" style=\"fill:none;\"/>\n  </g>\n  <g id=\"axes_1\">\n   <g id=\"patch_2\">\n    <path d=\"M 26.925 224.64 \nL 361.725 224.64 \nL 361.725 7.2 \nL 26.925 7.2 \nz\n\" style=\"fill:#ffffff;\"/>\n   </g>\n   <g id=\"patch_3\">\n    <path clip-path=\"url(#pe6fd018169)\" d=\"M 26.925 224.64 \nL 156.525 224.64 \nL 156.525 7.2 \nL 26.925 7.2 \nz\n\" style=\"fill:#e486c1;\"/>\n   </g>\n   <g id=\"patch_4\">\n    <path clip-path=\"url(#pe6fd018169)\" d=\"M 156.525 224.64 \nL 188.925 224.64 \nL 188.925 7.2 \nL 156.525 7.2 \nz\n\" style=\"fill:#4fa1c8;\"/>\n   </g>\n   <g id=\"patch_5\">\n    <path clip-path=\"url(#pe6fd018169)\" d=\"M 188.925 224.64 \nL 221.325 224.64 \nL 221.325 70.327742 \nL 188.925 70.327742 \nz\n\" style=\"fill:#89f8fe;\"/>\n   </g>\n   <g id=\"patch_6\">\n    <path clip-path=\"url(#pe6fd018169)\" d=\"M 221.325 224.64 \nL 264.525 224.64 \nL 264.525 133.455484 \nL 221.325 133.455484 \nz\n\" style=\"fill:#561b20;\"/>\n   </g>\n   <g id=\"patch_7\">\n    <path clip-path=\"url(#pe6fd018169)\" d=\"M 264.525 224.64 \nL 296.925 224.64 \nL 296.925 126.44129 \nL 264.525 126.44129 \nz\n\" style=\"fill:#3ac607;\"/>\n   </g>\n   <g id=\"patch_8\">\n    <path clip-path=\"url(#pe6fd018169)\" d=\"M 296.925 224.64 \nL 329.325 224.64 \nL 329.325 133.455484 \nL 296.925 133.455484 \nz\n\" style=\"fill:#3eac1a;\"/>\n   </g>\n   <g id=\"patch_9\">\n    <path clip-path=\"url(#pe6fd018169)\" d=\"M 329.325 224.64 \nL 361.725 224.64 \nL 361.725 140.469677 \nL 329.325 140.469677 \nz\n\" style=\"fill:#ffa3c2;\"/>\n   </g>\n   <g id=\"patch_10\">\n    <path clip-path=\"url(#pe6fd018169)\" d=\"M 329.325 140.469677 \nL 361.725 140.469677 \nL 361.725 63.313548 \nL 329.325 63.313548 \nz\n\" style=\"fill:#855db5;\"/>\n   </g>\n   <g id=\"patch_11\">\n    <path clip-path=\"url(#pe6fd018169)\" d=\"M 221.325 133.455484 \nL 264.525 133.455484 \nL 264.525 77.341935 \nL 221.325 77.341935 \nz\n\" style=\"fill:#fe0d64;\"/>\n   </g>\n   <g id=\"patch_12\">\n    <path clip-path=\"url(#pe6fd018169)\" d=\"M 296.925 133.455484 \nL 329.325 133.455484 \nL 329.325 63.313548 \nL 296.925 63.313548 \nz\n\" style=\"fill:#3d1954;\"/>\n   </g>\n   <g id=\"patch_13\">\n    <path clip-path=\"url(#pe6fd018169)\" d=\"M 221.325 77.341935 \nL 264.525 77.341935 \nL 264.525 28.242581 \nL 221.325 28.242581 \nz\n\" style=\"fill:#7dfe1f;\"/>\n   </g>\n   <g id=\"patch_14\">\n    <path clip-path=\"url(#pe6fd018169)\" d=\"M 188.925 70.327742 \nL 221.325 70.327742 \nL 221.325 7.2 \nL 188.925 7.2 \nz\n\" style=\"fill:#64d488;\"/>\n   </g>\n   <g id=\"patch_15\">\n    <path clip-path=\"url(#pe6fd018169)\" d=\"M 296.925 63.313548 \nL 329.325 63.313548 \nL 329.325 7.2 \nL 296.925 7.2 \nz\n\" style=\"fill:#c85716;\"/>\n   </g>\n   <g id=\"patch_16\">\n    <path clip-path=\"url(#pe6fd018169)\" d=\"M 264.525 126.44129 \nL 296.925 126.44129 \nL 296.925 77.341935 \nL 264.525 77.341935 \nz\n\" style=\"fill:#c81540;\"/>\n   </g>\n   <g id=\"patch_17\">\n    <path clip-path=\"url(#pe6fd018169)\" d=\"M 264.525 77.341935 \nL 296.925 77.341935 \nL 296.925 35.256774 \nL 264.525 35.256774 \nz\n\" style=\"fill:#3230af;\"/>\n   </g>\n   <g id=\"patch_18\">\n    <path clip-path=\"url(#pe6fd018169)\" d=\"M 329.325 63.313548 \nL 361.725 63.313548 \nL 361.725 28.242581 \nL 329.325 28.242581 \nz\n\" style=\"fill:#0321e0;\"/>\n   </g>\n   <g id=\"patch_19\">\n    <path clip-path=\"url(#pe6fd018169)\" d=\"M 264.525 35.256774 \nL 296.925 35.256774 \nL 296.925 7.2 \nL 264.525 7.2 \nz\n\" style=\"fill:#8d1301;\"/>\n   </g>\n   <g id=\"patch_20\">\n    <path clip-path=\"url(#pe6fd018169)\" d=\"M 221.325 28.242581 \nL 264.525 28.242581 \nL 264.525 7.2 \nL 221.325 7.2 \nz\n\" style=\"fill:#f9bea9;\"/>\n   </g>\n   <g id=\"patch_21\">\n    <path clip-path=\"url(#pe6fd018169)\" d=\"M 329.325 28.242581 \nL 361.725 28.242581 \nL 361.725 7.2 \nL 329.325 7.2 \nz\n\" style=\"fill:#502405;\"/>\n   </g>\n   <g id=\"matplotlib.axis_1\">\n    <g id=\"xtick_1\">\n     <g id=\"line2d_1\">\n      <defs>\n       <path d=\"M 0 0 \nL 0 3.5 \n\" id=\"m24c84ca17d\" style=\"stroke:#000000;stroke-width:0.8;\"/>\n      </defs>\n      <g>\n       <use style=\"stroke:#000000;stroke-width:0.8;\" x=\"26.925\" xlink:href=\"#m24c84ca17d\" y=\"224.64\"/>\n      </g>\n     </g>\n     <g id=\"text_1\">\n      <!-- 0 -->\n      <g transform=\"translate(23.74375 239.238437)scale(0.1 -0.1)\">\n       <defs>\n        <path d=\"M 31.78125 66.40625 \nQ 24.171875 66.40625 20.328125 58.90625 \nQ 16.5 51.421875 16.5 36.375 \nQ 16.5 21.390625 20.328125 13.890625 \nQ 24.171875 6.390625 31.78125 6.390625 \nQ 39.453125 6.390625 43.28125 13.890625 \nQ 47.125 21.390625 47.125 36.375 \nQ 47.125 51.421875 43.28125 58.90625 \nQ 39.453125 66.40625 31.78125 66.40625 \nz\nM 31.78125 74.21875 \nQ 44.046875 74.21875 50.515625 64.515625 \nQ 56.984375 54.828125 56.984375 36.375 \nQ 56.984375 17.96875 50.515625 8.265625 \nQ 44.046875 -1.421875 31.78125 -1.421875 \nQ 19.53125 -1.421875 13.0625 8.265625 \nQ 6.59375 17.96875 6.59375 36.375 \nQ 6.59375 54.828125 13.0625 64.515625 \nQ 19.53125 74.21875 31.78125 74.21875 \nz\n\" id=\"DejaVuSans-48\"/>\n       </defs>\n       <use xlink:href=\"#DejaVuSans-48\"/>\n      </g>\n     </g>\n    </g>\n    <g id=\"xtick_2\">\n     <g id=\"line2d_2\">\n      <g>\n       <use style=\"stroke:#000000;stroke-width:0.8;\" x=\"80.925\" xlink:href=\"#m24c84ca17d\" y=\"224.64\"/>\n      </g>\n     </g>\n     <g id=\"text_2\">\n      <!-- 5 -->\n      <g transform=\"translate(77.74375 239.238437)scale(0.1 -0.1)\">\n       <defs>\n        <path d=\"M 10.796875 72.90625 \nL 49.515625 72.90625 \nL 49.515625 64.59375 \nL 19.828125 64.59375 \nL 19.828125 46.734375 \nQ 21.96875 47.46875 24.109375 47.828125 \nQ 26.265625 48.1875 28.421875 48.1875 \nQ 40.625 48.1875 47.75 41.5 \nQ 54.890625 34.8125 54.890625 23.390625 \nQ 54.890625 11.625 47.5625 5.09375 \nQ 40.234375 -1.421875 26.90625 -1.421875 \nQ 22.3125 -1.421875 17.546875 -0.640625 \nQ 12.796875 0.140625 7.71875 1.703125 \nL 7.71875 11.625 \nQ 12.109375 9.234375 16.796875 8.0625 \nQ 21.484375 6.890625 26.703125 6.890625 \nQ 35.15625 6.890625 40.078125 11.328125 \nQ 45.015625 15.765625 45.015625 23.390625 \nQ 45.015625 31 40.078125 35.4375 \nQ 35.15625 39.890625 26.703125 39.890625 \nQ 22.75 39.890625 18.8125 39.015625 \nQ 14.890625 38.140625 10.796875 36.28125 \nz\n\" id=\"DejaVuSans-53\"/>\n       </defs>\n       <use xlink:href=\"#DejaVuSans-53\"/>\n      </g>\n     </g>\n    </g>\n    <g id=\"xtick_3\">\n     <g id=\"line2d_3\">\n      <g>\n       <use style=\"stroke:#000000;stroke-width:0.8;\" x=\"134.925\" xlink:href=\"#m24c84ca17d\" y=\"224.64\"/>\n      </g>\n     </g>\n     <g id=\"text_3\">\n      <!-- 10 -->\n      <g transform=\"translate(128.5625 239.238437)scale(0.1 -0.1)\">\n       <defs>\n        <path d=\"M 12.40625 8.296875 \nL 28.515625 8.296875 \nL 28.515625 63.921875 \nL 10.984375 60.40625 \nL 10.984375 69.390625 \nL 28.421875 72.90625 \nL 38.28125 72.90625 \nL 38.28125 8.296875 \nL 54.390625 8.296875 \nL 54.390625 0 \nL 12.40625 0 \nz\n\" id=\"DejaVuSans-49\"/>\n       </defs>\n       <use xlink:href=\"#DejaVuSans-49\"/>\n       <use x=\"63.623047\" xlink:href=\"#DejaVuSans-48\"/>\n      </g>\n     </g>\n    </g>\n    <g id=\"xtick_4\">\n     <g id=\"line2d_4\">\n      <g>\n       <use style=\"stroke:#000000;stroke-width:0.8;\" x=\"188.925\" xlink:href=\"#m24c84ca17d\" y=\"224.64\"/>\n      </g>\n     </g>\n     <g id=\"text_4\">\n      <!-- 15 -->\n      <g transform=\"translate(182.5625 239.238437)scale(0.1 -0.1)\">\n       <use xlink:href=\"#DejaVuSans-49\"/>\n       <use x=\"63.623047\" xlink:href=\"#DejaVuSans-53\"/>\n      </g>\n     </g>\n    </g>\n    <g id=\"xtick_5\">\n     <g id=\"line2d_5\">\n      <g>\n       <use style=\"stroke:#000000;stroke-width:0.8;\" x=\"242.925\" xlink:href=\"#m24c84ca17d\" y=\"224.64\"/>\n      </g>\n     </g>\n     <g id=\"text_5\">\n      <!-- 20 -->\n      <g transform=\"translate(236.5625 239.238437)scale(0.1 -0.1)\">\n       <defs>\n        <path d=\"M 19.1875 8.296875 \nL 53.609375 8.296875 \nL 53.609375 0 \nL 7.328125 0 \nL 7.328125 8.296875 \nQ 12.9375 14.109375 22.625 23.890625 \nQ 32.328125 33.6875 34.8125 36.53125 \nQ 39.546875 41.84375 41.421875 45.53125 \nQ 43.3125 49.21875 43.3125 52.78125 \nQ 43.3125 58.59375 39.234375 62.25 \nQ 35.15625 65.921875 28.609375 65.921875 \nQ 23.96875 65.921875 18.8125 64.3125 \nQ 13.671875 62.703125 7.8125 59.421875 \nL 7.8125 69.390625 \nQ 13.765625 71.78125 18.9375 73 \nQ 24.125 74.21875 28.421875 74.21875 \nQ 39.75 74.21875 46.484375 68.546875 \nQ 53.21875 62.890625 53.21875 53.421875 \nQ 53.21875 48.921875 51.53125 44.890625 \nQ 49.859375 40.875 45.40625 35.40625 \nQ 44.1875 33.984375 37.640625 27.21875 \nQ 31.109375 20.453125 19.1875 8.296875 \nz\n\" id=\"DejaVuSans-50\"/>\n       </defs>\n       <use xlink:href=\"#DejaVuSans-50\"/>\n       <use x=\"63.623047\" xlink:href=\"#DejaVuSans-48\"/>\n      </g>\n     </g>\n    </g>\n    <g id=\"xtick_6\">\n     <g id=\"line2d_6\">\n      <g>\n       <use style=\"stroke:#000000;stroke-width:0.8;\" x=\"296.925\" xlink:href=\"#m24c84ca17d\" y=\"224.64\"/>\n      </g>\n     </g>\n     <g id=\"text_6\">\n      <!-- 25 -->\n      <g transform=\"translate(290.5625 239.238437)scale(0.1 -0.1)\">\n       <use xlink:href=\"#DejaVuSans-50\"/>\n       <use x=\"63.623047\" xlink:href=\"#DejaVuSans-53\"/>\n      </g>\n     </g>\n    </g>\n    <g id=\"xtick_7\">\n     <g id=\"line2d_7\">\n      <g>\n       <use style=\"stroke:#000000;stroke-width:0.8;\" x=\"350.925\" xlink:href=\"#m24c84ca17d\" y=\"224.64\"/>\n      </g>\n     </g>\n     <g id=\"text_7\">\n      <!-- 30 -->\n      <g transform=\"translate(344.5625 239.238437)scale(0.1 -0.1)\">\n       <defs>\n        <path d=\"M 40.578125 39.3125 \nQ 47.65625 37.796875 51.625 33 \nQ 55.609375 28.21875 55.609375 21.1875 \nQ 55.609375 10.40625 48.1875 4.484375 \nQ 40.765625 -1.421875 27.09375 -1.421875 \nQ 22.515625 -1.421875 17.65625 -0.515625 \nQ 12.796875 0.390625 7.625 2.203125 \nL 7.625 11.71875 \nQ 11.71875 9.328125 16.59375 8.109375 \nQ 21.484375 6.890625 26.8125 6.890625 \nQ 36.078125 6.890625 40.9375 10.546875 \nQ 45.796875 14.203125 45.796875 21.1875 \nQ 45.796875 27.640625 41.28125 31.265625 \nQ 36.765625 34.90625 28.71875 34.90625 \nL 20.21875 34.90625 \nL 20.21875 43.015625 \nL 29.109375 43.015625 \nQ 36.375 43.015625 40.234375 45.921875 \nQ 44.09375 48.828125 44.09375 54.296875 \nQ 44.09375 59.90625 40.109375 62.90625 \nQ 36.140625 65.921875 28.71875 65.921875 \nQ 24.65625 65.921875 20.015625 65.03125 \nQ 15.375 64.15625 9.8125 62.3125 \nL 9.8125 71.09375 \nQ 15.4375 72.65625 20.34375 73.4375 \nQ 25.25 74.21875 29.59375 74.21875 \nQ 40.828125 74.21875 47.359375 69.109375 \nQ 53.90625 64.015625 53.90625 55.328125 \nQ 53.90625 49.265625 50.4375 45.09375 \nQ 46.96875 40.921875 40.578125 39.3125 \nz\n\" id=\"DejaVuSans-51\"/>\n       </defs>\n       <use xlink:href=\"#DejaVuSans-51\"/>\n       <use x=\"63.623047\" xlink:href=\"#DejaVuSans-48\"/>\n      </g>\n     </g>\n    </g>\n   </g>\n   <g id=\"matplotlib.axis_2\">\n    <g id=\"ytick_1\">\n     <g id=\"line2d_8\">\n      <defs>\n       <path d=\"M 0 0 \nL -3.5 0 \n\" id=\"mf05424373d\" style=\"stroke:#000000;stroke-width:0.8;\"/>\n      </defs>\n      <g>\n       <use style=\"stroke:#000000;stroke-width:0.8;\" x=\"26.925\" xlink:href=\"#mf05424373d\" y=\"224.64\"/>\n      </g>\n     </g>\n     <g id=\"text_8\">\n      <!-- 0 -->\n      <g transform=\"translate(13.5625 228.439219)scale(0.1 -0.1)\">\n       <use xlink:href=\"#DejaVuSans-48\"/>\n      </g>\n     </g>\n    </g>\n    <g id=\"ytick_2\">\n     <g id=\"line2d_9\">\n      <g>\n       <use style=\"stroke:#000000;stroke-width:0.8;\" x=\"26.925\" xlink:href=\"#mf05424373d\" y=\"189.569032\"/>\n      </g>\n     </g>\n     <g id=\"text_9\">\n      <!-- 5 -->\n      <g transform=\"translate(13.5625 193.368251)scale(0.1 -0.1)\">\n       <use xlink:href=\"#DejaVuSans-53\"/>\n      </g>\n     </g>\n    </g>\n    <g id=\"ytick_3\">\n     <g id=\"line2d_10\">\n      <g>\n       <use style=\"stroke:#000000;stroke-width:0.8;\" x=\"26.925\" xlink:href=\"#mf05424373d\" y=\"154.498065\"/>\n      </g>\n     </g>\n     <g id=\"text_10\">\n      <!-- 10 -->\n      <g transform=\"translate(7.2 158.297283)scale(0.1 -0.1)\">\n       <use xlink:href=\"#DejaVuSans-49\"/>\n       <use x=\"63.623047\" xlink:href=\"#DejaVuSans-48\"/>\n      </g>\n     </g>\n    </g>\n    <g id=\"ytick_4\">\n     <g id=\"line2d_11\">\n      <g>\n       <use style=\"stroke:#000000;stroke-width:0.8;\" x=\"26.925\" xlink:href=\"#mf05424373d\" y=\"119.427097\"/>\n      </g>\n     </g>\n     <g id=\"text_11\">\n      <!-- 15 -->\n      <g transform=\"translate(7.2 123.226316)scale(0.1 -0.1)\">\n       <use xlink:href=\"#DejaVuSans-49\"/>\n       <use x=\"63.623047\" xlink:href=\"#DejaVuSans-53\"/>\n      </g>\n     </g>\n    </g>\n    <g id=\"ytick_5\">\n     <g id=\"line2d_12\">\n      <g>\n       <use style=\"stroke:#000000;stroke-width:0.8;\" x=\"26.925\" xlink:href=\"#mf05424373d\" y=\"84.356129\"/>\n      </g>\n     </g>\n     <g id=\"text_12\">\n      <!-- 20 -->\n      <g transform=\"translate(7.2 88.155348)scale(0.1 -0.1)\">\n       <use xlink:href=\"#DejaVuSans-50\"/>\n       <use x=\"63.623047\" xlink:href=\"#DejaVuSans-48\"/>\n      </g>\n     </g>\n    </g>\n    <g id=\"ytick_6\">\n     <g id=\"line2d_13\">\n      <g>\n       <use style=\"stroke:#000000;stroke-width:0.8;\" x=\"26.925\" xlink:href=\"#mf05424373d\" y=\"49.285161\"/>\n      </g>\n     </g>\n     <g id=\"text_13\">\n      <!-- 25 -->\n      <g transform=\"translate(7.2 53.08438)scale(0.1 -0.1)\">\n       <use xlink:href=\"#DejaVuSans-50\"/>\n       <use x=\"63.623047\" xlink:href=\"#DejaVuSans-53\"/>\n      </g>\n     </g>\n    </g>\n    <g id=\"ytick_7\">\n     <g id=\"line2d_14\">\n      <g>\n       <use style=\"stroke:#000000;stroke-width:0.8;\" x=\"26.925\" xlink:href=\"#mf05424373d\" y=\"14.214194\"/>\n      </g>\n     </g>\n     <g id=\"text_14\">\n      <!-- 30 -->\n      <g transform=\"translate(7.2 18.013412)scale(0.1 -0.1)\">\n       <use xlink:href=\"#DejaVuSans-51\"/>\n       <use x=\"63.623047\" xlink:href=\"#DejaVuSans-48\"/>\n      </g>\n     </g>\n    </g>\n   </g>\n   <g id=\"patch_22\">\n    <path d=\"M 26.925 224.64 \nL 26.925 7.2 \n\" style=\"fill:none;stroke:#000000;stroke-linecap:square;stroke-linejoin:miter;stroke-width:0.8;\"/>\n   </g>\n   <g id=\"patch_23\">\n    <path d=\"M 361.725 224.64 \nL 361.725 7.2 \n\" style=\"fill:none;stroke:#000000;stroke-linecap:square;stroke-linejoin:miter;stroke-width:0.8;\"/>\n   </g>\n   <g id=\"patch_24\">\n    <path d=\"M 26.925 224.64 \nL 361.725 224.64 \n\" style=\"fill:none;stroke:#000000;stroke-linecap:square;stroke-linejoin:miter;stroke-width:0.8;\"/>\n   </g>\n   <g id=\"patch_25\">\n    <path d=\"M 26.925 7.2 \nL 361.725 7.2 \n\" style=\"fill:none;stroke:#000000;stroke-linecap:square;stroke-linejoin:miter;stroke-width:0.8;\"/>\n   </g>\n  </g>\n </g>\n <defs>\n  <clipPath id=\"pe6fd018169\">\n   <rect height=\"217.44\" width=\"334.8\" x=\"26.925\" y=\"7.2\"/>\n  </clipPath>\n </defs>\n</svg>\n",
      "image/png": "[encoded data removed]"
     },
     "metadata": {
      "needs_background": "light"
     }
    },
    {
     "output_type": "stream",
     "name": "stdout",
     "text": "Paper dimensions: 32x32\nPresents dimensions: [[3, 27], [3, 25], [3, 24], [4, 18], [3, 23], [3, 22], [3, 18], [3, 15], [4, 11], [3, 14], [4, 10], [3, 13], [3, 12], [3, 11], [3, 10], [4, 7], [3, 9], [3, 8], [4, 6], [3, 7], [4, 5], [3, 6], [4, 4], [3, 5], [3, 4], [4, 3], [3, 3]]\n%%%mzn-stat: nSolutions=1\nSolver output:\nGenerated FlatZinc statistics:\nmzn-stat: paths=0\nmzn-stat: flatBoolVars=1431\nmzn-stat: flatIntVars=297\nmzn-stat: flatBoolConstraints=351\nmzn-stat: flatIntConstraints=1735\nmzn-stat: evaluatedReifiedConstraints=27\nmzn-stat: evaluatedHalfReifiedConstraints=1404\nmzn-stat: method=\"satisfy\"\nmzn-stat: flatTime=0.187395\nmzn-stat-end\nmzn-stat: initTime=0.017225\nmzn-stat: solveTime=121.684\nmzn-stat: solutions=1\nmzn-stat: variables=1782\nmzn-stat: propagators=1946\nmzn-stat: propagations=221468993\nmzn-stat: nodes=4658335\nmzn-stat: failures=2329154\nmzn-stat: restarts=0\nmzn-stat: peakDepth=69\nmzn-stat-end\nSolution: [[0, 0], [3, 0], [6, 0], [9, 0], [13, 0], [16, 0], [19, 0], [22, 0], [25, 0], [29, 0], [25, 11], [22, 15], [29, 14], [19, 18], [16, 22], [9, 18], [13, 23], [6, 24], [25, 21], [3, 25], [25, 27], [29, 26], [9, 25], [0, 27], [22, 28], [9, 29], [19, 29]]\n"
    },
    {
     "output_type": "display_data",
     "data": {
      "text/plain": "<Figure size 432x288 with 1 Axes>",
      "image/svg+xml": "<?xml version=\"1.0\" encoding=\"utf-8\" standalone=\"no\"?>\n<!DOCTYPE svg PUBLIC \"-//W3C//DTD SVG 1.1//EN\"\n  \"http://www.w3.org/Graphics/SVG/1.1/DTD/svg11.dtd\">\n<!-- Created with matplotlib (https://matplotlib.org/) -->\n<svg height=\"248.518125pt\" version=\"1.1\" viewBox=\"0 0 368.925 248.518125\" width=\"368.925pt\" xmlns=\"http://www.w3.org/2000/svg\" xmlns:xlink=\"http://www.w3.org/1999/xlink\">\n <metadata>\n  <rdf:RDF xmlns:cc=\"http://creativecommons.org/ns#\" xmlns:dc=\"http://purl.org/dc/elements/1.1/\" xmlns:rdf=\"http://www.w3.org/1999/02/22-rdf-syntax-ns#\">\n   <cc:Work>\n    <dc:type rdf:resource=\"http://purl.org/dc/dcmitype/StillImage\"/>\n    <dc:date>2020-08-17T11:20:18.405313</dc:date>\n    <dc:format>image/svg+xml</dc:format>\n    <dc:creator>\n     <cc:Agent>\n      <dc:title>Matplotlib v3.3.0, https://matplotlib.org/</dc:title>\n     </cc:Agent>\n    </dc:creator>\n   </cc:Work>\n  </rdf:RDF>\n </metadata>\n <defs>\n  <style type=\"text/css\">*{stroke-linecap:butt;stroke-linejoin:round;}</style>\n </defs>\n <g id=\"figure_1\">\n  <g id=\"patch_1\">\n   <path d=\"M -0 248.518125 \nL 368.925 248.518125 \nL 368.925 0 \nL -0 0 \nz\n\" style=\"fill:none;\"/>\n  </g>\n  <g id=\"axes_1\">\n   <g id=\"patch_2\">\n    <path d=\"M 26.925 224.64 \nL 361.725 224.64 \nL 361.725 7.2 \nL 26.925 7.2 \nz\n\" style=\"fill:#ffffff;\"/>\n   </g>\n   <g id=\"patch_3\">\n    <path clip-path=\"url(#p090410494c)\" d=\"M 26.925 224.64 \nL 58.3125 224.64 \nL 58.3125 41.175 \nL 26.925 41.175 \nz\n\" style=\"fill:#e884ea;\"/>\n   </g>\n   <g id=\"patch_4\">\n    <path clip-path=\"url(#p090410494c)\" d=\"M 58.3125 224.64 \nL 89.7 224.64 \nL 89.7 54.765 \nL 58.3125 54.765 \nz\n\" style=\"fill:#ee0593;\"/>\n   </g>\n   <g id=\"patch_5\">\n    <path clip-path=\"url(#p090410494c)\" d=\"M 89.7 224.64 \nL 121.0875 224.64 \nL 121.0875 61.56 \nL 89.7 61.56 \nz\n\" style=\"fill:#a5a3a8;\"/>\n   </g>\n   <g id=\"patch_6\">\n    <path clip-path=\"url(#p090410494c)\" d=\"M 121.0875 224.64 \nL 162.9375 224.64 \nL 162.9375 102.33 \nL 121.0875 102.33 \nz\n\" style=\"fill:#5021e3;\"/>\n   </g>\n   <g id=\"patch_7\">\n    <path clip-path=\"url(#p090410494c)\" d=\"M 162.9375 224.64 \nL 194.325 224.64 \nL 194.325 68.355 \nL 162.9375 68.355 \nz\n\" style=\"fill:#8e7089;\"/>\n   </g>\n   <g id=\"patch_8\">\n    <path clip-path=\"url(#p090410494c)\" d=\"M 194.325 224.64 \nL 225.7125 224.64 \nL 225.7125 75.15 \nL 194.325 75.15 \nz\n\" style=\"fill:#e5a3d8;\"/>\n   </g>\n   <g id=\"patch_9\">\n    <path clip-path=\"url(#p090410494c)\" d=\"M 225.7125 224.64 \nL 257.1 224.64 \nL 257.1 102.33 \nL 225.7125 102.33 \nz\n\" style=\"fill:#c8880f;\"/>\n   </g>\n   <g id=\"patch_10\">\n    <path clip-path=\"url(#p090410494c)\" d=\"M 257.1 224.64 \nL 288.4875 224.64 \nL 288.4875 122.715 \nL 257.1 122.715 \nz\n\" style=\"fill:#ba727c;\"/>\n   </g>\n   <g id=\"patch_11\">\n    <path clip-path=\"url(#p090410494c)\" d=\"M 288.4875 224.64 \nL 330.3375 224.64 \nL 330.3375 149.895 \nL 288.4875 149.895 \nz\n\" style=\"fill:#ebd01a;\"/>\n   </g>\n   <g id=\"patch_12\">\n    <path clip-path=\"url(#p090410494c)\" d=\"M 330.3375 224.64 \nL 361.725 224.64 \nL 361.725 129.51 \nL 330.3375 129.51 \nz\n\" style=\"fill:#1c764f;\"/>\n   </g>\n   <g id=\"patch_13\">\n    <path clip-path=\"url(#p090410494c)\" d=\"M 288.4875 149.895 \nL 330.3375 149.895 \nL 330.3375 81.945 \nL 288.4875 81.945 \nz\n\" style=\"fill:#ba5938;\"/>\n   </g>\n   <g id=\"patch_14\">\n    <path clip-path=\"url(#p090410494c)\" d=\"M 257.1 122.715 \nL 288.4875 122.715 \nL 288.4875 34.38 \nL 257.1 34.38 \nz\n\" style=\"fill:#fe4779;\"/>\n   </g>\n   <g id=\"patch_15\">\n    <path clip-path=\"url(#p090410494c)\" d=\"M 330.3375 129.51 \nL 361.725 129.51 \nL 361.725 47.97 \nL 330.3375 47.97 \nz\n\" style=\"fill:#758c0f;\"/>\n   </g>\n   <g id=\"patch_16\">\n    <path clip-path=\"url(#p090410494c)\" d=\"M 225.7125 102.33 \nL 257.1 102.33 \nL 257.1 27.585 \nL 225.7125 27.585 \nz\n\" style=\"fill:#27e26f;\"/>\n   </g>\n   <g id=\"patch_17\">\n    <path clip-path=\"url(#p090410494c)\" d=\"M 194.325 75.15 \nL 225.7125 75.15 \nL 225.7125 7.2 \nL 194.325 7.2 \nz\n\" style=\"fill:#0d7bd2;\"/>\n   </g>\n   <g id=\"patch_18\">\n    <path clip-path=\"url(#p090410494c)\" d=\"M 121.0875 102.33 \nL 162.9375 102.33 \nL 162.9375 54.765 \nL 121.0875 54.765 \nz\n\" style=\"fill:#2a930e;\"/>\n   </g>\n   <g id=\"patch_19\">\n    <path clip-path=\"url(#p090410494c)\" d=\"M 162.9375 68.355 \nL 194.325 68.355 \nL 194.325 7.2 \nL 162.9375 7.2 \nz\n\" style=\"fill:#045f13;\"/>\n   </g>\n   <g id=\"patch_20\">\n    <path clip-path=\"url(#p090410494c)\" d=\"M 89.7 61.56 \nL 121.0875 61.56 \nL 121.0875 7.2 \nL 89.7 7.2 \nz\n\" style=\"fill:#f77bc5;\"/>\n   </g>\n   <g id=\"patch_21\">\n    <path clip-path=\"url(#p090410494c)\" d=\"M 288.4875 81.945 \nL 330.3375 81.945 \nL 330.3375 41.175 \nL 288.4875 41.175 \nz\n\" style=\"fill:#5eefd7;\"/>\n   </g>\n   <g id=\"patch_22\">\n    <path clip-path=\"url(#p090410494c)\" d=\"M 58.3125 54.765 \nL 89.7 54.765 \nL 89.7 7.2 \nL 58.3125 7.2 \nz\n\" style=\"fill:#56e255;\"/>\n   </g>\n   <g id=\"patch_23\">\n    <path clip-path=\"url(#p090410494c)\" d=\"M 288.4875 41.175 \nL 330.3375 41.175 \nL 330.3375 7.2 \nL 288.4875 7.2 \nz\n\" style=\"fill:#f6d070;\"/>\n   </g>\n   <g id=\"patch_24\">\n    <path clip-path=\"url(#p090410494c)\" d=\"M 330.3375 47.97 \nL 361.725 47.97 \nL 361.725 7.2 \nL 330.3375 7.2 \nz\n\" style=\"fill:#95fcba;\"/>\n   </g>\n   <g id=\"patch_25\">\n    <path clip-path=\"url(#p090410494c)\" d=\"M 121.0875 54.765 \nL 162.9375 54.765 \nL 162.9375 27.585 \nL 121.0875 27.585 \nz\n\" style=\"fill:#eb0d80;\"/>\n   </g>\n   <g id=\"patch_26\">\n    <path clip-path=\"url(#p090410494c)\" d=\"M 26.925 41.175 \nL 58.3125 41.175 \nL 58.3125 7.2 \nL 26.925 7.2 \nz\n\" style=\"fill:#250ffa;\"/>\n   </g>\n   <g id=\"patch_27\">\n    <path clip-path=\"url(#p090410494c)\" d=\"M 257.1 34.38 \nL 288.4875 34.38 \nL 288.4875 7.2 \nL 257.1 7.2 \nz\n\" style=\"fill:#1426be;\"/>\n   </g>\n   <g id=\"patch_28\">\n    <path clip-path=\"url(#p090410494c)\" d=\"M 121.0875 27.585 \nL 162.9375 27.585 \nL 162.9375 7.2 \nL 121.0875 7.2 \nz\n\" style=\"fill:#5a61b8;\"/>\n   </g>\n   <g id=\"patch_29\">\n    <path clip-path=\"url(#p090410494c)\" d=\"M 225.7125 27.585 \nL 257.1 27.585 \nL 257.1 7.2 \nL 225.7125 7.2 \nz\n\" style=\"fill:#dbb9d0;\"/>\n   </g>\n   <g id=\"matplotlib.axis_1\">\n    <g id=\"xtick_1\">\n     <g id=\"line2d_1\">\n      <defs>\n       <path d=\"M 0 0 \nL 0 3.5 \n\" id=\"mf8c992bdf0\" style=\"stroke:#000000;stroke-width:0.8;\"/>\n      </defs>\n      <g>\n       <use style=\"stroke:#000000;stroke-width:0.8;\" x=\"26.925\" xlink:href=\"#mf8c992bdf0\" y=\"224.64\"/>\n      </g>\n     </g>\n     <g id=\"text_1\">\n      <!-- 0 -->\n      <g transform=\"translate(23.74375 239.238437)scale(0.1 -0.1)\">\n       <defs>\n        <path d=\"M 31.78125 66.40625 \nQ 24.171875 66.40625 20.328125 58.90625 \nQ 16.5 51.421875 16.5 36.375 \nQ 16.5 21.390625 20.328125 13.890625 \nQ 24.171875 6.390625 31.78125 6.390625 \nQ 39.453125 6.390625 43.28125 13.890625 \nQ 47.125 21.390625 47.125 36.375 \nQ 47.125 51.421875 43.28125 58.90625 \nQ 39.453125 66.40625 31.78125 66.40625 \nz\nM 31.78125 74.21875 \nQ 44.046875 74.21875 50.515625 64.515625 \nQ 56.984375 54.828125 56.984375 36.375 \nQ 56.984375 17.96875 50.515625 8.265625 \nQ 44.046875 -1.421875 31.78125 -1.421875 \nQ 19.53125 -1.421875 13.0625 8.265625 \nQ 6.59375 17.96875 6.59375 36.375 \nQ 6.59375 54.828125 13.0625 64.515625 \nQ 19.53125 74.21875 31.78125 74.21875 \nz\n\" id=\"DejaVuSans-48\"/>\n       </defs>\n       <use xlink:href=\"#DejaVuSans-48\"/>\n      </g>\n     </g>\n    </g>\n    <g id=\"xtick_2\">\n     <g id=\"line2d_2\">\n      <g>\n       <use style=\"stroke:#000000;stroke-width:0.8;\" x=\"79.2375\" xlink:href=\"#mf8c992bdf0\" y=\"224.64\"/>\n      </g>\n     </g>\n     <g id=\"text_2\">\n      <!-- 5 -->\n      <g transform=\"translate(76.05625 239.238437)scale(0.1 -0.1)\">\n       <defs>\n        <path d=\"M 10.796875 72.90625 \nL 49.515625 72.90625 \nL 49.515625 64.59375 \nL 19.828125 64.59375 \nL 19.828125 46.734375 \nQ 21.96875 47.46875 24.109375 47.828125 \nQ 26.265625 48.1875 28.421875 48.1875 \nQ 40.625 48.1875 47.75 41.5 \nQ 54.890625 34.8125 54.890625 23.390625 \nQ 54.890625 11.625 47.5625 5.09375 \nQ 40.234375 -1.421875 26.90625 -1.421875 \nQ 22.3125 -1.421875 17.546875 -0.640625 \nQ 12.796875 0.140625 7.71875 1.703125 \nL 7.71875 11.625 \nQ 12.109375 9.234375 16.796875 8.0625 \nQ 21.484375 6.890625 26.703125 6.890625 \nQ 35.15625 6.890625 40.078125 11.328125 \nQ 45.015625 15.765625 45.015625 23.390625 \nQ 45.015625 31 40.078125 35.4375 \nQ 35.15625 39.890625 26.703125 39.890625 \nQ 22.75 39.890625 18.8125 39.015625 \nQ 14.890625 38.140625 10.796875 36.28125 \nz\n\" id=\"DejaVuSans-53\"/>\n       </defs>\n       <use xlink:href=\"#DejaVuSans-53\"/>\n      </g>\n     </g>\n    </g>\n    <g id=\"xtick_3\">\n     <g id=\"line2d_3\">\n      <g>\n       <use style=\"stroke:#000000;stroke-width:0.8;\" x=\"131.55\" xlink:href=\"#mf8c992bdf0\" y=\"224.64\"/>\n      </g>\n     </g>\n     <g id=\"text_3\">\n      <!-- 10 -->\n      <g transform=\"translate(125.1875 239.238437)scale(0.1 -0.1)\">\n       <defs>\n        <path d=\"M 12.40625 8.296875 \nL 28.515625 8.296875 \nL 28.515625 63.921875 \nL 10.984375 60.40625 \nL 10.984375 69.390625 \nL 28.421875 72.90625 \nL 38.28125 72.90625 \nL 38.28125 8.296875 \nL 54.390625 8.296875 \nL 54.390625 0 \nL 12.40625 0 \nz\n\" id=\"DejaVuSans-49\"/>\n       </defs>\n       <use xlink:href=\"#DejaVuSans-49\"/>\n       <use x=\"63.623047\" xlink:href=\"#DejaVuSans-48\"/>\n      </g>\n     </g>\n    </g>\n    <g id=\"xtick_4\">\n     <g id=\"line2d_4\">\n      <g>\n       <use style=\"stroke:#000000;stroke-width:0.8;\" x=\"183.8625\" xlink:href=\"#mf8c992bdf0\" y=\"224.64\"/>\n      </g>\n     </g>\n     <g id=\"text_4\">\n      <!-- 15 -->\n      <g transform=\"translate(177.5 239.238437)scale(0.1 -0.1)\">\n       <use xlink:href=\"#DejaVuSans-49\"/>\n       <use x=\"63.623047\" xlink:href=\"#DejaVuSans-53\"/>\n      </g>\n     </g>\n    </g>\n    <g id=\"xtick_5\">\n     <g id=\"line2d_5\">\n      <g>\n       <use style=\"stroke:#000000;stroke-width:0.8;\" x=\"236.175\" xlink:href=\"#mf8c992bdf0\" y=\"224.64\"/>\n      </g>\n     </g>\n     <g id=\"text_5\">\n      <!-- 20 -->\n      <g transform=\"translate(229.8125 239.238437)scale(0.1 -0.1)\">\n       <defs>\n        <path d=\"M 19.1875 8.296875 \nL 53.609375 8.296875 \nL 53.609375 0 \nL 7.328125 0 \nL 7.328125 8.296875 \nQ 12.9375 14.109375 22.625 23.890625 \nQ 32.328125 33.6875 34.8125 36.53125 \nQ 39.546875 41.84375 41.421875 45.53125 \nQ 43.3125 49.21875 43.3125 52.78125 \nQ 43.3125 58.59375 39.234375 62.25 \nQ 35.15625 65.921875 28.609375 65.921875 \nQ 23.96875 65.921875 18.8125 64.3125 \nQ 13.671875 62.703125 7.8125 59.421875 \nL 7.8125 69.390625 \nQ 13.765625 71.78125 18.9375 73 \nQ 24.125 74.21875 28.421875 74.21875 \nQ 39.75 74.21875 46.484375 68.546875 \nQ 53.21875 62.890625 53.21875 53.421875 \nQ 53.21875 48.921875 51.53125 44.890625 \nQ 49.859375 40.875 45.40625 35.40625 \nQ 44.1875 33.984375 37.640625 27.21875 \nQ 31.109375 20.453125 19.1875 8.296875 \nz\n\" id=\"DejaVuSans-50\"/>\n       </defs>\n       <use xlink:href=\"#DejaVuSans-50\"/>\n       <use x=\"63.623047\" xlink:href=\"#DejaVuSans-48\"/>\n      </g>\n     </g>\n    </g>\n    <g id=\"xtick_6\">\n     <g id=\"line2d_6\">\n      <g>\n       <use style=\"stroke:#000000;stroke-width:0.8;\" x=\"288.4875\" xlink:href=\"#mf8c992bdf0\" y=\"224.64\"/>\n      </g>\n     </g>\n     <g id=\"text_6\">\n      <!-- 25 -->\n      <g transform=\"translate(282.125 239.238437)scale(0.1 -0.1)\">\n       <use xlink:href=\"#DejaVuSans-50\"/>\n       <use x=\"63.623047\" xlink:href=\"#DejaVuSans-53\"/>\n      </g>\n     </g>\n    </g>\n    <g id=\"xtick_7\">\n     <g id=\"line2d_7\">\n      <g>\n       <use style=\"stroke:#000000;stroke-width:0.8;\" x=\"340.8\" xlink:href=\"#mf8c992bdf0\" y=\"224.64\"/>\n      </g>\n     </g>\n     <g id=\"text_7\">\n      <!-- 30 -->\n      <g transform=\"translate(334.4375 239.238437)scale(0.1 -0.1)\">\n       <defs>\n        <path d=\"M 40.578125 39.3125 \nQ 47.65625 37.796875 51.625 33 \nQ 55.609375 28.21875 55.609375 21.1875 \nQ 55.609375 10.40625 48.1875 4.484375 \nQ 40.765625 -1.421875 27.09375 -1.421875 \nQ 22.515625 -1.421875 17.65625 -0.515625 \nQ 12.796875 0.390625 7.625 2.203125 \nL 7.625 11.71875 \nQ 11.71875 9.328125 16.59375 8.109375 \nQ 21.484375 6.890625 26.8125 6.890625 \nQ 36.078125 6.890625 40.9375 10.546875 \nQ 45.796875 14.203125 45.796875 21.1875 \nQ 45.796875 27.640625 41.28125 31.265625 \nQ 36.765625 34.90625 28.71875 34.90625 \nL 20.21875 34.90625 \nL 20.21875 43.015625 \nL 29.109375 43.015625 \nQ 36.375 43.015625 40.234375 45.921875 \nQ 44.09375 48.828125 44.09375 54.296875 \nQ 44.09375 59.90625 40.109375 62.90625 \nQ 36.140625 65.921875 28.71875 65.921875 \nQ 24.65625 65.921875 20.015625 65.03125 \nQ 15.375 64.15625 9.8125 62.3125 \nL 9.8125 71.09375 \nQ 15.4375 72.65625 20.34375 73.4375 \nQ 25.25 74.21875 29.59375 74.21875 \nQ 40.828125 74.21875 47.359375 69.109375 \nQ 53.90625 64.015625 53.90625 55.328125 \nQ 53.90625 49.265625 50.4375 45.09375 \nQ 46.96875 40.921875 40.578125 39.3125 \nz\n\" id=\"DejaVuSans-51\"/>\n       </defs>\n       <use xlink:href=\"#DejaVuSans-51\"/>\n       <use x=\"63.623047\" xlink:href=\"#DejaVuSans-48\"/>\n      </g>\n     </g>\n    </g>\n   </g>\n   <g id=\"matplotlib.axis_2\">\n    <g id=\"ytick_1\">\n     <g id=\"line2d_8\">\n      <defs>\n       <path d=\"M 0 0 \nL -3.5 0 \n\" id=\"ma3617aa0b0\" style=\"stroke:#000000;stroke-width:0.8;\"/>\n      </defs>\n      <g>\n       <use style=\"stroke:#000000;stroke-width:0.8;\" x=\"26.925\" xlink:href=\"#ma3617aa0b0\" y=\"224.64\"/>\n      </g>\n     </g>\n     <g id=\"text_8\">\n      <!-- 0 -->\n      <g transform=\"translate(13.5625 228.439219)scale(0.1 -0.1)\">\n       <use xlink:href=\"#DejaVuSans-48\"/>\n      </g>\n     </g>\n    </g>\n    <g id=\"ytick_2\">\n     <g id=\"line2d_9\">\n      <g>\n       <use style=\"stroke:#000000;stroke-width:0.8;\" x=\"26.925\" xlink:href=\"#ma3617aa0b0\" y=\"190.665\"/>\n      </g>\n     </g>\n     <g id=\"text_9\">\n      <!-- 5 -->\n      <g transform=\"translate(13.5625 194.464219)scale(0.1 -0.1)\">\n       <use xlink:href=\"#DejaVuSans-53\"/>\n      </g>\n     </g>\n    </g>\n    <g id=\"ytick_3\">\n     <g id=\"line2d_10\">\n      <g>\n       <use style=\"stroke:#000000;stroke-width:0.8;\" x=\"26.925\" xlink:href=\"#ma3617aa0b0\" y=\"156.69\"/>\n      </g>\n     </g>\n     <g id=\"text_10\">\n      <!-- 10 -->\n      <g transform=\"translate(7.2 160.489219)scale(0.1 -0.1)\">\n       <use xlink:href=\"#DejaVuSans-49\"/>\n       <use x=\"63.623047\" xlink:href=\"#DejaVuSans-48\"/>\n      </g>\n     </g>\n    </g>\n    <g id=\"ytick_4\">\n     <g id=\"line2d_11\">\n      <g>\n       <use style=\"stroke:#000000;stroke-width:0.8;\" x=\"26.925\" xlink:href=\"#ma3617aa0b0\" y=\"122.715\"/>\n      </g>\n     </g>\n     <g id=\"text_11\">\n      <!-- 15 -->\n      <g transform=\"translate(7.2 126.514219)scale(0.1 -0.1)\">\n       <use xlink:href=\"#DejaVuSans-49\"/>\n       <use x=\"63.623047\" xlink:href=\"#DejaVuSans-53\"/>\n      </g>\n     </g>\n    </g>\n    <g id=\"ytick_5\">\n     <g id=\"line2d_12\">\n      <g>\n       <use style=\"stroke:#000000;stroke-width:0.8;\" x=\"26.925\" xlink:href=\"#ma3617aa0b0\" y=\"88.74\"/>\n      </g>\n     </g>\n     <g id=\"text_12\">\n      <!-- 20 -->\n      <g transform=\"translate(7.2 92.539219)scale(0.1 -0.1)\">\n       <use xlink:href=\"#DejaVuSans-50\"/>\n       <use x=\"63.623047\" xlink:href=\"#DejaVuSans-48\"/>\n      </g>\n     </g>\n    </g>\n    <g id=\"ytick_6\">\n     <g id=\"line2d_13\">\n      <g>\n       <use style=\"stroke:#000000;stroke-width:0.8;\" x=\"26.925\" xlink:href=\"#ma3617aa0b0\" y=\"54.765\"/>\n      </g>\n     </g>\n     <g id=\"text_13\">\n      <!-- 25 -->\n      <g transform=\"translate(7.2 58.564219)scale(0.1 -0.1)\">\n       <use xlink:href=\"#DejaVuSans-50\"/>\n       <use x=\"63.623047\" xlink:href=\"#DejaVuSans-53\"/>\n      </g>\n     </g>\n    </g>\n    <g id=\"ytick_7\">\n     <g id=\"line2d_14\">\n      <g>\n       <use style=\"stroke:#000000;stroke-width:0.8;\" x=\"26.925\" xlink:href=\"#ma3617aa0b0\" y=\"20.79\"/>\n      </g>\n     </g>\n     <g id=\"text_14\">\n      <!-- 30 -->\n      <g transform=\"translate(7.2 24.589219)scale(0.1 -0.1)\">\n       <use xlink:href=\"#DejaVuSans-51\"/>\n       <use x=\"63.623047\" xlink:href=\"#DejaVuSans-48\"/>\n      </g>\n     </g>\n    </g>\n   </g>\n   <g id=\"patch_30\">\n    <path d=\"M 26.925 224.64 \nL 26.925 7.2 \n\" style=\"fill:none;stroke:#000000;stroke-linecap:square;stroke-linejoin:miter;stroke-width:0.8;\"/>\n   </g>\n   <g id=\"patch_31\">\n    <path d=\"M 361.725 224.64 \nL 361.725 7.2 \n\" style=\"fill:none;stroke:#000000;stroke-linecap:square;stroke-linejoin:miter;stroke-width:0.8;\"/>\n   </g>\n   <g id=\"patch_32\">\n    <path d=\"M 26.925 224.64 \nL 361.725 224.64 \n\" style=\"fill:none;stroke:#000000;stroke-linecap:square;stroke-linejoin:miter;stroke-width:0.8;\"/>\n   </g>\n   <g id=\"patch_33\">\n    <path d=\"M 26.925 7.2 \nL 361.725 7.2 \n\" style=\"fill:none;stroke:#000000;stroke-linecap:square;stroke-linejoin:miter;stroke-width:0.8;\"/>\n   </g>\n  </g>\n </g>\n <defs>\n  <clipPath id=\"p090410494c\">\n   <rect height=\"217.44\" width=\"334.8\" x=\"26.925\" y=\"7.2\"/>\n  </clipPath>\n </defs>\n</svg>\n",
      "image/png": "[encoded data removed]"
     },
     "metadata": {
      "needs_background": "light"
     }
    },
    {
     "output_type": "stream",
     "name": "stdout",
     "text": "Paper dimensions: 33x33\nPresents dimensions: [[7, 33], [3, 33], [3, 30], [3, 24], [4, 17], [4, 14], [3, 17], [4, 12], [3, 15], [3, 14], [4, 10], [3, 13], [3, 10], [3, 9], [3, 8], [4, 6], [3, 7], [3, 6], [4, 4], [3, 5], [3, 4], [4, 3], [3, 3]]\n%%%mzn-stat: nSolutions=1\nSolver output:\nGenerated FlatZinc statistics:\nmzn-stat: paths=0\nmzn-stat: flatBoolVars=1033\nmzn-stat: flatIntVars=247\nmzn-stat: flatBoolConstraints=253\nmzn-stat: flatIntConstraints=1285\nmzn-stat: evaluatedReifiedConstraints=23\nmzn-stat: evaluatedHalfReifiedConstraints=1010\nmzn-stat: method=\"satisfy\"\nmzn-stat: flatTime=0.184677\nmzn-stat-end\nmzn-stat: initTime=0.012563\nmzn-stat: solveTime=84.2194\nmzn-stat: solutions=1\nmzn-stat: variables=1336\nmzn-stat: propagators=1394\nmzn-stat: propagations=257105079\nmzn-stat: nodes=3196337\nmzn-stat: failures=1598156\nmzn-stat: restarts=0\nmzn-stat: peakDepth=57\nmzn-stat-end\nSolution: [[0, 0], [7, 0], [10, 0], [13, 0], [16, 0], [20, 0], [24, 0], [20, 14], [27, 0], [30, 0], [16, 17], [30, 14], [27, 15], [24, 17], [27, 25], [16, 27], [20, 26], [30, 27], [23, 26], [13, 24], [13, 29], [23, 30], [10, 30]]\n"
    },
    {
     "output_type": "display_data",
     "data": {
      "text/plain": "<Figure size 432x288 with 1 Axes>",
      "image/svg+xml": "<?xml version=\"1.0\" encoding=\"utf-8\" standalone=\"no\"?>\n<!DOCTYPE svg PUBLIC \"-//W3C//DTD SVG 1.1//EN\"\n  \"http://www.w3.org/Graphics/SVG/1.1/DTD/svg11.dtd\">\n<!-- Created with matplotlib (https://matplotlib.org/) -->\n<svg height=\"248.518125pt\" version=\"1.1\" viewBox=\"0 0 368.925 248.518125\" width=\"368.925pt\" xmlns=\"http://www.w3.org/2000/svg\" xmlns:xlink=\"http://www.w3.org/1999/xlink\">\n <metadata>\n  <rdf:RDF xmlns:cc=\"http://creativecommons.org/ns#\" xmlns:dc=\"http://purl.org/dc/elements/1.1/\" xmlns:rdf=\"http://www.w3.org/1999/02/22-rdf-syntax-ns#\">\n   <cc:Work>\n    <dc:type rdf:resource=\"http://purl.org/dc/dcmitype/StillImage\"/>\n    <dc:date>2020-08-17T11:21:43.357650</dc:date>\n    <dc:format>image/svg+xml</dc:format>\n    <dc:creator>\n     <cc:Agent>\n      <dc:title>Matplotlib v3.3.0, https://matplotlib.org/</dc:title>\n     </cc:Agent>\n    </dc:creator>\n   </cc:Work>\n  </rdf:RDF>\n </metadata>\n <defs>\n  <style type=\"text/css\">*{stroke-linecap:butt;stroke-linejoin:round;}</style>\n </defs>\n <g id=\"figure_1\">\n  <g id=\"patch_1\">\n   <path d=\"M -0 248.518125 \nL 368.925 248.518125 \nL 368.925 0 \nL -0 0 \nz\n\" style=\"fill:none;\"/>\n  </g>\n  <g id=\"axes_1\">\n   <g id=\"patch_2\">\n    <path d=\"M 26.925 224.64 \nL 361.725 224.64 \nL 361.725 7.2 \nL 26.925 7.2 \nz\n\" style=\"fill:#ffffff;\"/>\n   </g>\n   <g id=\"patch_3\">\n    <path clip-path=\"url(#p285d64dfe0)\" d=\"M 26.925 224.64 \nL 97.943182 224.64 \nL 97.943182 7.2 \nL 26.925 7.2 \nz\n\" style=\"fill:#08b869;\"/>\n   </g>\n   <g id=\"patch_4\">\n    <path clip-path=\"url(#p285d64dfe0)\" d=\"M 97.943182 224.64 \nL 128.379545 224.64 \nL 128.379545 7.2 \nL 97.943182 7.2 \nz\n\" style=\"fill:#395848;\"/>\n   </g>\n   <g id=\"patch_5\">\n    <path clip-path=\"url(#p285d64dfe0)\" d=\"M 128.379545 224.64 \nL 158.815909 224.64 \nL 158.815909 26.967273 \nL 128.379545 26.967273 \nz\n\" style=\"fill:#6e5f9c;\"/>\n   </g>\n   <g id=\"patch_6\">\n    <path clip-path=\"url(#p285d64dfe0)\" d=\"M 158.815909 224.64 \nL 189.252273 224.64 \nL 189.252273 66.501818 \nL 158.815909 66.501818 \nz\n\" style=\"fill:#ccf1ae;\"/>\n   </g>\n   <g id=\"patch_7\">\n    <path clip-path=\"url(#p285d64dfe0)\" d=\"M 189.252273 224.64 \nL 229.834091 224.64 \nL 229.834091 112.625455 \nL 189.252273 112.625455 \nz\n\" style=\"fill:#3a0db0;\"/>\n   </g>\n   <g id=\"patch_8\">\n    <path clip-path=\"url(#p285d64dfe0)\" d=\"M 229.834091 224.64 \nL 270.415909 224.64 \nL 270.415909 132.392727 \nL 229.834091 132.392727 \nz\n\" style=\"fill:#fb30b7;\"/>\n   </g>\n   <g id=\"patch_9\">\n    <path clip-path=\"url(#p285d64dfe0)\" d=\"M 270.415909 224.64 \nL 300.852273 224.64 \nL 300.852273 112.625455 \nL 270.415909 112.625455 \nz\n\" style=\"fill:#327a18;\"/>\n   </g>\n   <g id=\"patch_10\">\n    <path clip-path=\"url(#p285d64dfe0)\" d=\"M 229.834091 132.392727 \nL 270.415909 132.392727 \nL 270.415909 53.323636 \nL 229.834091 53.323636 \nz\n\" style=\"fill:#e93871;\"/>\n   </g>\n   <g id=\"patch_11\">\n    <path clip-path=\"url(#p285d64dfe0)\" d=\"M 300.852273 224.64 \nL 331.288636 224.64 \nL 331.288636 125.803636 \nL 300.852273 125.803636 \nz\n\" style=\"fill:#0d8444;\"/>\n   </g>\n   <g id=\"patch_12\">\n    <path clip-path=\"url(#p285d64dfe0)\" d=\"M 331.288636 224.64 \nL 361.725 224.64 \nL 361.725 132.392727 \nL 331.288636 132.392727 \nz\n\" style=\"fill:#933ed0;\"/>\n   </g>\n   <g id=\"patch_13\">\n    <path clip-path=\"url(#p285d64dfe0)\" d=\"M 189.252273 112.625455 \nL 229.834091 112.625455 \nL 229.834091 46.734545 \nL 189.252273 46.734545 \nz\n\" style=\"fill:#00c141;\"/>\n   </g>\n   <g id=\"patch_14\">\n    <path clip-path=\"url(#p285d64dfe0)\" d=\"M 331.288636 132.392727 \nL 361.725 132.392727 \nL 361.725 46.734545 \nL 331.288636 46.734545 \nz\n\" style=\"fill:#b8940f;\"/>\n   </g>\n   <g id=\"patch_15\">\n    <path clip-path=\"url(#p285d64dfe0)\" d=\"M 300.852273 125.803636 \nL 331.288636 125.803636 \nL 331.288636 59.912727 \nL 300.852273 59.912727 \nz\n\" style=\"fill:#9e52d3;\"/>\n   </g>\n   <g id=\"patch_16\">\n    <path clip-path=\"url(#p285d64dfe0)\" d=\"M 270.415909 112.625455 \nL 300.852273 112.625455 \nL 300.852273 53.323636 \nL 270.415909 53.323636 \nz\n\" style=\"fill:#af19a7;\"/>\n   </g>\n   <g id=\"patch_17\">\n    <path clip-path=\"url(#p285d64dfe0)\" d=\"M 300.852273 59.912727 \nL 331.288636 59.912727 \nL 331.288636 7.2 \nL 300.852273 7.2 \nz\n\" style=\"fill:#618a0b;\"/>\n   </g>\n   <g id=\"patch_18\">\n    <path clip-path=\"url(#p285d64dfe0)\" d=\"M 189.252273 46.734545 \nL 229.834091 46.734545 \nL 229.834091 7.2 \nL 189.252273 7.2 \nz\n\" style=\"fill:#e0b694;\"/>\n   </g>\n   <g id=\"patch_19\">\n    <path clip-path=\"url(#p285d64dfe0)\" d=\"M 229.834091 53.323636 \nL 260.270455 53.323636 \nL 260.270455 7.2 \nL 229.834091 7.2 \nz\n\" style=\"fill:#dcb131;\"/>\n   </g>\n   <g id=\"patch_20\">\n    <path clip-path=\"url(#p285d64dfe0)\" d=\"M 331.288636 46.734545 \nL 361.725 46.734545 \nL 361.725 7.2 \nL 331.288636 7.2 \nz\n\" style=\"fill:#a4644d;\"/>\n   </g>\n   <g id=\"patch_21\">\n    <path clip-path=\"url(#p285d64dfe0)\" d=\"M 260.270455 53.323636 \nL 300.852273 53.323636 \nL 300.852273 26.967273 \nL 260.270455 26.967273 \nz\n\" style=\"fill:#735c1e;\"/>\n   </g>\n   <g id=\"patch_22\">\n    <path clip-path=\"url(#p285d64dfe0)\" d=\"M 158.815909 66.501818 \nL 189.252273 66.501818 \nL 189.252273 33.556364 \nL 158.815909 33.556364 \nz\n\" style=\"fill:#dac671;\"/>\n   </g>\n   <g id=\"patch_23\">\n    <path clip-path=\"url(#p285d64dfe0)\" d=\"M 158.815909 33.556364 \nL 189.252273 33.556364 \nL 189.252273 7.2 \nL 158.815909 7.2 \nz\n\" style=\"fill:#cff8b0;\"/>\n   </g>\n   <g id=\"patch_24\">\n    <path clip-path=\"url(#p285d64dfe0)\" d=\"M 260.270455 26.967273 \nL 300.852273 26.967273 \nL 300.852273 7.2 \nL 260.270455 7.2 \nz\n\" style=\"fill:#64dc52;\"/>\n   </g>\n   <g id=\"patch_25\">\n    <path clip-path=\"url(#p285d64dfe0)\" d=\"M 128.379545 26.967273 \nL 158.815909 26.967273 \nL 158.815909 7.2 \nL 128.379545 7.2 \nz\n\" style=\"fill:#a30146;\"/>\n   </g>\n   <g id=\"matplotlib.axis_1\">\n    <g id=\"xtick_1\">\n     <g id=\"line2d_1\">\n      <defs>\n       <path d=\"M 0 0 \nL 0 3.5 \n\" id=\"m6c0274fc2c\" style=\"stroke:#000000;stroke-width:0.8;\"/>\n      </defs>\n      <g>\n       <use style=\"stroke:#000000;stroke-width:0.8;\" x=\"26.925\" xlink:href=\"#m6c0274fc2c\" y=\"224.64\"/>\n      </g>\n     </g>\n     <g id=\"text_1\">\n      <!-- 0 -->\n      <g transform=\"translate(23.74375 239.238437)scale(0.1 -0.1)\">\n       <defs>\n        <path d=\"M 31.78125 66.40625 \nQ 24.171875 66.40625 20.328125 58.90625 \nQ 16.5 51.421875 16.5 36.375 \nQ 16.5 21.390625 20.328125 13.890625 \nQ 24.171875 6.390625 31.78125 6.390625 \nQ 39.453125 6.390625 43.28125 13.890625 \nQ 47.125 21.390625 47.125 36.375 \nQ 47.125 51.421875 43.28125 58.90625 \nQ 39.453125 66.40625 31.78125 66.40625 \nz\nM 31.78125 74.21875 \nQ 44.046875 74.21875 50.515625 64.515625 \nQ 56.984375 54.828125 56.984375 36.375 \nQ 56.984375 17.96875 50.515625 8.265625 \nQ 44.046875 -1.421875 31.78125 -1.421875 \nQ 19.53125 -1.421875 13.0625 8.265625 \nQ 6.59375 17.96875 6.59375 36.375 \nQ 6.59375 54.828125 13.0625 64.515625 \nQ 19.53125 74.21875 31.78125 74.21875 \nz\n\" id=\"DejaVuSans-48\"/>\n       </defs>\n       <use xlink:href=\"#DejaVuSans-48\"/>\n      </g>\n     </g>\n    </g>\n    <g id=\"xtick_2\">\n     <g id=\"line2d_2\">\n      <g>\n       <use style=\"stroke:#000000;stroke-width:0.8;\" x=\"77.652273\" xlink:href=\"#m6c0274fc2c\" y=\"224.64\"/>\n      </g>\n     </g>\n     <g id=\"text_2\">\n      <!-- 5 -->\n      <g transform=\"translate(74.471023 239.238437)scale(0.1 -0.1)\">\n       <defs>\n        <path d=\"M 10.796875 72.90625 \nL 49.515625 72.90625 \nL 49.515625 64.59375 \nL 19.828125 64.59375 \nL 19.828125 46.734375 \nQ 21.96875 47.46875 24.109375 47.828125 \nQ 26.265625 48.1875 28.421875 48.1875 \nQ 40.625 48.1875 47.75 41.5 \nQ 54.890625 34.8125 54.890625 23.390625 \nQ 54.890625 11.625 47.5625 5.09375 \nQ 40.234375 -1.421875 26.90625 -1.421875 \nQ 22.3125 -1.421875 17.546875 -0.640625 \nQ 12.796875 0.140625 7.71875 1.703125 \nL 7.71875 11.625 \nQ 12.109375 9.234375 16.796875 8.0625 \nQ 21.484375 6.890625 26.703125 6.890625 \nQ 35.15625 6.890625 40.078125 11.328125 \nQ 45.015625 15.765625 45.015625 23.390625 \nQ 45.015625 31 40.078125 35.4375 \nQ 35.15625 39.890625 26.703125 39.890625 \nQ 22.75 39.890625 18.8125 39.015625 \nQ 14.890625 38.140625 10.796875 36.28125 \nz\n\" id=\"DejaVuSans-53\"/>\n       </defs>\n       <use xlink:href=\"#DejaVuSans-53\"/>\n      </g>\n     </g>\n    </g>\n    <g id=\"xtick_3\">\n     <g id=\"line2d_3\">\n      <g>\n       <use style=\"stroke:#000000;stroke-width:0.8;\" x=\"128.379545\" xlink:href=\"#m6c0274fc2c\" y=\"224.64\"/>\n      </g>\n     </g>\n     <g id=\"text_3\">\n      <!-- 10 -->\n      <g transform=\"translate(122.017045 239.238437)scale(0.1 -0.1)\">\n       <defs>\n        <path d=\"M 12.40625 8.296875 \nL 28.515625 8.296875 \nL 28.515625 63.921875 \nL 10.984375 60.40625 \nL 10.984375 69.390625 \nL 28.421875 72.90625 \nL 38.28125 72.90625 \nL 38.28125 8.296875 \nL 54.390625 8.296875 \nL 54.390625 0 \nL 12.40625 0 \nz\n\" id=\"DejaVuSans-49\"/>\n       </defs>\n       <use xlink:href=\"#DejaVuSans-49\"/>\n       <use x=\"63.623047\" xlink:href=\"#DejaVuSans-48\"/>\n      </g>\n     </g>\n    </g>\n    <g id=\"xtick_4\">\n     <g id=\"line2d_4\">\n      <g>\n       <use style=\"stroke:#000000;stroke-width:0.8;\" x=\"179.106818\" xlink:href=\"#m6c0274fc2c\" y=\"224.64\"/>\n      </g>\n     </g>\n     <g id=\"text_4\">\n      <!-- 15 -->\n      <g transform=\"translate(172.744318 239.238437)scale(0.1 -0.1)\">\n       <use xlink:href=\"#DejaVuSans-49\"/>\n       <use x=\"63.623047\" xlink:href=\"#DejaVuSans-53\"/>\n      </g>\n     </g>\n    </g>\n    <g id=\"xtick_5\">\n     <g id=\"line2d_5\">\n      <g>\n       <use style=\"stroke:#000000;stroke-width:0.8;\" x=\"229.834091\" xlink:href=\"#m6c0274fc2c\" y=\"224.64\"/>\n      </g>\n     </g>\n     <g id=\"text_5\">\n      <!-- 20 -->\n      <g transform=\"translate(223.471591 239.238437)scale(0.1 -0.1)\">\n       <defs>\n        <path d=\"M 19.1875 8.296875 \nL 53.609375 8.296875 \nL 53.609375 0 \nL 7.328125 0 \nL 7.328125 8.296875 \nQ 12.9375 14.109375 22.625 23.890625 \nQ 32.328125 33.6875 34.8125 36.53125 \nQ 39.546875 41.84375 41.421875 45.53125 \nQ 43.3125 49.21875 43.3125 52.78125 \nQ 43.3125 58.59375 39.234375 62.25 \nQ 35.15625 65.921875 28.609375 65.921875 \nQ 23.96875 65.921875 18.8125 64.3125 \nQ 13.671875 62.703125 7.8125 59.421875 \nL 7.8125 69.390625 \nQ 13.765625 71.78125 18.9375 73 \nQ 24.125 74.21875 28.421875 74.21875 \nQ 39.75 74.21875 46.484375 68.546875 \nQ 53.21875 62.890625 53.21875 53.421875 \nQ 53.21875 48.921875 51.53125 44.890625 \nQ 49.859375 40.875 45.40625 35.40625 \nQ 44.1875 33.984375 37.640625 27.21875 \nQ 31.109375 20.453125 19.1875 8.296875 \nz\n\" id=\"DejaVuSans-50\"/>\n       </defs>\n       <use xlink:href=\"#DejaVuSans-50\"/>\n       <use x=\"63.623047\" xlink:href=\"#DejaVuSans-48\"/>\n      </g>\n     </g>\n    </g>\n    <g id=\"xtick_6\">\n     <g id=\"line2d_6\">\n      <g>\n       <use style=\"stroke:#000000;stroke-width:0.8;\" x=\"280.561364\" xlink:href=\"#m6c0274fc2c\" y=\"224.64\"/>\n      </g>\n     </g>\n     <g id=\"text_6\">\n      <!-- 25 -->\n      <g transform=\"translate(274.198864 239.238437)scale(0.1 -0.1)\">\n       <use xlink:href=\"#DejaVuSans-50\"/>\n       <use x=\"63.623047\" xlink:href=\"#DejaVuSans-53\"/>\n      </g>\n     </g>\n    </g>\n    <g id=\"xtick_7\">\n     <g id=\"line2d_7\">\n      <g>\n       <use style=\"stroke:#000000;stroke-width:0.8;\" x=\"331.288636\" xlink:href=\"#m6c0274fc2c\" y=\"224.64\"/>\n      </g>\n     </g>\n     <g id=\"text_7\">\n      <!-- 30 -->\n      <g transform=\"translate(324.926136 239.238437)scale(0.1 -0.1)\">\n       <defs>\n        <path d=\"M 40.578125 39.3125 \nQ 47.65625 37.796875 51.625 33 \nQ 55.609375 28.21875 55.609375 21.1875 \nQ 55.609375 10.40625 48.1875 4.484375 \nQ 40.765625 -1.421875 27.09375 -1.421875 \nQ 22.515625 -1.421875 17.65625 -0.515625 \nQ 12.796875 0.390625 7.625 2.203125 \nL 7.625 11.71875 \nQ 11.71875 9.328125 16.59375 8.109375 \nQ 21.484375 6.890625 26.8125 6.890625 \nQ 36.078125 6.890625 40.9375 10.546875 \nQ 45.796875 14.203125 45.796875 21.1875 \nQ 45.796875 27.640625 41.28125 31.265625 \nQ 36.765625 34.90625 28.71875 34.90625 \nL 20.21875 34.90625 \nL 20.21875 43.015625 \nL 29.109375 43.015625 \nQ 36.375 43.015625 40.234375 45.921875 \nQ 44.09375 48.828125 44.09375 54.296875 \nQ 44.09375 59.90625 40.109375 62.90625 \nQ 36.140625 65.921875 28.71875 65.921875 \nQ 24.65625 65.921875 20.015625 65.03125 \nQ 15.375 64.15625 9.8125 62.3125 \nL 9.8125 71.09375 \nQ 15.4375 72.65625 20.34375 73.4375 \nQ 25.25 74.21875 29.59375 74.21875 \nQ 40.828125 74.21875 47.359375 69.109375 \nQ 53.90625 64.015625 53.90625 55.328125 \nQ 53.90625 49.265625 50.4375 45.09375 \nQ 46.96875 40.921875 40.578125 39.3125 \nz\n\" id=\"DejaVuSans-51\"/>\n       </defs>\n       <use xlink:href=\"#DejaVuSans-51\"/>\n       <use x=\"63.623047\" xlink:href=\"#DejaVuSans-48\"/>\n      </g>\n     </g>\n    </g>\n   </g>\n   <g id=\"matplotlib.axis_2\">\n    <g id=\"ytick_1\">\n     <g id=\"line2d_8\">\n      <defs>\n       <path d=\"M 0 0 \nL -3.5 0 \n\" id=\"mecac30cbcc\" style=\"stroke:#000000;stroke-width:0.8;\"/>\n      </defs>\n      <g>\n       <use style=\"stroke:#000000;stroke-width:0.8;\" x=\"26.925\" xlink:href=\"#mecac30cbcc\" y=\"224.64\"/>\n      </g>\n     </g>\n     <g id=\"text_8\">\n      <!-- 0 -->\n      <g transform=\"translate(13.5625 228.439219)scale(0.1 -0.1)\">\n       <use xlink:href=\"#DejaVuSans-48\"/>\n      </g>\n     </g>\n    </g>\n    <g id=\"ytick_2\">\n     <g id=\"line2d_9\">\n      <g>\n       <use style=\"stroke:#000000;stroke-width:0.8;\" x=\"26.925\" xlink:href=\"#mecac30cbcc\" y=\"191.694545\"/>\n      </g>\n     </g>\n     <g id=\"text_9\">\n      <!-- 5 -->\n      <g transform=\"translate(13.5625 195.493764)scale(0.1 -0.1)\">\n       <use xlink:href=\"#DejaVuSans-53\"/>\n      </g>\n     </g>\n    </g>\n    <g id=\"ytick_3\">\n     <g id=\"line2d_10\">\n      <g>\n       <use style=\"stroke:#000000;stroke-width:0.8;\" x=\"26.925\" xlink:href=\"#mecac30cbcc\" y=\"158.749091\"/>\n      </g>\n     </g>\n     <g id=\"text_10\">\n      <!-- 10 -->\n      <g transform=\"translate(7.2 162.54831)scale(0.1 -0.1)\">\n       <use xlink:href=\"#DejaVuSans-49\"/>\n       <use x=\"63.623047\" xlink:href=\"#DejaVuSans-48\"/>\n      </g>\n     </g>\n    </g>\n    <g id=\"ytick_4\">\n     <g id=\"line2d_11\">\n      <g>\n       <use style=\"stroke:#000000;stroke-width:0.8;\" x=\"26.925\" xlink:href=\"#mecac30cbcc\" y=\"125.803636\"/>\n      </g>\n     </g>\n     <g id=\"text_11\">\n      <!-- 15 -->\n      <g transform=\"translate(7.2 129.602855)scale(0.1 -0.1)\">\n       <use xlink:href=\"#DejaVuSans-49\"/>\n       <use x=\"63.623047\" xlink:href=\"#DejaVuSans-53\"/>\n      </g>\n     </g>\n    </g>\n    <g id=\"ytick_5\">\n     <g id=\"line2d_12\">\n      <g>\n       <use style=\"stroke:#000000;stroke-width:0.8;\" x=\"26.925\" xlink:href=\"#mecac30cbcc\" y=\"92.858182\"/>\n      </g>\n     </g>\n     <g id=\"text_12\">\n      <!-- 20 -->\n      <g transform=\"translate(7.2 96.657401)scale(0.1 -0.1)\">\n       <use xlink:href=\"#DejaVuSans-50\"/>\n       <use x=\"63.623047\" xlink:href=\"#DejaVuSans-48\"/>\n      </g>\n     </g>\n    </g>\n    <g id=\"ytick_6\">\n     <g id=\"line2d_13\">\n      <g>\n       <use style=\"stroke:#000000;stroke-width:0.8;\" x=\"26.925\" xlink:href=\"#mecac30cbcc\" y=\"59.912727\"/>\n      </g>\n     </g>\n     <g id=\"text_13\">\n      <!-- 25 -->\n      <g transform=\"translate(7.2 63.711946)scale(0.1 -0.1)\">\n       <use xlink:href=\"#DejaVuSans-50\"/>\n       <use x=\"63.623047\" xlink:href=\"#DejaVuSans-53\"/>\n      </g>\n     </g>\n    </g>\n    <g id=\"ytick_7\">\n     <g id=\"line2d_14\">\n      <g>\n       <use style=\"stroke:#000000;stroke-width:0.8;\" x=\"26.925\" xlink:href=\"#mecac30cbcc\" y=\"26.967273\"/>\n      </g>\n     </g>\n     <g id=\"text_14\">\n      <!-- 30 -->\n      <g transform=\"translate(7.2 30.766491)scale(0.1 -0.1)\">\n       <use xlink:href=\"#DejaVuSans-51\"/>\n       <use x=\"63.623047\" xlink:href=\"#DejaVuSans-48\"/>\n      </g>\n     </g>\n    </g>\n   </g>\n   <g id=\"patch_26\">\n    <path d=\"M 26.925 224.64 \nL 26.925 7.2 \n\" style=\"fill:none;stroke:#000000;stroke-linecap:square;stroke-linejoin:miter;stroke-width:0.8;\"/>\n   </g>\n   <g id=\"patch_27\">\n    <path d=\"M 361.725 224.64 \nL 361.725 7.2 \n\" style=\"fill:none;stroke:#000000;stroke-linecap:square;stroke-linejoin:miter;stroke-width:0.8;\"/>\n   </g>\n   <g id=\"patch_28\">\n    <path d=\"M 26.925 224.64 \nL 361.725 224.64 \n\" style=\"fill:none;stroke:#000000;stroke-linecap:square;stroke-linejoin:miter;stroke-width:0.8;\"/>\n   </g>\n   <g id=\"patch_29\">\n    <path d=\"M 26.925 7.2 \nL 361.725 7.2 \n\" style=\"fill:none;stroke:#000000;stroke-linecap:square;stroke-linejoin:miter;stroke-width:0.8;\"/>\n   </g>\n  </g>\n </g>\n <defs>\n  <clipPath id=\"p285d64dfe0\">\n   <rect height=\"217.44\" width=\"334.8\" x=\"26.925\" y=\"7.2\"/>\n  </clipPath>\n </defs>\n</svg>\n",
      "image/png": "[encoded data removed]"
     },
     "metadata": {
      "needs_background": "light"
     }
    },
    {
     "output_type": "stream",
     "name": "stdout",
     "text": "Paper dimensions: 34x34\nPresents dimensions: [[12, 34], [3, 34], [3, 25], [3, 22], [3, 21], [4, 14], [4, 11], [3, 14], [3, 13], [3, 12], [3, 11], [3, 10], [3, 9], [3, 8], [3, 7], [4, 5], [3, 6], [4, 4], [3, 5], [3, 4], [3, 3]]\n%%%mzn-stat: nSolutions=1\nSolver output:\nGenerated FlatZinc statistics:\nmzn-stat: paths=0\nmzn-stat: flatBoolVars=859\nmzn-stat: flatIntVars=225\nmzn-stat: flatBoolConstraints=210\nmzn-stat: flatIntConstraints=1089\nmzn-stat: evaluatedReifiedConstraints=21\nmzn-stat: evaluatedHalfReifiedConstraints=838\nmzn-stat: method=\"satisfy\"\nmzn-stat: flatTime=0.156194\nmzn-stat-end\nmzn-stat: initTime=0.01118\nmzn-stat: solveTime=226.882\nmzn-stat: solutions=1\nmzn-stat: variables=1136\nmzn-stat: propagators=1189\nmzn-stat: propagations=748583731\nmzn-stat: nodes=10566448\nmzn-stat: failures=5283213\nmzn-stat: restarts=0\nmzn-stat: peakDepth=62\nmzn-stat-end\nSolution: [[0, 0], [12, 0], [15, 0], [18, 0], [21, 0], [24, 0], [24, 14], [28, 0], [31, 0], [28, 14], [31, 13], [21, 21], [15, 25], [28, 26], [18, 22], [24, 25], [31, 24], [24, 30], [18, 29], [31, 30], [21, 31]]\n"
    },
    {
     "output_type": "display_data",
     "data": {
      "text/plain": "<Figure size 432x288 with 1 Axes>",
      "image/svg+xml": "<?xml version=\"1.0\" encoding=\"utf-8\" standalone=\"no\"?>\n<!DOCTYPE svg PUBLIC \"-//W3C//DTD SVG 1.1//EN\"\n  \"http://www.w3.org/Graphics/SVG/1.1/DTD/svg11.dtd\">\n<!-- Created with matplotlib (https://matplotlib.org/) -->\n<svg height=\"248.518125pt\" version=\"1.1\" viewBox=\"0 0 368.925 248.518125\" width=\"368.925pt\" xmlns=\"http://www.w3.org/2000/svg\" xmlns:xlink=\"http://www.w3.org/1999/xlink\">\n <metadata>\n  <rdf:RDF xmlns:cc=\"http://creativecommons.org/ns#\" xmlns:dc=\"http://purl.org/dc/elements/1.1/\" xmlns:rdf=\"http://www.w3.org/1999/02/22-rdf-syntax-ns#\">\n   <cc:Work>\n    <dc:type rdf:resource=\"http://purl.org/dc/dcmitype/StillImage\"/>\n    <dc:date>2020-08-17T11:25:30.915531</dc:date>\n    <dc:format>image/svg+xml</dc:format>\n    <dc:creator>\n     <cc:Agent>\n      <dc:title>Matplotlib v3.3.0, https://matplotlib.org/</dc:title>\n     </cc:Agent>\n    </dc:creator>\n   </cc:Work>\n  </rdf:RDF>\n </metadata>\n <defs>\n  <style type=\"text/css\">*{stroke-linecap:butt;stroke-linejoin:round;}</style>\n </defs>\n <g id=\"figure_1\">\n  <g id=\"patch_1\">\n   <path d=\"M -0 248.518125 \nL 368.925 248.518125 \nL 368.925 0 \nL -0 0 \nz\n\" style=\"fill:none;\"/>\n  </g>\n  <g id=\"axes_1\">\n   <g id=\"patch_2\">\n    <path d=\"M 26.925 224.64 \nL 361.725 224.64 \nL 361.725 7.2 \nL 26.925 7.2 \nz\n\" style=\"fill:#ffffff;\"/>\n   </g>\n   <g id=\"patch_3\">\n    <path clip-path=\"url(#p2bb3bf69aa)\" d=\"M 26.925 224.64 \nL 145.089706 224.64 \nL 145.089706 7.2 \nL 26.925 7.2 \nz\n\" style=\"fill:#cbdb9a;\"/>\n   </g>\n   <g id=\"patch_4\">\n    <path clip-path=\"url(#p2bb3bf69aa)\" d=\"M 145.089706 224.64 \nL 174.630882 224.64 \nL 174.630882 7.2 \nL 145.089706 7.2 \nz\n\" style=\"fill:#d144f7;\"/>\n   </g>\n   <g id=\"patch_5\">\n    <path clip-path=\"url(#p2bb3bf69aa)\" d=\"M 174.630882 224.64 \nL 204.172059 224.64 \nL 204.172059 64.757647 \nL 174.630882 64.757647 \nz\n\" style=\"fill:#20a73c;\"/>\n   </g>\n   <g id=\"patch_6\">\n    <path clip-path=\"url(#p2bb3bf69aa)\" d=\"M 204.172059 224.64 \nL 233.713235 224.64 \nL 233.713235 83.943529 \nL 204.172059 83.943529 \nz\n\" style=\"fill:#439f35;\"/>\n   </g>\n   <g id=\"patch_7\">\n    <path clip-path=\"url(#p2bb3bf69aa)\" d=\"M 233.713235 224.64 \nL 263.254412 224.64 \nL 263.254412 90.338824 \nL 233.713235 90.338824 \nz\n\" style=\"fill:#0199d5;\"/>\n   </g>\n   <g id=\"patch_8\">\n    <path clip-path=\"url(#p2bb3bf69aa)\" d=\"M 263.254412 224.64 \nL 302.642647 224.64 \nL 302.642647 135.105882 \nL 263.254412 135.105882 \nz\n\" style=\"fill:#cd204b;\"/>\n   </g>\n   <g id=\"patch_9\">\n    <path clip-path=\"url(#p2bb3bf69aa)\" d=\"M 263.254412 135.105882 \nL 302.642647 135.105882 \nL 302.642647 64.757647 \nL 263.254412 64.757647 \nz\n\" style=\"fill:#5a5b24;\"/>\n   </g>\n   <g id=\"patch_10\">\n    <path clip-path=\"url(#p2bb3bf69aa)\" d=\"M 302.642647 224.64 \nL 332.183824 224.64 \nL 332.183824 135.105882 \nL 302.642647 135.105882 \nz\n\" style=\"fill:#0a4178;\"/>\n   </g>\n   <g id=\"patch_11\">\n    <path clip-path=\"url(#p2bb3bf69aa)\" d=\"M 332.183824 224.64 \nL 361.725 224.64 \nL 361.725 141.501176 \nL 332.183824 141.501176 \nz\n\" style=\"fill:#90152b;\"/>\n   </g>\n   <g id=\"patch_12\">\n    <path clip-path=\"url(#p2bb3bf69aa)\" d=\"M 302.642647 135.105882 \nL 332.183824 135.105882 \nL 332.183824 58.362353 \nL 302.642647 58.362353 \nz\n\" style=\"fill:#4bdea5;\"/>\n   </g>\n   <g id=\"patch_13\">\n    <path clip-path=\"url(#p2bb3bf69aa)\" d=\"M 332.183824 141.501176 \nL 361.725 141.501176 \nL 361.725 71.152941 \nL 332.183824 71.152941 \nz\n\" style=\"fill:#593c5c;\"/>\n   </g>\n   <g id=\"patch_14\">\n    <path clip-path=\"url(#p2bb3bf69aa)\" d=\"M 233.713235 90.338824 \nL 263.254412 90.338824 \nL 263.254412 26.385882 \nL 233.713235 26.385882 \nz\n\" style=\"fill:#fb87ce;\"/>\n   </g>\n   <g id=\"patch_15\">\n    <path clip-path=\"url(#p2bb3bf69aa)\" d=\"M 174.630882 64.757647 \nL 204.172059 64.757647 \nL 204.172059 7.2 \nL 174.630882 7.2 \nz\n\" style=\"fill:#928db0;\"/>\n   </g>\n   <g id=\"patch_16\">\n    <path clip-path=\"url(#p2bb3bf69aa)\" d=\"M 302.642647 58.362353 \nL 332.183824 58.362353 \nL 332.183824 7.2 \nL 302.642647 7.2 \nz\n\" style=\"fill:#9c56aa;\"/>\n   </g>\n   <g id=\"patch_17\">\n    <path clip-path=\"url(#p2bb3bf69aa)\" d=\"M 204.172059 83.943529 \nL 233.713235 83.943529 \nL 233.713235 39.176471 \nL 204.172059 39.176471 \nz\n\" style=\"fill:#3b8412;\"/>\n   </g>\n   <g id=\"patch_18\">\n    <path clip-path=\"url(#p2bb3bf69aa)\" d=\"M 263.254412 64.757647 \nL 302.642647 64.757647 \nL 302.642647 32.781176 \nL 263.254412 32.781176 \nz\n\" style=\"fill:#baee21;\"/>\n   </g>\n   <g id=\"patch_19\">\n    <path clip-path=\"url(#p2bb3bf69aa)\" d=\"M 332.183824 71.152941 \nL 361.725 71.152941 \nL 361.725 32.781176 \nL 332.183824 32.781176 \nz\n\" style=\"fill:#1d57b5;\"/>\n   </g>\n   <g id=\"patch_20\">\n    <path clip-path=\"url(#p2bb3bf69aa)\" d=\"M 263.254412 32.781176 \nL 302.642647 32.781176 \nL 302.642647 7.2 \nL 263.254412 7.2 \nz\n\" style=\"fill:#b5acdc;\"/>\n   </g>\n   <g id=\"patch_21\">\n    <path clip-path=\"url(#p2bb3bf69aa)\" d=\"M 204.172059 39.176471 \nL 233.713235 39.176471 \nL 233.713235 7.2 \nL 204.172059 7.2 \nz\n\" style=\"fill:#6828d5;\"/>\n   </g>\n   <g id=\"patch_22\">\n    <path clip-path=\"url(#p2bb3bf69aa)\" d=\"M 332.183824 32.781176 \nL 361.725 32.781176 \nL 361.725 7.2 \nL 332.183824 7.2 \nz\n\" style=\"fill:#e5120d;\"/>\n   </g>\n   <g id=\"patch_23\">\n    <path clip-path=\"url(#p2bb3bf69aa)\" d=\"M 233.713235 26.385882 \nL 263.254412 26.385882 \nL 263.254412 7.2 \nL 233.713235 7.2 \nz\n\" style=\"fill:#39c29d;\"/>\n   </g>\n   <g id=\"matplotlib.axis_1\">\n    <g id=\"xtick_1\">\n     <g id=\"line2d_1\">\n      <defs>\n       <path d=\"M 0 0 \nL 0 3.5 \n\" id=\"m95491e306f\" style=\"stroke:#000000;stroke-width:0.8;\"/>\n      </defs>\n      <g>\n       <use style=\"stroke:#000000;stroke-width:0.8;\" x=\"26.925\" xlink:href=\"#m95491e306f\" y=\"224.64\"/>\n      </g>\n     </g>\n     <g id=\"text_1\">\n      <!-- 0 -->\n      <g transform=\"translate(23.74375 239.238437)scale(0.1 -0.1)\">\n       <defs>\n        <path d=\"M 31.78125 66.40625 \nQ 24.171875 66.40625 20.328125 58.90625 \nQ 16.5 51.421875 16.5 36.375 \nQ 16.5 21.390625 20.328125 13.890625 \nQ 24.171875 6.390625 31.78125 6.390625 \nQ 39.453125 6.390625 43.28125 13.890625 \nQ 47.125 21.390625 47.125 36.375 \nQ 47.125 51.421875 43.28125 58.90625 \nQ 39.453125 66.40625 31.78125 66.40625 \nz\nM 31.78125 74.21875 \nQ 44.046875 74.21875 50.515625 64.515625 \nQ 56.984375 54.828125 56.984375 36.375 \nQ 56.984375 17.96875 50.515625 8.265625 \nQ 44.046875 -1.421875 31.78125 -1.421875 \nQ 19.53125 -1.421875 13.0625 8.265625 \nQ 6.59375 17.96875 6.59375 36.375 \nQ 6.59375 54.828125 13.0625 64.515625 \nQ 19.53125 74.21875 31.78125 74.21875 \nz\n\" id=\"DejaVuSans-48\"/>\n       </defs>\n       <use xlink:href=\"#DejaVuSans-48\"/>\n      </g>\n     </g>\n    </g>\n    <g id=\"xtick_2\">\n     <g id=\"line2d_2\">\n      <g>\n       <use style=\"stroke:#000000;stroke-width:0.8;\" x=\"76.160294\" xlink:href=\"#m95491e306f\" y=\"224.64\"/>\n      </g>\n     </g>\n     <g id=\"text_2\">\n      <!-- 5 -->\n      <g transform=\"translate(72.979044 239.238437)scale(0.1 -0.1)\">\n       <defs>\n        <path d=\"M 10.796875 72.90625 \nL 49.515625 72.90625 \nL 49.515625 64.59375 \nL 19.828125 64.59375 \nL 19.828125 46.734375 \nQ 21.96875 47.46875 24.109375 47.828125 \nQ 26.265625 48.1875 28.421875 48.1875 \nQ 40.625 48.1875 47.75 41.5 \nQ 54.890625 34.8125 54.890625 23.390625 \nQ 54.890625 11.625 47.5625 5.09375 \nQ 40.234375 -1.421875 26.90625 -1.421875 \nQ 22.3125 -1.421875 17.546875 -0.640625 \nQ 12.796875 0.140625 7.71875 1.703125 \nL 7.71875 11.625 \nQ 12.109375 9.234375 16.796875 8.0625 \nQ 21.484375 6.890625 26.703125 6.890625 \nQ 35.15625 6.890625 40.078125 11.328125 \nQ 45.015625 15.765625 45.015625 23.390625 \nQ 45.015625 31 40.078125 35.4375 \nQ 35.15625 39.890625 26.703125 39.890625 \nQ 22.75 39.890625 18.8125 39.015625 \nQ 14.890625 38.140625 10.796875 36.28125 \nz\n\" id=\"DejaVuSans-53\"/>\n       </defs>\n       <use xlink:href=\"#DejaVuSans-53\"/>\n      </g>\n     </g>\n    </g>\n    <g id=\"xtick_3\">\n     <g id=\"line2d_3\">\n      <g>\n       <use style=\"stroke:#000000;stroke-width:0.8;\" x=\"125.395588\" xlink:href=\"#m95491e306f\" y=\"224.64\"/>\n      </g>\n     </g>\n     <g id=\"text_3\">\n      <!-- 10 -->\n      <g transform=\"translate(119.033088 239.238437)scale(0.1 -0.1)\">\n       <defs>\n        <path d=\"M 12.40625 8.296875 \nL 28.515625 8.296875 \nL 28.515625 63.921875 \nL 10.984375 60.40625 \nL 10.984375 69.390625 \nL 28.421875 72.90625 \nL 38.28125 72.90625 \nL 38.28125 8.296875 \nL 54.390625 8.296875 \nL 54.390625 0 \nL 12.40625 0 \nz\n\" id=\"DejaVuSans-49\"/>\n       </defs>\n       <use xlink:href=\"#DejaVuSans-49\"/>\n       <use x=\"63.623047\" xlink:href=\"#DejaVuSans-48\"/>\n      </g>\n     </g>\n    </g>\n    <g id=\"xtick_4\">\n     <g id=\"line2d_4\">\n      <g>\n       <use style=\"stroke:#000000;stroke-width:0.8;\" x=\"174.630882\" xlink:href=\"#m95491e306f\" y=\"224.64\"/>\n      </g>\n     </g>\n     <g id=\"text_4\">\n      <!-- 15 -->\n      <g transform=\"translate(168.268382 239.238437)scale(0.1 -0.1)\">\n       <use xlink:href=\"#DejaVuSans-49\"/>\n       <use x=\"63.623047\" xlink:href=\"#DejaVuSans-53\"/>\n      </g>\n     </g>\n    </g>\n    <g id=\"xtick_5\">\n     <g id=\"line2d_5\">\n      <g>\n       <use style=\"stroke:#000000;stroke-width:0.8;\" x=\"223.866176\" xlink:href=\"#m95491e306f\" y=\"224.64\"/>\n      </g>\n     </g>\n     <g id=\"text_5\">\n      <!-- 20 -->\n      <g transform=\"translate(217.503676 239.238437)scale(0.1 -0.1)\">\n       <defs>\n        <path d=\"M 19.1875 8.296875 \nL 53.609375 8.296875 \nL 53.609375 0 \nL 7.328125 0 \nL 7.328125 8.296875 \nQ 12.9375 14.109375 22.625 23.890625 \nQ 32.328125 33.6875 34.8125 36.53125 \nQ 39.546875 41.84375 41.421875 45.53125 \nQ 43.3125 49.21875 43.3125 52.78125 \nQ 43.3125 58.59375 39.234375 62.25 \nQ 35.15625 65.921875 28.609375 65.921875 \nQ 23.96875 65.921875 18.8125 64.3125 \nQ 13.671875 62.703125 7.8125 59.421875 \nL 7.8125 69.390625 \nQ 13.765625 71.78125 18.9375 73 \nQ 24.125 74.21875 28.421875 74.21875 \nQ 39.75 74.21875 46.484375 68.546875 \nQ 53.21875 62.890625 53.21875 53.421875 \nQ 53.21875 48.921875 51.53125 44.890625 \nQ 49.859375 40.875 45.40625 35.40625 \nQ 44.1875 33.984375 37.640625 27.21875 \nQ 31.109375 20.453125 19.1875 8.296875 \nz\n\" id=\"DejaVuSans-50\"/>\n       </defs>\n       <use xlink:href=\"#DejaVuSans-50\"/>\n       <use x=\"63.623047\" xlink:href=\"#DejaVuSans-48\"/>\n      </g>\n     </g>\n    </g>\n    <g id=\"xtick_6\">\n     <g id=\"line2d_6\">\n      <g>\n       <use style=\"stroke:#000000;stroke-width:0.8;\" x=\"273.101471\" xlink:href=\"#m95491e306f\" y=\"224.64\"/>\n      </g>\n     </g>\n     <g id=\"text_6\">\n      <!-- 25 -->\n      <g transform=\"translate(266.738971 239.238437)scale(0.1 -0.1)\">\n       <use xlink:href=\"#DejaVuSans-50\"/>\n       <use x=\"63.623047\" xlink:href=\"#DejaVuSans-53\"/>\n      </g>\n     </g>\n    </g>\n    <g id=\"xtick_7\">\n     <g id=\"line2d_7\">\n      <g>\n       <use style=\"stroke:#000000;stroke-width:0.8;\" x=\"322.336765\" xlink:href=\"#m95491e306f\" y=\"224.64\"/>\n      </g>\n     </g>\n     <g id=\"text_7\">\n      <!-- 30 -->\n      <g transform=\"translate(315.974265 239.238437)scale(0.1 -0.1)\">\n       <defs>\n        <path d=\"M 40.578125 39.3125 \nQ 47.65625 37.796875 51.625 33 \nQ 55.609375 28.21875 55.609375 21.1875 \nQ 55.609375 10.40625 48.1875 4.484375 \nQ 40.765625 -1.421875 27.09375 -1.421875 \nQ 22.515625 -1.421875 17.65625 -0.515625 \nQ 12.796875 0.390625 7.625 2.203125 \nL 7.625 11.71875 \nQ 11.71875 9.328125 16.59375 8.109375 \nQ 21.484375 6.890625 26.8125 6.890625 \nQ 36.078125 6.890625 40.9375 10.546875 \nQ 45.796875 14.203125 45.796875 21.1875 \nQ 45.796875 27.640625 41.28125 31.265625 \nQ 36.765625 34.90625 28.71875 34.90625 \nL 20.21875 34.90625 \nL 20.21875 43.015625 \nL 29.109375 43.015625 \nQ 36.375 43.015625 40.234375 45.921875 \nQ 44.09375 48.828125 44.09375 54.296875 \nQ 44.09375 59.90625 40.109375 62.90625 \nQ 36.140625 65.921875 28.71875 65.921875 \nQ 24.65625 65.921875 20.015625 65.03125 \nQ 15.375 64.15625 9.8125 62.3125 \nL 9.8125 71.09375 \nQ 15.4375 72.65625 20.34375 73.4375 \nQ 25.25 74.21875 29.59375 74.21875 \nQ 40.828125 74.21875 47.359375 69.109375 \nQ 53.90625 64.015625 53.90625 55.328125 \nQ 53.90625 49.265625 50.4375 45.09375 \nQ 46.96875 40.921875 40.578125 39.3125 \nz\n\" id=\"DejaVuSans-51\"/>\n       </defs>\n       <use xlink:href=\"#DejaVuSans-51\"/>\n       <use x=\"63.623047\" xlink:href=\"#DejaVuSans-48\"/>\n      </g>\n     </g>\n    </g>\n   </g>\n   <g id=\"matplotlib.axis_2\">\n    <g id=\"ytick_1\">\n     <g id=\"line2d_8\">\n      <defs>\n       <path d=\"M 0 0 \nL -3.5 0 \n\" id=\"ma9eb20ea64\" style=\"stroke:#000000;stroke-width:0.8;\"/>\n      </defs>\n      <g>\n       <use style=\"stroke:#000000;stroke-width:0.8;\" x=\"26.925\" xlink:href=\"#ma9eb20ea64\" y=\"224.64\"/>\n      </g>\n     </g>\n     <g id=\"text_8\">\n      <!-- 0 -->\n      <g transform=\"translate(13.5625 228.439219)scale(0.1 -0.1)\">\n       <use xlink:href=\"#DejaVuSans-48\"/>\n      </g>\n     </g>\n    </g>\n    <g id=\"ytick_2\">\n     <g id=\"line2d_9\">\n      <g>\n       <use style=\"stroke:#000000;stroke-width:0.8;\" x=\"26.925\" xlink:href=\"#ma9eb20ea64\" y=\"192.663529\"/>\n      </g>\n     </g>\n     <g id=\"text_9\">\n      <!-- 5 -->\n      <g transform=\"translate(13.5625 196.462748)scale(0.1 -0.1)\">\n       <use xlink:href=\"#DejaVuSans-53\"/>\n      </g>\n     </g>\n    </g>\n    <g id=\"ytick_3\">\n     <g id=\"line2d_10\">\n      <g>\n       <use style=\"stroke:#000000;stroke-width:0.8;\" x=\"26.925\" xlink:href=\"#ma9eb20ea64\" y=\"160.687059\"/>\n      </g>\n     </g>\n     <g id=\"text_10\">\n      <!-- 10 -->\n      <g transform=\"translate(7.2 164.486278)scale(0.1 -0.1)\">\n       <use xlink:href=\"#DejaVuSans-49\"/>\n       <use x=\"63.623047\" xlink:href=\"#DejaVuSans-48\"/>\n      </g>\n     </g>\n    </g>\n    <g id=\"ytick_4\">\n     <g id=\"line2d_11\">\n      <g>\n       <use style=\"stroke:#000000;stroke-width:0.8;\" x=\"26.925\" xlink:href=\"#ma9eb20ea64\" y=\"128.710588\"/>\n      </g>\n     </g>\n     <g id=\"text_11\">\n      <!-- 15 -->\n      <g transform=\"translate(7.2 132.509807)scale(0.1 -0.1)\">\n       <use xlink:href=\"#DejaVuSans-49\"/>\n       <use x=\"63.623047\" xlink:href=\"#DejaVuSans-53\"/>\n      </g>\n     </g>\n    </g>\n    <g id=\"ytick_5\">\n     <g id=\"line2d_12\">\n      <g>\n       <use style=\"stroke:#000000;stroke-width:0.8;\" x=\"26.925\" xlink:href=\"#ma9eb20ea64\" y=\"96.734118\"/>\n      </g>\n     </g>\n     <g id=\"text_12\">\n      <!-- 20 -->\n      <g transform=\"translate(7.2 100.533336)scale(0.1 -0.1)\">\n       <use xlink:href=\"#DejaVuSans-50\"/>\n       <use x=\"63.623047\" xlink:href=\"#DejaVuSans-48\"/>\n      </g>\n     </g>\n    </g>\n    <g id=\"ytick_6\">\n     <g id=\"line2d_13\">\n      <g>\n       <use style=\"stroke:#000000;stroke-width:0.8;\" x=\"26.925\" xlink:href=\"#ma9eb20ea64\" y=\"64.757647\"/>\n      </g>\n     </g>\n     <g id=\"text_13\">\n      <!-- 25 -->\n      <g transform=\"translate(7.2 68.556866)scale(0.1 -0.1)\">\n       <use xlink:href=\"#DejaVuSans-50\"/>\n       <use x=\"63.623047\" xlink:href=\"#DejaVuSans-53\"/>\n      </g>\n     </g>\n    </g>\n    <g id=\"ytick_7\">\n     <g id=\"line2d_14\">\n      <g>\n       <use style=\"stroke:#000000;stroke-width:0.8;\" x=\"26.925\" xlink:href=\"#ma9eb20ea64\" y=\"32.781176\"/>\n      </g>\n     </g>\n     <g id=\"text_14\">\n      <!-- 30 -->\n      <g transform=\"translate(7.2 36.580395)scale(0.1 -0.1)\">\n       <use xlink:href=\"#DejaVuSans-51\"/>\n       <use x=\"63.623047\" xlink:href=\"#DejaVuSans-48\"/>\n      </g>\n     </g>\n    </g>\n   </g>\n   <g id=\"patch_24\">\n    <path d=\"M 26.925 224.64 \nL 26.925 7.2 \n\" style=\"fill:none;stroke:#000000;stroke-linecap:square;stroke-linejoin:miter;stroke-width:0.8;\"/>\n   </g>\n   <g id=\"patch_25\">\n    <path d=\"M 361.725 224.64 \nL 361.725 7.2 \n\" style=\"fill:none;stroke:#000000;stroke-linecap:square;stroke-linejoin:miter;stroke-width:0.8;\"/>\n   </g>\n   <g id=\"patch_26\">\n    <path d=\"M 26.925 224.64 \nL 361.725 224.64 \n\" style=\"fill:none;stroke:#000000;stroke-linecap:square;stroke-linejoin:miter;stroke-width:0.8;\"/>\n   </g>\n   <g id=\"patch_27\">\n    <path d=\"M 26.925 7.2 \nL 361.725 7.2 \n\" style=\"fill:none;stroke:#000000;stroke-linecap:square;stroke-linejoin:miter;stroke-width:0.8;\"/>\n   </g>\n  </g>\n </g>\n <defs>\n  <clipPath id=\"p2bb3bf69aa\">\n   <rect height=\"217.44\" width=\"334.8\" x=\"26.925\" y=\"7.2\"/>\n  </clipPath>\n </defs>\n</svg>\n",
      "image/png": "[encoded data removed]"
     },
     "metadata": {
      "needs_background": "light"
     }
    },
    {
     "output_type": "stream",
     "name": "stdout",
     "text": "Paper dimensions: 35x35\nPresents dimensions: [[14, 35], [4, 23], [4, 20], [4, 17], [3, 22], [3, 19], [4, 12], [3, 12], [4, 8], [3, 10], [4, 7], [3, 9], [3, 8], [4, 6], [3, 7], [4, 5], [3, 6], [4, 4], [3, 5], [3, 4], [4, 3], [3, 3]]\n%%%mzn-stat: nSolutions=1\nSolver output:\nGenerated FlatZinc statistics:\nmzn-stat: paths=0\nmzn-stat: flatBoolVars=946\nmzn-stat: flatIntVars=239\nmzn-stat: flatBoolConstraints=231\nmzn-stat: flatIntConstraints=1191\nmzn-stat: evaluatedReifiedConstraints=22\nmzn-stat: evaluatedHalfReifiedConstraints=924\nmzn-stat: method=\"satisfy\"\nmzn-stat: flatTime=0.150508\nmzn-stat-end\nmzn-stat: initTime=0.011383\nmzn-stat: solveTime=39.7829\nmzn-stat: solutions=1\nmzn-stat: variables=1234\nmzn-stat: propagators=1359\nmzn-stat: propagations=111360742\nmzn-stat: nodes=1906503\nmzn-stat: failures=953240\nmzn-stat: restarts=0\nmzn-stat: peakDepth=59\nmzn-stat-end\nSolution: [[0, 0], [14, 0], [18, 0], [22, 0], [26, 0], [29, 0], [22, 17], [32, 0], [18, 20], [32, 12], [14, 23], [29, 19], [26, 22], [22, 29], [32, 22], [14, 30], [32, 29], [18, 28], [26, 30], [29, 28], [18, 32], [29, 32]]\n"
    },
    {
     "output_type": "display_data",
     "data": {
      "text/plain": "<Figure size 432x288 with 1 Axes>",
      "image/svg+xml": "<?xml version=\"1.0\" encoding=\"utf-8\" standalone=\"no\"?>\n<!DOCTYPE svg PUBLIC \"-//W3C//DTD SVG 1.1//EN\"\n  \"http://www.w3.org/Graphics/SVG/1.1/DTD/svg11.dtd\">\n<!-- Created with matplotlib (https://matplotlib.org/) -->\n<svg height=\"252.317344pt\" version=\"1.1\" viewBox=\"0 0 375.2875 252.317344\" width=\"375.2875pt\" xmlns=\"http://www.w3.org/2000/svg\" xmlns:xlink=\"http://www.w3.org/1999/xlink\">\n <metadata>\n  <rdf:RDF xmlns:cc=\"http://creativecommons.org/ns#\" xmlns:dc=\"http://purl.org/dc/elements/1.1/\" xmlns:rdf=\"http://www.w3.org/1999/02/22-rdf-syntax-ns#\">\n   <cc:Work>\n    <dc:type rdf:resource=\"http://purl.org/dc/dcmitype/StillImage\"/>\n    <dc:date>2020-08-17T11:26:11.360624</dc:date>\n    <dc:format>image/svg+xml</dc:format>\n    <dc:creator>\n     <cc:Agent>\n      <dc:title>Matplotlib v3.3.0, https://matplotlib.org/</dc:title>\n     </cc:Agent>\n    </dc:creator>\n   </cc:Work>\n  </rdf:RDF>\n </metadata>\n <defs>\n  <style type=\"text/css\">*{stroke-linecap:butt;stroke-linejoin:round;}</style>\n </defs>\n <g id=\"figure_1\">\n  <g id=\"patch_1\">\n   <path d=\"M -0 252.317344 \nL 375.2875 252.317344 \nL 375.2875 0 \nL -0 0 \nz\n\" style=\"fill:none;\"/>\n  </g>\n  <g id=\"axes_1\">\n   <g id=\"patch_2\">\n    <path d=\"M 26.925 228.439219 \nL 361.725 228.439219 \nL 361.725 10.999219 \nL 26.925 10.999219 \nz\n\" style=\"fill:#ffffff;\"/>\n   </g>\n   <g id=\"patch_3\">\n    <path clip-path=\"url(#p3a48b2c686)\" d=\"M 26.925 228.439219 \nL 160.845 228.439219 \nL 160.845 10.999219 \nL 26.925 10.999219 \nz\n\" style=\"fill:#c3b893;\"/>\n   </g>\n   <g id=\"patch_4\">\n    <path clip-path=\"url(#p3a48b2c686)\" d=\"M 160.845 228.439219 \nL 199.107857 228.439219 \nL 199.107857 85.550076 \nL 160.845 85.550076 \nz\n\" style=\"fill:#6943b1;\"/>\n   </g>\n   <g id=\"patch_5\">\n    <path clip-path=\"url(#p3a48b2c686)\" d=\"M 199.107857 228.439219 \nL 237.370714 228.439219 \nL 237.370714 104.18779 \nL 199.107857 104.18779 \nz\n\" style=\"fill:#3f43f4;\"/>\n   </g>\n   <g id=\"patch_6\">\n    <path clip-path=\"url(#p3a48b2c686)\" d=\"M 237.370714 228.439219 \nL 275.633571 228.439219 \nL 275.633571 122.825504 \nL 237.370714 122.825504 \nz\n\" style=\"fill:#c7b8ce;\"/>\n   </g>\n   <g id=\"patch_7\">\n    <path clip-path=\"url(#p3a48b2c686)\" d=\"M 275.633571 228.439219 \nL 304.330714 228.439219 \nL 304.330714 91.762647 \nL 275.633571 91.762647 \nz\n\" style=\"fill:#880fbb;\"/>\n   </g>\n   <g id=\"patch_8\">\n    <path clip-path=\"url(#p3a48b2c686)\" d=\"M 304.330714 228.439219 \nL 333.027857 228.439219 \nL 333.027857 110.400362 \nL 304.330714 110.400362 \nz\n\" style=\"fill:#eb456e;\"/>\n   </g>\n   <g id=\"patch_9\">\n    <path clip-path=\"url(#p3a48b2c686)\" d=\"M 237.370714 122.825504 \nL 275.633571 122.825504 \nL 275.633571 48.274647 \nL 237.370714 48.274647 \nz\n\" style=\"fill:#4ced11;\"/>\n   </g>\n   <g id=\"patch_10\">\n    <path clip-path=\"url(#p3a48b2c686)\" d=\"M 333.027857 228.439219 \nL 361.725 228.439219 \nL 361.725 153.888362 \nL 333.027857 153.888362 \nz\n\" style=\"fill:#0b9464;\"/>\n   </g>\n   <g id=\"patch_11\">\n    <path clip-path=\"url(#p3a48b2c686)\" d=\"M 199.107857 104.18779 \nL 237.370714 104.18779 \nL 237.370714 54.487219 \nL 199.107857 54.487219 \nz\n\" style=\"fill:#a09c6c;\"/>\n   </g>\n   <g id=\"patch_12\">\n    <path clip-path=\"url(#p3a48b2c686)\" d=\"M 333.027857 153.888362 \nL 361.725 153.888362 \nL 361.725 91.762647 \nL 333.027857 91.762647 \nz\n\" style=\"fill:#904fce;\"/>\n   </g>\n   <g id=\"patch_13\">\n    <path clip-path=\"url(#p3a48b2c686)\" d=\"M 160.845 85.550076 \nL 199.107857 85.550076 \nL 199.107857 42.062076 \nL 160.845 42.062076 \nz\n\" style=\"fill:#1c1938;\"/>\n   </g>\n   <g id=\"patch_14\">\n    <path clip-path=\"url(#p3a48b2c686)\" d=\"M 304.330714 110.400362 \nL 333.027857 110.400362 \nL 333.027857 54.487219 \nL 304.330714 54.487219 \nz\n\" style=\"fill:#046ea9;\"/>\n   </g>\n   <g id=\"patch_15\">\n    <path clip-path=\"url(#p3a48b2c686)\" d=\"M 275.633571 91.762647 \nL 304.330714 91.762647 \nL 304.330714 42.062076 \nL 275.633571 42.062076 \nz\n\" style=\"fill:#1370d1;\"/>\n   </g>\n   <g id=\"patch_16\">\n    <path clip-path=\"url(#p3a48b2c686)\" d=\"M 237.370714 48.274647 \nL 275.633571 48.274647 \nL 275.633571 10.999219 \nL 237.370714 10.999219 \nz\n\" style=\"fill:#2d31cc;\"/>\n   </g>\n   <g id=\"patch_17\">\n    <path clip-path=\"url(#p3a48b2c686)\" d=\"M 333.027857 91.762647 \nL 361.725 91.762647 \nL 361.725 48.274647 \nL 333.027857 48.274647 \nz\n\" style=\"fill:#fb0f48;\"/>\n   </g>\n   <g id=\"patch_18\">\n    <path clip-path=\"url(#p3a48b2c686)\" d=\"M 160.845 42.062076 \nL 199.107857 42.062076 \nL 199.107857 10.999219 \nL 160.845 10.999219 \nz\n\" style=\"fill:#818cdb;\"/>\n   </g>\n   <g id=\"patch_19\">\n    <path clip-path=\"url(#p3a48b2c686)\" d=\"M 333.027857 48.274647 \nL 361.725 48.274647 \nL 361.725 10.999219 \nL 333.027857 10.999219 \nz\n\" style=\"fill:#7ea9d8;\"/>\n   </g>\n   <g id=\"patch_20\">\n    <path clip-path=\"url(#p3a48b2c686)\" d=\"M 199.107857 54.487219 \nL 237.370714 54.487219 \nL 237.370714 29.636933 \nL 199.107857 29.636933 \nz\n\" style=\"fill:#96f3b3;\"/>\n   </g>\n   <g id=\"patch_21\">\n    <path clip-path=\"url(#p3a48b2c686)\" d=\"M 275.633571 42.062076 \nL 304.330714 42.062076 \nL 304.330714 10.999219 \nL 275.633571 10.999219 \nz\n\" style=\"fill:#1038c5;\"/>\n   </g>\n   <g id=\"patch_22\">\n    <path clip-path=\"url(#p3a48b2c686)\" d=\"M 304.330714 54.487219 \nL 333.027857 54.487219 \nL 333.027857 29.636933 \nL 304.330714 29.636933 \nz\n\" style=\"fill:#77c0da;\"/>\n   </g>\n   <g id=\"patch_23\">\n    <path clip-path=\"url(#p3a48b2c686)\" d=\"M 199.107857 29.636933 \nL 237.370714 29.636933 \nL 237.370714 10.999219 \nL 199.107857 10.999219 \nz\n\" style=\"fill:#cef64f;\"/>\n   </g>\n   <g id=\"patch_24\">\n    <path clip-path=\"url(#p3a48b2c686)\" d=\"M 304.330714 29.636933 \nL 333.027857 29.636933 \nL 333.027857 10.999219 \nL 304.330714 10.999219 \nz\n\" style=\"fill:#4e1c10;\"/>\n   </g>\n   <g id=\"matplotlib.axis_1\">\n    <g id=\"xtick_1\">\n     <g id=\"line2d_1\">\n      <defs>\n       <path d=\"M 0 0 \nL 0 3.5 \n\" id=\"m1a5bdcf55c\" style=\"stroke:#000000;stroke-width:0.8;\"/>\n      </defs>\n      <g>\n       <use style=\"stroke:#000000;stroke-width:0.8;\" x=\"26.925\" xlink:href=\"#m1a5bdcf55c\" y=\"228.439219\"/>\n      </g>\n     </g>\n     <g id=\"text_1\">\n      <!-- 0 -->\n      <g transform=\"translate(23.74375 243.037656)scale(0.1 -0.1)\">\n       <defs>\n        <path d=\"M 31.78125 66.40625 \nQ 24.171875 66.40625 20.328125 58.90625 \nQ 16.5 51.421875 16.5 36.375 \nQ 16.5 21.390625 20.328125 13.890625 \nQ 24.171875 6.390625 31.78125 6.390625 \nQ 39.453125 6.390625 43.28125 13.890625 \nQ 47.125 21.390625 47.125 36.375 \nQ 47.125 51.421875 43.28125 58.90625 \nQ 39.453125 66.40625 31.78125 66.40625 \nz\nM 31.78125 74.21875 \nQ 44.046875 74.21875 50.515625 64.515625 \nQ 56.984375 54.828125 56.984375 36.375 \nQ 56.984375 17.96875 50.515625 8.265625 \nQ 44.046875 -1.421875 31.78125 -1.421875 \nQ 19.53125 -1.421875 13.0625 8.265625 \nQ 6.59375 17.96875 6.59375 36.375 \nQ 6.59375 54.828125 13.0625 64.515625 \nQ 19.53125 74.21875 31.78125 74.21875 \nz\n\" id=\"DejaVuSans-48\"/>\n       </defs>\n       <use xlink:href=\"#DejaVuSans-48\"/>\n      </g>\n     </g>\n    </g>\n    <g id=\"xtick_2\">\n     <g id=\"line2d_2\">\n      <g>\n       <use style=\"stroke:#000000;stroke-width:0.8;\" x=\"74.753571\" xlink:href=\"#m1a5bdcf55c\" y=\"228.439219\"/>\n      </g>\n     </g>\n     <g id=\"text_2\">\n      <!-- 5 -->\n      <g transform=\"translate(71.572321 243.037656)scale(0.1 -0.1)\">\n       <defs>\n        <path d=\"M 10.796875 72.90625 \nL 49.515625 72.90625 \nL 49.515625 64.59375 \nL 19.828125 64.59375 \nL 19.828125 46.734375 \nQ 21.96875 47.46875 24.109375 47.828125 \nQ 26.265625 48.1875 28.421875 48.1875 \nQ 40.625 48.1875 47.75 41.5 \nQ 54.890625 34.8125 54.890625 23.390625 \nQ 54.890625 11.625 47.5625 5.09375 \nQ 40.234375 -1.421875 26.90625 -1.421875 \nQ 22.3125 -1.421875 17.546875 -0.640625 \nQ 12.796875 0.140625 7.71875 1.703125 \nL 7.71875 11.625 \nQ 12.109375 9.234375 16.796875 8.0625 \nQ 21.484375 6.890625 26.703125 6.890625 \nQ 35.15625 6.890625 40.078125 11.328125 \nQ 45.015625 15.765625 45.015625 23.390625 \nQ 45.015625 31 40.078125 35.4375 \nQ 35.15625 39.890625 26.703125 39.890625 \nQ 22.75 39.890625 18.8125 39.015625 \nQ 14.890625 38.140625 10.796875 36.28125 \nz\n\" id=\"DejaVuSans-53\"/>\n       </defs>\n       <use xlink:href=\"#DejaVuSans-53\"/>\n      </g>\n     </g>\n    </g>\n    <g id=\"xtick_3\">\n     <g id=\"line2d_3\">\n      <g>\n       <use style=\"stroke:#000000;stroke-width:0.8;\" x=\"122.582143\" xlink:href=\"#m1a5bdcf55c\" y=\"228.439219\"/>\n      </g>\n     </g>\n     <g id=\"text_3\">\n      <!-- 10 -->\n      <g transform=\"translate(116.219643 243.037656)scale(0.1 -0.1)\">\n       <defs>\n        <path d=\"M 12.40625 8.296875 \nL 28.515625 8.296875 \nL 28.515625 63.921875 \nL 10.984375 60.40625 \nL 10.984375 69.390625 \nL 28.421875 72.90625 \nL 38.28125 72.90625 \nL 38.28125 8.296875 \nL 54.390625 8.296875 \nL 54.390625 0 \nL 12.40625 0 \nz\n\" id=\"DejaVuSans-49\"/>\n       </defs>\n       <use xlink:href=\"#DejaVuSans-49\"/>\n       <use x=\"63.623047\" xlink:href=\"#DejaVuSans-48\"/>\n      </g>\n     </g>\n    </g>\n    <g id=\"xtick_4\">\n     <g id=\"line2d_4\">\n      <g>\n       <use style=\"stroke:#000000;stroke-width:0.8;\" x=\"170.410714\" xlink:href=\"#m1a5bdcf55c\" y=\"228.439219\"/>\n      </g>\n     </g>\n     <g id=\"text_4\">\n      <!-- 15 -->\n      <g transform=\"translate(164.048214 243.037656)scale(0.1 -0.1)\">\n       <use xlink:href=\"#DejaVuSans-49\"/>\n       <use x=\"63.623047\" xlink:href=\"#DejaVuSans-53\"/>\n      </g>\n     </g>\n    </g>\n    <g id=\"xtick_5\">\n     <g id=\"line2d_5\">\n      <g>\n       <use style=\"stroke:#000000;stroke-width:0.8;\" x=\"218.239286\" xlink:href=\"#m1a5bdcf55c\" y=\"228.439219\"/>\n      </g>\n     </g>\n     <g id=\"text_5\">\n      <!-- 20 -->\n      <g transform=\"translate(211.876786 243.037656)scale(0.1 -0.1)\">\n       <defs>\n        <path d=\"M 19.1875 8.296875 \nL 53.609375 8.296875 \nL 53.609375 0 \nL 7.328125 0 \nL 7.328125 8.296875 \nQ 12.9375 14.109375 22.625 23.890625 \nQ 32.328125 33.6875 34.8125 36.53125 \nQ 39.546875 41.84375 41.421875 45.53125 \nQ 43.3125 49.21875 43.3125 52.78125 \nQ 43.3125 58.59375 39.234375 62.25 \nQ 35.15625 65.921875 28.609375 65.921875 \nQ 23.96875 65.921875 18.8125 64.3125 \nQ 13.671875 62.703125 7.8125 59.421875 \nL 7.8125 69.390625 \nQ 13.765625 71.78125 18.9375 73 \nQ 24.125 74.21875 28.421875 74.21875 \nQ 39.75 74.21875 46.484375 68.546875 \nQ 53.21875 62.890625 53.21875 53.421875 \nQ 53.21875 48.921875 51.53125 44.890625 \nQ 49.859375 40.875 45.40625 35.40625 \nQ 44.1875 33.984375 37.640625 27.21875 \nQ 31.109375 20.453125 19.1875 8.296875 \nz\n\" id=\"DejaVuSans-50\"/>\n       </defs>\n       <use xlink:href=\"#DejaVuSans-50\"/>\n       <use x=\"63.623047\" xlink:href=\"#DejaVuSans-48\"/>\n      </g>\n     </g>\n    </g>\n    <g id=\"xtick_6\">\n     <g id=\"line2d_6\">\n      <g>\n       <use style=\"stroke:#000000;stroke-width:0.8;\" x=\"266.067857\" xlink:href=\"#m1a5bdcf55c\" y=\"228.439219\"/>\n      </g>\n     </g>\n     <g id=\"text_6\">\n      <!-- 25 -->\n      <g transform=\"translate(259.705357 243.037656)scale(0.1 -0.1)\">\n       <use xlink:href=\"#DejaVuSans-50\"/>\n       <use x=\"63.623047\" xlink:href=\"#DejaVuSans-53\"/>\n      </g>\n     </g>\n    </g>\n    <g id=\"xtick_7\">\n     <g id=\"line2d_7\">\n      <g>\n       <use style=\"stroke:#000000;stroke-width:0.8;\" x=\"313.896429\" xlink:href=\"#m1a5bdcf55c\" y=\"228.439219\"/>\n      </g>\n     </g>\n     <g id=\"text_7\">\n      <!-- 30 -->\n      <g transform=\"translate(307.533929 243.037656)scale(0.1 -0.1)\">\n       <defs>\n        <path d=\"M 40.578125 39.3125 \nQ 47.65625 37.796875 51.625 33 \nQ 55.609375 28.21875 55.609375 21.1875 \nQ 55.609375 10.40625 48.1875 4.484375 \nQ 40.765625 -1.421875 27.09375 -1.421875 \nQ 22.515625 -1.421875 17.65625 -0.515625 \nQ 12.796875 0.390625 7.625 2.203125 \nL 7.625 11.71875 \nQ 11.71875 9.328125 16.59375 8.109375 \nQ 21.484375 6.890625 26.8125 6.890625 \nQ 36.078125 6.890625 40.9375 10.546875 \nQ 45.796875 14.203125 45.796875 21.1875 \nQ 45.796875 27.640625 41.28125 31.265625 \nQ 36.765625 34.90625 28.71875 34.90625 \nL 20.21875 34.90625 \nL 20.21875 43.015625 \nL 29.109375 43.015625 \nQ 36.375 43.015625 40.234375 45.921875 \nQ 44.09375 48.828125 44.09375 54.296875 \nQ 44.09375 59.90625 40.109375 62.90625 \nQ 36.140625 65.921875 28.71875 65.921875 \nQ 24.65625 65.921875 20.015625 65.03125 \nQ 15.375 64.15625 9.8125 62.3125 \nL 9.8125 71.09375 \nQ 15.4375 72.65625 20.34375 73.4375 \nQ 25.25 74.21875 29.59375 74.21875 \nQ 40.828125 74.21875 47.359375 69.109375 \nQ 53.90625 64.015625 53.90625 55.328125 \nQ 53.90625 49.265625 50.4375 45.09375 \nQ 46.96875 40.921875 40.578125 39.3125 \nz\n\" id=\"DejaVuSans-51\"/>\n       </defs>\n       <use xlink:href=\"#DejaVuSans-51\"/>\n       <use x=\"63.623047\" xlink:href=\"#DejaVuSans-48\"/>\n      </g>\n     </g>\n    </g>\n    <g id=\"xtick_8\">\n     <g id=\"line2d_8\">\n      <g>\n       <use style=\"stroke:#000000;stroke-width:0.8;\" x=\"361.725\" xlink:href=\"#m1a5bdcf55c\" y=\"228.439219\"/>\n      </g>\n     </g>\n     <g id=\"text_8\">\n      <!-- 35 -->\n      <g transform=\"translate(355.3625 243.037656)scale(0.1 -0.1)\">\n       <use xlink:href=\"#DejaVuSans-51\"/>\n       <use x=\"63.623047\" xlink:href=\"#DejaVuSans-53\"/>\n      </g>\n     </g>\n    </g>\n   </g>\n   <g id=\"matplotlib.axis_2\">\n    <g id=\"ytick_1\">\n     <g id=\"line2d_9\">\n      <defs>\n       <path d=\"M 0 0 \nL -3.5 0 \n\" id=\"m3c6d0d6412\" style=\"stroke:#000000;stroke-width:0.8;\"/>\n      </defs>\n      <g>\n       <use style=\"stroke:#000000;stroke-width:0.8;\" x=\"26.925\" xlink:href=\"#m3c6d0d6412\" y=\"228.439219\"/>\n      </g>\n     </g>\n     <g id=\"text_9\">\n      <!-- 0 -->\n      <g transform=\"translate(13.5625 232.238437)scale(0.1 -0.1)\">\n       <use xlink:href=\"#DejaVuSans-48\"/>\n      </g>\n     </g>\n    </g>\n    <g id=\"ytick_2\">\n     <g id=\"line2d_10\">\n      <g>\n       <use style=\"stroke:#000000;stroke-width:0.8;\" x=\"26.925\" xlink:href=\"#m3c6d0d6412\" y=\"197.376362\"/>\n      </g>\n     </g>\n     <g id=\"text_10\">\n      <!-- 5 -->\n      <g transform=\"translate(13.5625 201.17558)scale(0.1 -0.1)\">\n       <use xlink:href=\"#DejaVuSans-53\"/>\n      </g>\n     </g>\n    </g>\n    <g id=\"ytick_3\">\n     <g id=\"line2d_11\">\n      <g>\n       <use style=\"stroke:#000000;stroke-width:0.8;\" x=\"26.925\" xlink:href=\"#m3c6d0d6412\" y=\"166.313504\"/>\n      </g>\n     </g>\n     <g id=\"text_11\">\n      <!-- 10 -->\n      <g transform=\"translate(7.2 170.112723)scale(0.1 -0.1)\">\n       <use xlink:href=\"#DejaVuSans-49\"/>\n       <use x=\"63.623047\" xlink:href=\"#DejaVuSans-48\"/>\n      </g>\n     </g>\n    </g>\n    <g id=\"ytick_4\">\n     <g id=\"line2d_12\">\n      <g>\n       <use style=\"stroke:#000000;stroke-width:0.8;\" x=\"26.925\" xlink:href=\"#m3c6d0d6412\" y=\"135.250647\"/>\n      </g>\n     </g>\n     <g id=\"text_12\">\n      <!-- 15 -->\n      <g transform=\"translate(7.2 139.049866)scale(0.1 -0.1)\">\n       <use xlink:href=\"#DejaVuSans-49\"/>\n       <use x=\"63.623047\" xlink:href=\"#DejaVuSans-53\"/>\n      </g>\n     </g>\n    </g>\n    <g id=\"ytick_5\">\n     <g id=\"line2d_13\">\n      <g>\n       <use style=\"stroke:#000000;stroke-width:0.8;\" x=\"26.925\" xlink:href=\"#m3c6d0d6412\" y=\"104.18779\"/>\n      </g>\n     </g>\n     <g id=\"text_13\">\n      <!-- 20 -->\n      <g transform=\"translate(7.2 107.987009)scale(0.1 -0.1)\">\n       <use xlink:href=\"#DejaVuSans-50\"/>\n       <use x=\"63.623047\" xlink:href=\"#DejaVuSans-48\"/>\n      </g>\n     </g>\n    </g>\n    <g id=\"ytick_6\">\n     <g id=\"line2d_14\">\n      <g>\n       <use style=\"stroke:#000000;stroke-width:0.8;\" x=\"26.925\" xlink:href=\"#m3c6d0d6412\" y=\"73.124933\"/>\n      </g>\n     </g>\n     <g id=\"text_14\">\n      <!-- 25 -->\n      <g transform=\"translate(7.2 76.924152)scale(0.1 -0.1)\">\n       <use xlink:href=\"#DejaVuSans-50\"/>\n       <use x=\"63.623047\" xlink:href=\"#DejaVuSans-53\"/>\n      </g>\n     </g>\n    </g>\n    <g id=\"ytick_7\">\n     <g id=\"line2d_15\">\n      <g>\n       <use style=\"stroke:#000000;stroke-width:0.8;\" x=\"26.925\" xlink:href=\"#m3c6d0d6412\" y=\"42.062076\"/>\n      </g>\n     </g>\n     <g id=\"text_15\">\n      <!-- 30 -->\n      <g transform=\"translate(7.2 45.861295)scale(0.1 -0.1)\">\n       <use xlink:href=\"#DejaVuSans-51\"/>\n       <use x=\"63.623047\" xlink:href=\"#DejaVuSans-48\"/>\n      </g>\n     </g>\n    </g>\n    <g id=\"ytick_8\">\n     <g id=\"line2d_16\">\n      <g>\n       <use style=\"stroke:#000000;stroke-width:0.8;\" x=\"26.925\" xlink:href=\"#m3c6d0d6412\" y=\"10.999219\"/>\n      </g>\n     </g>\n     <g id=\"text_16\">\n      <!-- 35 -->\n      <g transform=\"translate(7.2 14.798437)scale(0.1 -0.1)\">\n       <use xlink:href=\"#DejaVuSans-51\"/>\n       <use x=\"63.623047\" xlink:href=\"#DejaVuSans-53\"/>\n      </g>\n     </g>\n    </g>\n   </g>\n   <g id=\"patch_25\">\n    <path d=\"M 26.925 228.439219 \nL 26.925 10.999219 \n\" style=\"fill:none;stroke:#000000;stroke-linecap:square;stroke-linejoin:miter;stroke-width:0.8;\"/>\n   </g>\n   <g id=\"patch_26\">\n    <path d=\"M 361.725 228.439219 \nL 361.725 10.999219 \n\" style=\"fill:none;stroke:#000000;stroke-linecap:square;stroke-linejoin:miter;stroke-width:0.8;\"/>\n   </g>\n   <g id=\"patch_27\">\n    <path d=\"M 26.925 228.439219 \nL 361.725 228.439219 \n\" style=\"fill:none;stroke:#000000;stroke-linecap:square;stroke-linejoin:miter;stroke-width:0.8;\"/>\n   </g>\n   <g id=\"patch_28\">\n    <path d=\"M 26.925 10.999219 \nL 361.725 10.999219 \n\" style=\"fill:none;stroke:#000000;stroke-linecap:square;stroke-linejoin:miter;stroke-width:0.8;\"/>\n   </g>\n  </g>\n </g>\n <defs>\n  <clipPath id=\"p3a48b2c686\">\n   <rect height=\"217.44\" width=\"334.8\" x=\"26.925\" y=\"10.999219\"/>\n  </clipPath>\n </defs>\n</svg>\n",
      "image/png": "[encoded data removed]"
     },
     "metadata": {
      "needs_background": "light"
     }
    },
    {
     "output_type": "stream",
     "name": "stdout",
     "text": "Paper dimensions: 36x36\nPresents dimensions: [[12, 36], [3, 36], [4, 22], [5, 15], [3, 24], [5, 14], [3, 16], [3, 15], [4, 11], [3, 14], [3, 12], [3, 11], [3, 10], [3, 9], [3, 8], [3, 7], [5, 4], [3, 6], [3, 5], [5, 3], [3, 4], [4, 3], [3, 3]]\nError in MiniZinc:\n%%%mzn-stat: nSolutions=0\n\nPaper dimensions: 37x37\nPresents dimensions: [[12, 37], [4, 24], [4, 22], [5, 14], [3, 21], [3, 18], [3, 17], [5, 10], [3, 14], [4, 10], [3, 13], [3, 12], [3, 11], [5, 6], [3, 9], [3, 8], [4, 6], [3, 7], [4, 5], [5, 4], [3, 6], [4, 4], [3, 5], [5, 3], [3, 4], [4, 3], [3, 3]]\nError in MiniZinc:\n%%%mzn-stat: nSolutions=0\n\nPaper dimensions: 38x38\nPresents dimensions: [[24, 38], [4, 16], [4, 15], [4, 12], [4, 11], [3, 13], [3, 11], [4, 8], [3, 10], [3, 9], [3, 8], [4, 6], [3, 7], [4, 5], [3, 6], [3, 5], [3, 4], [4, 3], [3, 3]]\nError in MiniZinc:\n%%%mzn-stat: nSolutions=0\n\nPaper dimensions: 39x39\nPresents dimensions: [[15, 39], [5, 18], [5, 13], [4, 16], [4, 15], [5, 11], [5, 10], [4, 12], [3, 15], [5, 8], [4, 9], [3, 11], [4, 8], [3, 10], [5, 6], [3, 9], [5, 5], [3, 8], [4, 6], [3, 7], [4, 5], [5, 4], [3, 6], [4, 4], [3, 5], [5, 3], [3, 4], [4, 3], [3, 3]]\nError in MiniZinc:\n%%%mzn-stat: nSolutions=0\n\nPaper dimensions: 40x40\nPresents dimensions: [[22, 40], [3, 40], [4, 22], [5, 13], [5, 12], [4, 14], [3, 16], [5, 8], [3, 12], [3, 10], [3, 9], [3, 8], [3, 7], [5, 4], [3, 6], [4, 4], [3, 5], [5, 3], [3, 4], [3, 3]]\n"
    },
    {
     "output_type": "error",
     "ename": "KeyboardInterrupt",
     "evalue": "",
     "traceback": [
      "\u001b[0;31m---------------------------------------------------------------------------\u001b[0m",
      "\u001b[0;31mKeyboardInterrupt\u001b[0m                         Traceback (most recent call last)",
      "\u001b[0;32m<ipython-input-327-3704a2ac36d1>\u001b[0m in \u001b[0;36m<module>\u001b[0;34m\u001b[0m\n\u001b[1;32m     14\u001b[0m     \u001b[0mprint\u001b[0m\u001b[0;34m(\u001b[0m\u001b[0;34mf\"Presents dimensions: {presents}\"\u001b[0m\u001b[0;34m)\u001b[0m\u001b[0;34m\u001b[0m\u001b[0;34m\u001b[0m\u001b[0m\n\u001b[1;32m     15\u001b[0m     \u001b[0mstart_time\u001b[0m \u001b[0;34m=\u001b[0m \u001b[0mtime\u001b[0m\u001b[0;34m(\u001b[0m\u001b[0;34m)\u001b[0m\u001b[0;34m\u001b[0m\u001b[0;34m\u001b[0m\u001b[0m\n\u001b[0;32m---> 16\u001b[0;31m     \u001b[0msolutions\u001b[0m \u001b[0;34m=\u001b[0m \u001b[0mget_ipython\u001b[0m\u001b[0;34m(\u001b[0m\u001b[0;34m)\u001b[0m\u001b[0;34m.\u001b[0m\u001b[0mrun_line_magic\u001b[0m\u001b[0;34m(\u001b[0m\u001b[0;34m'minizinc'\u001b[0m\u001b[0;34m,\u001b[0m \u001b[0;34m'-s pwp-v6'\u001b[0m\u001b[0;34m)\u001b[0m\u001b[0;34m\u001b[0m\u001b[0;34m\u001b[0m\u001b[0m\n\u001b[0m\u001b[1;32m     17\u001b[0m     \u001b[0mend_time\u001b[0m \u001b[0;34m=\u001b[0m \u001b[0mtime\u001b[0m\u001b[0;34m(\u001b[0m\u001b[0;34m)\u001b[0m\u001b[0;34m\u001b[0m\u001b[0;34m\u001b[0m\u001b[0m\n\u001b[1;32m     18\u001b[0m     \u001b[0mtimes\u001b[0m\u001b[0;34m.\u001b[0m\u001b[0mappend\u001b[0m\u001b[0;34m(\u001b[0m\u001b[0mend_time\u001b[0m \u001b[0;34m-\u001b[0m \u001b[0mstart_time\u001b[0m\u001b[0;34m)\u001b[0m\u001b[0;34m\u001b[0m\u001b[0;34m\u001b[0m\u001b[0m\n",
      "\u001b[0;32m~/Github/present-wrapping/venv/lib/python3.8/site-packages/IPython/core/interactiveshell.py\u001b[0m in \u001b[0;36mrun_line_magic\u001b[0;34m(self, magic_name, line, _stack_depth)\u001b[0m\n\u001b[1;32m   2324\u001b[0m                 \u001b[0mkwargs\u001b[0m\u001b[0;34m[\u001b[0m\u001b[0;34m'local_ns'\u001b[0m\u001b[0;34m]\u001b[0m \u001b[0;34m=\u001b[0m \u001b[0msys\u001b[0m\u001b[0;34m.\u001b[0m\u001b[0m_getframe\u001b[0m\u001b[0;34m(\u001b[0m\u001b[0mstack_depth\u001b[0m\u001b[0;34m)\u001b[0m\u001b[0;34m.\u001b[0m\u001b[0mf_locals\u001b[0m\u001b[0;34m\u001b[0m\u001b[0;34m\u001b[0m\u001b[0m\n\u001b[1;32m   2325\u001b[0m             \u001b[0;32mwith\u001b[0m \u001b[0mself\u001b[0m\u001b[0;34m.\u001b[0m\u001b[0mbuiltin_trap\u001b[0m\u001b[0;34m:\u001b[0m\u001b[0;34m\u001b[0m\u001b[0;34m\u001b[0m\u001b[0m\n\u001b[0;32m-> 2326\u001b[0;31m                 \u001b[0mresult\u001b[0m \u001b[0;34m=\u001b[0m \u001b[0mfn\u001b[0m\u001b[0;34m(\u001b[0m\u001b[0;34m*\u001b[0m\u001b[0margs\u001b[0m\u001b[0;34m,\u001b[0m \u001b[0;34m**\u001b[0m\u001b[0mkwargs\u001b[0m\u001b[0;34m)\u001b[0m\u001b[0;34m\u001b[0m\u001b[0;34m\u001b[0m\u001b[0m\n\u001b[0m\u001b[1;32m   2327\u001b[0m             \u001b[0;32mreturn\u001b[0m \u001b[0mresult\u001b[0m\u001b[0;34m\u001b[0m\u001b[0;34m\u001b[0m\u001b[0m\n\u001b[1;32m   2328\u001b[0m \u001b[0;34m\u001b[0m\u001b[0m\n",
      "\u001b[0;32m<decorator-gen-128>\u001b[0m in \u001b[0;36mminizinc\u001b[0;34m(self, line, cell)\u001b[0m\n",
      "\u001b[0;32m~/Github/present-wrapping/venv/lib/python3.8/site-packages/IPython/core/magic.py\u001b[0m in \u001b[0;36m<lambda>\u001b[0;34m(f, *a, **k)\u001b[0m\n\u001b[1;32m    185\u001b[0m     \u001b[0;31m# but it's overkill for just that one bit of state.\u001b[0m\u001b[0;34m\u001b[0m\u001b[0;34m\u001b[0m\u001b[0;34m\u001b[0m\u001b[0m\n\u001b[1;32m    186\u001b[0m     \u001b[0;32mdef\u001b[0m \u001b[0mmagic_deco\u001b[0m\u001b[0;34m(\u001b[0m\u001b[0marg\u001b[0m\u001b[0;34m)\u001b[0m\u001b[0;34m:\u001b[0m\u001b[0;34m\u001b[0m\u001b[0;34m\u001b[0m\u001b[0m\n\u001b[0;32m--> 187\u001b[0;31m         \u001b[0mcall\u001b[0m \u001b[0;34m=\u001b[0m \u001b[0;32mlambda\u001b[0m \u001b[0mf\u001b[0m\u001b[0;34m,\u001b[0m \u001b[0;34m*\u001b[0m\u001b[0ma\u001b[0m\u001b[0;34m,\u001b[0m \u001b[0;34m**\u001b[0m\u001b[0mk\u001b[0m\u001b[0;34m:\u001b[0m \u001b[0mf\u001b[0m\u001b[0;34m(\u001b[0m\u001b[0;34m*\u001b[0m\u001b[0ma\u001b[0m\u001b[0;34m,\u001b[0m \u001b[0;34m**\u001b[0m\u001b[0mk\u001b[0m\u001b[0;34m)\u001b[0m\u001b[0;34m\u001b[0m\u001b[0;34m\u001b[0m\u001b[0m\n\u001b[0m\u001b[1;32m    188\u001b[0m \u001b[0;34m\u001b[0m\u001b[0m\n\u001b[1;32m    189\u001b[0m         \u001b[0;32mif\u001b[0m \u001b[0mcallable\u001b[0m\u001b[0;34m(\u001b[0m\u001b[0marg\u001b[0m\u001b[0;34m)\u001b[0m\u001b[0;34m:\u001b[0m\u001b[0;34m\u001b[0m\u001b[0;34m\u001b[0m\u001b[0m\n",
      "\u001b[0;32m~/Github/present-wrapping/venv/lib/python3.8/site-packages/iminizinc/mzn.py\u001b[0m in \u001b[0;36mminizinc\u001b[0;34m(self, line, cell)\u001b[0m\n\u001b[1;32m    145\u001b[0m                                              \u001b[0;34m+\u001b[0m \u001b[0mjsondata\u001b[0m \u001b[0;34m+\u001b[0m \u001b[0margs\u001b[0m\u001b[0;34m.\u001b[0m\u001b[0mdata\u001b[0m\u001b[0;34m,\u001b[0m\u001b[0;34m\u001b[0m\u001b[0;34m\u001b[0m\u001b[0m\n\u001b[1;32m    146\u001b[0m                                              stdout=subprocess.PIPE, stderr=subprocess.PIPE, env=my_env)\n\u001b[0;32m--> 147\u001b[0;31m                     \u001b[0;34m(\u001b[0m\u001b[0mmznoutput\u001b[0m\u001b[0;34m,\u001b[0m \u001b[0merroutput\u001b[0m\u001b[0;34m)\u001b[0m \u001b[0;34m=\u001b[0m \u001b[0mpipes\u001b[0m\u001b[0;34m.\u001b[0m\u001b[0mcommunicate\u001b[0m\u001b[0;34m(\u001b[0m\u001b[0;34m)\u001b[0m\u001b[0;34m\u001b[0m\u001b[0;34m\u001b[0m\u001b[0m\n\u001b[0m\u001b[1;32m    148\u001b[0m                     \u001b[0;32mif\u001b[0m \u001b[0mpipes\u001b[0m\u001b[0;34m.\u001b[0m\u001b[0mreturncode\u001b[0m \u001b[0;34m!=\u001b[0m \u001b[0;36m0\u001b[0m\u001b[0;34m:\u001b[0m\u001b[0;34m\u001b[0m\u001b[0;34m\u001b[0m\u001b[0m\n\u001b[1;32m    149\u001b[0m                         \u001b[0mprint\u001b[0m\u001b[0;34m(\u001b[0m\u001b[0;34m\"Error in MiniZinc:\\n\"\u001b[0m \u001b[0;34m+\u001b[0m \u001b[0merroutput\u001b[0m\u001b[0;34m.\u001b[0m\u001b[0mdecode\u001b[0m\u001b[0;34m(\u001b[0m\u001b[0;34m)\u001b[0m\u001b[0;34m)\u001b[0m\u001b[0;34m\u001b[0m\u001b[0;34m\u001b[0m\u001b[0m\n",
      "\u001b[0;32m/usr/local/Cellar/python@3.8/3.8.5/Frameworks/Python.framework/Versions/3.8/lib/python3.8/subprocess.py\u001b[0m in \u001b[0;36mcommunicate\u001b[0;34m(self, input, timeout)\u001b[0m\n\u001b[1;32m   1022\u001b[0m \u001b[0;34m\u001b[0m\u001b[0m\n\u001b[1;32m   1023\u001b[0m             \u001b[0;32mtry\u001b[0m\u001b[0;34m:\u001b[0m\u001b[0;34m\u001b[0m\u001b[0;34m\u001b[0m\u001b[0m\n\u001b[0;32m-> 1024\u001b[0;31m                 \u001b[0mstdout\u001b[0m\u001b[0;34m,\u001b[0m \u001b[0mstderr\u001b[0m \u001b[0;34m=\u001b[0m \u001b[0mself\u001b[0m\u001b[0;34m.\u001b[0m\u001b[0m_communicate\u001b[0m\u001b[0;34m(\u001b[0m\u001b[0minput\u001b[0m\u001b[0;34m,\u001b[0m \u001b[0mendtime\u001b[0m\u001b[0;34m,\u001b[0m \u001b[0mtimeout\u001b[0m\u001b[0;34m)\u001b[0m\u001b[0;34m\u001b[0m\u001b[0;34m\u001b[0m\u001b[0m\n\u001b[0m\u001b[1;32m   1025\u001b[0m             \u001b[0;32mexcept\u001b[0m \u001b[0mKeyboardInterrupt\u001b[0m\u001b[0;34m:\u001b[0m\u001b[0;34m\u001b[0m\u001b[0;34m\u001b[0m\u001b[0m\n\u001b[1;32m   1026\u001b[0m                 \u001b[0;31m# https://bugs.python.org/issue25942\u001b[0m\u001b[0;34m\u001b[0m\u001b[0;34m\u001b[0m\u001b[0;34m\u001b[0m\u001b[0m\n",
      "\u001b[0;32m/usr/local/Cellar/python@3.8/3.8.5/Frameworks/Python.framework/Versions/3.8/lib/python3.8/subprocess.py\u001b[0m in \u001b[0;36m_communicate\u001b[0;34m(self, input, endtime, orig_timeout)\u001b[0m\n\u001b[1;32m   1864\u001b[0m                             'failed to raise TimeoutExpired.')\n\u001b[1;32m   1865\u001b[0m \u001b[0;34m\u001b[0m\u001b[0m\n\u001b[0;32m-> 1866\u001b[0;31m                     \u001b[0mready\u001b[0m \u001b[0;34m=\u001b[0m \u001b[0mselector\u001b[0m\u001b[0;34m.\u001b[0m\u001b[0mselect\u001b[0m\u001b[0;34m(\u001b[0m\u001b[0mtimeout\u001b[0m\u001b[0;34m)\u001b[0m\u001b[0;34m\u001b[0m\u001b[0;34m\u001b[0m\u001b[0m\n\u001b[0m\u001b[1;32m   1867\u001b[0m                     \u001b[0mself\u001b[0m\u001b[0;34m.\u001b[0m\u001b[0m_check_timeout\u001b[0m\u001b[0;34m(\u001b[0m\u001b[0mendtime\u001b[0m\u001b[0;34m,\u001b[0m \u001b[0morig_timeout\u001b[0m\u001b[0;34m,\u001b[0m \u001b[0mstdout\u001b[0m\u001b[0;34m,\u001b[0m \u001b[0mstderr\u001b[0m\u001b[0;34m)\u001b[0m\u001b[0;34m\u001b[0m\u001b[0;34m\u001b[0m\u001b[0m\n\u001b[1;32m   1868\u001b[0m \u001b[0;34m\u001b[0m\u001b[0m\n",
      "\u001b[0;32m/usr/local/Cellar/python@3.8/3.8.5/Frameworks/Python.framework/Versions/3.8/lib/python3.8/selectors.py\u001b[0m in \u001b[0;36mselect\u001b[0;34m(self, timeout)\u001b[0m\n\u001b[1;32m    413\u001b[0m         \u001b[0mready\u001b[0m \u001b[0;34m=\u001b[0m \u001b[0;34m[\u001b[0m\u001b[0;34m]\u001b[0m\u001b[0;34m\u001b[0m\u001b[0;34m\u001b[0m\u001b[0m\n\u001b[1;32m    414\u001b[0m         \u001b[0;32mtry\u001b[0m\u001b[0;34m:\u001b[0m\u001b[0;34m\u001b[0m\u001b[0;34m\u001b[0m\u001b[0m\n\u001b[0;32m--> 415\u001b[0;31m             \u001b[0mfd_event_list\u001b[0m \u001b[0;34m=\u001b[0m \u001b[0mself\u001b[0m\u001b[0;34m.\u001b[0m\u001b[0m_selector\u001b[0m\u001b[0;34m.\u001b[0m\u001b[0mpoll\u001b[0m\u001b[0;34m(\u001b[0m\u001b[0mtimeout\u001b[0m\u001b[0;34m)\u001b[0m\u001b[0;34m\u001b[0m\u001b[0;34m\u001b[0m\u001b[0m\n\u001b[0m\u001b[1;32m    416\u001b[0m         \u001b[0;32mexcept\u001b[0m \u001b[0mInterruptedError\u001b[0m\u001b[0;34m:\u001b[0m\u001b[0;34m\u001b[0m\u001b[0;34m\u001b[0m\u001b[0m\n\u001b[1;32m    417\u001b[0m             \u001b[0;32mreturn\u001b[0m \u001b[0mready\u001b[0m\u001b[0;34m\u001b[0m\u001b[0;34m\u001b[0m\u001b[0m\n",
      "\u001b[0;31mKeyboardInterrupt\u001b[0m: "
     ]
    }
   ],
   "source": [
    "times = []\n",
    "instances = []\n",
    "if instance is not None:\n",
    "    min_instance, max_instance = instance, instance\n",
    "for i in range(min_instance, max_instance + 1):\n",
    "    current_instance = f\"{i}x{i}\"\n",
    "    instances.append(i)\n",
    "    path = f\"instances/{current_instance}.txt\"\n",
    "    w_paper, h_paper, n, presents = read_input(path)\n",
    "    unordered_presents = list(presents)\n",
    "    presents, sorted_indices = order_presents(presents, method='area', reverse=True)\n",
    "    bl_corners = []\n",
    "    print(f\"Paper dimensions: {i}x{i}\")\n",
    "    print(f\"Presents dimensions: {presents}\")\n",
    "    start_time = time()\n",
    "    solutions = %minizinc -s pwp-v6\n",
    "    end_time = time()\n",
    "    times.append(end_time - start_time)\n",
    "    if solutions:\n",
    "        solution = solutions['bl_corners'] if 'bl_corners' in solutions else solutions[0]['bl_corners']\n",
    "        show_solution(w_paper, h_paper, n, presents, solution)\n",
    "        output(w_paper, h_paper, n, presents, solution, model='cp')\n",
    "if len(instances) > 1:\n",
    "    print(\"Instance size / Running time plot:\")\n",
    "    show_running_times(instances, times)"
   ]
  },
  {
   "cell_type": "markdown",
   "metadata": {},
   "source": [
    "### First model "
   ]
  },
  {
   "cell_type": "markdown",
   "metadata": {},
   "source": [
    "In this first CP model we tried to put a single constraint, regarding rectangles overlapment. The constraint is implemented as a list of disjunctive comparisons and, because of that, running times of the whole model tend to be very high, starting from the smaller and easier instances."
   ]
  },
  {
   "cell_type": "code",
   "execution_count": 88,
   "metadata": {},
   "outputs": [],
   "source": [
    "%%mzn_model pwp-v1\n",
    "include \"globals.mzn\";\n",
    "\n",
    "% Input values\n",
    "int: w_paper;\n",
    "int: h_paper;\n",
    "int: n;\n",
    "array[1..n, 1..2] of int: presents;\n",
    "\n",
    "% Variables\n",
    "array[1..n, 1..2] of var 0..max(w_paper, h_paper) - 1: bl_corners;\n",
    "\n",
    "% Constraints\n",
    "% Presents cannot overlap\n",
    "constraint forall(i, j in 1..n where j > i) (\n",
    "    max(bl_corners[i, 1], bl_corners[j, 1]) >= min(bl_corners[i, 1] + presents[i, 1], bl_corners[j, 1] + presents[j, 1]) \\/\n",
    "    max(bl_corners[i, 2], bl_corners[j, 2]) >= min(bl_corners[i, 2] + presents[i, 2], bl_corners[j, 2] + presents[j, 2])\n",
    ");\n",
    "\n",
    "% Reduce presents domains\n",
    "constraint forall(i in 1..n) (bl_corners[i, 1] + presents[i, 1] <= w_paper);\n",
    "constraint forall(i in 1..n) (bl_corners[i, 2] + presents[i, 2] <= h_paper);\n",
    "\n",
    "% Search\n",
    "solve satisfy;"
   ]
  },
  {
   "cell_type": "markdown",
   "metadata": {},
   "source": [
    "### Second model"
   ]
  },
  {
   "cell_type": "markdown",
   "metadata": {},
   "source": [
    "In this second CP model we refactored the non-overlapping constraint by removing the disjuctive part and instead forcing all overlapping areas to be zero. Moreover, we introduced a new list of variables (`bl_corners_values`) which can be viewed as a linearization of the 2D coordinates associated with rectangles bottom left corners, since we wanted to add redundant constraints, to deal with values distribution inside the 2D space. In particular, we posed an `alldifferent` constraint over `bl_corners_values` and we forced a single rectangle to be located at `(0, 0)`."
   ]
  },
  {
   "cell_type": "code",
   "execution_count": 93,
   "metadata": {
    "tags": []
   },
   "outputs": [],
   "source": [
    "%%mzn_model pwp-v2\n",
    "include \"globals.mzn\";\n",
    "\n",
    "% Input values\n",
    "int: w_paper;\n",
    "int: h_paper;\n",
    "int: n;\n",
    "array[1..n, 1..2] of int: presents;\n",
    "\n",
    "% Constants\n",
    "int: max_dim = max(w_paper, h_paper);\n",
    "int: min_present_dim = min([min(presents[i, 1], presents[i, 2]) | i in 1..n]);\n",
    "\n",
    "% Variables\n",
    "array[1..n, 1..2] of var 0..max_dim - min_present_dim: bl_corners;\n",
    "array[1..n] of var 0..coord_to_value(w_paper, h_paper): bl_corners_values;\n",
    "\n",
    "% Functions\n",
    "function int: coord_to_value(int: x, int: y) = x + (y * max_dim);\n",
    "function var int: coord_to_value(var int: x, var int: y) = x + (y * max_dim);\n",
    "function var int: x_overlap(int: i, int: j) = \n",
    "    max(0, min(bl_corners[i, 1] + presents[i, 1], bl_corners[j, 1] + presents[j, 1]) - max(bl_corners[i, 1], bl_corners[j, 1]));\n",
    "function var int: y_overlap(int: i, int: j) = \n",
    "    max(0, min(bl_corners[i, 2] + presents[i, 2], bl_corners[j, 2] + presents[j, 2]) - max(bl_corners[i, 2], bl_corners[j, 2]));\n",
    "function var int: overlap_area(int: i, int: j) = x_overlap(i, j) * y_overlap(i, j);\n",
    "\n",
    "% Channeling constraints\n",
    "predicate values_channeling(int: i) = \n",
    "    bl_corners_values[i] == coord_to_value(bl_corners[i, 1], bl_corners[i, 2]);\n",
    "constraint forall(i in ns) (values_channeling(i));\n",
    "\n",
    "% Constraints\n",
    "% All the presents have different bottom left corners\n",
    "constraint alldifferent(bl_corners_values);\n",
    "\n",
    "% One present is always placed at the origin\n",
    "constraint count_eq(bl_corners_values, 0, 1);\n",
    "\n",
    "% Presents cannot overlap\n",
    "constraint forall(i, j in 1..n where j > i) (overlap_area(i, j) == 0);\n",
    "\n",
    "% Reduce presents domains\n",
    "constraint forall(i in 1..n) (bl_corners[i, 1] + presents[i, 1] <= w_paper);\n",
    "constraint forall(i in 1..n) (bl_corners[i, 2] + presents[i, 2] <= h_paper);\n",
    "\n",
    "% Search\n",
    "solve satisfy;"
   ]
  },
  {
   "cell_type": "markdown",
   "metadata": {},
   "source": [
    "### Third model"
   ]
  },
  {
   "cell_type": "markdown",
   "metadata": {},
   "source": [
    "In this third model we tried to further reduce our variable's domains, by introducing a new list of variables (`tr_corners`), representing top right corners of each rectangle. The main achievement of this model is the introduction of the global constraint `diffn_k` to handle non-overlapment and of the global constrainst `cumulative` to maximally stack rectangles on each axis. Moreover, we used top right corners to force rectangles to stay inside the outer container."
   ]
  },
  {
   "cell_type": "code",
   "execution_count": 97,
   "metadata": {},
   "outputs": [],
   "source": [
    "%%mzn_model pwp-v3\n",
    "include \"globals.mzn\";\n",
    "\n",
    "% Input values\n",
    "int: w_paper;\n",
    "int: h_paper;\n",
    "int: n;\n",
    "array[1..n, 1..2] of 1..max_dim: presents;\n",
    "\n",
    "% Constants\n",
    "int: max_dim = max(w_paper, h_paper);\n",
    "int: min_present_dim = min([min(presents[i, 1], presents[i, 2]) | i in 1..n]);\n",
    "array[1..n] of 1..max_dim: presents_xs = [presents[i, 1] | i in 1..n];\n",
    "array[1..n] of 1..max_dim: presents_ys = [presents[i, 2] | i in 1..n];\n",
    "\n",
    "% Variables\n",
    "array[1..n, 1..2] of var 0..max_dim - min_present_dim: bl_corners;\n",
    "array[1..n, 1..2] of var 1..max_dim: tr_corners;\n",
    "array[1..n] of var 0..coord_to_value(w_paper, h_paper): bl_corners_values;\n",
    "array[1..n] of var 0..w_paper - min_present_dim: bl_corners_xs;\n",
    "array[1..n] of var 0..h_paper - min_present_dim: bl_corners_ys;\n",
    "\n",
    "% Functions\n",
    "function int: coord_to_value(int: x, int: y) = x + (y * max_dim);\n",
    "function var int: coord_to_value(var int: x, var int: y) = x + (y * max_dim);\n",
    "\n",
    "% Channeling constraints\n",
    "predicate bl_corners_channeling(int: i) = \n",
    "    bl_corners_xs[i] == bl_corners[i, 1] /\\ \n",
    "    bl_corners_ys[i] == bl_corners[i, 2];\n",
    "constraint forall(i in ns) (bl_corners_channeling(i));\n",
    "\n",
    "predicate values_channeling(int: i) = \n",
    "    bl_corners_values[i] == coord_to_value(bl_corners_xs[i], bl_corners_ys[i]);\n",
    "constraint forall(i in ns) (values_channeling(i));\n",
    "\n",
    "predicate tr_corners_channeling(int: i) = \n",
    "    tr_corners[i, 1] == bl_corners_xs[i] + presents_xs[i] /\\ \n",
    "    tr_corners[i, 2] == bl_corners_ys[i] + presents_ys[i];\n",
    "constraint forall(i in ns) (tr_corners_channeling(i));\n",
    "\n",
    "% Constraints\n",
    "% All the presents have different bottom left corners\n",
    "constraint alldifferent(bl_corners_values);\n",
    "\n",
    "% One present is always placed at the origin\n",
    "constraint count_eq(bl_corners_values, 0, 1);\n",
    "\n",
    "% Presents cannot overlap\n",
    "constraint diffn_k(bl_corners, presents);\n",
    "\n",
    "% Presents should be contained inside the wrapping paper and they should be maximally stacked\n",
    "constraint cumulative(bl_corners_xs, presents_xs, presents_ys, h_paper);\n",
    "constraint cumulative(bl_corners_ys, presents_ys, presents_xs, w_paper);\n",
    "\n",
    "% Reduce presents domains\n",
    "constraint forall(i in 1..n) (bl_corners_xs[i] + presents_xs[i] <= w_paper);\n",
    "constraint forall(i in 1..n) (bl_corners_ys[i] + presents_ys[i] <= h_paper);\n",
    "\n",
    "% Search\n",
    "solve satisfy;"
   ]
  },
  {
   "cell_type": "markdown",
   "metadata": {},
   "source": [
    "### Fourth model"
   ]
  },
  {
   "cell_type": "markdown",
   "metadata": {},
   "source": [
    "In this fourth model we tried to add different constraints, to possibly enhance running times:\n",
    "* Redundant constraints:\n",
    "    * Try and stack two presents having the same width s.t. their heights would sum to the total height \n",
    "    * Sum of all the areas of all the placed presents equal to total area\n",
    "* Symmetry breaking constraints:\n",
    "    * Presents in the same column ordered by width (which resulted in an overall slowdown)\n",
    "    * Biggest rectangle contained in the lower-left quadrant (which didn't lead to any major improvement)"
   ]
  },
  {
   "cell_type": "code",
   "execution_count": 127,
   "metadata": {
    "tags": []
   },
   "outputs": [],
   "source": [
    "%%mzn_model pwp-v4\n",
    "include \"globals.mzn\";\n",
    "\n",
    "%Input values\n",
    "int: w_paper;\n",
    "int: h_paper;\n",
    "int: n;\n",
    "array[ns, 1..2] of int: presents;\n",
    "\n",
    "% Constants\n",
    "int: max_dim = max(w_paper, h_paper);\n",
    "int: total_paper_area = w_paper * h_paper;\n",
    "int: total_presents_area = sum(areas);\n",
    "int: min_present_width = min(presents_xs);\n",
    "int: min_present_height = min(presents_ys);\n",
    "int: max_present_width = max(presents_xs);\n",
    "int: max_present_height = max(presents_ys);\n",
    "int: min_present_dim = min([min_present_width, min_present_height]);\n",
    "int: max_present_dim = max([max_present_width, max_present_height]);\n",
    "int: max_present_ind = arg_max(areas);\n",
    "set of int: ns = 1..n;\n",
    "array[ns] of int: presents_xs = [presents[i, 1] | i in ns];\n",
    "array[ns] of int: presents_ys = [presents[i, 2] | i in ns];\n",
    "array[ns] of int: areas = [presents_xs[i] * presents_ys[i] | i in ns];\n",
    "\n",
    "% Variables\n",
    "array[ns, 1..2] of var 0..max_dim - min_present_dim: bl_corners;\n",
    "array[ns, 1..2] of var min_present_dim..max_dim: tr_corners;\n",
    "array[ns] of var 0..coord_to_value(w_paper, h_paper): bl_corners_values;\n",
    "array[ns] of var 0..w_paper - min_present_width: bl_corners_xs;\n",
    "array[ns] of var 0..h_paper - min_present_height: bl_corners_ys;\n",
    "\n",
    "% Functions\n",
    "function int: coord_to_value(int: x, int: y) = x + (y * max_dim);\n",
    "function var int: coord_to_value(var int: x, var int: y) = x + (y * max_dim);\n",
    "\n",
    "% Channeling constraints\n",
    "predicate bl_corners_channeling(int: i) = \n",
    "    bl_corners_xs[i] == bl_corners[i, 1] /\\ \n",
    "    bl_corners_ys[i] == bl_corners[i, 2];\n",
    "constraint forall(i in ns) (bl_corners_channeling(i));\n",
    "\n",
    "predicate values_channeling(int: i) = \n",
    "    bl_corners_values[i] == coord_to_value(bl_corners_xs[i], bl_corners_ys[i]);\n",
    "constraint forall(i in ns) (values_channeling(i));\n",
    "\n",
    "predicate tr_corners_channeling(int: i) = \n",
    "    tr_corners[i, 1] == bl_corners_xs[i] + presents_xs[i] /\\ \n",
    "    tr_corners[i, 2] == bl_corners_ys[i] + presents_ys[i];\n",
    "constraint forall(i in ns) (tr_corners_channeling(i));\n",
    "\n",
    "% Constraints\n",
    "% Reduce presents domains\n",
    "constraint forall(i in ns) (bl_corners_xs[i] + presents_xs[i] <= w_paper /\\ bl_corners_ys[i] + presents_ys[i] <= h_paper);\n",
    "constraint forall(i in ns) (tr_corners[i, 1] >= presents_xs[i] /\\ tr_corners[i, 2] >= presents_ys[i]);\n",
    "\n",
    "% Two presents sum to total height or width\n",
    "constraint forall(i, j in ns where j > i) (\n",
    "    presents_xs[i] == presents_xs[j] /\\ presents_ys[i] + presents_ys[j] == h_paper -> \n",
    "    bl_corners_ys[j] = presents_ys[i] /\\ bl_corners_ys[i] = 0\n",
    ");\n",
    "constraint forall(i, j in ns where j > i) (\n",
    "    presents_ys[i] == presents_ys[j] /\\ presents_xs[i] + presents_xs[j] == w_paper -> \n",
    "    bl_corners_xs[j] = presents_xs[i] /\\ bl_corners_xs[i] = 0\n",
    ");\n",
    "\n",
    "% Sum of all the areas of all the placed presents equal to total area\n",
    "constraint sum(i in ns) (\n",
    "    (tr_corners[i, 1] - bl_corners[i, 1]) * (tr_corners[i, 2] - bl_corners[i, 2])\n",
    ") <= total_paper_area;\n",
    "constraint sum(i in ns) (\n",
    "    (tr_corners[i, 1] - bl_corners[i, 1]) * (tr_corners[i, 2] - bl_corners[i, 2])\n",
    ") == total_presents_area;\n",
    "\n",
    "% All the presents have different bottom left corners\n",
    "constraint alldifferent(bl_corners_values);\n",
    "\n",
    "% One present is always placed at the origin\n",
    "constraint count_eq(bl_corners_values, 0, 1);\n",
    "\n",
    "% Presents cannot overlap\n",
    "constraint diffn_k(bl_corners, presents);\n",
    "\n",
    "% Presents should be contained inside the wrapping paper and they should be maximally stacked\n",
    "constraint cumulative(bl_corners_xs, presents_xs, presents_ys, h_paper);\n",
    "constraint cumulative(bl_corners_ys, presents_ys, presents_xs, w_paper);\n",
    "\n",
    "% Biggest rectangle contained in the lower-left quadrant\n",
    "constraint \n",
    "    bl_corners_xs[max_present_ind] <= (w_paper - presents_xs[max_present_ind]) / 2 /\\ \n",
    "    bl_corners_ys[max_present_ind] <= (h_paper - presents_ys[max_present_ind]) / 2;\n",
    "\n",
    "% Non-optimal constraints\n",
    "/*\n",
    "% Presents in the same column ordered by width\n",
    "constraint forall(i, j in ns where j > i) (\n",
    "    bl_corners_xs[i] == bl_corners_xs[j] /\\ presents_xs[i] <= presents_xs[j] -> \n",
    "    bl_corners_ys[i] > bl_corners_ys[j]\n",
    ");\n",
    "*/\n",
    "\n",
    "% Search\n",
    "solve satisfy;"
   ]
  },
  {
   "cell_type": "markdown",
   "metadata": {},
   "source": [
    "### Fifth model"
   ]
  },
  {
   "cell_type": "code",
   "execution_count": 207,
   "metadata": {
    "tags": []
   },
   "outputs": [],
   "source": [
    "%%mzn_model pwp-v5\n",
    "include \"globals.mzn\";\n",
    "\n",
    "% Input values\n",
    "int: w_paper;\n",
    "int: h_paper;\n",
    "int: n;\n",
    "array[ns, 1..2] of int: presents;\n",
    "\n",
    "% Constants\n",
    "int: max_dim = max(w_paper, h_paper);\n",
    "int: total_paper_area = w_paper * h_paper;\n",
    "int: total_presents_area = sum(areas);\n",
    "int: min_present_width = min(presents_xs);\n",
    "int: min_present_height = min(presents_ys);\n",
    "int: max_present_width = max(presents_xs);\n",
    "int: max_present_height = max(presents_ys);\n",
    "int: min_present_dim = min([min_present_width, min_present_height]);\n",
    "int: max_present_dim = max([max_present_width, max_present_height]);\n",
    "int: max_present_ind = arg_max(areas);\n",
    "set of int: ns = 1..n;\n",
    "set of int: presents_xs_values = distinct_values(presents_xs);\n",
    "set of int: presents_ys_values = distinct_values(presents_ys);\n",
    "array[ns] of int: presents_xs = [presents[i, 1] | i in ns];\n",
    "array[ns] of int: presents_ys = [presents[i, 2] | i in ns];\n",
    "array[ns] of int: areas = [presents_xs[i] * presents_ys[i] | i in ns];\n",
    "array[ns] of int: x_intervals_sizes = [ceil(presents_xs[i] * 0.35) | i in ns]; \n",
    "array[1..card(presents_xs_values)] of set of ns: presents_group_xs = [group_presents(i, 1) | i in presents_xs_values];\n",
    "array[1..card(presents_xs_values)] of int: group_columns = [sum([presents_ys[j] | j in presents_group_xs[i]]) div h_paper | i in 1..card(presents_xs_values)];\n",
    "array[1..card(presents_xs_values)] of int: group_widths = [sum([presents_xs[j] | j in presents_group_xs[i]]) div card(presents_group_xs[i]) | i in 1..card(presents_xs_values)];\n",
    "\n",
    "% Variables\n",
    "array[ns, 1..2] of var 0..max_dim - min_present_dim: bl_corners;\n",
    "array[ns, 1..2] of var min_present_dim..max_dim: tr_corners;\n",
    "array[ns] of var 0..coord_to_value(w_paper, h_paper): bl_corners_values;\n",
    "array[ns] of var 0..w_paper - min_present_width: bl_corners_xs;\n",
    "array[ns] of var 0..h_paper - min_present_height: bl_corners_ys;\n",
    "% array[ns, 1..2] of var 0..w_paper: x_intervals;\n",
    "% array[ns, 1..4] of var 0..coord_to_value(w_paper, h_paper): corners_values;\n",
    "\n",
    "% Functions\n",
    "function int: coord_to_value(int: x, int: y) = x + (y * max_dim);\n",
    "function set of int: distinct_values(array[int] of int: x) = {j | j in lb_array(x)..ub_array(x), i in index_set(x) where x[i] = j };\n",
    "function set of ns: group_presents(int: size, int: axis) = {i | i in ns where presents[i, axis] == size};\n",
    "function int: get_starting_point(int: i) = sum([group_columns[j] * group_widths[j] | j in 1..i - 1]);\n",
    "function var int: coord_to_value(var int: x, var int: y) = x + (y * max_dim);\n",
    "\n",
    "% Channeling constraints\n",
    "/*\n",
    "predicate x_intervals_channeling(int: i) = \n",
    "    x_intervals[i, 2] == x_intervals[i, 1] + x_intervals_sizes[i] /\\\n",
    "    bl_corners_xs[i] >= x_intervals[i, 1] /\\\n",
    "    bl_corners_xs[i] <= x_intervals[i, 2];\n",
    "constraint forall(i in ns) (x_intervals_channeling(i));\n",
    "\n",
    "predicate corners_values_channeling(int: i) = \n",
    "    corners_values[i, 1] == bl_corners_values[i] /\\ \n",
    "    corners_values[i, 2] == coord_to_value(bl_corners_xs[i] + presents_xs[i], bl_corners_ys[i]) /\\\n",
    "    corners_values[i, 3] == coord_to_value(tr_corners[i, 1], tr_corners[i, 2]) /\\\n",
    "    corners_values[i, 4] == coord_to_value(bl_corners_xs[i], bl_corners_ys[i] + presents_ys[i]);\n",
    "constraint forall(i in ns) (corners_values_channeling(i));\n",
    "*/\n",
    "\n",
    "predicate bl_corners_channeling(int: i) = \n",
    "    bl_corners_xs[i] == bl_corners[i, 1] /\\ \n",
    "    bl_corners_ys[i] == bl_corners[i, 2];\n",
    "constraint forall(i in ns) (bl_corners_channeling(i));\n",
    "\n",
    "predicate values_channeling(int: i) = \n",
    "    bl_corners_values[i] == coord_to_value(bl_corners_xs[i], bl_corners_ys[i]);\n",
    "constraint forall(i in ns) (values_channeling(i));\n",
    "\n",
    "predicate tr_corners_channeling(int: i) = \n",
    "    tr_corners[i, 1] == bl_corners_xs[i] + presents_xs[i] /\\ \n",
    "    tr_corners[i, 2] == bl_corners_ys[i] + presents_ys[i];\n",
    "constraint forall(i in ns) (tr_corners_channeling(i));\n",
    "\n",
    "% Constraints\n",
    "\n",
    "\n",
    "predicate stack_cols(int: i, int: starting_point) = let { \n",
    "    int: n_presents = card(presents_group_xs[i]);\n",
    "    array[1..n_presents] of ns: indexes = [j | j in presents_group_xs[i]];\n",
    "    array[1..n_presents] of 1..h_paper: weights = [presents_ys[j] | j in indexes];\n",
    "    int: columns = group_columns[i];\n",
    "    array[1..n_presents] of var 1..columns: bins\n",
    "    } in \n",
    "        bin_packing(h_paper, bins, weights) /\\\n",
    "        forall(h in 1..n_presents, l in 1..columns where bins[h] == l) (\n",
    "            bl_corners_xs[indexes[h]] == starting_point + (group_widths[i] * (l - 1)) /\\\n",
    "            bl_corners_ys[indexes[h]] == sum([weights[j] | j in 1..h - 1 where bins[j] == l]) \n",
    "        );\n",
    "\n",
    "constraint trace(\"\\nCol_Stacking: \"++show(is_col_stacking_feasible())++\"\\n\\n\",is_col_stacking_feasible()) -> forall(i in 1..card(presents_xs_values)) (stack_cols(i, get_starting_point(i)));\n",
    "\n",
    "% Check if there's a group of presents not reaching full height\n",
    "predicate is_col_stacking_feasible() = \n",
    "    forall(i in 1..card(presents_xs_values)) (\n",
    "        sum([presents_ys[j] | j in presents_group_xs[i]]) >= h_paper\n",
    "    );\n",
    "\n",
    "\n",
    "/*\n",
    "% Reduce corners domains based on x intervals\n",
    "constraint forall(i, j in ns where j != i) (\n",
    "    not(\n",
    "        bl_corners_xs[j] < x_intervals[i, 2] + presents_xs[i] - x_intervals_sizes[i] /\\ \n",
    "        bl_corners_xs[j] > x_intervals[i, 2] /\\\n",
    "        bl_corners_ys[j] >= bl_corners_ys[i] /\\\n",
    "        bl_corners_ys[j] < bl_corners_ys[i] + presents_ys[i]     \n",
    "    )\n",
    ");\n",
    "*/\n",
    "\n",
    "% Reduce presents domains\n",
    "%constraint forall(i in ns) (bl_corners_xs[i] <= w_paper - presents_xs[i] /\\ bl_corners_ys[i] <= h_paper - presents_ys[i]);\n",
    "%constraint forall(i in ns) (tr_corners[i,1] >= presents_xs[i] /\\ tr_corners[i,2] >= presents_ys[i]);\n",
    "\n",
    "% Corners anchor points\n",
    "predicate anchor_points() =\n",
    "    let {\n",
    "        array[1..n * 4] of var int: lin_corners_values = array1d(1..n * 4, corners_values)\n",
    "    } in\n",
    "    nvalue(lin_corners_values) <= 2 * n + 2 /\\ \n",
    "    count_eq(lin_corners_values, coord_to_value(0, 0), 1) /\\\n",
    "    count_eq(lin_corners_values, coord_to_value(0, w_paper), 1) /\\\n",
    "    count_eq(lin_corners_values, coord_to_value(h_paper, 0), 1) /\\\n",
    "    count_eq(lin_corners_values, coord_to_value(w_paper, h_paper), 1);\n",
    "%constraint anchor_points();\n",
    "\n",
    "%Presents in the same column ordered by width\n",
    "%constraint forall(i, j in ns where j > i) ( (bl_corners_xs[i] == bl_corners_xs[j] /\\ presents_xs[i] <= presents_xs[j]) -> bl_corners_ys[i] > bl_corners_ys[j]);\n",
    "\n",
    "%2 presents sum to h_paper or w_paper\n",
    "%constraint forall(i,j in ns where j > i)(presents_xs[i] == presents_xs[j] /\\ presents_ys[i] + presents_ys[j]==h_paper -> bl_corners_ys[j]=presents_ys[i] /\\ bl_corners_ys[i] = 0);\n",
    "%constraint forall(i,j in ns where j > i)(presents_ys[i] == presents_ys[j] /\\ presents_xs[i] + presents_xs[j]==w_paper -> bl_corners_xs[j]=presents_xs[i] /\\ bl_corners_xs[i] = 0);\n",
    "\n",
    "%First present in the lower left quadrant\n",
    "%constraint bl_corners_xs[1] <= w_paper / 2 /\\ bl_corners_ys[1] <= h_paper / 2;\n",
    "\n",
    "%Sum of all the areas of all the placed presents equal to total area\n",
    "constraint sum(i in ns) ((tr_corners[i, 1] - bl_corners[i, 1]) * (tr_corners[i, 2] - bl_corners[i, 2])) <= total_paper_area;\n",
    "constraint sum(i in ns) ((tr_corners[i, 1] - bl_corners[i, 1]) * (tr_corners[i, 2] - bl_corners[i, 2])) == total_presents_area;\n",
    "\n",
    "%All the presents have different bottom left corners\n",
    "constraint alldifferent(bl_corners_values);\n",
    "\n",
    "%One present is always placed at the origin\n",
    "constraint count_eq(bl_corners_values, 0, 1);\n",
    "\n",
    "%Presents cannot overlap\n",
    "%constraint diffn_k(bl_corners, presents);\n",
    "\n",
    "constraint cumulative(bl_corners_xs, presents_xs, presents_ys, h_paper);\n",
    "constraint cumulative(bl_corners_ys, presents_ys, presents_xs, w_paper);\n",
    "\n",
    "%constraint bl_corners_xs[1] == 0 /\\ bl_corners_ys[1] == 0;\n",
    "%constraint bl_corners_xs[max_present_ind]<=(w_paper - presents_xs[max_present_ind])/2 /\\ bl_corners_ys[max_present_ind]<=(h_paper - presents_ys[max_present_ind])/2;\n",
    "\n",
    "%solve :: int_search(bl_corners_values, dom_w_deg, indomain_min) :: restart_luby(100) satisfy;\n",
    "%solve minimize sum(bl_corners_values);\n",
    "solve satisfy;\n",
    "/*\n",
    "solve :: seq_search([\n",
    "             int_search(x_intervals, smallest, indomain_min),\n",
    "             int_search(bl_corners_xs, smallest, indomain_min),\n",
    "             int_search(bl_corners_ys, smallest, indomain_min)\n",
    "         ]) satisfy;\n",
    "*/"
   ]
  },
  {
   "cell_type": "markdown",
   "metadata": {},
   "source": [
    "### Sixth model"
   ]
  },
  {
   "cell_type": "code",
   "execution_count": 322,
   "metadata": {},
   "outputs": [],
   "source": [
    "%%mzn_model pwp-v6\n",
    "include \"globals.mzn\";\n",
    "\n",
    "\n",
    "%Input values\n",
    "int: w_paper;\n",
    "int: h_paper;\n",
    "int: n;\n",
    "int: total_paper_area = w_paper * h_paper;\n",
    "int: total_presents_area = sum(areas);\n",
    "int: max_dim = max(w_paper, h_paper);\n",
    "int: min_present_width = min(presents_xs);\n",
    "int: min_present_height = min(presents_ys);\n",
    "int: max_present_width = max(presents_xs);\n",
    "int: max_present_height = max(presents_ys);\n",
    "int: min_present_dim = min([min_present_width, min_present_height]);\n",
    "int: max_present_dim = max([max_present_width, max_present_height]);\n",
    "\n",
    "set of int: ns = 1..n;\n",
    "\n",
    "array[ns, 1..2] of int: presents;\n",
    "array[ns] of int: presents_xs = [presents[i, 1] | i in ns];\n",
    "array[ns] of int: presents_ys = [presents[i, 2] | i in ns];\n",
    "array[ns] of int: areas = [presents_xs[i] * presents_ys[i] | i in ns];\n",
    "array[int] of int: order = sort_by(ns, [-presents_xs[i] * presents_ys[i] | i in ns]);\n",
    "%array[int] of int: order = sort_by(ns, [-presents_ys[i] | i in ns]);\n",
    "\n",
    "% Variables\n",
    "array[ns, 1..2] of var 0..max_dim - min_present_dim: bl_corners;\n",
    "array[ns, 1..2] of var min_present_dim..max_dim: tr_corners;\n",
    "array[ns] of var 0..w_paper - min_present_width: bl_corners_xs;\n",
    "array[ns] of var 0..h_paper - min_present_height: bl_corners_ys;\n",
    "array[ns] of var 0..coord_to_value(w_paper, h_paper): bl_corners_values;\n",
    "\n",
    "function var int: coord_to_value(var int: x, var int: y) = x + (y * max_dim);\n",
    "function int: coord_to_value(int: x, int: y) = x + (y * max_dim);\n",
    "\n",
    "predicate bl_corners_channeling(int: i) = \n",
    "    bl_corners_xs[i] == bl_corners[i, 1] /\\ \n",
    "    bl_corners_ys[i] == bl_corners[i, 2];\n",
    "constraint forall(i in ns) (bl_corners_channeling(i));\n",
    "\n",
    "predicate tr_corners_channeling(int: i) = \n",
    "    tr_corners[i, 1] == bl_corners_xs[i] + presents_xs[i] /\\ \n",
    "    tr_corners[i, 2] == bl_corners_ys[i] + presents_ys[i];\n",
    "constraint forall(i in ns) (tr_corners_channeling(i));\n",
    "\n",
    "predicate values_channeling(int: i) = \n",
    "    bl_corners_values[i] == coord_to_value(bl_corners_xs[i], bl_corners_ys[i]);\n",
    "constraint forall(i in ns) (values_channeling(i));\n",
    "\n",
    "constraint cumulative(bl_corners_xs, presents_xs, presents_ys, h_paper);\n",
    "constraint cumulative(bl_corners_ys, presents_ys, presents_xs, w_paper);\n",
    "constraint diffn_k(bl_corners, presents);\n",
    "\n",
    "constraint forall(i in ns)(\n",
    "    member([0] ++ [bl_corners_xs[j] + presents_xs[j] | j in ns where j != i], bl_corners_xs[i]) /\\\n",
    "    member([0] ++ [bl_corners_ys[j] + presents_ys[j] | j in ns where j != i], bl_corners_ys[i])\n",
    ");\n",
    "\n",
    "constraint forall(i in ns)(\n",
    "    bl_corners_xs[i] + presents_xs[i] <= w_paper /\\\n",
    "    bl_corners_ys[i] + presents_ys[i] <= h_paper\n",
    ");\n",
    "\n",
    "% Symmetry breaking\n",
    "constraint let {int: o1 = order[1], int: o2 = order[2]} in lex_less([bl_corners_ys[o1], bl_corners_xs[o1]], [bl_corners_ys[o2], bl_corners_xs[o2]]);\n",
    "\n",
    "constraint forall(i in ns)(\n",
    "    let {array[int] of int: I = [j | j in ns where presents_xs[j] = presents_xs[i] /\\ presents_ys[j] = presents_ys[i]]} in \n",
    "    if length(I) > 1 /\\ min(I) = i then\n",
    "        forall(j in index_set(I) where j > 1)(lex_less([bl_corners_ys[I[j - 1]], bl_corners_xs[I[j - 1]]], [bl_corners_ys[I[j]], bl_corners_xs[I[j]]]))\n",
    "    else true \n",
    "    endif\n",
    ");\n",
    "\n",
    "%All the presents have different bottom left corners\n",
    "constraint alldifferent(bl_corners_values);\n",
    "\n",
    "%One present is always placed at the origin\n",
    "constraint count_eq(bl_corners_values, 0, 1);\n",
    "\n",
    "%Sum of all the areas of all the placed presents equal to total area\n",
    "constraint sum(i in ns) ((tr_corners[i, 1] - bl_corners[i, 1]) * (tr_corners[i, 2] - bl_corners[i, 2])) <= total_paper_area;\n",
    "constraint sum(i in ns) ((tr_corners[i, 1] - bl_corners[i, 1]) * (tr_corners[i, 2] - bl_corners[i, 2])) == total_presents_area;\n",
    "\n",
    "constraint forall(i in ns) (bl_corners_xs[i] <= w_paper - presents_xs[i] /\\ bl_corners_ys[i] <= h_paper - presents_ys[i]);\n",
    "constraint forall(i in ns) (tr_corners[i,1] >= presents_xs[i] /\\ tr_corners[i,2] >= presents_ys[i]);\n",
    "\n",
    "solve :: seq_search([\n",
    "    int_search([bl_corners_ys[i] | i in order], input_order, indomain_min, complete),\n",
    "    int_search([bl_corners_xs[i] | i in order], input_order, indomain_min, complete)\n",
    "]) satisfy;"
   ]
  },
  {
   "cell_type": "markdown",
   "metadata": {},
   "source": [
    "## SMT"
   ]
  },
  {
   "cell_type": "markdown",
   "metadata": {},
   "source": [
    "### Functions"
   ]
  },
  {
   "cell_type": "code",
   "execution_count": 281,
   "metadata": {},
   "outputs": [],
   "source": [
    "def member(x, l):\n",
    "    '''\n",
    "    Return a contraint computing membership testing\n",
    "    '''\n",
    "    return Or([x == l[i] for i in range(len(l))])\n",
    "\n",
    "def z3_max_list(l):\n",
    "    '''\n",
    "    Return a constraint computing the maximum over a list of variables\n",
    "    '''\n",
    "    c = []\n",
    "    max_value = Int(rand_str())\n",
    "    c.append(member(max_value, l))\n",
    "    for i in range(len(l)):\n",
    "        c.append(max_value >= l[i])\n",
    "    return max_value, c\n",
    "\n",
    "def z3_max(x, y):\n",
    "    '''\n",
    "    Return a constraint computing the maximum of two variables\n",
    "    '''\n",
    "    return If(x > y, x, y)\n",
    "\n",
    "def z3_min_list(l):\n",
    "    '''\n",
    "    Return a constraint computing the minimum over a list of variables\n",
    "    '''\n",
    "    c = []\n",
    "    min_value = Int(rand_str())\n",
    "    c.append(member(min_value, l))\n",
    "    for i in range(len(l)):\n",
    "        c.append(min_value <= l[i])\n",
    "    return min_value, c\n",
    "\n",
    "def z3_min(x, y):\n",
    "    '''\n",
    "    Return a constraint computing the minimum of two variables\n",
    "    '''\n",
    "    return If(x < y, x, y)\n",
    "\n",
    "def z3_bool2int(v):\n",
    "    '''\n",
    "    Convert a boolean variable to an integer one\n",
    "    '''\n",
    "    return IntSort().cast(v)\n",
    "\n",
    "def z3_diffn(x, y, dx, dy):\n",
    "    '''\n",
    "    Return a list of constraints computing non-overlapping checks\n",
    "    '''\n",
    "    c = []\n",
    "    n = len(x)\n",
    "    for i in range(n):\n",
    "        for j in range(i + 1, n):\n",
    "            c.append(\n",
    "                And(Or([\n",
    "                    x[i] + dx[i] <= x[j],\n",
    "                    y[i] + dy[i] <= y[j],\n",
    "                    x[j] + dx[j] <= x[i],\n",
    "                    y[j] + dy[j] <= y[i]\n",
    "                ]))\n",
    "            )\n",
    "    return c\n",
    "\n",
    "def z3_cumulative(s, d, r, b, ls, us):\n",
    "    '''\n",
    "    Return a list of constraints computing cumulative checks.\n",
    "    Here, resources `r`, durations `d` and bound `b` must be fixed\n",
    "    '''\n",
    "    c = []\n",
    "    early = ls\n",
    "    late = us + max(d)\n",
    "    tasks = [i for i in range(len(s)) if r[i] > 0 and d[i] > 0]\n",
    "    if late - early < 5000:\n",
    "        for i in tasks:\n",
    "            c1 = []\n",
    "            for j in tasks:\n",
    "                if j != i:\n",
    "                    c1.append(z3_bool2int(And(s[j] <= s[i], s[i] < s[j] + d[j])) * r[j])\n",
    "            c.append(b >= r[i] + Sum(c1))\n",
    "    else:\n",
    "        for t in range(early, late + 1):\n",
    "            for i in tasks:\n",
    "                c.append(\n",
    "                    Sum([(If(s[i] <= t, 1, 0) * If(t < s[i] + d[i], 1, 0)) * r[i] for i in tasks]) <= b\n",
    "                )\n",
    "    return c"
   ]
  },
  {
   "cell_type": "markdown",
   "metadata": {},
   "source": [
    "### Input"
   ]
  },
  {
   "cell_type": "code",
   "execution_count": 288,
   "metadata": {},
   "outputs": [],
   "source": [
    "instance = 24\n",
    "min_instance, max_instance = 8, 40"
   ]
  },
  {
   "cell_type": "code",
   "execution_count": 289,
   "metadata": {
    "tags": []
   },
   "outputs": [
    {
     "output_type": "stream",
     "name": "stdout",
     "text": "Paper dimensions: 24x24\nPresents dimensions: [[3, 3], [3, 4], [3, 5], [3, 6], [3, 7], [3, 8], [3, 9], [3, 10], [3, 12], [3, 14], [3, 18], [3, 24], [4, 3], [4, 4], [4, 5], [4, 12], [5, 8], [5, 16]]\n"
    },
    {
     "output_type": "error",
     "ename": "Z3Exception",
     "evalue": "model is not available",
     "traceback": [
      "\u001b[0;31m---------------------------------------------------------------------------\u001b[0m",
      "\u001b[0;31mZ3Exception\u001b[0m                               Traceback (most recent call last)",
      "\u001b[0;32m~/Github/present-wrapping/venv/lib/python3.8/site-packages/z3/z3.py\u001b[0m in \u001b[0;36mmodel\u001b[0;34m(self)\u001b[0m\n\u001b[1;32m   6695\u001b[0m         \u001b[0;32mtry\u001b[0m\u001b[0;34m:\u001b[0m\u001b[0;34m\u001b[0m\u001b[0;34m\u001b[0m\u001b[0m\n\u001b[0;32m-> 6696\u001b[0;31m             \u001b[0;32mreturn\u001b[0m \u001b[0mModelRef\u001b[0m\u001b[0;34m(\u001b[0m\u001b[0mZ3_solver_get_model\u001b[0m\u001b[0;34m(\u001b[0m\u001b[0mself\u001b[0m\u001b[0;34m.\u001b[0m\u001b[0mctx\u001b[0m\u001b[0;34m.\u001b[0m\u001b[0mref\u001b[0m\u001b[0;34m(\u001b[0m\u001b[0;34m)\u001b[0m\u001b[0;34m,\u001b[0m \u001b[0mself\u001b[0m\u001b[0;34m.\u001b[0m\u001b[0msolver\u001b[0m\u001b[0;34m)\u001b[0m\u001b[0;34m,\u001b[0m \u001b[0mself\u001b[0m\u001b[0;34m.\u001b[0m\u001b[0mctx\u001b[0m\u001b[0;34m)\u001b[0m\u001b[0;34m\u001b[0m\u001b[0;34m\u001b[0m\u001b[0m\n\u001b[0m\u001b[1;32m   6697\u001b[0m         \u001b[0;32mexcept\u001b[0m \u001b[0mZ3Exception\u001b[0m\u001b[0;34m:\u001b[0m\u001b[0;34m\u001b[0m\u001b[0;34m\u001b[0m\u001b[0m\n",
      "\u001b[0;32m~/Github/present-wrapping/venv/lib/python3.8/site-packages/z3/z3core.py\u001b[0m in \u001b[0;36mZ3_solver_get_model\u001b[0;34m(a0, a1, _elems)\u001b[0m\n\u001b[1;32m   3758\u001b[0m   \u001b[0mr\u001b[0m \u001b[0;34m=\u001b[0m \u001b[0m_elems\u001b[0m\u001b[0;34m.\u001b[0m\u001b[0mf\u001b[0m\u001b[0;34m(\u001b[0m\u001b[0ma0\u001b[0m\u001b[0;34m,\u001b[0m \u001b[0ma1\u001b[0m\u001b[0;34m)\u001b[0m\u001b[0;34m\u001b[0m\u001b[0;34m\u001b[0m\u001b[0m\n\u001b[0;32m-> 3759\u001b[0;31m   \u001b[0m_elems\u001b[0m\u001b[0;34m.\u001b[0m\u001b[0mCheck\u001b[0m\u001b[0;34m(\u001b[0m\u001b[0ma0\u001b[0m\u001b[0;34m)\u001b[0m\u001b[0;34m\u001b[0m\u001b[0;34m\u001b[0m\u001b[0m\n\u001b[0m\u001b[1;32m   3760\u001b[0m   \u001b[0;32mreturn\u001b[0m \u001b[0mr\u001b[0m\u001b[0;34m\u001b[0m\u001b[0;34m\u001b[0m\u001b[0m\n",
      "\u001b[0;32m~/Github/present-wrapping/venv/lib/python3.8/site-packages/z3/z3core.py\u001b[0m in \u001b[0;36mCheck\u001b[0;34m(self, ctx)\u001b[0m\n\u001b[1;32m   1384\u001b[0m     \u001b[0;32mif\u001b[0m \u001b[0merr\u001b[0m \u001b[0;34m!=\u001b[0m \u001b[0mself\u001b[0m\u001b[0;34m.\u001b[0m\u001b[0mOK\u001b[0m\u001b[0;34m:\u001b[0m\u001b[0;34m\u001b[0m\u001b[0;34m\u001b[0m\u001b[0m\n\u001b[0;32m-> 1385\u001b[0;31m         \u001b[0;32mraise\u001b[0m \u001b[0mself\u001b[0m\u001b[0;34m.\u001b[0m\u001b[0mException\u001b[0m\u001b[0;34m(\u001b[0m\u001b[0mself\u001b[0m\u001b[0;34m.\u001b[0m\u001b[0mget_error_message\u001b[0m\u001b[0;34m(\u001b[0m\u001b[0mctx\u001b[0m\u001b[0;34m,\u001b[0m \u001b[0merr\u001b[0m\u001b[0;34m)\u001b[0m\u001b[0;34m)\u001b[0m\u001b[0;34m\u001b[0m\u001b[0;34m\u001b[0m\u001b[0m\n\u001b[0m\u001b[1;32m   1386\u001b[0m \u001b[0;34m\u001b[0m\u001b[0m\n",
      "\u001b[0;31mZ3Exception\u001b[0m: b'there is no current model'",
      "\nDuring handling of the above exception, another exception occurred:\n",
      "\u001b[0;31mZ3Exception\u001b[0m                               Traceback (most recent call last)",
      "\u001b[0;32m<ipython-input-289-abc7e68c9162>\u001b[0m in \u001b[0;36m<module>\u001b[0;34m\u001b[0m\n\u001b[1;32m     13\u001b[0m     \u001b[0mbl_corners\u001b[0m\u001b[0;34m,\u001b[0m \u001b[0mmodel\u001b[0m \u001b[0;34m=\u001b[0m \u001b[0msmt_v1\u001b[0m\u001b[0;34m(\u001b[0m\u001b[0mw_paper\u001b[0m\u001b[0;34m,\u001b[0m \u001b[0mh_paper\u001b[0m\u001b[0;34m,\u001b[0m \u001b[0mn\u001b[0m\u001b[0;34m,\u001b[0m \u001b[0mpresents\u001b[0m\u001b[0;34m)\u001b[0m\u001b[0;34m\u001b[0m\u001b[0;34m\u001b[0m\u001b[0m\n\u001b[1;32m     14\u001b[0m     \u001b[0mmodel\u001b[0m\u001b[0;34m.\u001b[0m\u001b[0mcheck\u001b[0m\u001b[0;34m(\u001b[0m\u001b[0;34m)\u001b[0m\u001b[0;34m\u001b[0m\u001b[0;34m\u001b[0m\u001b[0m\n\u001b[0;32m---> 15\u001b[0;31m     \u001b[0massignment\u001b[0m \u001b[0;34m=\u001b[0m \u001b[0mmodel\u001b[0m\u001b[0;34m.\u001b[0m\u001b[0mmodel\u001b[0m\u001b[0;34m(\u001b[0m\u001b[0;34m)\u001b[0m\u001b[0;34m\u001b[0m\u001b[0;34m\u001b[0m\u001b[0m\n\u001b[0m\u001b[1;32m     16\u001b[0m     \u001b[0msolution\u001b[0m \u001b[0;34m=\u001b[0m \u001b[0;34m[\u001b[0m\u001b[0;34m[\u001b[0m\u001b[0massignment\u001b[0m\u001b[0;34m[\u001b[0m\u001b[0mbl_corners\u001b[0m\u001b[0;34m[\u001b[0m\u001b[0mi\u001b[0m\u001b[0;34m]\u001b[0m\u001b[0;34m[\u001b[0m\u001b[0;36m0\u001b[0m\u001b[0;34m]\u001b[0m\u001b[0;34m]\u001b[0m\u001b[0;34m.\u001b[0m\u001b[0mas_long\u001b[0m\u001b[0;34m(\u001b[0m\u001b[0;34m)\u001b[0m\u001b[0;34m,\u001b[0m \u001b[0massignment\u001b[0m\u001b[0;34m[\u001b[0m\u001b[0mbl_corners\u001b[0m\u001b[0;34m[\u001b[0m\u001b[0mi\u001b[0m\u001b[0;34m]\u001b[0m\u001b[0;34m[\u001b[0m\u001b[0;36m1\u001b[0m\u001b[0;34m]\u001b[0m\u001b[0;34m]\u001b[0m\u001b[0;34m.\u001b[0m\u001b[0mas_long\u001b[0m\u001b[0;34m(\u001b[0m\u001b[0;34m)\u001b[0m\u001b[0;34m]\u001b[0m \u001b[0;32mfor\u001b[0m \u001b[0mi\u001b[0m \u001b[0;32min\u001b[0m \u001b[0mrange\u001b[0m\u001b[0;34m(\u001b[0m\u001b[0mn\u001b[0m\u001b[0;34m)\u001b[0m\u001b[0;34m]\u001b[0m\u001b[0;34m\u001b[0m\u001b[0;34m\u001b[0m\u001b[0m\n\u001b[1;32m     17\u001b[0m     \u001b[0mend_time\u001b[0m \u001b[0;34m=\u001b[0m \u001b[0mtime\u001b[0m\u001b[0;34m(\u001b[0m\u001b[0;34m)\u001b[0m\u001b[0;34m\u001b[0m\u001b[0;34m\u001b[0m\u001b[0m\n",
      "\u001b[0;32m~/Github/present-wrapping/venv/lib/python3.8/site-packages/z3/z3.py\u001b[0m in \u001b[0;36mmodel\u001b[0;34m(self)\u001b[0m\n\u001b[1;32m   6696\u001b[0m             \u001b[0;32mreturn\u001b[0m \u001b[0mModelRef\u001b[0m\u001b[0;34m(\u001b[0m\u001b[0mZ3_solver_get_model\u001b[0m\u001b[0;34m(\u001b[0m\u001b[0mself\u001b[0m\u001b[0;34m.\u001b[0m\u001b[0mctx\u001b[0m\u001b[0;34m.\u001b[0m\u001b[0mref\u001b[0m\u001b[0;34m(\u001b[0m\u001b[0;34m)\u001b[0m\u001b[0;34m,\u001b[0m \u001b[0mself\u001b[0m\u001b[0;34m.\u001b[0m\u001b[0msolver\u001b[0m\u001b[0;34m)\u001b[0m\u001b[0;34m,\u001b[0m \u001b[0mself\u001b[0m\u001b[0;34m.\u001b[0m\u001b[0mctx\u001b[0m\u001b[0;34m)\u001b[0m\u001b[0;34m\u001b[0m\u001b[0;34m\u001b[0m\u001b[0m\n\u001b[1;32m   6697\u001b[0m         \u001b[0;32mexcept\u001b[0m \u001b[0mZ3Exception\u001b[0m\u001b[0;34m:\u001b[0m\u001b[0;34m\u001b[0m\u001b[0;34m\u001b[0m\u001b[0m\n\u001b[0;32m-> 6698\u001b[0;31m             \u001b[0;32mraise\u001b[0m \u001b[0mZ3Exception\u001b[0m\u001b[0;34m(\u001b[0m\u001b[0;34m\"model is not available\"\u001b[0m\u001b[0;34m)\u001b[0m\u001b[0;34m\u001b[0m\u001b[0;34m\u001b[0m\u001b[0m\n\u001b[0m\u001b[1;32m   6699\u001b[0m \u001b[0;34m\u001b[0m\u001b[0m\n\u001b[1;32m   6700\u001b[0m     \u001b[0;32mdef\u001b[0m \u001b[0mimport_model_converter\u001b[0m\u001b[0;34m(\u001b[0m\u001b[0mself\u001b[0m\u001b[0;34m,\u001b[0m \u001b[0mother\u001b[0m\u001b[0;34m)\u001b[0m\u001b[0;34m:\u001b[0m\u001b[0;34m\u001b[0m\u001b[0;34m\u001b[0m\u001b[0m\n",
      "\u001b[0;31mZ3Exception\u001b[0m: model is not available"
     ]
    }
   ],
   "source": [
    "times = []\n",
    "instances = []\n",
    "if instance is not None:\n",
    "    min_instance, max_instance = instance, instance\n",
    "for i in range(min_instance, max_instance + 1):\n",
    "    current_instance = f\"{i}x{i}\"\n",
    "    instances.append(current_instance)\n",
    "    path = f\"instances/{current_instance}.txt\"\n",
    "    w_paper, h_paper, n, presents = read_input(path)\n",
    "    print(f\"Paper dimensions: {i}x{i}\")\n",
    "    print(f\"Presents dimensions: {presents}\")\n",
    "    start_time = time()\n",
    "    bl_corners, model = smt_v1(w_paper, h_paper, n, presents)\n",
    "    model.check()\n",
    "    assignment = model.model()\n",
    "    solution = [[assignment[bl_corners[i][0]].as_long(), assignment[bl_corners[i][1]].as_long()] for i in range(n)]\n",
    "    end_time = time()\n",
    "    total_time = end_time - start_time\n",
    "    times.append(total_time)\n",
    "    print(model.statistics())\n",
    "    print(f\"Total running time: {round(total_time, 3)} seconds\")\n",
    "    if solution:\n",
    "        show_solution(w_paper, h_paper, n, presents, solution)\n",
    "        output(w_paper, h_paper, n, presents, solution, model='smt')\n",
    "print(\"Instance size / Running time plot:\")\n",
    "show_running_times(instances, times)"
   ]
  },
  {
   "cell_type": "markdown",
   "metadata": {},
   "source": [
    "### First model"
   ]
  },
  {
   "cell_type": "code",
   "execution_count": 280,
   "metadata": {
    "tags": []
   },
   "outputs": [],
   "source": [
    "def smt_v1(w_paper, h_paper, n, presents):\n",
    "    presents_xs = [presents[i][0] for i in range(n)]\n",
    "    presents_ys = [presents[i][1] for i in range(n)]\n",
    "    bl_corners = [ [ Int(\"c_%s_%s\" % (i, j)) for j in range(2) ] for i in range(n) ]\n",
    "    bl_corners_xs = [bl_corners[i][0] for i in range(n)]\n",
    "    bl_corners_ys = [bl_corners[i][1] for i in range(n)]\n",
    "    domain = [\n",
    "        And(\n",
    "            0 <= bl_corners[i][0], bl_corners[i][0] <= w_paper - presents[i][0], \n",
    "            0 <= bl_corners[i][1], bl_corners[i][1] <= h_paper - presents[i][1]\n",
    "        ) for i in range(n)\n",
    "    ]\n",
    "    no_overlap = z3_diffn(bl_corners_xs, bl_corners_ys, presents_xs, presents_ys)\n",
    "    x_bound = z3_cumulative(bl_corners_xs, presents_xs, presents_ys, h_paper, 0, w_paper - 1);\n",
    "    y_bound = z3_cumulative(bl_corners_ys, presents_ys, presents_xs, w_paper, 0, h_paper - 1);\n",
    "\n",
    "    model = Solver()\n",
    "    model.add(domain + intersection + no_overlap + x_bound + y_bound)\n",
    "    return bl_corners, model"
   ]
  },
  {
   "cell_type": "code",
   "execution_count": null,
   "metadata": {},
   "outputs": [],
   "source": []
  }
 ],
 "metadata": {
  "kernelspec": {
   "display_name": "Python 3",
   "language": "python",
   "name": "python3"
  },
  "language_info": {
   "codemirror_mode": {
    "name": "ipython",
    "version": 3
   },
   "file_extension": ".py",
   "mimetype": "text/x-python",
   "name": "python",
   "nbconvert_exporter": "python",
   "pygments_lexer": "ipython3",
   "version": "3.8.3"
  }
 },
 "nbformat": 4,
 "nbformat_minor": 2
}