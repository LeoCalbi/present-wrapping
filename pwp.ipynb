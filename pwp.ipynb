{
 "cells": [
  {
   "cell_type": "markdown",
   "metadata": {},
   "source": [
    "# Present Wrapping Problem"
   ]
  },
  {
   "cell_type": "code",
   "execution_count": 166,
   "metadata": {
    "tags": []
   },
   "outputs": [
    {
     "name": "stdout",
     "output_type": "stream",
     "text": [
      "The autoreload extension is already loaded. To reload it, use:\n",
      "  %reload_ext autoreload\n",
      "The iminizinc extension is already loaded. To reload it, use:\n",
      "  %reload_ext iminizinc\n"
     ]
    }
   ],
   "source": [
    "%load_ext autoreload\n",
    "%load_ext iminizinc\n",
    "%matplotlib inline\n",
    "%autoreload 2\n",
    "\n",
    "import matplotlib.pyplot as plt\n",
    "import matplotlib.patches as patches\n",
    "import numpy as np\n",
    "from z3 import *"
   ]
  },
  {
   "cell_type": "markdown",
   "metadata": {},
   "source": [
    "## Functions"
   ]
  },
  {
   "cell_type": "code",
   "execution_count": 167,
   "metadata": {
    "tags": []
   },
   "outputs": [],
   "source": [
    "def read_input(path):\n",
    "    file = open(path,\"r\").readlines()\n",
    "    w_paper , h_paper = tuple(map(int, file[0].rstrip(\"\\n\").split(\" \")))\n",
    "    n = int(file[1].rstrip(\"\\n\"))\n",
    "    presents = []\n",
    "    for i in range(2, n + 2):\n",
    "        presents.append(list(map(int, file[i].rstrip(\"\\n\").split(\" \"))))\n",
    "    return w_paper, h_paper, n, presents"
   ]
  },
  {
   "cell_type": "code",
   "execution_count": 168,
   "metadata": {},
   "outputs": [],
   "source": [
    "def show_solutions(w_paper, h_paper, n, presents, solutions):\n",
    "    colours = np.random.rand(n, 3)\n",
    "    if not isinstance(solutions, list):\n",
    "        solutions = [solutions]\n",
    "    for x in solutions:\n",
    "        bl_corners = x['bl_corners'] if 'bl_corners' in x else x\n",
    "        show_solution(w_paper, h_paper, n, presents, bl_corners, colours)\n",
    "\n",
    "def show_solution(w_paper, h_paper, n,presents, bl_corners, colours=None):\n",
    "    if colours is None:\n",
    "        colours = np.random.rand(n, 3)\n",
    "    fig, ax = plt.subplots()\n",
    "    for i in range(n):\n",
    "        ax.add_patch(patches.Rectangle(\n",
    "            bl_corners[i],\n",
    "            presents[i][0],\n",
    "            presents[i][1],\n",
    "            facecolor=colours[i]\n",
    "        ))\n",
    "    ax.set_xlim(0, w_paper)\n",
    "    ax.set_ylim(0, h_paper)\n",
    "    plt.show()\n",
    "    print(f\"Solution: {bl_corners}\")"
   ]
  },
  {
   "cell_type": "code",
   "execution_count": 169,
   "metadata": {},
   "outputs": [],
   "source": [
    "def order_presents(presents, method='height', reverse=False):\n",
    "    to_sort = (\n",
    "        [e[0] * e[1] for e in presents] if method == 'area'\n",
    "        else [e[1] for e in presents] if method == 'height'\n",
    "        else [e[0] for e in presents] if method == 'width'\n",
    "        else None\n",
    "    )\n",
    "    sorted_indices = sorted(range(len(to_sort)), key=lambda k: to_sort[k], reverse=reverse)\n",
    "    presents = [presents[i] for i in sorted_indices]\n",
    "    return presents, sorted_indices"
   ]
  },
  {
   "cell_type": "markdown",
   "metadata": {},
   "source": [
    "## MiniZinc model"
   ]
  },
  {
   "cell_type": "markdown",
   "metadata": {},
   "source": [
    "### Input"
   ]
  },
  {
   "cell_type": "code",
   "execution_count": 171,
   "metadata": {},
   "outputs": [],
   "source": [
    "instance = None\n",
    "min_instance, max_instance = 8, 40"
   ]
  },
  {
   "cell_type": "code",
   "execution_count": 178,
   "metadata": {},
   "outputs": [
    {
     "name": "stdout",
     "output_type": "stream",
     "text": [
      "Paper dimensions: 11x12\n",
      "Presents dimensions: [[8, 3], [4, 6], [4, 6], [8, 3], [3, 4], [3, 4], [3, 4]]\n",
      "\n",
      "Col_Stacking: false\n",
      "\n",
      "\n",
      "Row_Stacking: false\n",
      "\n",
      "%%%mzn-stat: nSolutions=1\n",
      "Solver output:\n",
      "Generated FlatZinc statistics:\n",
      "mzn-stat: paths=0\n",
      "mzn-stat: flatBoolVars=91\n",
      "mzn-stat: flatIntVars=84\n",
      "mzn-stat: flatBoolConstraints=21\n",
      "mzn-stat: flatIntConstraints=167\n",
      "mzn-stat: evaluatedReifiedConstraints=7\n",
      "mzn-stat: evaluatedHalfReifiedConstraints=84\n",
      "mzn-stat: method=\"satisfy\"\n",
      "mzn-stat: flatTime=0.124598\n",
      "mzn-stat-end\n",
      "mzn-stat: initTime=0.009\n",
      "mzn-stat: solveTime=0.001\n",
      "mzn-stat: solutions=1\n",
      "mzn-stat: variables=175\n",
      "mzn-stat: propagators=178\n",
      "mzn-stat: propagations=2769\n",
      "mzn-stat: nodes=41\n",
      "mzn-stat: failures=16\n",
      "mzn-stat: restarts=0\n",
      "mzn-stat: peakDepth=14\n",
      "mzn-stat-end\n"
     ]
    },
    {
     "data": {
      "image/png": "[encoded data removed]",
      "text/plain": [
       "<Figure size 432x288 with 1 Axes>"
      ]
     },
     "metadata": {
      "needs_background": "light"
     },
     "output_type": "display_data"
    },
    {
     "name": "stdout",
     "output_type": "stream",
     "text": [
      "Solution: [[0, 9], [4, 0], [0, 0], [0, 6], [8, 8], [8, 4], [8, 0]]\n"
     ]
    }
   ],
   "source": [
    "path = f\"instances/11x12.txt\"\n",
    "w_paper, h_paper, n, presents = read_input(path)\n",
    "unordered_presents = list(presents)\n",
    "presents, sorted_indices = order_presents(presents, method='area', reverse=True)\n",
    "bl_corners = []\n",
    "print(f\"Paper dimensions: 11x12\")\n",
    "print(f\"Presents dimensions: {presents}\")\n",
    "solutions = %minizinc -s pwp-v5\n",
    "if solutions:\n",
    "    show_solutions(w_paper, h_paper, n, presents, solutions)"
   ]
  },
  {
   "cell_type": "code",
   "execution_count": 181,
   "metadata": {},
   "outputs": [
    {
     "name": "stdout",
     "output_type": "stream",
     "text": [
      "Paper dimensions: 8x8\n",
      "Presents dimensions: [[5, 5], [3, 5], [5, 3], [3, 3]]\n",
      "\n",
      "Col_Stacking: true\n",
      "\n",
      "\n",
      "Row_Stacking: true\n",
      "\n",
      "%%%mzn-stat: nSolutions=1\n",
      "Solver output:\n",
      "Generated FlatZinc statistics:\n",
      "mzn-stat: paths=0\n",
      "mzn-stat: flatBoolVars=24\n",
      "mzn-stat: flatIntVars=48\n",
      "mzn-stat: flatBoolConstraints=6\n",
      "mzn-stat: flatIntConstraints=74\n",
      "mzn-stat: evaluatedReifiedConstraints=4\n",
      "mzn-stat: evaluatedHalfReifiedConstraints=20\n",
      "mzn-stat: method=\"satisfy\"\n",
      "mzn-stat: flatTime=0.112933\n",
      "mzn-stat-end\n",
      "mzn-stat: initTime=0.007\n",
      "mzn-stat: solveTime=0\n",
      "mzn-stat: solutions=1\n",
      "mzn-stat: variables=76\n",
      "mzn-stat: propagators=49\n",
      "mzn-stat: propagations=148\n",
      "mzn-stat: nodes=2\n",
      "mzn-stat: failures=0\n",
      "mzn-stat: restarts=0\n",
      "mzn-stat: peakDepth=1\n",
      "mzn-stat-end\n"
     ]
    },
    {
     "data": {
      "image/png": "[encoded data removed]",
      "text/plain": [
       "<Figure size 432x288 with 1 Axes>"
      ]
     },
     "metadata": {
      "needs_background": "light"
     },
     "output_type": "display_data"
    },
    {
     "name": "stdout",
     "output_type": "stream",
     "text": [
      "Solution: [[3, 0], [0, 0], [3, 5], [0, 5]]\n",
      "Paper dimensions: 9x9\n",
      "Presents dimensions: [[3, 9], [3, 6], [3, 5], [3, 4], [3, 3]]\n",
      "\n",
      "Col_Stacking: true\n",
      "\n",
      "\n",
      "Row_Stacking: false\n",
      "\n",
      "%%%mzn-stat: nSolutions=1\n",
      "Solver output:\n",
      "Generated FlatZinc statistics:\n",
      "mzn-stat: paths=0\n",
      "mzn-stat: flatBoolVars=85\n",
      "mzn-stat: flatIntVars=65\n",
      "mzn-stat: flatBoolConstraints=30\n",
      "mzn-stat: flatIntConstraints=129\n",
      "mzn-stat: evaluatedReifiedConstraints=5\n",
      "mzn-stat: evaluatedHalfReifiedConstraints=70\n",
      "mzn-stat: method=\"satisfy\"\n",
      "mzn-stat: flatTime=0.114701\n",
      "mzn-stat-end\n",
      "mzn-stat: initTime=0.009\n",
      "mzn-stat: solveTime=0\n",
      "mzn-stat: solutions=1\n",
      "mzn-stat: variables=153\n",
      "mzn-stat: propagators=129\n",
      "mzn-stat: propagations=719\n",
      "mzn-stat: nodes=10\n",
      "mzn-stat: failures=2\n",
      "mzn-stat: restarts=0\n",
      "mzn-stat: peakDepth=6\n",
      "mzn-stat-end\n"
     ]
    },
    {
     "data": {
      "image/png": "[encoded data removed]",
      "text/plain": [
       "<Figure size 432x288 with 1 Axes>"
      ]
     },
     "metadata": {
      "needs_background": "light"
     },
     "output_type": "display_data"
    },
    {
     "name": "stdout",
     "output_type": "stream",
     "text": [
      "Solution: [[0, 0], [3, 0], [6, 0], [6, 5], [3, 6]]\n",
      "Paper dimensions: 10x10\n",
      "Presents dimensions: [[4, 6], [3, 7], [3, 6], [4, 4], [3, 4], [3, 3]]\n",
      "\n",
      "Col_Stacking: true\n",
      "\n",
      "\n",
      "Row_Stacking: false\n",
      "\n",
      "%%%mzn-stat: nSolutions=1\n",
      "Solver output:\n",
      "Generated FlatZinc statistics:\n",
      "mzn-stat: paths=0\n",
      "mzn-stat: flatBoolVars=88\n",
      "mzn-stat: flatIntVars=78\n",
      "mzn-stat: flatBoolConstraints=27\n",
      "mzn-stat: flatIntConstraints=151\n",
      "mzn-stat: evaluatedReifiedConstraints=6\n",
      "mzn-stat: evaluatedHalfReifiedConstraints=76\n",
      "mzn-stat: method=\"satisfy\"\n",
      "mzn-stat: flatTime=0.115729\n",
      "mzn-stat-end\n",
      "mzn-stat: initTime=0.009\n",
      "mzn-stat: solveTime=0.001\n",
      "mzn-stat: solutions=1\n",
      "mzn-stat: variables=168\n",
      "mzn-stat: propagators=146\n",
      "mzn-stat: propagations=6608\n",
      "mzn-stat: nodes=128\n",
      "mzn-stat: failures=52\n",
      "mzn-stat: restarts=0\n",
      "mzn-stat: peakDepth=10\n",
      "mzn-stat-end\n"
     ]
    },
    {
     "data": {
      "image/png": "[encoded data removed]",
      "text/plain": [
       "<Figure size 432x288 with 1 Axes>"
      ]
     },
     "metadata": {
      "needs_background": "light"
     },
     "output_type": "display_data"
    },
    {
     "name": "stdout",
     "output_type": "stream",
     "text": [
      "Solution: [[0, 0], [4, 0], [7, 0], [0, 6], [7, 6], [4, 7]]\n",
      "Paper dimensions: 11x11\n",
      "Presents dimensions: [[8, 4], [5, 4], [3, 6], [3, 5], [5, 3], [3, 4], [3, 3]]\n",
      "\n",
      "Col_Stacking: false\n",
      "\n",
      "\n",
      "Row_Stacking: false\n",
      "\n",
      "%%%mzn-stat: nSolutions=1\n",
      "Solver output:\n",
      "Generated FlatZinc statistics:\n",
      "mzn-stat: paths=0\n",
      "mzn-stat: flatBoolVars=91\n",
      "mzn-stat: flatIntVars=84\n",
      "mzn-stat: flatBoolConstraints=21\n",
      "mzn-stat: flatIntConstraints=167\n",
      "mzn-stat: evaluatedReifiedConstraints=7\n",
      "mzn-stat: evaluatedHalfReifiedConstraints=84\n",
      "mzn-stat: method=\"satisfy\"\n",
      "mzn-stat: flatTime=0.11924\n",
      "mzn-stat-end\n",
      "mzn-stat: initTime=0.009\n",
      "mzn-stat: solveTime=0.001\n",
      "mzn-stat: solutions=1\n",
      "mzn-stat: variables=175\n",
      "mzn-stat: propagators=184\n",
      "mzn-stat: propagations=9034\n",
      "mzn-stat: nodes=110\n",
      "mzn-stat: failures=51\n",
      "mzn-stat: restarts=0\n",
      "mzn-stat: peakDepth=8\n",
      "mzn-stat-end\n"
     ]
    },
    {
     "data": {
      "image/png": "[encoded data removed]",
      "text/plain": [
       "<Figure size 432x288 with 1 Axes>"
      ]
     },
     "metadata": {
      "needs_background": "light"
     },
     "output_type": "display_data"
    },
    {
     "name": "stdout",
     "output_type": "stream",
     "text": [
      "Solution: [[0, 4], [3, 0], [8, 0], [8, 6], [3, 8], [0, 0], [0, 8]]\n",
      "Paper dimensions: 12x12\n",
      "Presents dimensions: [[3, 9], [3, 8], [3, 7], [3, 6], [6, 3], [3, 5], [3, 4], [3, 3]]\n",
      "\n",
      "Col_Stacking: false\n",
      "\n",
      "\n",
      "Row_Stacking: false\n",
      "\n",
      "%%%mzn-stat: nSolutions=1\n",
      "Solver output:\n",
      "Generated FlatZinc statistics:\n",
      "mzn-stat: paths=0\n",
      "mzn-stat: flatBoolVars=120\n",
      "mzn-stat: flatIntVars=96\n",
      "mzn-stat: flatBoolConstraints=28\n",
      "mzn-stat: flatIntConstraints=206\n",
      "mzn-stat: evaluatedReifiedConstraints=8\n",
      "mzn-stat: evaluatedHalfReifiedConstraints=112\n",
      "mzn-stat: method=\"satisfy\"\n",
      "mzn-stat: flatTime=0.115779\n",
      "mzn-stat-end\n",
      "mzn-stat: initTime=0.01\n",
      "mzn-stat: solveTime=0.002\n",
      "mzn-stat: solutions=1\n",
      "mzn-stat: variables=216\n",
      "mzn-stat: propagators=216\n",
      "mzn-stat: propagations=15041\n",
      "mzn-stat: nodes=220\n",
      "mzn-stat: failures=105\n",
      "mzn-stat: restarts=0\n",
      "mzn-stat: peakDepth=12\n",
      "mzn-stat-end\n"
     ]
    },
    {
     "data": {
      "image/png": "[encoded data removed]",
      "text/plain": [
       "<Figure size 432x288 with 1 Axes>"
      ]
     },
     "metadata": {
      "needs_background": "light"
     },
     "output_type": "display_data"
    },
    {
     "name": "stdout",
     "output_type": "stream",
     "text": [
      "Solution: [[0, 3], [9, 4], [6, 0], [3, 3], [0, 0], [6, 7], [9, 0], [3, 9]]\n",
      "Paper dimensions: 13x13\n",
      "Presents dimensions: [[7, 6], [3, 8], [3, 7], [3, 6], [4, 4], [3, 5], [3, 4], [4, 3], [3, 3]]\n",
      "\n",
      "Col_Stacking: false\n",
      "\n",
      "\n",
      "Row_Stacking: false\n",
      "\n",
      "%%%mzn-stat: nSolutions=1\n",
      "Solver output:\n",
      "Generated FlatZinc statistics:\n",
      "mzn-stat: paths=0\n",
      "mzn-stat: flatBoolVars=153\n",
      "mzn-stat: flatIntVars=108\n",
      "mzn-stat: flatBoolConstraints=36\n",
      "mzn-stat: flatIntConstraints=249\n",
      "mzn-stat: evaluatedReifiedConstraints=9\n",
      "mzn-stat: evaluatedHalfReifiedConstraints=144\n",
      "mzn-stat: method=\"satisfy\"\n",
      "mzn-stat: flatTime=0.124312\n",
      "mzn-stat-end\n",
      "mzn-stat: initTime=0.011\n",
      "mzn-stat: solveTime=0.002\n",
      "mzn-stat: solutions=1\n",
      "mzn-stat: variables=261\n",
      "mzn-stat: propagators=279\n",
      "mzn-stat: propagations=16114\n",
      "mzn-stat: nodes=192\n",
      "mzn-stat: failures=90\n",
      "mzn-stat: restarts=0\n",
      "mzn-stat: peakDepth=12\n",
      "mzn-stat-end\n"
     ]
    },
    {
     "data": {
      "image/png": "[encoded data removed]",
      "text/plain": [
       "<Figure size 432x288 with 1 Axes>"
      ]
     },
     "metadata": {
      "needs_background": "light"
     },
     "output_type": "display_data"
    },
    {
     "name": "stdout",
     "output_type": "stream",
     "text": [
      "Solution: [[0, 7], [7, 0], [0, 0], [10, 7], [3, 0], [7, 8], [10, 0], [3, 4], [10, 4]]\n",
      "Paper dimensions: 14x14\n",
      "Presents dimensions: [[5, 10], [3, 9], [3, 8], [3, 7], [5, 4], [3, 6], [3, 5], [3, 4], [3, 3]]\n",
      "\n",
      "Col_Stacking: true\n",
      "\n",
      "\n",
      "Row_Stacking: false\n",
      "\n",
      "%%%mzn-stat: nSolutions=1\n",
      "Solver output:\n",
      "Generated FlatZinc statistics:\n",
      "mzn-stat: paths=0\n",
      "mzn-stat: flatBoolVars=235\n",
      "mzn-stat: flatIntVars=118\n",
      "mzn-stat: flatBoolConstraints=78\n",
      "mzn-stat: flatIntConstraints=313\n",
      "mzn-stat: evaluatedReifiedConstraints=9\n",
      "mzn-stat: evaluatedHalfReifiedConstraints=205\n",
      "mzn-stat: method=\"satisfy\"\n",
      "mzn-stat: flatTime=0.141537\n",
      "mzn-stat-end\n",
      "mzn-stat: initTime=0.013\n",
      "mzn-stat: solveTime=0.001\n",
      "mzn-stat: solutions=1\n",
      "mzn-stat: variables=355\n",
      "mzn-stat: propagators=341\n",
      "mzn-stat: propagations=1141\n",
      "mzn-stat: nodes=10\n",
      "mzn-stat: failures=0\n",
      "mzn-stat: restarts=0\n",
      "mzn-stat: peakDepth=9\n",
      "mzn-stat-end\n"
     ]
    },
    {
     "data": {
      "image/png": "[encoded data removed]",
      "text/plain": [
       "<Figure size 432x288 with 1 Axes>"
      ]
     },
     "metadata": {
      "needs_background": "light"
     },
     "output_type": "display_data"
    },
    {
     "name": "stdout",
     "output_type": "stream",
     "text": [
      "Solution: [[0, 0], [11, 0], [8, 0], [5, 0], [0, 10], [8, 8], [11, 9], [5, 7], [5, 11]]\n",
      "Paper dimensions: 15x15\n",
      "Presents dimensions: [[3, 15], [3, 12], [3, 9], [3, 8], [3, 7], [3, 6], [6, 3], [3, 5], [3, 4], [3, 3]]\n",
      "\n",
      "Col_Stacking: false\n",
      "\n",
      "\n",
      "Row_Stacking: false\n",
      "\n",
      "%%%mzn-stat: nSolutions=1\n",
      "Solver output:\n",
      "Generated FlatZinc statistics:\n",
      "mzn-stat: paths=0\n",
      "mzn-stat: flatBoolVars=190\n",
      "mzn-stat: flatIntVars=117\n",
      "mzn-stat: flatBoolConstraints=45\n",
      "mzn-stat: flatIntConstraints=293\n",
      "mzn-stat: evaluatedReifiedConstraints=10\n",
      "mzn-stat: evaluatedHalfReifiedConstraints=180\n",
      "mzn-stat: method=\"satisfy\"\n",
      "mzn-stat: flatTime=0.124742\n",
      "mzn-stat-end\n",
      "mzn-stat: initTime=0.012\n",
      "mzn-stat: solveTime=0.001\n",
      "mzn-stat: solutions=1\n",
      "mzn-stat: variables=310\n",
      "mzn-stat: propagators=304\n",
      "mzn-stat: propagations=1094\n",
      "mzn-stat: nodes=15\n",
      "mzn-stat: failures=1\n",
      "mzn-stat: restarts=0\n",
      "mzn-stat: peakDepth=12\n",
      "mzn-stat-end\n"
     ]
    },
    {
     "data": {
      "image/png": "[encoded data removed]",
      "text/plain": [
       "<Figure size 432x288 with 1 Axes>"
      ]
     },
     "metadata": {
      "needs_background": "light"
     },
     "output_type": "display_data"
    },
    {
     "name": "stdout",
     "output_type": "stream",
     "text": [
      "Solution: [[6, 0], [3, 0], [9, 6], [12, 0], [12, 8], [9, 0], [0, 12], [0, 0], [0, 5], [0, 9]]\n",
      "Paper dimensions: 16x16\n",
      "Presents dimensions: [[7, 9], [3, 12], [3, 10], [4, 7], [3, 8], [3, 7], [3, 6], [3, 5], [3, 4], [3, 3]]\n",
      "\n",
      "Col_Stacking: false\n",
      "\n",
      "\n",
      "Row_Stacking: false\n",
      "\n",
      "%%%mzn-stat: nSolutions=1\n",
      "Solver output:\n",
      "Generated FlatZinc statistics:\n",
      "mzn-stat: paths=0\n",
      "mzn-stat: flatBoolVars=190\n",
      "mzn-stat: flatIntVars=120\n",
      "mzn-stat: flatBoolConstraints=45\n",
      "mzn-stat: flatIntConstraints=296\n",
      "mzn-stat: evaluatedReifiedConstraints=10\n",
      "mzn-stat: evaluatedHalfReifiedConstraints=180\n",
      "mzn-stat: method=\"satisfy\"\n",
      "mzn-stat: flatTime=0.129353\n",
      "mzn-stat-end\n",
      "mzn-stat: initTime=0.012\n",
      "mzn-stat: solveTime=0.001\n",
      "mzn-stat: solutions=1\n",
      "mzn-stat: variables=310\n",
      "mzn-stat: propagators=317\n",
      "mzn-stat: propagations=1312\n",
      "mzn-stat: nodes=13\n",
      "mzn-stat: failures=0\n",
      "mzn-stat: restarts=0\n",
      "mzn-stat: peakDepth=12\n",
      "mzn-stat-end\n"
     ]
    },
    {
     "data": {
      "image/png": "[encoded data removed]",
      "text/plain": [
       "<Figure size 432x288 with 1 Axes>"
      ]
     },
     "metadata": {
      "needs_background": "light"
     },
     "output_type": "display_data"
    },
    {
     "name": "stdout",
     "output_type": "stream",
     "text": [
      "Solution: [[0, 7], [13, 0], [10, 0], [0, 0], [7, 0], [4, 0], [10, 10], [7, 8], [13, 12], [7, 13]]\n",
      "Paper dimensions: 17x17\n",
      "Presents dimensions: [[4, 14], [7, 6], [4, 8], [3, 9], [3, 8], [3, 7], [7, 3], [3, 6], [3, 5], [3, 4], [4, 3], [3, 3]]\n",
      "\n",
      "Col_Stacking: false\n",
      "\n",
      "\n",
      "Row_Stacking: false\n",
      "\n",
      "%%%mzn-stat: nSolutions=1\n",
      "Solver output:\n",
      "Generated FlatZinc statistics:\n",
      "mzn-stat: paths=0\n",
      "mzn-stat: flatBoolVars=276\n",
      "mzn-stat: flatIntVars=144\n",
      "mzn-stat: flatBoolConstraints=66\n",
      "mzn-stat: flatIntConstraints=402\n",
      "mzn-stat: evaluatedReifiedConstraints=12\n",
      "mzn-stat: evaluatedHalfReifiedConstraints=264\n",
      "mzn-stat: method=\"satisfy\"\n",
      "mzn-stat: flatTime=0.127781\n",
      "mzn-stat-end\n",
      "mzn-stat: initTime=0.015\n",
      "mzn-stat: solveTime=0.001\n",
      "mzn-stat: solutions=1\n",
      "mzn-stat: variables=420\n",
      "mzn-stat: propagators=452\n",
      "mzn-stat: propagations=6581\n",
      "mzn-stat: nodes=56\n",
      "mzn-stat: failures=20\n",
      "mzn-stat: restarts=0\n",
      "mzn-stat: peakDepth=20\n",
      "mzn-stat-end\n"
     ]
    },
    {
     "data": {
      "image/png": "[encoded data removed]",
      "text/plain": [
       "<Figure size 432x288 with 1 Axes>"
      ]
     },
     "metadata": {
      "needs_background": "light"
     },
     "output_type": "display_data"
    },
    {
     "name": "stdout",
     "output_type": "stream",
     "text": [
      "Solution: [[7, 0], [0, 11], [0, 0], [11, 0], [4, 0], [14, 0], [0, 8], [14, 11], [11, 9], [14, 7], [7, 14], [11, 14]]\n",
      "Paper dimensions: 18x18\n",
      "Presents dimensions: [[3, 11], [3, 10], [5, 6], [5, 5], [3, 8], [4, 6], [3, 7], [4, 5], [5, 4], [3, 6], [4, 4], [3, 5], [5, 3], [3, 4], [4, 3], [3, 3]]\n",
      "\n",
      "Col_Stacking: true\n",
      "\n",
      "\n",
      "Row_Stacking: false\n",
      "\n",
      "%%%mzn-stat: nSolutions=1\n",
      "Solver output:\n",
      "Generated FlatZinc statistics:\n",
      "mzn-stat: paths=0\n",
      "mzn-stat: flatBoolVars=584\n",
      "mzn-stat: flatIntVars=199\n",
      "mzn-stat: flatBoolConstraints=176\n",
      "mzn-stat: flatIntConstraints=737\n",
      "mzn-stat: evaluatedReifiedConstraints=16\n",
      "mzn-stat: evaluatedHalfReifiedConstraints=540\n",
      "mzn-stat: method=\"satisfy\"\n",
      "mzn-stat: flatTime=0.146181\n",
      "mzn-stat-end\n",
      "mzn-stat: initTime=0.024\n",
      "mzn-stat: solveTime=0\n",
      "mzn-stat: solutions=1\n",
      "mzn-stat: variables=791\n",
      "mzn-stat: propagators=733\n",
      "mzn-stat: propagations=3627\n",
      "mzn-stat: nodes=16\n",
      "mzn-stat: failures=1\n",
      "mzn-stat: restarts=0\n",
      "mzn-stat: peakDepth=14\n",
      "mzn-stat-end\n"
     ]
    },
    {
     "data": {
      "image/png": "[encoded data removed]",
      "text/plain": [
       "<Figure size 432x288 with 1 Axes>"
      ]
     },
     "metadata": {
      "needs_background": "light"
     },
     "output_type": "display_data"
    },
    {
     "name": "stdout",
     "output_type": "stream",
     "text": [
      "Solution: [[12, 0], [15, 0], [0, 0], [0, 6], [15, 10], [5, 0], [12, 11], [5, 6], [0, 11], [9, 0], [5, 11], [9, 6], [0, 15], [9, 11], [5, 15], [9, 15]]\n",
      "Paper dimensions: 19x19\n",
      "Presents dimensions: [[3, 19], [3, 13], [3, 11], [4, 8], [3, 10], [3, 9], [3, 8], [4, 6], [3, 7], [4, 5], [3, 6], [3, 5], [3, 4], [3, 3]]\n",
      "\n",
      "Col_Stacking: true\n",
      "\n",
      "\n",
      "Row_Stacking: false\n",
      "\n",
      "%%%mzn-stat: nSolutions=1\n",
      "Solver output:\n",
      "Generated FlatZinc statistics:\n",
      "mzn-stat: paths=0\n",
      "mzn-stat: flatBoolVars=592\n",
      "mzn-stat: flatIntVars=180\n",
      "mzn-stat: flatBoolConstraints=201\n",
      "mzn-stat: flatIntConstraints=685\n",
      "mzn-stat: evaluatedReifiedConstraints=14\n",
      "mzn-stat: evaluatedHalfReifiedConstraints=523\n",
      "mzn-stat: method=\"satisfy\"\n",
      "mzn-stat: flatTime=0.138711\n",
      "mzn-stat-end\n",
      "mzn-stat: initTime=0.022\n",
      "mzn-stat: solveTime=0.001\n",
      "mzn-stat: solutions=1\n",
      "mzn-stat: variables=778\n",
      "mzn-stat: propagators=740\n",
      "mzn-stat: propagations=2735\n",
      "mzn-stat: nodes=18\n",
      "mzn-stat: failures=1\n",
      "mzn-stat: restarts=0\n",
      "mzn-stat: peakDepth=16\n",
      "mzn-stat-end\n"
     ]
    },
    {
     "data": {
      "image/png": "[encoded data removed]",
      "text/plain": [
       "<Figure size 432x288 with 1 Axes>"
      ]
     },
     "metadata": {
      "needs_background": "light"
     },
     "output_type": "display_data"
    },
    {
     "name": "stdout",
     "output_type": "stream",
     "text": [
      "Solution: [[7, 0], [10, 0], [13, 0], [0, 0], [16, 0], [16, 10], [13, 11], [0, 8], [4, 0], [0, 14], [10, 13], [4, 7], [4, 12], [4, 16]]\n",
      "Paper dimensions: 20x20\n",
      "Presents dimensions: [[4, 17], [3, 17], [4, 11], [4, 9], [3, 11], [3, 10], [3, 9], [3, 8], [3, 7], [3, 6], [3, 5], [3, 4], [4, 3], [3, 3]]\n",
      "\n",
      "Col_Stacking: true\n",
      "\n",
      "\n",
      "Row_Stacking: false\n",
      "\n",
      "%%%mzn-stat: nSolutions=1\n",
      "Solver output:\n",
      "Generated FlatZinc statistics:\n",
      "mzn-stat: paths=0\n",
      "mzn-stat: flatBoolVars=582\n",
      "mzn-stat: flatIntVars=188\n",
      "mzn-stat: flatBoolConstraints=193\n",
      "mzn-stat: flatIntConstraints=679\n",
      "mzn-stat: evaluatedReifiedConstraints=14\n",
      "mzn-stat: evaluatedHalfReifiedConstraints=517\n",
      "mzn-stat: method=\"satisfy\"\n",
      "mzn-stat: flatTime=0.137205\n",
      "mzn-stat-end\n",
      "mzn-stat: initTime=0.022\n",
      "mzn-stat: solveTime=1.508\n",
      "mzn-stat: solutions=1\n",
      "mzn-stat: variables=770\n",
      "mzn-stat: propagators=791\n",
      "mzn-stat: propagations=7315536\n",
      "mzn-stat: nodes=100867\n",
      "mzn-stat: failures=50424\n",
      "mzn-stat: restarts=0\n",
      "mzn-stat: peakDepth=31\n",
      "mzn-stat-end\n"
     ]
    },
    {
     "data": {
      "image/png": "[encoded data removed]",
      "text/plain": [
       "<Figure size 432x288 with 1 Axes>"
      ]
     },
     "metadata": {
      "needs_background": "light"
     },
     "output_type": "display_data"
    },
    {
     "name": "stdout",
     "output_type": "stream",
     "text": [
      "Solution: [[9, 0], [0, 0], [16, 0], [16, 11], [13, 0], [3, 0], [13, 11], [6, 0], [6, 8], [3, 10], [6, 15], [3, 16], [9, 17], [0, 17]]\n",
      "Paper dimensions: 21x21\n",
      "Presents dimensions: [[5, 15], [3, 18], [4, 11], [3, 14], [3, 10], [5, 6], [3, 9], [3, 8], [4, 6], [3, 7], [3, 6], [4, 4], [3, 5], [3, 4], [3, 3]]\n",
      "\n",
      "Col_Stacking: true\n",
      "\n",
      "\n",
      "Row_Stacking: false\n",
      "\n",
      "%%%mzn-stat: nSolutions=1\n",
      "Solver output:\n",
      "Generated FlatZinc statistics:\n",
      "mzn-stat: paths=0\n",
      "mzn-stat: flatBoolVars=607\n",
      "mzn-stat: flatIntVars=193\n",
      "mzn-stat: flatBoolConstraints=195\n",
      "mzn-stat: flatIntConstraints=725\n",
      "mzn-stat: evaluatedReifiedConstraints=15\n",
      "mzn-stat: evaluatedHalfReifiedConstraints=547\n",
      "mzn-stat: method=\"satisfy\"\n",
      "mzn-stat: flatTime=0.143074\n",
      "mzn-stat-end\n",
      "mzn-stat: initTime=0.024\n",
      "mzn-stat: solveTime=0.016\n",
      "mzn-stat: solutions=1\n",
      "mzn-stat: variables=805\n",
      "mzn-stat: propagators=759\n",
      "mzn-stat: propagations=133555\n",
      "mzn-stat: nodes=1049\n",
      "mzn-stat: failures=516\n",
      "mzn-stat: restarts=0\n",
      "mzn-stat: peakDepth=20\n",
      "mzn-stat-end\n"
     ]
    },
    {
     "data": {
      "image/png": "[encoded data removed]",
      "text/plain": [
       "<Figure size 432x288 with 1 Axes>"
      ]
     },
     "metadata": {
      "needs_background": "light"
     },
     "output_type": "display_data"
    },
    {
     "name": "stdout",
     "output_type": "stream",
     "text": [
      "Solution: [[4, 0], [9, 0], [0, 0], [18, 0], [15, 0], [4, 15], [12, 0], [12, 9], [0, 11], [18, 14], [15, 10], [0, 17], [15, 16], [12, 17], [9, 18]]\n",
      "Paper dimensions: 22x22\n",
      "Presents dimensions: [[4, 19], [3, 22], [3, 14], [3, 13], [3, 12], [3, 11], [3, 10], [3, 9], [3, 8], [6, 4], [3, 7], [3, 6], [3, 5], [3, 4], [4, 3], [3, 3]]\n",
      "\n",
      "Col_Stacking: false\n",
      "\n",
      "\n",
      "Row_Stacking: false\n",
      "\n",
      "%%%mzn-stat: nSolutions=1\n",
      "Solver output:\n",
      "Generated FlatZinc statistics:\n",
      "mzn-stat: paths=0\n",
      "mzn-stat: flatBoolVars=496\n",
      "mzn-stat: flatIntVars=189\n",
      "mzn-stat: flatBoolConstraints=120\n",
      "mzn-stat: flatIntConstraints=659\n",
      "mzn-stat: evaluatedReifiedConstraints=16\n",
      "mzn-stat: evaluatedHalfReifiedConstraints=480\n",
      "mzn-stat: method=\"satisfy\"\n",
      "mzn-stat: flatTime=0.139776\n",
      "mzn-stat-end\n",
      "mzn-stat: initTime=0.012\n",
      "mzn-stat: solveTime=0.071\n",
      "mzn-stat: solutions=1\n",
      "mzn-stat: variables=688\n",
      "mzn-stat: propagators=707\n",
      "mzn-stat: propagations=294292\n",
      "mzn-stat: nodes=5755\n",
      "mzn-stat: failures=2869\n",
      "mzn-stat: restarts=0\n",
      "mzn-stat: peakDepth=33\n",
      "mzn-stat-end\n"
     ]
    },
    {
     "data": {
      "image/png": "[encoded data removed]",
      "text/plain": [
       "<Figure size 432x288 with 1 Axes>"
      ]
     },
     "metadata": {
      "needs_background": "light"
     },
     "output_type": "display_data"
    },
    {
     "name": "stdout",
     "output_type": "stream",
     "text": [
      "Solution: [[0, 0], [19, 0], [13, 0], [4, 0], [16, 0], [10, 0], [16, 12], [4, 13], [13, 14], [7, 11], [10, 15], [7, 0], [7, 6], [7, 15], [0, 19], [7, 19]]\n",
      "Paper dimensions: 23x23\n",
      "Presents dimensions: [[3, 20], [4, 12], [4, 11], [3, 14], [4, 10], [3, 12], [3, 11], [3, 10], [3, 9], [3, 8], [4, 6], [3, 7], [3, 6], [6, 3], [4, 4], [3, 5], [3, 4], [4, 3], [3, 3]]\n",
      "Error in MiniZinc:\n",
      "\n",
      "Col_Stacking: false\n",
      "\n",
      "\n",
      "Row_Stacking: false\n",
      "\n",
      "%%%mzn-stat: nSolutions=0\n",
      "\n",
      "Paper dimensions: 24x24\n",
      "Presents dimensions: [[5, 16], [3, 24], [3, 18], [4, 12], [3, 14], [5, 8], [3, 12], [3, 10], [3, 9], [3, 8], [3, 7], [4, 5], [3, 6], [4, 4], [3, 5], [3, 4], [4, 3], [3, 3]]\n",
      "\n",
      "Col_Stacking: true\n",
      "\n",
      "\n",
      "Row_Stacking: false\n",
      "\n",
      "%%%mzn-stat: nSolutions=1\n",
      "Solver output:\n",
      "Generated FlatZinc statistics:\n",
      "mzn-stat: paths=0\n",
      "mzn-stat: flatBoolVars=880\n",
      "mzn-stat: flatIntVars=228\n",
      "mzn-stat: flatBoolConstraints=285\n",
      "mzn-stat: flatIntConstraints=1007\n",
      "mzn-stat: evaluatedReifiedConstraints=18\n",
      "mzn-stat: evaluatedHalfReifiedConstraints=796\n",
      "mzn-stat: method=\"satisfy\"\n",
      "mzn-stat: flatTime=0.15662\n",
      "mzn-stat-end\n",
      "mzn-stat: initTime=0.016\n",
      "mzn-stat: solveTime=0.002\n",
      "mzn-stat: solutions=1\n",
      "mzn-stat: variables=1117\n",
      "mzn-stat: propagators=1053\n",
      "mzn-stat: propagations=11807\n",
      "mzn-stat: nodes=64\n",
      "mzn-stat: failures=22\n",
      "mzn-stat: restarts=0\n",
      "mzn-stat: peakDepth=21\n",
      "mzn-stat-end\n"
     ]
    },
    {
     "data": {
      "image/png": "[encoded data removed]",
      "text/plain": [
       "<Figure size 432x288 with 1 Axes>"
      ]
     },
     "metadata": {
      "needs_background": "light"
     },
     "output_type": "display_data"
    },
    {
     "name": "stdout",
     "output_type": "stream",
     "text": [
      "Solution: [[4, 0], [12, 0], [15, 0], [0, 0], [21, 0], [4, 16], [18, 0], [21, 14], [9, 0], [9, 9], [18, 12], [0, 12], [15, 18], [0, 17], [18, 19], [9, 17], [0, 21], [9, 21]]\n",
      "Paper dimensions: 25x25\n",
      "Presents dimensions: [[3, 25], [3, 19], [3, 18], [4, 13], [3, 17], [3, 14], [3, 13], [3, 11], [3, 10], [4, 7], [3, 9], [3, 8], [3, 7], [4, 5], [3, 6], [6, 3], [3, 5], [3, 4], [3, 3]]\n"
     ]
    },
    {
     "ename": "KeyboardInterrupt",
     "evalue": "",
     "output_type": "error",
     "traceback": [
      "\u001b[1;31m--------------------------------------------------------------\u001b[0m",
      "\u001b[1;31mKeyboardInterrupt\u001b[0m            Traceback (most recent call last)",
      "\u001b[1;32m<ipython-input-181-1be56f8bd40c>\u001b[0m in \u001b[0;36m<module>\u001b[1;34m\u001b[0m\n\u001b[0;32m      9\u001b[0m     \u001b[0mprint\u001b[0m\u001b[1;33m(\u001b[0m\u001b[1;34mf\"Paper dimensions: {i}x{i}\"\u001b[0m\u001b[1;33m)\u001b[0m\u001b[1;33m\u001b[0m\u001b[1;33m\u001b[0m\u001b[0m\n\u001b[0;32m     10\u001b[0m     \u001b[0mprint\u001b[0m\u001b[1;33m(\u001b[0m\u001b[1;34mf\"Presents dimensions: {presents}\"\u001b[0m\u001b[1;33m)\u001b[0m\u001b[1;33m\u001b[0m\u001b[1;33m\u001b[0m\u001b[0m\n\u001b[1;32m---> 11\u001b[1;33m     \u001b[0msolutions\u001b[0m \u001b[1;33m=\u001b[0m \u001b[0mget_ipython\u001b[0m\u001b[1;33m(\u001b[0m\u001b[1;33m)\u001b[0m\u001b[1;33m.\u001b[0m\u001b[0mrun_line_magic\u001b[0m\u001b[1;33m(\u001b[0m\u001b[1;34m'minizinc'\u001b[0m\u001b[1;33m,\u001b[0m \u001b[1;34m'-s pwp-v5'\u001b[0m\u001b[1;33m)\u001b[0m\u001b[1;33m\u001b[0m\u001b[1;33m\u001b[0m\u001b[0m\n\u001b[0m\u001b[0;32m     12\u001b[0m     \u001b[1;32mif\u001b[0m \u001b[0msolutions\u001b[0m\u001b[1;33m:\u001b[0m\u001b[1;33m\u001b[0m\u001b[1;33m\u001b[0m\u001b[0m\n\u001b[0;32m     13\u001b[0m         \u001b[0mshow_solutions\u001b[0m\u001b[1;33m(\u001b[0m\u001b[0mw_paper\u001b[0m\u001b[1;33m,\u001b[0m \u001b[0mh_paper\u001b[0m\u001b[1;33m,\u001b[0m \u001b[0mn\u001b[0m\u001b[1;33m,\u001b[0m \u001b[0mpresents\u001b[0m\u001b[1;33m,\u001b[0m \u001b[0msolutions\u001b[0m\u001b[1;33m)\u001b[0m\u001b[1;33m\u001b[0m\u001b[1;33m\u001b[0m\u001b[0m\n",
      "\u001b[1;32mc:\\users\\leoca\\.virtualenvs\\3.8\\lib\\site-packages\\IPython\\core\\interactiveshell.py\u001b[0m in \u001b[0;36mrun_line_magic\u001b[1;34m(self, magic_name, line, _stack_depth)\u001b[0m\n\u001b[0;32m   2324\u001b[0m                 \u001b[0mkwargs\u001b[0m\u001b[1;33m[\u001b[0m\u001b[1;34m'local_ns'\u001b[0m\u001b[1;33m]\u001b[0m \u001b[1;33m=\u001b[0m \u001b[0msys\u001b[0m\u001b[1;33m.\u001b[0m\u001b[0m_getframe\u001b[0m\u001b[1;33m(\u001b[0m\u001b[0mstack_depth\u001b[0m\u001b[1;33m)\u001b[0m\u001b[1;33m.\u001b[0m\u001b[0mf_locals\u001b[0m\u001b[1;33m\u001b[0m\u001b[1;33m\u001b[0m\u001b[0m\n\u001b[0;32m   2325\u001b[0m             \u001b[1;32mwith\u001b[0m \u001b[0mself\u001b[0m\u001b[1;33m.\u001b[0m\u001b[0mbuiltin_trap\u001b[0m\u001b[1;33m:\u001b[0m\u001b[1;33m\u001b[0m\u001b[1;33m\u001b[0m\u001b[0m\n\u001b[1;32m-> 2326\u001b[1;33m                 \u001b[0mresult\u001b[0m \u001b[1;33m=\u001b[0m \u001b[0mfn\u001b[0m\u001b[1;33m(\u001b[0m\u001b[1;33m*\u001b[0m\u001b[0margs\u001b[0m\u001b[1;33m,\u001b[0m \u001b[1;33m**\u001b[0m\u001b[0mkwargs\u001b[0m\u001b[1;33m)\u001b[0m\u001b[1;33m\u001b[0m\u001b[1;33m\u001b[0m\u001b[0m\n\u001b[0m\u001b[0;32m   2327\u001b[0m             \u001b[1;32mreturn\u001b[0m \u001b[0mresult\u001b[0m\u001b[1;33m\u001b[0m\u001b[1;33m\u001b[0m\u001b[0m\n\u001b[0;32m   2328\u001b[0m \u001b[1;33m\u001b[0m\u001b[0m\n",
      "\u001b[1;32m<decorator-gen-129>\u001b[0m in \u001b[0;36mminizinc\u001b[1;34m(self, line, cell)\u001b[0m\n",
      "\u001b[1;32mc:\\users\\leoca\\.virtualenvs\\3.8\\lib\\site-packages\\IPython\\core\\magic.py\u001b[0m in \u001b[0;36m<lambda>\u001b[1;34m(f, *a, **k)\u001b[0m\n\u001b[0;32m    185\u001b[0m     \u001b[1;31m# but it's overkill for just that one bit of state.\u001b[0m\u001b[1;33m\u001b[0m\u001b[1;33m\u001b[0m\u001b[1;33m\u001b[0m\u001b[0m\n\u001b[0;32m    186\u001b[0m     \u001b[1;32mdef\u001b[0m \u001b[0mmagic_deco\u001b[0m\u001b[1;33m(\u001b[0m\u001b[0marg\u001b[0m\u001b[1;33m)\u001b[0m\u001b[1;33m:\u001b[0m\u001b[1;33m\u001b[0m\u001b[1;33m\u001b[0m\u001b[0m\n\u001b[1;32m--> 187\u001b[1;33m         \u001b[0mcall\u001b[0m \u001b[1;33m=\u001b[0m \u001b[1;32mlambda\u001b[0m \u001b[0mf\u001b[0m\u001b[1;33m,\u001b[0m \u001b[1;33m*\u001b[0m\u001b[0ma\u001b[0m\u001b[1;33m,\u001b[0m \u001b[1;33m**\u001b[0m\u001b[0mk\u001b[0m\u001b[1;33m:\u001b[0m \u001b[0mf\u001b[0m\u001b[1;33m(\u001b[0m\u001b[1;33m*\u001b[0m\u001b[0ma\u001b[0m\u001b[1;33m,\u001b[0m \u001b[1;33m**\u001b[0m\u001b[0mk\u001b[0m\u001b[1;33m)\u001b[0m\u001b[1;33m\u001b[0m\u001b[1;33m\u001b[0m\u001b[0m\n\u001b[0m\u001b[0;32m    188\u001b[0m \u001b[1;33m\u001b[0m\u001b[0m\n\u001b[0;32m    189\u001b[0m         \u001b[1;32mif\u001b[0m \u001b[0mcallable\u001b[0m\u001b[1;33m(\u001b[0m\u001b[0marg\u001b[0m\u001b[1;33m)\u001b[0m\u001b[1;33m:\u001b[0m\u001b[1;33m\u001b[0m\u001b[1;33m\u001b[0m\u001b[0m\n",
      "\u001b[1;32mc:\\users\\leoca\\.virtualenvs\\3.8\\lib\\site-packages\\iminizinc\\mzn.py\u001b[0m in \u001b[0;36mminizinc\u001b[1;34m(self, line, cell)\u001b[0m\n\u001b[0;32m    145\u001b[0m                                              \u001b[1;33m+\u001b[0m \u001b[0mjsondata\u001b[0m \u001b[1;33m+\u001b[0m \u001b[0margs\u001b[0m\u001b[1;33m.\u001b[0m\u001b[0mdata\u001b[0m\u001b[1;33m,\u001b[0m\u001b[1;33m\u001b[0m\u001b[1;33m\u001b[0m\u001b[0m\n\u001b[0;32m    146\u001b[0m                                              stdout=subprocess.PIPE, stderr=subprocess.PIPE, env=my_env)\n\u001b[1;32m--> 147\u001b[1;33m                     \u001b[1;33m(\u001b[0m\u001b[0mmznoutput\u001b[0m\u001b[1;33m,\u001b[0m \u001b[0merroutput\u001b[0m\u001b[1;33m)\u001b[0m \u001b[1;33m=\u001b[0m \u001b[0mpipes\u001b[0m\u001b[1;33m.\u001b[0m\u001b[0mcommunicate\u001b[0m\u001b[1;33m(\u001b[0m\u001b[1;33m)\u001b[0m\u001b[1;33m\u001b[0m\u001b[1;33m\u001b[0m\u001b[0m\n\u001b[0m\u001b[0;32m    148\u001b[0m                     \u001b[1;32mif\u001b[0m \u001b[0mpipes\u001b[0m\u001b[1;33m.\u001b[0m\u001b[0mreturncode\u001b[0m \u001b[1;33m!=\u001b[0m \u001b[1;36m0\u001b[0m\u001b[1;33m:\u001b[0m\u001b[1;33m\u001b[0m\u001b[1;33m\u001b[0m\u001b[0m\n\u001b[0;32m    149\u001b[0m                         \u001b[0mprint\u001b[0m\u001b[1;33m(\u001b[0m\u001b[1;34m\"Error in MiniZinc:\\n\"\u001b[0m \u001b[1;33m+\u001b[0m \u001b[0merroutput\u001b[0m\u001b[1;33m.\u001b[0m\u001b[0mdecode\u001b[0m\u001b[1;33m(\u001b[0m\u001b[1;33m)\u001b[0m\u001b[1;33m)\u001b[0m\u001b[1;33m\u001b[0m\u001b[1;33m\u001b[0m\u001b[0m\n",
      "\u001b[1;32mc:\\python38\\lib\\subprocess.py\u001b[0m in \u001b[0;36mcommunicate\u001b[1;34m(self, input, timeout)\u001b[0m\n\u001b[0;32m   1022\u001b[0m \u001b[1;33m\u001b[0m\u001b[0m\n\u001b[0;32m   1023\u001b[0m             \u001b[1;32mtry\u001b[0m\u001b[1;33m:\u001b[0m\u001b[1;33m\u001b[0m\u001b[1;33m\u001b[0m\u001b[0m\n\u001b[1;32m-> 1024\u001b[1;33m                 \u001b[0mstdout\u001b[0m\u001b[1;33m,\u001b[0m \u001b[0mstderr\u001b[0m \u001b[1;33m=\u001b[0m \u001b[0mself\u001b[0m\u001b[1;33m.\u001b[0m\u001b[0m_communicate\u001b[0m\u001b[1;33m(\u001b[0m\u001b[0minput\u001b[0m\u001b[1;33m,\u001b[0m \u001b[0mendtime\u001b[0m\u001b[1;33m,\u001b[0m \u001b[0mtimeout\u001b[0m\u001b[1;33m)\u001b[0m\u001b[1;33m\u001b[0m\u001b[1;33m\u001b[0m\u001b[0m\n\u001b[0m\u001b[0;32m   1025\u001b[0m             \u001b[1;32mexcept\u001b[0m \u001b[0mKeyboardInterrupt\u001b[0m\u001b[1;33m:\u001b[0m\u001b[1;33m\u001b[0m\u001b[1;33m\u001b[0m\u001b[0m\n\u001b[0;32m   1026\u001b[0m                 \u001b[1;31m# https://bugs.python.org/issue25942\u001b[0m\u001b[1;33m\u001b[0m\u001b[1;33m\u001b[0m\u001b[1;33m\u001b[0m\u001b[0m\n",
      "\u001b[1;32mc:\\python38\\lib\\subprocess.py\u001b[0m in \u001b[0;36m_communicate\u001b[1;34m(self, input, endtime, orig_timeout)\u001b[0m\n\u001b[0;32m   1393\u001b[0m             \u001b[1;31m# calls communicate again.\u001b[0m\u001b[1;33m\u001b[0m\u001b[1;33m\u001b[0m\u001b[1;33m\u001b[0m\u001b[0m\n\u001b[0;32m   1394\u001b[0m             \u001b[1;32mif\u001b[0m \u001b[0mself\u001b[0m\u001b[1;33m.\u001b[0m\u001b[0mstdout\u001b[0m \u001b[1;32mis\u001b[0m \u001b[1;32mnot\u001b[0m \u001b[1;32mNone\u001b[0m\u001b[1;33m:\u001b[0m\u001b[1;33m\u001b[0m\u001b[1;33m\u001b[0m\u001b[0m\n\u001b[1;32m-> 1395\u001b[1;33m                 \u001b[0mself\u001b[0m\u001b[1;33m.\u001b[0m\u001b[0mstdout_thread\u001b[0m\u001b[1;33m.\u001b[0m\u001b[0mjoin\u001b[0m\u001b[1;33m(\u001b[0m\u001b[0mself\u001b[0m\u001b[1;33m.\u001b[0m\u001b[0m_remaining_time\u001b[0m\u001b[1;33m(\u001b[0m\u001b[0mendtime\u001b[0m\u001b[1;33m)\u001b[0m\u001b[1;33m)\u001b[0m\u001b[1;33m\u001b[0m\u001b[1;33m\u001b[0m\u001b[0m\n\u001b[0m\u001b[0;32m   1396\u001b[0m                 \u001b[1;32mif\u001b[0m \u001b[0mself\u001b[0m\u001b[1;33m.\u001b[0m\u001b[0mstdout_thread\u001b[0m\u001b[1;33m.\u001b[0m\u001b[0mis_alive\u001b[0m\u001b[1;33m(\u001b[0m\u001b[1;33m)\u001b[0m\u001b[1;33m:\u001b[0m\u001b[1;33m\u001b[0m\u001b[1;33m\u001b[0m\u001b[0m\n\u001b[0;32m   1397\u001b[0m                     \u001b[1;32mraise\u001b[0m \u001b[0mTimeoutExpired\u001b[0m\u001b[1;33m(\u001b[0m\u001b[0mself\u001b[0m\u001b[1;33m.\u001b[0m\u001b[0margs\u001b[0m\u001b[1;33m,\u001b[0m \u001b[0morig_timeout\u001b[0m\u001b[1;33m)\u001b[0m\u001b[1;33m\u001b[0m\u001b[1;33m\u001b[0m\u001b[0m\n",
      "\u001b[1;32mc:\\python38\\lib\\threading.py\u001b[0m in \u001b[0;36mjoin\u001b[1;34m(self, timeout)\u001b[0m\n\u001b[0;32m   1009\u001b[0m \u001b[1;33m\u001b[0m\u001b[0m\n\u001b[0;32m   1010\u001b[0m         \u001b[1;32mif\u001b[0m \u001b[0mtimeout\u001b[0m \u001b[1;32mis\u001b[0m \u001b[1;32mNone\u001b[0m\u001b[1;33m:\u001b[0m\u001b[1;33m\u001b[0m\u001b[1;33m\u001b[0m\u001b[0m\n\u001b[1;32m-> 1011\u001b[1;33m             \u001b[0mself\u001b[0m\u001b[1;33m.\u001b[0m\u001b[0m_wait_for_tstate_lock\u001b[0m\u001b[1;33m(\u001b[0m\u001b[1;33m)\u001b[0m\u001b[1;33m\u001b[0m\u001b[1;33m\u001b[0m\u001b[0m\n\u001b[0m\u001b[0;32m   1012\u001b[0m         \u001b[1;32melse\u001b[0m\u001b[1;33m:\u001b[0m\u001b[1;33m\u001b[0m\u001b[1;33m\u001b[0m\u001b[0m\n\u001b[0;32m   1013\u001b[0m             \u001b[1;31m# the behavior of a negative timeout isn't documented, but\u001b[0m\u001b[1;33m\u001b[0m\u001b[1;33m\u001b[0m\u001b[1;33m\u001b[0m\u001b[0m\n",
      "\u001b[1;32mc:\\python38\\lib\\threading.py\u001b[0m in \u001b[0;36m_wait_for_tstate_lock\u001b[1;34m(self, block, timeout)\u001b[0m\n\u001b[0;32m   1025\u001b[0m         \u001b[1;32mif\u001b[0m \u001b[0mlock\u001b[0m \u001b[1;32mis\u001b[0m \u001b[1;32mNone\u001b[0m\u001b[1;33m:\u001b[0m  \u001b[1;31m# already determined that the C code is done\u001b[0m\u001b[1;33m\u001b[0m\u001b[1;33m\u001b[0m\u001b[0m\n\u001b[0;32m   1026\u001b[0m             \u001b[1;32massert\u001b[0m \u001b[0mself\u001b[0m\u001b[1;33m.\u001b[0m\u001b[0m_is_stopped\u001b[0m\u001b[1;33m\u001b[0m\u001b[1;33m\u001b[0m\u001b[0m\n\u001b[1;32m-> 1027\u001b[1;33m         \u001b[1;32melif\u001b[0m \u001b[0mlock\u001b[0m\u001b[1;33m.\u001b[0m\u001b[0macquire\u001b[0m\u001b[1;33m(\u001b[0m\u001b[0mblock\u001b[0m\u001b[1;33m,\u001b[0m \u001b[0mtimeout\u001b[0m\u001b[1;33m)\u001b[0m\u001b[1;33m:\u001b[0m\u001b[1;33m\u001b[0m\u001b[1;33m\u001b[0m\u001b[0m\n\u001b[0m\u001b[0;32m   1028\u001b[0m             \u001b[0mlock\u001b[0m\u001b[1;33m.\u001b[0m\u001b[0mrelease\u001b[0m\u001b[1;33m(\u001b[0m\u001b[1;33m)\u001b[0m\u001b[1;33m\u001b[0m\u001b[1;33m\u001b[0m\u001b[0m\n\u001b[0;32m   1029\u001b[0m             \u001b[0mself\u001b[0m\u001b[1;33m.\u001b[0m\u001b[0m_stop\u001b[0m\u001b[1;33m(\u001b[0m\u001b[1;33m)\u001b[0m\u001b[1;33m\u001b[0m\u001b[1;33m\u001b[0m\u001b[0m\n",
      "\u001b[1;31mKeyboardInterrupt\u001b[0m: "
     ]
    }
   ],
   "source": [
    "if instance is not None:\n",
    "    min_instance, max_instance = instance, instance\n",
    "for i in range(min_instance, max_instance + 1):\n",
    "    path = f\"instances/{i}x{i}.txt\"\n",
    "    w_paper, h_paper, n, presents = read_input(path)\n",
    "    unordered_presents = list(presents)\n",
    "    presents, sorted_indices = order_presents(presents, method='area', reverse=True)\n",
    "    bl_corners = []\n",
    "    print(f\"Paper dimensions: {i}x{i}\")\n",
    "    print(f\"Presents dimensions: {presents}\")\n",
    "    solutions = %minizinc -s pwp-v5\n",
    "    if solutions:\n",
    "        show_solutions(w_paper, h_paper, n, presents, solutions)"
   ]
  },
  {
   "cell_type": "markdown",
   "metadata": {},
   "source": [
    "### First model "
   ]
  },
  {
   "cell_type": "code",
   "execution_count": 88,
   "metadata": {},
   "outputs": [],
   "source": [
    "%%mzn_model pwp-v1\n",
    "include \"globals.mzn\";\n",
    "int: w_paper;\n",
    "int: h_paper;\n",
    "int: n;\n",
    "array[1..n, 1..2] of var 0..max(w_paper, h_paper) - 1: bl_corners;\n",
    "array[1..n, 1..2] of int: presents;\n",
    "constraint forall(i in 1..n) (bl_corners[i, 1] + presents[i, 1] <= w_paper);\n",
    "constraint forall(i in 1..n) (bl_corners[i, 2] + presents[i, 2] <= h_paper);\n",
    "constraint forall(i, j in 1..n where j > i) (\n",
    "    max(bl_corners[i, 1], bl_corners[j, 1]) >= min(bl_corners[i, 1] + presents[i, 1], bl_corners[j, 1] + presents[j, 1]) \\/\n",
    "    max(bl_corners[i, 2], bl_corners[j, 2]) >= min(bl_corners[i, 2] + presents[i, 2], bl_corners[j, 2] + presents[j, 2])\n",
    ");\n",
    "solve satisfy;"
   ]
  },
  {
   "cell_type": "markdown",
   "metadata": {},
   "source": [
    "### Second model"
   ]
  },
  {
   "cell_type": "code",
   "execution_count": 93,
   "metadata": {
    "tags": []
   },
   "outputs": [],
   "source": [
    "%%mzn_model pwp-v2\n",
    "include \"globals.mzn\";\n",
    "int: w_paper;\n",
    "int: h_paper;\n",
    "int: n;\n",
    "array[1..n, 1..2] of int: presents;\n",
    "int: max_dim = max(w_paper, h_paper);\n",
    "int: min_present_dim = min([min(presents[i, 1], presents[i, 2]) | i in 1..n]);\n",
    "\n",
    "function var int: coord_to_value(var int: x, var int: y) = x + y * (max_dim + 1);\n",
    "function var int: x_overlap(int: i, int: j) = \n",
    "    max(0, min(bl_corners[i, 1] + presents[i, 1], bl_corners[j, 1] + presents[j, 1]) - max(bl_corners[i, 1], bl_corners[j, 1]));\n",
    "function var int: y_overlap(int: i, int: j) = \n",
    "    max(0, min(bl_corners[i, 2] + presents[i, 2], bl_corners[j, 2] + presents[j, 2]) - max(bl_corners[i, 2], bl_corners[j, 2]));\n",
    "function var int: overlap_area(int: i, int: j) = x_overlap(i, j) * y_overlap(i, j);\n",
    "\n",
    "array[1..n, 1..2] of var 0..max_dim - min_present_dim: bl_corners;\n",
    "array[1..n] of var 0..max_dim * max_dim: bl_corners_values;\n",
    "\n",
    "predicate values_channeling(int: i) = \n",
    "    forall(i in 1..n) (bl_corners_values[i] == coord_to_value(bl_corners[i, 1], bl_corners[i, 2]));\n",
    "constraint forall(i in 1..n) (values_channeling(i));\n",
    "\n",
    "constraint alldifferent(bl_corners_values);\n",
    "constraint count_eq(bl_corners_values, 0, 1);\n",
    "constraint forall(i in 1..n) (bl_corners[i, 1] + presents[i, 1] <= w_paper);\n",
    "constraint forall(i in 1..n) (bl_corners[i, 2] + presents[i, 2] <= h_paper);\n",
    "constraint forall(i, j in 1..n where j > i) (overlap_area(i, j) == 0);\n",
    "solve satisfy;"
   ]
  },
  {
   "cell_type": "markdown",
   "metadata": {},
   "source": [
    "### Third model"
   ]
  },
  {
   "cell_type": "code",
   "execution_count": 97,
   "metadata": {},
   "outputs": [],
   "source": [
    "%%mzn_model pwp-v3\n",
    "include \"globals.mzn\";\n",
    "int: w_paper;\n",
    "int: h_paper;\n",
    "int: n;\n",
    "int: max_dim = max(w_paper, h_paper);\n",
    "array[1..n, 1..2] of 1..max_dim: presents;\n",
    "array[1..n] of 1..max_dim: presents_xs = [presents[i, 1] | i in 1..n];\n",
    "array[1..n] of 1..max_dim: presents_ys = [presents[i, 2] | i in 1..n];\n",
    "int: min_present_dim = min([min(presents[i, 1], presents[i, 2]) | i in 1..n]);\n",
    "\n",
    "function var int: coord_to_value(var int: x, var int: y) = x + y * (max_dim + 1);\n",
    "\n",
    "array[1..n, 1..2] of var 0..max_dim - min_present_dim: bl_corners;\n",
    "array[1..n, 1..2] of var 1..max_dim: tr_corners;\n",
    "array[1..n] of var 0..max_dim * max_dim: bl_corners_values;\n",
    "array[1..n] of var 0..w_paper - min_present_dim: bl_corners_xs;\n",
    "array[1..n] of var 0..h_paper - min_present_dim: bl_corners_ys;\n",
    "\n",
    "predicate values_channeling(int: i) = \n",
    "    forall(i in 1..n) (bl_corners_values[i] == coord_to_value(bl_corners[i, 1], bl_corners[i, 2]));\n",
    "constraint forall(i in 1..n) (values_channeling(i));\n",
    "\n",
    "predicate bl_corners_channeling(int: i) = \n",
    "    forall(i in 1..n) (bl_corners[i, 1] == bl_corners_xs[i] /\\ bl_corners[i, 2] == bl_corners_ys[i]);\n",
    "constraint forall(i in 1..n) (bl_corners_channeling(i));\n",
    "\n",
    "predicate tr_corners_channeling(int: i) = \n",
    "    forall(i in 1..n) (bl_corners[i, 1] + presents[i, 1] == tr_corners[i, 1] /\\ bl_corners[i, 2] + presents[i, 2] == tr_corners[i, 2]);\n",
    "constraint forall(i in 1..n) (tr_corners_channeling(i));\n",
    "\n",
    "constraint alldifferent(bl_corners_values);\n",
    "constraint count_eq(bl_corners_values, 0, 1);\n",
    "constraint diffn_k(bl_corners, presents);\n",
    "constraint cumulative(bl_corners_xs, presents_xs, presents_ys, h_paper);\n",
    "constraint cumulative(bl_corners_ys, presents_ys, presents_xs, w_paper);\n",
    "solve satisfy;"
   ]
  },
  {
   "cell_type": "markdown",
   "metadata": {},
   "source": [
    "### Fourth model"
   ]
  },
  {
   "cell_type": "code",
   "execution_count": 127,
   "metadata": {
    "tags": []
   },
   "outputs": [],
   "source": [
    "%%mzn_model pwp-v4\n",
    "include \"globals.mzn\";\n",
    "\n",
    "%Input values\n",
    "int: w_paper;\n",
    "int: h_paper;\n",
    "int: n;\n",
    "int: max_dim = max(w_paper, h_paper);\n",
    "int: total_paper_area = w_paper * h_paper;\n",
    "int: total_presents_area = sum(areas);\n",
    "int: min_present_width = min(presents_xs);\n",
    "int: min_present_height = min(presents_ys);\n",
    "int: max_present_width = max(presents_xs);\n",
    "int: max_present_height = max(presents_ys);\n",
    "int: min_present_dim = min([min_present_width, min_present_height]);\n",
    "int: max_present_dim = max([max_present_width, max_present_height]);\n",
    "int: max_present_ind = arg_max(areas);\n",
    "set of int: ns = 1..n;\n",
    "array[ns, 1..2] of int: presents;\n",
    "array[ns] of int: presents_xs = [presents[i, 1] | i in ns];\n",
    "array[ns] of int: presents_ys = [presents[i, 2] | i in ns];\n",
    "array[ns] of int: areas = [presents_xs[i] * presents_ys[i] | i in ns];\n",
    "\n",
    "% Variables\n",
    "array[ns, 1..2] of var 0..max_dim - min_present_dim: bl_corners;\n",
    "array[ns, 1..2] of var min_present_dim..max_dim: tr_corners;\n",
    "array[ns] of var 0..(w_paper * h_paper) - 1: bl_corners_values;\n",
    "array[ns] of var 0..w_paper - min_present_width: bl_corners_xs;\n",
    "array[ns] of var 0..h_paper - min_present_height: bl_corners_ys;\n",
    "\n",
    "% Functions\n",
    "function var int: coord_to_value(var int: x, var int: y) = x + (y * max_dim);\n",
    "\n",
    "function set of int: distinct_values(array[int] of int: x) = {j | j in lb_array(x)..ub_array(x), i in index_set(x) where x[i] = j };\n",
    "\n",
    "function int: other_axis(int: axis) = if axis == 1 then 2 elseif axis == 2 then 1 else 0 endif;\n",
    "\n",
    "% Constraints\n",
    "predicate bl_corners_channeling(int: i) = bl_corners_xs[i] == bl_corners[i, 1] /\\ bl_corners_ys[i] == bl_corners[i, 2];\n",
    "constraint forall(i in ns) (bl_corners_channeling(i));\n",
    "\n",
    "predicate values_channeling(int: i) = bl_corners_values[i] == coord_to_value(bl_corners_xs[i], bl_corners_ys[i]);\n",
    "constraint forall(i in ns) (values_channeling(i));\n",
    "\n",
    "predicate tr_corners_channeling(int: i) = tr_corners[i, 1] == bl_corners_xs[i] + presents_xs[i] /\\ tr_corners[i, 2] == bl_corners_ys[i] + presents_ys[i];\n",
    "constraint forall(i in ns) (tr_corners_channeling(i));\n",
    "\n",
    "% Reduce presents domains\n",
    "constraint forall(i in ns) (bl_corners_xs[i] <= w_paper - presents_xs[i] /\\ bl_corners_ys[i] <= h_paper - presents_ys[i]);\n",
    "constraint forall(i in ns) (tr_corners[i, 1] >= presents_xs[i] /\\ tr_corners[i, 2] >= presents_ys[i]);\n",
    "\n",
    "%Presents in the same column ordered by width\n",
    "%constraint forall(i, j in ns where j > i) ( (bl_corners_xs[i] == bl_corners_xs[j] /\\ presents_xs[i] <= presents_xs[j]) -> bl_corners_ys[i] > bl_corners_ys[j]);\n",
    "\n",
    "%2 presents sum to h_paper or w_paper\n",
    "%constraint forall(i, j in ns where j > i)(presents_xs[i] == presents_xs[j] /\\ presents_ys[i] + presents_ys[j] == h_paper -> bl_corners_ys[j] = presents_ys[i] /\\ bl_corners_ys[i] = 0);\n",
    "%constraint forall(i, j in ns where j > i)(presents_ys[i] == presents_ys[j] /\\ presents_xs[i] + presents_xs[j] == w_paper -> bl_corners_xs[j] = presents_xs[i] /\\ bl_corners_xs[i] = 0);\n",
    "\n",
    "%First present in the lower left quadrant\n",
    "%constraint bl_corners_xs[1] <= w_paper / 2 /\\ bl_corners_ys[1] <= h_paper / 2;\n",
    "\n",
    "%Sum of all the areas of all the placed presents equal to total area\n",
    "constraint sum(i in ns) ((tr_corners[i, 1] - bl_corners[i, 1]) * (tr_corners[i, 2] - bl_corners[i, 2])) <= total_paper_area;\n",
    "constraint sum(i in ns) ((tr_corners[i, 1] - bl_corners[i, 1]) * (tr_corners[i, 2] - bl_corners[i, 2])) == total_presents_area;\n",
    "\n",
    "%All the presents have different bottom left corners\n",
    "constraint alldifferent(bl_corners_values);\n",
    "\n",
    "%One present is always placed at the origin\n",
    "constraint count_eq(bl_corners_values, 0, 1);\n",
    "\n",
    "%Presents cannot overlap\n",
    "constraint diffn_k(bl_corners, presents);\n",
    "\n",
    "constraint cumulative(bl_corners_xs, presents_xs, presents_ys, h_paper);\n",
    "constraint cumulative(bl_corners_ys, presents_ys, presents_xs, w_paper);\n",
    "\n",
    "\n",
    "%constraint bl_corners_xs[1] == 0 /\\ bl_corners_ys[1] == 0;\n",
    "%constraint bl_corners_xs[max_present_ind]<=(w_paper - presents_xs[max_present_ind])/2 /\\ bl_corners_ys[max_present_ind]<=(h_paper - presents_ys[max_present_ind])/2;\n",
    "\n",
    "%solve :: int_search(bl_corners_values, dom_w_deg, indomain_min) :: restart_luby(100) satisfy;\n",
    "%solve minimize sum(bl_corners_values);\n",
    "solve satisfy;"
   ]
  },
  {
   "cell_type": "markdown",
   "metadata": {},
   "source": [
    "### Fifth model (with rotation)"
   ]
  },
  {
   "cell_type": "code",
   "execution_count": 180,
   "metadata": {
    "tags": []
   },
   "outputs": [],
   "source": [
    "%%mzn_model pwp-v5\n",
    "include \"globals.mzn\";\n",
    "\n",
    "\n",
    "%Input values\n",
    "int: w_paper;\n",
    "int: h_paper;\n",
    "int: n;\n",
    "int: max_dim = max(w_paper, h_paper);\n",
    "int: total_paper_area = w_paper * h_paper;\n",
    "int: total_presents_area = sum(areas);\n",
    "int: min_present_width = min(presents_xs);\n",
    "int: min_present_height = min(presents_ys);\n",
    "int: max_present_width = max(presents_xs);\n",
    "int: max_present_height = max(presents_ys);\n",
    "int: min_present_dim = min([min_present_width, min_present_height]);\n",
    "int: max_present_dim = max([max_present_width, max_present_height]);\n",
    "int: max_present_ind = arg_max(areas);\n",
    "    \n",
    "set of int: ns = 1..n;\n",
    "set of int: presents_xs_values = distinct_values(presents_xs);\n",
    "set of int: presents_ys_values = distinct_values(presents_ys);\n",
    "    \n",
    "array[ns, 1..2] of int: presents;\n",
    "array[ns] of int: presents_xs = [presents[i, 1] | i in ns];\n",
    "array[ns] of int: presents_ys = [presents[i, 2] | i in ns];\n",
    "array[ns] of int: areas = [presents_xs[i] * presents_ys[i] | i in ns];\n",
    "\n",
    "% Variables\n",
    "array[1..card(presents_xs_values)] of set of ns: presents_group_xs = [group_presents(i, 1) | i in presents_xs_values];\n",
    "array[1..card(presents_ys_values)] of set of ns: presents_group_ys = [group_presents(i, 2) | i in presents_ys_values];\n",
    "array[ns, 1..2] of var 0..max_dim - min_present_dim: bl_corners;\n",
    "array[ns, 1..2] of var min_present_dim..max_dim: tr_corners;\n",
    "array[ns] of var 0..coord_to_value(w_paper, h_paper): bl_corners_values;\n",
    "array[ns, 1..4] of var 0..coord_to_value(w_paper, h_paper): corners_values;\n",
    "array[ns] of var 0..w_paper - min_present_width: bl_corners_xs;\n",
    "array[ns] of var 0..h_paper - min_present_height: bl_corners_ys;\n",
    "\n",
    "% Functions\n",
    "function var int: coord_to_value(var int: x, var int: y) = x + (y * max_dim);\n",
    "function int: coord_to_value(int: x, int: y) = x + (y * max_dim);\n",
    "\n",
    "function set of int: distinct_values(array[int] of int: x) = {j | j in lb_array(x)..ub_array(x), i in index_set(x) where x[i] = j };\n",
    "\n",
    "function set of ns: group_presents(int: size, int: axis) = {i | i in ns where presents[i, axis] == size};\n",
    "\n",
    "function int: other_axis(int: axis) = if axis == 1 then 2 elseif axis == 2 then 1 else 0 endif;\n",
    "\n",
    "predicate is_col_stacking_feasible() = forall(i in 1..card(presents_xs_values))(sum([presents_ys[j] | j in presents_group_xs[i]])>=h_paper);\n",
    "\n",
    "predicate is_row_stacking_feasible() = forall(i in 1..card(presents_ys_values))(sum([presents_xs[j] | j in presents_group_ys[i]])>=w_paper);\n",
    "\n",
    "% Constraints\n",
    "predicate stack_cols(int: i) = let { \n",
    "    int: n_presents= card(presents_group_xs[i]);\n",
    "    array[1..n_presents] of ns: indexes = [j | j in presents_group_xs[i]];\n",
    "    array[1..n_presents] of 1..h_paper: weights = [presents_ys[j] | j in indexes];\n",
    "    int: columns = sum(weights) div h_paper;\n",
    "    array[1..n_presents] of var 1..columns: bins \n",
    "    } in bin_packing(h_paper, bins, weights) /\\ forall(h,l in 1..n_presents where l>h) ((bins[h]==bins[l]) -> (\n",
    "        bl_corners_xs[indexes[h]]==bl_corners_xs[indexes[l]] /\\ \n",
    "        bl_corners_ys[indexes[l]]>=bl_corners_ys[indexes[h]] + presents_ys[indexes[h]]));\n",
    "\n",
    "predicate stack_rows(int: i) = let { \n",
    "    int: n_presents= card(presents_group_ys[i]);\n",
    "    array[1..n_presents] of ns: indexes = [j | j in presents_group_ys[i]];\n",
    "    array[1..n_presents] of 1..w_paper: weights = [presents_xs[j] | j in indexes];\n",
    "    int: columns = sum(weights) div w_paper;\n",
    "    array[1..n_presents] of var 1..columns: bins \n",
    "    } in bin_packing(w_paper, bins, weights) /\\ forall(h,l in 1..n_presents where l>h) ((bins[h]==bins[l]) -> (\n",
    "        bl_corners_ys[indexes[h]]==bl_corners_ys[indexes[l]] /\\ \n",
    "        bl_corners_xs[indexes[l]]>=bl_corners_xs[indexes[h]] + presents_xs[indexes[h]]));\n",
    "\n",
    "constraint trace(\"\\nCol_Stacking: \"++show(is_col_stacking_feasible())++\"\\n\\n\",is_col_stacking_feasible()) -> forall(i in 1..card(presents_xs_values)) (stack_cols(i));\n",
    "constraint trace(\"\\nRow_Stacking: \"++show(is_row_stacking_feasible())++\"\\n\\n\",is_row_stacking_feasible() /\\ not is_col_stacking_feasible()) -> forall(i in 1..card(presents_ys_values)) (stack_rows(i));\n",
    "\n",
    "\n",
    "% Channeling constraints\n",
    "predicate corners_values_channeling(int: i) = \n",
    "    corners_values[i,1] == bl_corners_values[i] /\\ \n",
    "    corners_values[i,2] == coord_to_value(bl_corners_xs[i] + presents_xs[i], bl_corners_ys[i]) /\\\n",
    "    corners_values[i,3] == coord_to_value(tr_corners[i,1], tr_corners[i,2]) /\\\n",
    "    corners_values[i,4] == coord_to_value(bl_corners_xs[i], bl_corners_ys[i] + presents_ys[i]);\n",
    "constraint forall(i in ns) (corners_values_channeling(i));\n",
    "\n",
    "predicate bl_corners_channeling(int: i) = \n",
    "    bl_corners_xs[i] == bl_corners[i, 1] /\\ \n",
    "    bl_corners_ys[i] == bl_corners[i, 2];\n",
    "constraint forall(i in ns) (bl_corners_channeling(i));\n",
    "\n",
    "predicate values_channeling(int: i) = \n",
    "    bl_corners_values[i] == coord_to_value(bl_corners_xs[i], bl_corners_ys[i]);\n",
    "constraint forall(i in ns) (values_channeling(i));\n",
    "\n",
    "predicate tr_corners_channeling(int: i) = \n",
    "    tr_corners[i, 1] == bl_corners_xs[i] + presents_xs[i] /\\ \n",
    "    tr_corners[i, 2] == bl_corners_ys[i] + presents_ys[i];\n",
    "constraint forall(i in ns) (tr_corners_channeling(i));\n",
    "\n",
    "% Reduce presents domains\n",
    "constraint forall(i in ns) (bl_corners_xs[i] <= w_paper - presents_xs[i] /\\ bl_corners_ys[i] <= h_paper - presents_ys[i]);\n",
    "constraint forall(i in ns) (tr_corners[i,1] >= presents_xs[i] /\\ tr_corners[i,2] >= presents_ys[i]);\n",
    "\n",
    "% Corners anchor points\n",
    "%constraint forall(i in ns) (exists(j in ns where j != i) (exists (k in 2..4) (corners_values[i, 1] == corners_values[j, k])));\n",
    "\n",
    "%Presents in the same column ordered by width\n",
    "%constraint forall(i, j in ns where j > i) ( (bl_corners_xs[i] == bl_corners_xs[j] /\\ presents_xs[i] <= presents_xs[j]) -> bl_corners_ys[i] > bl_corners_ys[j]);\n",
    "\n",
    "%2 presents sum to h_paper or w_paper\n",
    "%constraint forall(i,j in ns where j > i)(presents_xs[i] == presents_xs[j] /\\ presents_ys[i] + presents_ys[j]==h_paper -> bl_corners_ys[j]=presents_ys[i] /\\ bl_corners_ys[i] = 0);\n",
    "%constraint forall(i,j in ns where j > i)(presents_ys[i] == presents_ys[j] /\\ presents_xs[i] + presents_xs[j]==w_paper -> bl_corners_xs[j]=presents_xs[i] /\\ bl_corners_xs[i] = 0);\n",
    "\n",
    "%First present in the lower left quadrant\n",
    "%constraint bl_corners_xs[1] <= w_paper / 2 /\\ bl_corners_ys[1] <= h_paper / 2;\n",
    "\n",
    "%Sum of all the areas of all the placed presents equal to total area\n",
    "constraint sum(i in ns) ((tr_corners[i, 1] - bl_corners[i, 1]) * (tr_corners[i, 2] - bl_corners[i, 2])) <= total_paper_area;\n",
    "constraint sum(i in ns) ((tr_corners[i, 1] - bl_corners[i, 1]) * (tr_corners[i, 2] - bl_corners[i, 2])) == total_presents_area;\n",
    "\n",
    "%All the presents have different bottom left corners\n",
    "constraint alldifferent(bl_corners_values);\n",
    "\n",
    "%One present is always placed at the origin\n",
    "constraint count_eq(bl_corners_values, 0, 1);\n",
    "\n",
    "%Presents cannot overlap\n",
    "constraint diffn_k(bl_corners, presents);\n",
    "\n",
    "constraint cumulative(bl_corners_xs, presents_xs, presents_ys, h_paper);\n",
    "constraint cumulative(bl_corners_ys, presents_ys, presents_xs, w_paper);\n",
    "\n",
    "\n",
    "%constraint bl_corners_xs[1] == 0 /\\ bl_corners_ys[1] == 0;\n",
    "%constraint bl_corners_xs[max_present_ind]<=(w_paper - presents_xs[max_present_ind])/2 /\\ bl_corners_ys[max_present_ind]<=(h_paper - presents_ys[max_present_ind])/2;\n",
    "\n",
    "%solve :: int_search(bl_corners_values, dom_w_deg, indomain_min) :: restart_luby(100) satisfy;\n",
    "%solve minimize sum(bl_corners_values);\n",
    "solve satisfy;"
   ]
  },
  {
   "cell_type": "markdown",
   "metadata": {},
   "source": [
    "## SMT model"
   ]
  },
  {
   "cell_type": "code",
   "execution_count": null,
   "metadata": {
    "tags": []
   },
   "outputs": [],
   "source": [
    "def z3max(x,y):\n",
    "    return If(x > y, x, y)\n",
    "\n",
    "def z3min(x,y):\n",
    "    return If(x < y, x, y)\n",
    "\n",
    "bl_corners= [ [ Int(\"c_%s_%s\" % (i, j)) for j in range(2) ] for i in range(n) ]\n",
    "domain = [And(0<=bl_corners[i][0],bl_corners[i][0]<w_paper,0<=bl_corners[i][1],bl_corners[i][1]< h_paper) for i in range(n)]\n",
    "overflow = [And(bl_corners[i][0]+presents[i][0]<=w_paper,bl_corners[i][1]+presents[i][1]<=h_paper) for i in range(n)]\n",
    "pp(bl_corners)\n",
    "intersection = [ And(\n",
    "    Or(\n",
    "        z3max(bl_corners[i][0],bl_corners[j][0])>=z3min(bl_corners[i][0]+presents[i][0],bl_corners[j][0]+presents[j][0]),\n",
    "        z3max(bl_corners[i][1],bl_corners[j][1])>=z3min(bl_corners[i][1]+presents[i][1],bl_corners[j][1]+presents[j][1])\n",
    "     )) for i in range(n) for j in range(i+1,n) ]"
   ]
  },
  {
   "cell_type": "code",
   "execution_count": null,
   "metadata": {
    "tags": []
   },
   "outputs": [],
   "source": [
    "%%time\n",
    "s = Solver()\n",
    "s.add(domain + overflow + intersection)\n",
    "s.check()\n",
    "sol = s.model()\n",
    "solution=[[sol[bl_corners[i][0]], sol[bl_corners[i][1]]] for i in range(n)]\n",
    "solution"
   ]
  }
 ],
 "metadata": {
  "kernelspec": {
   "display_name": "Python 3",
   "language": "python",
   "name": "python3"
  },
  "language_info": {
   "codemirror_mode": {
    "name": "ipython",
    "version": 3
   },
   "file_extension": ".py",
   "mimetype": "text/x-python",
   "name": "python",
   "nbconvert_exporter": "python",
   "pygments_lexer": "ipython3",
   "version": "3.8.3"
  }
 },
 "nbformat": 4,
 "nbformat_minor": 2
}
