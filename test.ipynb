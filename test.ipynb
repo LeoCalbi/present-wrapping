{
 "metadata": {
  "language_info": {
   "codemirror_mode": {
    "name": "ipython",
    "version": 3
   },
   "file_extension": ".py",
   "mimetype": "text/x-python",
   "name": "python",
   "nbconvert_exporter": "python",
   "pygments_lexer": "ipython3",
   "version": 3
  },
  "orig_nbformat": 2,
  "kernelspec": {
   "name": "python_defaultSpec_1595847145111",
   "display_name": "Python 3.8.3 64-bit ('3.8': venv)"
  }
 },
 "nbformat": 4,
 "nbformat_minor": 2,
 "cells": [
  {
   "cell_type": "code",
   "execution_count": 141,
   "metadata": {
    "tags": []
   },
   "outputs": [
    {
     "output_type": "stream",
     "name": "stdout",
     "text": "The autoreload extension is already loaded. To reload it, use:\n  %reload_ext autoreload\nThe iminizinc extension is already loaded. To reload it, use:\n  %reload_ext iminizinc\n"
    }
   ],
   "source": [
    "%load_ext autoreload\n",
    "%load_ext iminizinc\n",
    "%matplotlib inline\n",
    "%autoreload 2\n",
    "import matplotlib.pyplot as plt\n",
    "import matplotlib.patches as patches\n",
    "import numpy as np"
   ]
  },
  {
   "cell_type": "code",
   "execution_count": 142,
   "metadata": {
    "tags": []
   },
   "outputs": [],
   "source": [
    "def read_input(path):\n",
    "    file = open(path,\"r\").readlines()\n",
    "    w_paper , h_paper = tuple(map(int,file[0].rstrip(\"\\n\").split(\" \")))\n",
    "    n = int(file[1].rstrip(\"\\n\"))\n",
    "    presents = []\n",
    "    for i in range(2,n+2):\n",
    "        presents.append(list(map(int,file[i].rstrip(\"\\n\").split(\" \"))))\n",
    "    return w_paper,h_paper,n,presents"
   ]
  },
  {
   "cell_type": "code",
   "execution_count": 143,
   "metadata": {
    "tags": []
   },
   "outputs": [
    {
     "output_type": "execute_result",
     "data": {
      "text/plain": "[[3, 3],\n [3, 4],\n [3, 5],\n [3, 6],\n [3, 7],\n [3, 8],\n [3, 9],\n [3, 10],\n [3, 12],\n [3, 19],\n [3, 22],\n [4, 3],\n [4, 4],\n [4, 5],\n [4, 6],\n [4, 7],\n [4, 8],\n [4, 12],\n [4, 17],\n [4, 20],\n [4, 23],\n [14, 35]]"
     },
     "metadata": {},
     "execution_count": 143
    }
   ],
   "source": [
    "path = \"instances/35x35.txt\"\n",
    "w_paper, h_paper, n, presents = read_input(path)\n",
    "bl_corners = []\n",
    "presents"
   ]
  },
  {
   "cell_type": "code",
   "execution_count": 144,
   "metadata": {
    "tags": []
   },
   "outputs": [],
   "source": [
    "%%mzn_model test\n",
    "include \"globals.mzn\";\n",
    "int: w_paper;\n",
    "int: h_paper;\n",
    "int: n;\n",
    "array[1..n,1..2] of var 0..max(w_paper,h_paper)-1: bl_corners;\n",
    "array[1..n,1..2] of int: presents;\n",
    "constraint forall(i in 1..n)(bl_corners[i,1]+presents[i,1]<=w_paper);\n",
    "constraint forall(i in 1..n)(bl_corners[i,2]+presents[i,2]<=h_paper);\n",
    "constraint forall(i in 1..n,j in i+1..n)(\n",
    "    max(bl_corners[i,1],bl_corners[j,1])>=min(bl_corners[i,1]+presents[i,1],bl_corners[j,1]+presents[j,1]) \\/\n",
    "    max(bl_corners[i,2],bl_corners[j,2])>=min(bl_corners[i,2]+presents[i,2],bl_corners[j,2]+presents[j,2])\n",
    "    );\n",
    "solve satisfy;"
   ]
  },
  {
   "cell_type": "code",
   "execution_count": 145,
   "metadata": {
    "tags": []
   },
   "outputs": [],
   "source": [
    "def show_solutions(w_paper,h_paper,n,presents,solutions):\n",
    "    colours = np.random.rand(n,3)\n",
    "    for x in solutions:\n",
    "        bl_corners = x['bl_corners']\n",
    "        show_solution(w_paper,h_paper,n,presents,bl_corners,colours)\n",
    "\n",
    "def show_solution(w_paper,h_paper,n,presents,bl_corners,colours=None):\n",
    "    fig, ax = plt.subplots()\n",
    "    if colours is None:\n",
    "        colours = np.random.rand(n,3)\n",
    "    for i in range(n):\n",
    "        ax.add_patch(patches.Rectangle(bl_corners[i],presents[i][0],presents[i][1],label=i,facecolor=colours[i],lw=4))\n",
    "    ax.set_xlim(0, w_paper)\n",
    "    ax.set_ylim(0, h_paper)\n",
    "    plt.show()\n",
    "\n",
    "solutions = %minizinc -a test\n",
    "print(f\"Number of solutions= {len(solutions)} \")\n",
    "show_solutions(w_paper,h_paper,n,presents,solutions)"
   ]
  },
  {
   "cell_type": "code",
   "execution_count": 116,
   "metadata": {},
   "outputs": [
    {
     "output_type": "error",
     "ename": "SyntaxError",
     "evalue": "invalid syntax (<ipython-input-116-095f6cebe787>, line 1)",
     "traceback": [
      "\u001b[1;36m  File \u001b[1;32m\"<ipython-input-116-095f6cebe787>\"\u001b[1;36m, line \u001b[1;32m1\u001b[0m\n\u001b[1;33m    constraint forall(i in 1..n,j in i+1..n)(not( bl_corners[j,1]==bl_corners[i,1] /\\ bl_corners[j,2]==bl_corners[i,2]));\u001b[0m\n\u001b[1;37m               ^\u001b[0m\n\u001b[1;31mSyntaxError\u001b[0m\u001b[1;31m:\u001b[0m invalid syntax\n"
     ]
    }
   ],
   "source": [
    "constraint forall(i in 1..n,j in i+1..n)(not( bl_corners[j,1]==bl_corners[i,1] /\\ bl_corners[j,2]==bl_corners[i,2]));\n",
    "\n",
    "constraint forall(i in 1..n,j in i+1..n)(if bl_corners[j,1]>bl_corners[i,1] then bl_corners[j,1]>=bl_corners[i,1]+presents[i,1] else true endif /\\ if bl_corners[j,2]>bl_corners[i,2] then bl_corners[j,2]>=bl_corners[i,2]+presents[i,2] else true endif);"
   ]
  },
  {
   "cell_type": "code",
   "execution_count": null,
   "metadata": {},
   "outputs": [],
   "source": []
  }
 ]
}